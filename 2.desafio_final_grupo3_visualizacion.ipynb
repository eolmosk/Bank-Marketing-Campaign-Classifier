{
 "cells": [
  {
   "cell_type": "markdown",
   "id": "4714c9de",
   "metadata": {},
   "source": [
    "---\n",
    "<img src = '../../../logo_dh_grupo3.png'>"
   ]
  },
  {
   "cell_type": "markdown",
   "id": "1cbe2288",
   "metadata": {},
   "source": [
    "# <h1><left><ins>Data Wrangling y Visualización</ins></left></h1>"
   ]
  },
  {
   "cell_type": "markdown",
   "id": "553fa370",
   "metadata": {},
   "source": [
    "## Importación de librerías y bases de datos"
   ]
  },
  {
   "cell_type": "code",
   "execution_count": 1,
   "id": "08cf76d8",
   "metadata": {},
   "outputs": [],
   "source": [
    "# Importamos las librerias relevantes\n",
    "\n",
    "import pandas as pd\n",
    "import numpy as np\n",
    "import seaborn as sns\n",
    "import matplotlib.pyplot as plt"
   ]
  },
  {
   "cell_type": "code",
   "execution_count": 2,
   "id": "9403ae61",
   "metadata": {},
   "outputs": [],
   "source": [
    "# Importamos las bases de datos\n",
    "\n",
    "data_0 = pd.read_csv(\"bank-additional-full_limpia.csv\")"
   ]
  },
  {
   "cell_type": "code",
   "execution_count": 3,
   "id": "43c4dfc1",
   "metadata": {},
   "outputs": [
    {
     "data": {
      "text/plain": [
       "(30360, 21)"
      ]
     },
     "execution_count": 3,
     "metadata": {},
     "output_type": "execute_result"
    }
   ],
   "source": [
    "# Cantidad de filas y columnas\n",
    "\n",
    "data_0.shape"
   ]
  },
  {
   "cell_type": "markdown",
   "id": "ca8a0629",
   "metadata": {},
   "source": [
    "La base de datos tiene 30,360 observaciones de 21 columnas."
   ]
  },
  {
   "cell_type": "code",
   "execution_count": 4,
   "id": "cd51f794",
   "metadata": {},
   "outputs": [
    {
     "name": "stdout",
     "output_type": "stream",
     "text": [
      "<class 'pandas.core.frame.DataFrame'>\n",
      "RangeIndex: 30360 entries, 0 to 30359\n",
      "Data columns (total 21 columns):\n",
      " #   Column          Non-Null Count  Dtype  \n",
      "---  ------          --------------  -----  \n",
      " 0   age             30360 non-null  int64  \n",
      " 1   job             30360 non-null  object \n",
      " 2   marital         30360 non-null  object \n",
      " 3   education       30360 non-null  object \n",
      " 4   default         30360 non-null  object \n",
      " 5   housing         30360 non-null  object \n",
      " 6   loan            30360 non-null  object \n",
      " 7   contact         30360 non-null  object \n",
      " 8   month           30360 non-null  object \n",
      " 9   day_of_week     30360 non-null  object \n",
      " 10  duration        30360 non-null  int64  \n",
      " 11  campaign        30360 non-null  int64  \n",
      " 12  pdays           0 non-null      float64\n",
      " 13  previous        30360 non-null  int64  \n",
      " 14  poutcome        30360 non-null  object \n",
      " 15  emp.var.rate    30360 non-null  float64\n",
      " 16  cons.price.idx  30360 non-null  float64\n",
      " 17  cons.conf.idx   30360 non-null  float64\n",
      " 18  euribor3m       30360 non-null  float64\n",
      " 19  nr.employed     30360 non-null  float64\n",
      " 20  y               30360 non-null  object \n",
      "dtypes: float64(6), int64(4), object(11)\n",
      "memory usage: 4.9+ MB\n"
     ]
    }
   ],
   "source": [
    "# Nombre y tipo de columnas, ademas de cantidad de filas no nulas\n",
    "\n",
    "data_0.info()"
   ]
  },
  {
   "cell_type": "markdown",
   "id": "ac09489e",
   "metadata": {},
   "source": [
    "Hay 10 variables numéricas y 11 categóricas."
   ]
  },
  {
   "cell_type": "markdown",
   "id": "b33d12f9",
   "metadata": {},
   "source": [
    "## Edición y Análisis"
   ]
  },
  {
   "cell_type": "markdown",
   "id": "2e1bdc0e",
   "metadata": {},
   "source": [
    "### Variable 'y' (target)"
   ]
  },
  {
   "cell_type": "code",
   "execution_count": 5,
   "id": "3cd9302c",
   "metadata": {},
   "outputs": [
    {
     "data": {
      "text/plain": [
       "0    28705\n",
       "1     1655\n",
       "Name: y, dtype: int64"
      ]
     },
     "execution_count": 5,
     "metadata": {},
     "output_type": "execute_result"
    }
   ],
   "source": [
    "# Vamos a transformarla en variable categorica\n",
    "\n",
    "from sklearn.preprocessing import LabelEncoder\n",
    "\n",
    "le = LabelEncoder()\n",
    "\n",
    "le.fit(data_0['y'])\n",
    "\n",
    "data_0['y'] = le.transform(data_0['y'])\n",
    "\n",
    "data_0['y'].value_counts()"
   ]
  },
  {
   "cell_type": "code",
   "execution_count": 6,
   "id": "0bbdf4e4",
   "metadata": {},
   "outputs": [
    {
     "data": {
      "text/plain": [
       "0    95.0\n",
       "1     5.0\n",
       "Name: y, dtype: float64"
      ]
     },
     "execution_count": 6,
     "metadata": {},
     "output_type": "execute_result"
    }
   ],
   "source": [
    "# Vemos proporciones en cada categoria\n",
    "\n",
    "data_0['y'].value_counts(normalize = True).round(2) * 100"
   ]
  },
  {
   "cell_type": "markdown",
   "id": "600f0e62",
   "metadata": {},
   "source": [
    "Vemos que las clases están desbalanceadas."
   ]
  },
  {
   "cell_type": "markdown",
   "id": "948a04cb",
   "metadata": {},
   "source": [
    "### Variable 'age'"
   ]
  },
  {
   "cell_type": "code",
   "execution_count": 7,
   "id": "9056627d",
   "metadata": {},
   "outputs": [
    {
     "data": {
      "text/plain": [
       "count    30360.000000\n",
       "mean        39.671080\n",
       "std          9.480333\n",
       "min         18.000000\n",
       "25%         32.000000\n",
       "50%         38.000000\n",
       "75%         47.000000\n",
       "max         69.000000\n",
       "Name: age, dtype: float64"
      ]
     },
     "execution_count": 7,
     "metadata": {},
     "output_type": "execute_result"
    }
   ],
   "source": [
    "# Estadisticas descriptivas\n",
    "\n",
    "data_0['age'].describe()"
   ]
  },
  {
   "cell_type": "code",
   "execution_count": 8,
   "id": "e4319abd",
   "metadata": {},
   "outputs": [
    {
     "data": {
      "image/png": "[encoded data removed]",
      "text/plain": [
       "<Figure size 432x288 with 1 Axes>"
      ]
     },
     "metadata": {
      "needs_background": "light"
     },
     "output_type": "display_data"
    }
   ],
   "source": [
    "# Relacion con target\n",
    "\n",
    "sns.scatterplot(x = data_0.age,\n",
    "               y = data_0.y);"
   ]
  },
  {
   "cell_type": "code",
   "execution_count": 9,
   "id": "1686715a",
   "metadata": {},
   "outputs": [
    {
     "data": {
      "text/plain": [
       "(17.999, 34.0]    10767\n",
       "(34.0, 44.0]      10254\n",
       "(44.0, 69.0]       9339\n",
       "Name: age_cat, dtype: int64"
      ]
     },
     "execution_count": 9,
     "metadata": {},
     "output_type": "execute_result"
    }
   ],
   "source": [
    "# Armamos categorias en funcion de quartiles\n",
    "\n",
    "data_0['age_cat'] = pd.qcut(x = data_0['age'],\n",
    "                           q = 3)\n",
    "\n",
    "data_0['age_cat'].value_counts()"
   ]
  },
  {
   "cell_type": "code",
   "execution_count": 10,
   "id": "b5957035",
   "metadata": {},
   "outputs": [],
   "source": [
    "#Transformamos en categorica y etiquetamos categorias\n",
    "\n",
    "data_0['age_cat'] = data_0['age_cat'].astype('category')\n",
    "\n",
    "data_0['age_cat'].cat.categories = ['18-34 años', '35-44 años', '45+ años']"
   ]
  },
  {
   "cell_type": "code",
   "execution_count": 11,
   "id": "e76c527e",
   "metadata": {},
   "outputs": [
    {
     "data": {
      "text/plain": [
       "18-34 años    35.0\n",
       "35-44 años    34.0\n",
       "45+ años      31.0\n",
       "Name: age_cat, dtype: float64"
      ]
     },
     "execution_count": 11,
     "metadata": {},
     "output_type": "execute_result"
    }
   ],
   "source": [
    "data_0['age_cat'].value_counts(normalize = True).round(2) * 100"
   ]
  },
  {
   "cell_type": "code",
   "execution_count": 12,
   "id": "9e6d019d",
   "metadata": {},
   "outputs": [
    {
     "data": {
      "image/png": "[encoded data removed]",
      "text/plain": [
       "<Figure size 432x288 with 1 Axes>"
      ]
     },
     "metadata": {
      "needs_background": "light"
     },
     "output_type": "display_data"
    }
   ],
   "source": [
    "# Relacion con target\n",
    "\n",
    "sns.barplot(x = data_0.age_cat,\n",
    "               y = data_0.y)\n",
    "plt.xticks(ticks = np.arange(3), \n",
    "           labels = ['18-34', '35-44', '45+']);"
   ]
  },
  {
   "cell_type": "markdown",
   "id": "2be6eb81",
   "metadata": {},
   "source": [
    "### Variable 'job'"
   ]
  },
  {
   "cell_type": "code",
   "execution_count": 13,
   "id": "ed5940d2",
   "metadata": {},
   "outputs": [
    {
     "data": {
      "text/plain": [
       "admin.           26.0\n",
       "blue-collar      24.0\n",
       "technician       17.0\n",
       "services         10.0\n",
       "management        7.0\n",
       "entrepreneur      4.0\n",
       "self-employed     3.0\n",
       "retired           3.0\n",
       "housemaid         3.0\n",
       "unemployed        2.0\n",
       "student           2.0\n",
       "Name: job, dtype: float64"
      ]
     },
     "execution_count": 13,
     "metadata": {},
     "output_type": "execute_result"
    }
   ],
   "source": [
    "# Estadisticas descriptivas\n",
    "\n",
    "data_0['job'].value_counts(normalize = True).round(2) * 100"
   ]
  },
  {
   "cell_type": "code",
   "execution_count": 14,
   "id": "7488d56b",
   "metadata": {},
   "outputs": [
    {
     "data": {
      "image/png": "[encoded data removed]",
      "text/plain": [
       "<Figure size 432x288 with 1 Axes>"
      ]
     },
     "metadata": {
      "needs_background": "light"
     },
     "output_type": "display_data"
    }
   ],
   "source": [
    "# Relacion con target\n",
    "\n",
    "bar_plot = sns.barplot(x = data_0['job'],\n",
    "                       y = data_0['y'])\n",
    "plt.xticks(rotation = 45)\n",
    "plt.show();"
   ]
  },
  {
   "cell_type": "code",
   "execution_count": 15,
   "id": "93e920f6",
   "metadata": {},
   "outputs": [],
   "source": [
    "# Armamos categorias en funcion de hipotesis y analisis grafico\n",
    "\n",
    "job_1 = ['student', 'unemployed', 'retired']\n",
    "\n",
    "job_2 = ['housemaid', 'blue-collar', 'services']\n",
    "\n",
    "job_3 = ['admin.', 'self-employed', 'entrepeneur', 'technician', 'management']\n",
    "\n",
    "data_0['job_cat'] = data_0['job'].\\\n",
    "apply(lambda x: '1.not_working' if x in job_1 else '2.med-low skill job' if x in job_2 else '3.med-high skill job')\n",
    "\n",
    "# Transformamos en categorica y etiquetamos categorias\n",
    "\n",
    "data_0['job_cat'] = data_0['job_cat'].astype('category')\n",
    "\n",
    "data_0['job_cat'].cat.categories = ['Inactivo/Desocupado', 'Calificación Media-Baja' ,'Calificación Media-Alta']"
   ]
  },
  {
   "cell_type": "code",
   "execution_count": 16,
   "id": "66c61238",
   "metadata": {},
   "outputs": [
    {
     "data": {
      "text/plain": [
       "admin.           26.0\n",
       "blue-collar      24.0\n",
       "technician       17.0\n",
       "services         10.0\n",
       "management        7.0\n",
       "entrepreneur      4.0\n",
       "self-employed     3.0\n",
       "retired           3.0\n",
       "housemaid         3.0\n",
       "unemployed        2.0\n",
       "student           2.0\n",
       "Name: job, dtype: float64"
      ]
     },
     "execution_count": 16,
     "metadata": {},
     "output_type": "execute_result"
    }
   ],
   "source": [
    "data_0['job'].value_counts(normalize = True).round(2) * 100"
   ]
  },
  {
   "cell_type": "code",
   "execution_count": 17,
   "id": "dbdf83ac",
   "metadata": {},
   "outputs": [
    {
     "data": {
      "text/plain": [
       "Calificación Media-Alta    57.0\n",
       "Calificación Media-Baja    36.0\n",
       "Inactivo/Desocupado         7.0\n",
       "Name: job_cat, dtype: float64"
      ]
     },
     "execution_count": 17,
     "metadata": {},
     "output_type": "execute_result"
    }
   ],
   "source": [
    "data_0['job_cat'].value_counts(normalize = True).round(2) * 100"
   ]
  },
  {
   "cell_type": "code",
   "execution_count": 18,
   "id": "88eb9068",
   "metadata": {},
   "outputs": [
    {
     "data": {
      "image/png": "[encoded data removed]",
      "text/plain": [
       "<Figure size 432x288 with 1 Axes>"
      ]
     },
     "metadata": {
      "needs_background": "light"
     },
     "output_type": "display_data"
    }
   ],
   "source": [
    "# Relacion con target\n",
    "\n",
    "sns.barplot(x = data_0.job_cat,\n",
    "               y = data_0.y)\n",
    "plt.xticks(ticks = np.arange(3), \n",
    "           labels = ['not working', 'med-low skill job', 'med-high skill job'])\n",
    "plt.show();"
   ]
  },
  {
   "cell_type": "markdown",
   "id": "13f42362",
   "metadata": {},
   "source": [
    "### Variable 'marital'"
   ]
  },
  {
   "cell_type": "code",
   "execution_count": 19,
   "id": "c58cac21",
   "metadata": {},
   "outputs": [
    {
     "data": {
      "text/plain": [
       "married     62.0\n",
       "single      27.0\n",
       "divorced    11.0\n",
       "Name: marital, dtype: float64"
      ]
     },
     "execution_count": 19,
     "metadata": {},
     "output_type": "execute_result"
    }
   ],
   "source": [
    "# Estadisticas descriptivas\n",
    "\n",
    "data_0['marital'].value_counts(normalize = True).round(2) * 100"
   ]
  },
  {
   "cell_type": "code",
   "execution_count": 20,
   "id": "2dd2cc22",
   "metadata": {},
   "outputs": [
    {
     "data": {
      "image/png": "[encoded data removed]",
      "text/plain": [
       "<Figure size 432x288 with 1 Axes>"
      ]
     },
     "metadata": {
      "needs_background": "light"
     },
     "output_type": "display_data"
    }
   ],
   "source": [
    "# Relacion con target\n",
    "\n",
    "sns.barplot(x = data_0['marital'],\n",
    "                       y = data_0['y']);"
   ]
  },
  {
   "cell_type": "code",
   "execution_count": 21,
   "id": "6a3847d9",
   "metadata": {},
   "outputs": [],
   "source": [
    "# Armamos categorias en funcion de hipotesis y analisis grafico\n",
    "\n",
    "#consideramos 1 si esta o ha estado alguna vez casado y 0 si soltero\n",
    "\n",
    "data_0['married'] = data_0['marital'].\\\n",
    "apply(lambda x: 0 if x == 'single' else 1)\n"
   ]
  },
  {
   "cell_type": "code",
   "execution_count": 22,
   "id": "a74e4d3b",
   "metadata": {},
   "outputs": [
    {
     "data": {
      "text/plain": [
       "married     62.0\n",
       "single      27.0\n",
       "divorced    11.0\n",
       "Name: marital, dtype: float64"
      ]
     },
     "execution_count": 22,
     "metadata": {},
     "output_type": "execute_result"
    }
   ],
   "source": [
    "data_0['marital'].value_counts(normalize = True).round(2) * 100"
   ]
  },
  {
   "cell_type": "code",
   "execution_count": 23,
   "id": "3c4ad79a",
   "metadata": {},
   "outputs": [
    {
     "data": {
      "text/plain": [
       "1    73.0\n",
       "0    27.0\n",
       "Name: married, dtype: float64"
      ]
     },
     "execution_count": 23,
     "metadata": {},
     "output_type": "execute_result"
    }
   ],
   "source": [
    "data_0['married'].value_counts(normalize = True).round(2) * 100"
   ]
  },
  {
   "cell_type": "code",
   "execution_count": 24,
   "id": "731d1402",
   "metadata": {},
   "outputs": [
    {
     "data": {
      "image/png": "[encoded data removed]",
      "text/plain": [
       "<Figure size 432x288 with 1 Axes>"
      ]
     },
     "metadata": {
      "needs_background": "light"
     },
     "output_type": "display_data"
    }
   ],
   "source": [
    "# Relacion con target\n",
    "\n",
    "sns.barplot(x = data_0.married,\n",
    "               y = data_0.y)\n",
    "plt.xticks(ticks = np.arange(2), \n",
    "           labels = ['single', 'married/divorced'])\n",
    "plt.show();"
   ]
  },
  {
   "cell_type": "markdown",
   "id": "7a0ed270",
   "metadata": {},
   "source": [
    "### Variable 'education'"
   ]
  },
  {
   "cell_type": "code",
   "execution_count": 25,
   "id": "75d1caab",
   "metadata": {},
   "outputs": [
    {
     "data": {
      "text/plain": [
       "university.degree      33.0\n",
       "high.school            23.0\n",
       "basic.9y               15.0\n",
       "professional.course    13.0\n",
       "basic.4y               10.0\n",
       "basic.6y                6.0\n",
       "illiterate              0.0\n",
       "Name: education, dtype: float64"
      ]
     },
     "execution_count": 25,
     "metadata": {},
     "output_type": "execute_result"
    }
   ],
   "source": [
    "# Estadisticas descriptivas\n",
    "\n",
    "data_0['education'].value_counts(normalize = True).round(2) * 100"
   ]
  },
  {
   "cell_type": "code",
   "execution_count": 26,
   "id": "a393c816",
   "metadata": {},
   "outputs": [
    {
     "data": {
      "image/png": "[encoded data removed]",
      "text/plain": [
       "<Figure size 432x288 with 1 Axes>"
      ]
     },
     "metadata": {
      "needs_background": "light"
     },
     "output_type": "display_data"
    }
   ],
   "source": [
    "# Relacion con target\n",
    "\n",
    "bar_plot = sns.barplot(x = data_0['education'],\n",
    "                       y = data_0['y'])\n",
    "plt.xticks(rotation = 45)\n",
    "plt.show();"
   ]
  },
  {
   "cell_type": "code",
   "execution_count": 27,
   "id": "2f85e4a5",
   "metadata": {},
   "outputs": [],
   "source": [
    "# Armamos categorias en funcion de hipotesis y analisis grafico\n",
    "\n",
    "education_1 = ['illiterate', 'basic.4y', 'basic.6y', 'basic.9y']\n",
    "\n",
    "education_2 = ['high.school', 'professional.course']\n",
    "\n",
    "education_3 = ['university.degree']\n",
    "\n",
    "data_0['edu_cat'] = data_0['education'].\\\n",
    "apply(lambda x: '1.incomplete_hs' if x in education_1 else '2.complete_hs' if x in education_2 else '3.complete_university')\n",
    "\n",
    "#Transformamos en categorica y etiquetamos categorias\n",
    "\n",
    "data_0['edu_cat'] = data_0['edu_cat'].astype('category')\n",
    "\n",
    "data_0['edu_cat'].cat.categories = ['Secundario Inc', 'Secundario Com' ,'Universitario Com']"
   ]
  },
  {
   "cell_type": "code",
   "execution_count": 28,
   "id": "f528d2a6",
   "metadata": {},
   "outputs": [
    {
     "data": {
      "text/plain": [
       "university.degree      33.0\n",
       "high.school            23.0\n",
       "basic.9y               15.0\n",
       "professional.course    13.0\n",
       "basic.4y               10.0\n",
       "basic.6y                6.0\n",
       "illiterate              0.0\n",
       "Name: education, dtype: float64"
      ]
     },
     "execution_count": 28,
     "metadata": {},
     "output_type": "execute_result"
    }
   ],
   "source": [
    "data_0['education'].value_counts(normalize = True).round(2) * 100"
   ]
  },
  {
   "cell_type": "code",
   "execution_count": 29,
   "id": "58d46773",
   "metadata": {},
   "outputs": [
    {
     "data": {
      "text/plain": [
       "Secundario Com       36.0\n",
       "Universitario Com    33.0\n",
       "Secundario Inc       31.0\n",
       "Name: edu_cat, dtype: float64"
      ]
     },
     "execution_count": 29,
     "metadata": {},
     "output_type": "execute_result"
    }
   ],
   "source": [
    "data_0['edu_cat'].value_counts(normalize = True).round(2) * 100"
   ]
  },
  {
   "cell_type": "code",
   "execution_count": 30,
   "id": "b71b5254",
   "metadata": {},
   "outputs": [
    {
     "data": {
      "image/png": "[encoded data removed]",
      "text/plain": [
       "<Figure size 432x288 with 1 Axes>"
      ]
     },
     "metadata": {
      "needs_background": "light"
     },
     "output_type": "display_data"
    }
   ],
   "source": [
    "# Relacion con target\n",
    "\n",
    "sns.barplot(x = data_0.edu_cat,\n",
    "               y = data_0.y)\n",
    "plt.xticks(ticks = np.arange(3), \n",
    "           labels = ['inc. high school', 'com. high school', 'com. university'])\n",
    "plt.show();"
   ]
  },
  {
   "cell_type": "markdown",
   "id": "f1577dac",
   "metadata": {},
   "source": [
    "### Variable 'default'"
   ]
  },
  {
   "cell_type": "code",
   "execution_count": 31,
   "id": "fca0fa9c",
   "metadata": {},
   "outputs": [
    {
     "data": {
      "text/plain": [
       "no     100.0\n",
       "yes      0.0\n",
       "Name: default, dtype: float64"
      ]
     },
     "execution_count": 31,
     "metadata": {},
     "output_type": "execute_result"
    }
   ],
   "source": [
    "# Estadisticas descriptivas\n",
    "data_0['default'].value_counts(normalize = True).round(2) * 100"
   ]
  },
  {
   "cell_type": "markdown",
   "id": "52a39397",
   "metadata": {},
   "source": [
    "El desbalanceo de esta variable es tal que casi no constituye una variable sino un valor fijo."
   ]
  },
  {
   "cell_type": "markdown",
   "id": "f3382ebc",
   "metadata": {},
   "source": [
    "### Variable 'housing'"
   ]
  },
  {
   "cell_type": "code",
   "execution_count": 32,
   "id": "79efd174",
   "metadata": {},
   "outputs": [
    {
     "data": {
      "text/plain": [
       "yes    54.0\n",
       "no     46.0\n",
       "Name: housing, dtype: float64"
      ]
     },
     "execution_count": 32,
     "metadata": {},
     "output_type": "execute_result"
    }
   ],
   "source": [
    "# Estadisticas descriptivas\n",
    "data_0['housing'].value_counts(normalize = True).round(2) * 100"
   ]
  },
  {
   "cell_type": "code",
   "execution_count": 33,
   "id": "c73164ed",
   "metadata": {},
   "outputs": [
    {
     "data": {
      "image/png": "[encoded data removed]",
      "text/plain": [
       "<Figure size 432x288 with 1 Axes>"
      ]
     },
     "metadata": {
      "needs_background": "light"
     },
     "output_type": "display_data"
    }
   ],
   "source": [
    "# Relacion con target\n",
    "sns.barplot(x = data_0['housing'],\n",
    "                       y = data_0['y']);"
   ]
  },
  {
   "cell_type": "code",
   "execution_count": 34,
   "id": "c10c9ec6",
   "metadata": {},
   "outputs": [
    {
     "data": {
      "text/plain": [
       "1    16534\n",
       "0    13826\n",
       "Name: housing, dtype: int64"
      ]
     },
     "execution_count": 34,
     "metadata": {},
     "output_type": "execute_result"
    }
   ],
   "source": [
    "# Vamos a transformarla en variable categorica\n",
    "\n",
    "le.fit(data_0['housing'])\n",
    "\n",
    "data_0['housing'] = le.transform(data_0['housing'])\n",
    "\n",
    "data_0['housing'].value_counts()"
   ]
  },
  {
   "cell_type": "code",
   "execution_count": 35,
   "id": "2611a88f",
   "metadata": {},
   "outputs": [
    {
     "data": {
      "text/plain": [
       "1    54.0\n",
       "0    46.0\n",
       "Name: housing, dtype: float64"
      ]
     },
     "execution_count": 35,
     "metadata": {},
     "output_type": "execute_result"
    }
   ],
   "source": [
    "# Vemos proporciones en cada categoria\n",
    "\n",
    "data_0['housing'].value_counts(normalize = True).round(2) * 100"
   ]
  },
  {
   "cell_type": "markdown",
   "id": "2b0d9c3c",
   "metadata": {},
   "source": [
    "### Variable 'loan'"
   ]
  },
  {
   "cell_type": "code",
   "execution_count": 36,
   "id": "278cd809",
   "metadata": {},
   "outputs": [
    {
     "data": {
      "text/plain": [
       "no     85.0\n",
       "yes    15.0\n",
       "Name: loan, dtype: float64"
      ]
     },
     "execution_count": 36,
     "metadata": {},
     "output_type": "execute_result"
    }
   ],
   "source": [
    "# Estadisticas descriptivas\n",
    "data_0['loan'].value_counts(normalize = True).round(2) * 100"
   ]
  },
  {
   "cell_type": "code",
   "execution_count": 37,
   "id": "d1070f89",
   "metadata": {},
   "outputs": [
    {
     "data": {
      "image/png": "[encoded data removed]",
      "text/plain": [
       "<Figure size 432x288 with 1 Axes>"
      ]
     },
     "metadata": {
      "needs_background": "light"
     },
     "output_type": "display_data"
    }
   ],
   "source": [
    "# Relacion con target\n",
    "sns.barplot(x = data_0['loan'],\n",
    "                       y = data_0['y']);"
   ]
  },
  {
   "cell_type": "code",
   "execution_count": 38,
   "id": "e3eb3071",
   "metadata": {},
   "outputs": [
    {
     "data": {
      "text/plain": [
       "0    25761\n",
       "1     4599\n",
       "Name: loan, dtype: int64"
      ]
     },
     "execution_count": 38,
     "metadata": {},
     "output_type": "execute_result"
    }
   ],
   "source": [
    "# Vamos a transformarla en variable categorica\n",
    "\n",
    "le.fit(data_0['loan'])\n",
    "\n",
    "data_0['loan'] = le.transform(data_0['loan'])\n",
    "\n",
    "data_0['loan'].value_counts()"
   ]
  },
  {
   "cell_type": "code",
   "execution_count": 39,
   "id": "d373421d",
   "metadata": {},
   "outputs": [
    {
     "data": {
      "text/plain": [
       "0    85.0\n",
       "1    15.0\n",
       "Name: loan, dtype: float64"
      ]
     },
     "execution_count": 39,
     "metadata": {},
     "output_type": "execute_result"
    }
   ],
   "source": [
    "# Vemos proporciones en cada categoria\n",
    "\n",
    "data_0['loan'].value_counts(normalize = True).round(2) * 100"
   ]
  },
  {
   "cell_type": "markdown",
   "id": "29751355",
   "metadata": {},
   "source": [
    "### Variable 'contact'"
   ]
  },
  {
   "cell_type": "code",
   "execution_count": 40,
   "id": "ad9d5b8b",
   "metadata": {},
   "outputs": [
    {
     "data": {
      "text/plain": [
       "cellular     59.0\n",
       "telephone    41.0\n",
       "Name: contact, dtype: float64"
      ]
     },
     "execution_count": 40,
     "metadata": {},
     "output_type": "execute_result"
    }
   ],
   "source": [
    "# Estadisticas descriptivas\n",
    "data_0['contact'].value_counts(normalize = True).round(2) * 100"
   ]
  },
  {
   "cell_type": "code",
   "execution_count": 41,
   "id": "c2dbbe1a",
   "metadata": {},
   "outputs": [
    {
     "data": {
      "image/png": "[encoded data removed]",
      "text/plain": [
       "<Figure size 432x288 with 1 Axes>"
      ]
     },
     "metadata": {
      "needs_background": "light"
     },
     "output_type": "display_data"
    }
   ],
   "source": [
    "# Relacion con target\n",
    "sns.barplot(x = data_0['contact'],\n",
    "                       y = data_0['y']);"
   ]
  },
  {
   "cell_type": "code",
   "execution_count": 42,
   "id": "e76d26a5",
   "metadata": {},
   "outputs": [
    {
     "data": {
      "text/plain": [
       "0    17821\n",
       "1    12539\n",
       "Name: contact, dtype: int64"
      ]
     },
     "execution_count": 42,
     "metadata": {},
     "output_type": "execute_result"
    }
   ],
   "source": [
    "# Vamos a transformarla en variable categorica\n",
    "\n",
    "le.fit(data_0['contact'])\n",
    "\n",
    "data_0['contact'] = le.transform(data_0['contact'])\n",
    "\n",
    "data_0['contact'].value_counts()"
   ]
  },
  {
   "cell_type": "code",
   "execution_count": 43,
   "id": "02688244",
   "metadata": {},
   "outputs": [
    {
     "data": {
      "text/plain": [
       "0    59.0\n",
       "1    41.0\n",
       "Name: contact, dtype: float64"
      ]
     },
     "execution_count": 43,
     "metadata": {},
     "output_type": "execute_result"
    }
   ],
   "source": [
    "# Vemos proporciones en cada categoria\n",
    "\n",
    "data_0['contact'].value_counts(normalize = True).round(2) * 100"
   ]
  },
  {
   "cell_type": "markdown",
   "id": "41e0bf7f",
   "metadata": {},
   "source": [
    "### Variable 'month'"
   ]
  },
  {
   "cell_type": "code",
   "execution_count": 44,
   "id": "f6f5937d",
   "metadata": {},
   "outputs": [
    {
     "data": {
      "text/plain": [
       "may    34.0\n",
       "jul    19.0\n",
       "aug    16.0\n",
       "jun    14.0\n",
       "nov     9.0\n",
       "apr     5.0\n",
       "mar     1.0\n",
       "sep     1.0\n",
       "oct     0.0\n",
       "dec     0.0\n",
       "Name: month, dtype: float64"
      ]
     },
     "execution_count": 44,
     "metadata": {},
     "output_type": "execute_result"
    }
   ],
   "source": [
    "# Estadisticas descriptivas\n",
    "data_0['month'].value_counts(normalize = True).round(2) * 100"
   ]
  },
  {
   "cell_type": "code",
   "execution_count": 45,
   "id": "ee9b6e3c",
   "metadata": {},
   "outputs": [
    {
     "data": {
      "image/png": "[encoded data removed]",
      "text/plain": [
       "<Figure size 432x288 with 1 Axes>"
      ]
     },
     "metadata": {
      "needs_background": "light"
     },
     "output_type": "display_data"
    }
   ],
   "source": [
    "# Relacion con target\n",
    "sns.barplot(x = data_0['month'],\n",
    "                       y = data_0['y']);"
   ]
  },
  {
   "cell_type": "code",
   "execution_count": 46,
   "id": "9571dc74",
   "metadata": {},
   "outputs": [],
   "source": [
    "# Armamos categorias en funcion de hipotesis y analisis grafico\n",
    "\n",
    "# Creamos binaria donde mar-jun = 0, jul-dec = 1\n",
    "\n",
    "dic_aux = {'mar': 0, 'apr': 0, 'may': 0, 'jun': 0, 'jul': 1, \n",
    "           'aug': 1, 'sep': 1, 'oct': 1, 'nov': 1, 'dec': 1}\n",
    "\n",
    "data_0['month_cat'] = data_0.month.map(dic_aux)"
   ]
  },
  {
   "cell_type": "code",
   "execution_count": 47,
   "id": "efa71e0b",
   "metadata": {},
   "outputs": [
    {
     "data": {
      "text/plain": [
       "may    34.0\n",
       "jul    19.0\n",
       "aug    16.0\n",
       "jun    14.0\n",
       "nov     9.0\n",
       "apr     5.0\n",
       "mar     1.0\n",
       "sep     1.0\n",
       "oct     0.0\n",
       "dec     0.0\n",
       "Name: month, dtype: float64"
      ]
     },
     "execution_count": 47,
     "metadata": {},
     "output_type": "execute_result"
    }
   ],
   "source": [
    "data_0['month'].value_counts(normalize = True).round(2) * 100"
   ]
  },
  {
   "cell_type": "code",
   "execution_count": 48,
   "id": "8409545b",
   "metadata": {},
   "outputs": [
    {
     "data": {
      "text/plain": [
       "0    54.0\n",
       "1    46.0\n",
       "Name: month_cat, dtype: float64"
      ]
     },
     "execution_count": 48,
     "metadata": {},
     "output_type": "execute_result"
    }
   ],
   "source": [
    "data_0['month_cat'].value_counts(normalize = True).round(2) * 100"
   ]
  },
  {
   "cell_type": "code",
   "execution_count": 49,
   "id": "955ed822",
   "metadata": {},
   "outputs": [
    {
     "data": {
      "image/png": "[encoded data removed]",
      "text/plain": [
       "<Figure size 432x288 with 1 Axes>"
      ]
     },
     "metadata": {
      "needs_background": "light"
     },
     "output_type": "display_data"
    }
   ],
   "source": [
    "# Relacion con target\n",
    "sns.barplot(x = data_0['month_cat'],\n",
    "            y = data_0['y'])\n",
    "plt.xticks(ticks = np.arange(2), \n",
    "           labels = ['mar-jun', 'jul-dec'])\n",
    "plt.show();"
   ]
  },
  {
   "cell_type": "code",
   "execution_count": 50,
   "id": "8be6df01",
   "metadata": {},
   "outputs": [],
   "source": [
    "# Asignamos numero de mes a la variable month\n",
    "\n",
    "dic_aux = {'mar': 3, 'apr': 4, 'may': 5, 'jun': 6, 'jul': 7, \n",
    "           'aug': 8, 'sep': 9, 'oct': 10, 'nov': 11, 'dec': 12}\n",
    "\n",
    "data_0['month'] = data_0['month'].map(dic_aux)"
   ]
  },
  {
   "cell_type": "code",
   "execution_count": 51,
   "id": "2af2c9e8",
   "metadata": {},
   "outputs": [
    {
     "data": {
      "text/plain": [
       "5     34.0\n",
       "7     19.0\n",
       "8     16.0\n",
       "6     14.0\n",
       "11     9.0\n",
       "4      5.0\n",
       "3      1.0\n",
       "9      1.0\n",
       "10     0.0\n",
       "12     0.0\n",
       "Name: month, dtype: float64"
      ]
     },
     "execution_count": 51,
     "metadata": {},
     "output_type": "execute_result"
    }
   ],
   "source": [
    "# Vemos proporciones en cada categoria\n",
    "\n",
    "data_0['month'].value_counts(normalize = True).round(2) * 100"
   ]
  },
  {
   "cell_type": "markdown",
   "id": "89714879",
   "metadata": {},
   "source": [
    "### Variable 'day_of_week'"
   ]
  },
  {
   "cell_type": "code",
   "execution_count": 52,
   "id": "9ef33adf",
   "metadata": {},
   "outputs": [
    {
     "data": {
      "text/plain": [
       "mon    21.0\n",
       "thu    20.0\n",
       "tue    20.0\n",
       "wed    20.0\n",
       "fri    19.0\n",
       "Name: day_of_week, dtype: float64"
      ]
     },
     "execution_count": 52,
     "metadata": {},
     "output_type": "execute_result"
    }
   ],
   "source": [
    "# Estadisticas descriptivas\n",
    "data_0['day_of_week'].value_counts(normalize = True).round(2) * 100"
   ]
  },
  {
   "cell_type": "code",
   "execution_count": 53,
   "id": "bf22fb6a",
   "metadata": {},
   "outputs": [
    {
     "data": {
      "image/png": "[encoded data removed]",
      "text/plain": [
       "<Figure size 432x288 with 1 Axes>"
      ]
     },
     "metadata": {
      "needs_background": "light"
     },
     "output_type": "display_data"
    }
   ],
   "source": [
    "# Relacion con target\n",
    "sns.barplot(x = data_0['day_of_week'],\n",
    "                       y = data_0['y']);"
   ]
  },
  {
   "cell_type": "code",
   "execution_count": 54,
   "id": "12af06fc",
   "metadata": {},
   "outputs": [
    {
     "data": {
      "text/plain": [
       "1    21.0\n",
       "4    20.0\n",
       "2    20.0\n",
       "3    20.0\n",
       "5    19.0\n",
       "Name: day_of_week, dtype: float64"
      ]
     },
     "execution_count": 54,
     "metadata": {},
     "output_type": "execute_result"
    }
   ],
   "source": [
    "# Vamos a transformarla en variable categorica\n",
    "\n",
    "# Asignamos numero de dia a la variable day_of_week\n",
    "\n",
    "dic_aux = {'mon': 1, 'tue': 2, 'wed': 3, 'thu': 4, 'fri': 5}\n",
    "\n",
    "data_0['day_of_week'] = data_0['day_of_week'].map(dic_aux)\n",
    "\n",
    "data_0['day_of_week'].value_counts(normalize = True).round(2) * 100"
   ]
  },
  {
   "cell_type": "markdown",
   "id": "7224ecf0",
   "metadata": {},
   "source": [
    "### Variable 'default'"
   ]
  },
  {
   "cell_type": "code",
   "execution_count": 55,
   "id": "8d7d5236",
   "metadata": {},
   "outputs": [
    {
     "data": {
      "text/plain": [
       "73     140\n",
       "111    139\n",
       "85     139\n",
       "114    138\n",
       "124    137\n",
       "      ... \n",
       "3        3\n",
       "598      3\n",
       "0        3\n",
       "1        1\n",
       "2        1\n",
       "Name: duration, Length: 645, dtype: int64"
      ]
     },
     "execution_count": 55,
     "metadata": {},
     "output_type": "execute_result"
    }
   ],
   "source": [
    "data_0['duration'].value_counts()"
   ]
  },
  {
   "cell_type": "code",
   "execution_count": 56,
   "id": "4862cb3b",
   "metadata": {},
   "outputs": [
    {
     "data": {
      "text/plain": [
       "(167.0, 203.0]    0.1\n",
       "(60.0, 87.0]      0.1\n",
       "(-0.001, 60.0]    0.1\n",
       "(87.0, 112.0]     0.1\n",
       "(314.0, 417.0]    0.1\n",
       "(248.0, 314.0]    0.1\n",
       "(112.0, 138.0]    0.1\n",
       "(417.0, 644.0]    0.1\n",
       "(138.0, 167.0]    0.1\n",
       "(203.0, 248.0]    0.1\n",
       "Name: duration_cat, dtype: float64"
      ]
     },
     "execution_count": 56,
     "metadata": {},
     "output_type": "execute_result"
    }
   ],
   "source": [
    "# Relacion con target \n",
    "# Armamos categorias en funcion de quantiles\n",
    "\n",
    "data_0['duration_cat'] = pd.qcut(x = data_0['duration'],\n",
    "                           q = 10)\n",
    "\n",
    "data_0['duration_cat'].value_counts(normalize = True).round(2)"
   ]
  },
  {
   "cell_type": "code",
   "execution_count": 57,
   "id": "65a176f9",
   "metadata": {},
   "outputs": [
    {
     "data": {
      "image/png": "[encoded data removed]",
      "text/plain": [
       "<Figure size 432x288 with 1 Axes>"
      ]
     },
     "metadata": {
      "needs_background": "light"
     },
     "output_type": "display_data"
    }
   ],
   "source": [
    "# Relacion con target\n",
    "sns.barplot(x = data_0.duration_cat, y = data_0.y)\n",
    "plt.xticks(rotation = 45)\n",
    "plt.show()"
   ]
  },
  {
   "cell_type": "markdown",
   "id": "87e3620d",
   "metadata": {},
   "source": [
    "Se observaque la duracion esta linealmente correlacionada con la variable target.\n",
    "\n",
    "Por ejemplo: \n",
    "Si la llamada tiene una duracion 0 (o cercana a 0) es probable que no haga un deposito a plazo fijo. Mientras que en los casos en los que la llamada se extiende, es mas probable si realice el deposito a plazo fijo (podria pensarse que la llamada se extiende porque el cliente esta interesado en conocer los detalles del producto).\n",
    "\n",
    "Por otra parte, la duracion de la llamada se conoce al terminar la conversacion con el cliente, y en ese momento tambien se conoce si el cliente decidió o no hacer el deposito a plazo fijo. Es por esto, que el aporte de informacion de esta variable es limitado y no debe ser incluida en el modelo predictivo ya que afectaria los resultados. "
   ]
  },
  {
   "cell_type": "markdown",
   "id": "150fbf04",
   "metadata": {},
   "source": [
    "### Variable 'campaign'"
   ]
  },
  {
   "cell_type": "code",
   "execution_count": 58,
   "id": "48b856ad",
   "metadata": {},
   "outputs": [
    {
     "data": {
      "text/plain": [
       "1    13538\n",
       "2     8117\n",
       "3     4367\n",
       "4     2172\n",
       "5     1361\n",
       "6      805\n",
       "Name: campaign, dtype: int64"
      ]
     },
     "execution_count": 58,
     "metadata": {},
     "output_type": "execute_result"
    }
   ],
   "source": [
    "data_0['campaign'].value_counts()"
   ]
  },
  {
   "cell_type": "code",
   "execution_count": 59,
   "id": "9d16fa01",
   "metadata": {},
   "outputs": [
    {
     "data": {
      "image/png": "[encoded data removed]",
      "text/plain": [
       "<Figure size 432x288 with 1 Axes>"
      ]
     },
     "metadata": {
      "needs_background": "light"
     },
     "output_type": "display_data"
    }
   ],
   "source": [
    "# Relacion con target\n",
    "bar_plot = sns.barplot(x = data_0['campaign'],\n",
    "                       y = data_0['y'])\n",
    "\n",
    "plt.show();"
   ]
  },
  {
   "cell_type": "markdown",
   "id": "fadc5710",
   "metadata": {},
   "source": [
    "Si consideramos que campaign es el número de contactos realizados durante esta campaña y para este cliente, podemos observar que la probabilidad de que el cliente realice un deposito a plazo fijo disminuye con la cantidad de llamados. "
   ]
  },
  {
   "cell_type": "code",
   "execution_count": 60,
   "id": "a39f539a",
   "metadata": {},
   "outputs": [
    {
     "name": "stdout",
     "output_type": "stream",
     "text": [
      "1    0.529909\n",
      "2    0.248338\n",
      "3    0.121450\n",
      "4    0.053776\n",
      "5    0.030211\n",
      "6    0.016314\n",
      "Name: campaign, dtype: float64\n"
     ]
    }
   ],
   "source": [
    "# Dentro de los casos de exito (realizaron un deposito a plazo fijo) vemos como se distribuyen en funcion de la cantidad de llamados:\n",
    "\n",
    "data_yes = data_0.loc[data_0.y==1]\n",
    "print(data_yes.campaign.value_counts(normalize=True))\n"
   ]
  },
  {
   "cell_type": "markdown",
   "id": "b9a6d177",
   "metadata": {},
   "source": [
    "Podemos observar que practicamente el 90% de los casos de exito se confirmaron en 3 o menos llamados. Por lo que podria ser un seria un umbral para definir en que momento conviene dejar de contactar al cliente X por este producto y concentrarse en contactar a otro cliente. Incluso definir que este cliente X quizas pueda estar interesado en otro producto. "
   ]
  },
  {
   "cell_type": "markdown",
   "id": "ca1ea6e9",
   "metadata": {},
   "source": [
    "### Variable 'pdays'"
   ]
  },
  {
   "cell_type": "code",
   "execution_count": 61,
   "id": "c31ff832",
   "metadata": {},
   "outputs": [
    {
     "data": {
      "text/plain": [
       "Series([], Name: pdays, dtype: int64)"
      ]
     },
     "execution_count": 61,
     "metadata": {},
     "output_type": "execute_result"
    }
   ],
   "source": [
    "data_0['pdays'].value_counts()"
   ]
  },
  {
   "cell_type": "markdown",
   "id": "ce4eb454",
   "metadata": {},
   "source": [
    "Podemos observar que la variable \"pdays\" no tiene valores validos en este punto. Esto se debe a que es una variable muy desbalanceada (la mayoria de las observaciones son 999 es decir, no contactados con anterioridad) y que en los pocos casos en los que fueron contactados, esas mismas observaciones representan outliers en alguna otra variable continua. Es por esto que estas observaciones fueron eliminadas al realizar limpieza de outliers. Vale destacar que de todos modos al ser una variable tan desbalanceada, donde practicamente hay un solo valor(999 = \"no contactado previamente\"), realmente no aporta mucha información al modelo."
   ]
  },
  {
   "cell_type": "markdown",
   "id": "cc081877",
   "metadata": {},
   "source": [
    "### Variable 'previous'"
   ]
  },
  {
   "cell_type": "code",
   "execution_count": 62,
   "id": "91f13bd8",
   "metadata": {},
   "outputs": [
    {
     "data": {
      "text/plain": [
       "0    30360\n",
       "Name: previous, dtype: int64"
      ]
     },
     "execution_count": 62,
     "metadata": {},
     "output_type": "execute_result"
    }
   ],
   "source": [
    "data_0['previous'].value_counts()"
   ]
  },
  {
   "cell_type": "markdown",
   "id": "686f6481",
   "metadata": {},
   "source": [
    "Podemos observar que la variable \"previous\" no tiene valores validos en este punto. Esto se debe a que es una variable muy desbalanceada y que en los pocos casos en los que fueron contactados, esas mismas observaciones representan outliers en alguna otra variable continua. Es por esto que estas observaciones fueron eliminadas al realizar limpieza de outliers. Vale destacar que de todos modos al ser una variable tan desbalanceada, donde practicamente hay un solo valor (0 = no hubo contactos previos antes de esta campaña para este cliente) realmente no aporta mucha información al modelo."
   ]
  },
  {
   "cell_type": "markdown",
   "id": "c90b8c75",
   "metadata": {},
   "source": [
    "### Variable 'poutcome'"
   ]
  },
  {
   "cell_type": "code",
   "execution_count": 63,
   "id": "0bae41e4",
   "metadata": {},
   "outputs": [
    {
     "data": {
      "text/plain": [
       "nonexistent    30360\n",
       "Name: poutcome, dtype: int64"
      ]
     },
     "execution_count": 63,
     "metadata": {},
     "output_type": "execute_result"
    }
   ],
   "source": [
    "data_0['poutcome'].value_counts()"
   ]
  },
  {
   "cell_type": "markdown",
   "id": "98ec6f19",
   "metadata": {},
   "source": [
    "Variable 'poutcome': Podemos observar que la variable \"poutcome\" no tiene valores validos en este punto. Esto se debe a que es una variable muy desbalanceada y, del mismo modo que en las variables anteriores, luego de la limpieza de outliers solo quedaron observaciones que no fueron contactadas en campañas previas y por lo tanto no tienen resultados en relacion a esas campañas."
   ]
  },
  {
   "cell_type": "markdown",
   "id": "f074a4c5",
   "metadata": {},
   "source": [
    "### Variable 'emp.var.rate'"
   ]
  },
  {
   "cell_type": "code",
   "execution_count": 64,
   "id": "95b52afc",
   "metadata": {},
   "outputs": [
    {
     "data": {
      "text/plain": [
       "count    30360.000000\n",
       "mean         0.388261\n",
       "std          1.418314\n",
       "min         -3.400000\n",
       "25%         -0.100000\n",
       "50%          1.100000\n",
       "75%          1.400000\n",
       "max          1.400000\n",
       "Name: emp.var.rate, dtype: float64"
      ]
     },
     "execution_count": 64,
     "metadata": {},
     "output_type": "execute_result"
    }
   ],
   "source": [
    "data_0['emp.var.rate'].describe()"
   ]
  },
  {
   "cell_type": "code",
   "execution_count": 65,
   "id": "2fbfe331",
   "metadata": {},
   "outputs": [
    {
     "data": {
      "image/png": "[encoded data removed]",
      "text/plain": [
       "<Figure size 1440x216 with 1 Axes>"
      ]
     },
     "metadata": {
      "needs_background": "light"
     },
     "output_type": "display_data"
    }
   ],
   "source": [
    "g = sns.catplot(x='y', y='emp.var.rate', data=data_0, kind='violin')\n",
    "g.fig.set_size_inches(20,3)\n"
   ]
  },
  {
   "cell_type": "markdown",
   "id": "5721ab1e",
   "metadata": {},
   "source": [
    "A partir de los violin plots, se ve una concentración mayor de casos que no realizan depositos a plazo fijo con valores altos de emp.var.rate, y más casos en los que realizan los depositos a plazo fijo con valores menores de emp.var.rate."
   ]
  },
  {
   "cell_type": "code",
   "execution_count": 66,
   "id": "8009222f",
   "metadata": {},
   "outputs": [
    {
     "data": {
      "text/plain": [
       "(-3.401, 1.1]    16792\n",
       "(1.1, 1.4]       13568\n",
       "Name: emp.var.rate_cat, dtype: int64"
      ]
     },
     "execution_count": 66,
     "metadata": {},
     "output_type": "execute_result"
    }
   ],
   "source": [
    "data_0['emp.var.rate_cat'] = pd.qcut(x = data_0['emp.var.rate'], q = 2)\n",
    "\n",
    "data_0['emp.var.rate_cat'].value_counts()"
   ]
  },
  {
   "cell_type": "code",
   "execution_count": 67,
   "id": "dc90a8e4",
   "metadata": {},
   "outputs": [
    {
     "data": {
      "image/png": "[encoded data removed]",
      "text/plain": [
       "<Figure size 432x288 with 1 Axes>"
      ]
     },
     "metadata": {
      "needs_background": "light"
     },
     "output_type": "display_data"
    }
   ],
   "source": [
    "sns.barplot(x='emp.var.rate_cat', y='y', data=data_0);"
   ]
  },
  {
   "cell_type": "markdown",
   "id": "1c8a93d6",
   "metadata": {},
   "source": [
    "Agrupando la variable en 2 categorías con cantidades de registros similares, comprobamos que efectivamente, a mayor emp.var.rate, menos casos tenemos en donde se realizan depositos a plazo fijo."
   ]
  },
  {
   "cell_type": "markdown",
   "id": "dd97e621",
   "metadata": {},
   "source": [
    "### Variable 'cons.price.idx'"
   ]
  },
  {
   "cell_type": "code",
   "execution_count": 68,
   "id": "7943a867",
   "metadata": {},
   "outputs": [
    {
     "data": {
      "text/plain": [
       "count    30360.000000\n",
       "mean        93.646458\n",
       "std          0.538624\n",
       "min         92.201000\n",
       "25%         93.200000\n",
       "50%         93.918000\n",
       "75%         93.994000\n",
       "max         94.767000\n",
       "Name: cons.price.idx, dtype: float64"
      ]
     },
     "execution_count": 68,
     "metadata": {},
     "output_type": "execute_result"
    }
   ],
   "source": [
    "data_0['cons.price.idx'].describe()"
   ]
  },
  {
   "cell_type": "markdown",
   "id": "8d0175cc",
   "metadata": {},
   "source": [
    "Vemos datos concentrados entre el 92 y el 95 %, con una media de 93.65% muy poca dispersión."
   ]
  },
  {
   "cell_type": "code",
   "execution_count": 69,
   "id": "96bcf2a8",
   "metadata": {},
   "outputs": [
    {
     "data": {
      "image/png": "[encoded data removed]",
      "text/plain": [
       "<Figure size 1440x216 with 1 Axes>"
      ]
     },
     "metadata": {
      "needs_background": "light"
     },
     "output_type": "display_data"
    }
   ],
   "source": [
    "h = sns.catplot(x='y', y='cons.price.idx', data=data_0, kind='violin')\n",
    "h.fig.set_size_inches(20,3)"
   ]
  },
  {
   "cell_type": "code",
   "execution_count": 70,
   "id": "0747fb3b",
   "metadata": {},
   "outputs": [
    {
     "data": {
      "text/plain": [
       "(92.19999999999999, 93.918]    19383\n",
       "(93.918, 94.767]               10977\n",
       "Name: cons.price.idx_cat, dtype: int64"
      ]
     },
     "execution_count": 70,
     "metadata": {},
     "output_type": "execute_result"
    }
   ],
   "source": [
    "data_0['cons.price.idx_cat'] = pd.qcut(x = data_0['cons.price.idx'], q = 2)\n",
    "\n",
    "data_0['cons.price.idx_cat'].value_counts()"
   ]
  },
  {
   "cell_type": "code",
   "execution_count": 71,
   "id": "e158a2ae",
   "metadata": {},
   "outputs": [
    {
     "data": {
      "image/png": "[encoded data removed]",
      "text/plain": [
       "<Figure size 432x288 with 1 Axes>"
      ]
     },
     "metadata": {
      "needs_background": "light"
     },
     "output_type": "display_data"
    }
   ],
   "source": [
    "g = sns.barplot(x='cons.price.idx_cat', y='y', data=data_0)\n",
    "plt.show()"
   ]
  },
  {
   "cell_type": "markdown",
   "id": "bc9ae312",
   "metadata": {},
   "source": [
    "A menores valores de cons.price.idx, mayores probabilidades hay de que se realice el deposito a plazo fijo."
   ]
  },
  {
   "cell_type": "markdown",
   "id": "8c78ee0e",
   "metadata": {},
   "source": [
    "### Variable 'cons.conf.idx'"
   ]
  },
  {
   "cell_type": "code",
   "execution_count": 72,
   "id": "be1c787f",
   "metadata": {},
   "outputs": [
    {
     "data": {
      "text/plain": [
       "count    30360.000000\n",
       "mean       -40.410119\n",
       "std          4.164977\n",
       "min        -50.800000\n",
       "25%        -42.700000\n",
       "50%        -41.800000\n",
       "75%        -36.400000\n",
       "max        -29.800000\n",
       "Name: cons.conf.idx, dtype: float64"
      ]
     },
     "execution_count": 72,
     "metadata": {},
     "output_type": "execute_result"
    }
   ],
   "source": [
    "data_0['cons.conf.idx'].describe()"
   ]
  },
  {
   "cell_type": "code",
   "execution_count": 73,
   "id": "0796b7a1",
   "metadata": {},
   "outputs": [
    {
     "data": {
      "image/png": "[encoded data removed]",
      "text/plain": [
       "<Figure size 1440x216 with 1 Axes>"
      ]
     },
     "metadata": {
      "needs_background": "light"
     },
     "output_type": "display_data"
    }
   ],
   "source": [
    "i = sns.catplot(x='y', y='cons.conf.idx', data=data_0, kind='violin')\n",
    "i.fig.set_size_inches(20,3)"
   ]
  },
  {
   "cell_type": "code",
   "execution_count": 74,
   "id": "14774c47",
   "metadata": {},
   "outputs": [
    {
     "data": {
      "text/plain": [
       "(-50.800999999999995, -42.7]    10831\n",
       "(-41.8, -36.4]                   7845\n",
       "(-42.7, -41.8]                   6250\n",
       "(-36.4, -29.8]                   5434\n",
       "Name: cons.conf.idx_cat, dtype: int64"
      ]
     },
     "execution_count": 74,
     "metadata": {},
     "output_type": "execute_result"
    }
   ],
   "source": [
    "data_0['cons.conf.idx_cat'] = pd.qcut(x = data_0['cons.conf.idx'], q = 4)\n",
    "\n",
    "data_0['cons.conf.idx_cat'].value_counts()"
   ]
  },
  {
   "cell_type": "code",
   "execution_count": 75,
   "id": "971ed35f",
   "metadata": {},
   "outputs": [
    {
     "data": {
      "image/png": "[encoded data removed]",
      "text/plain": [
       "<Figure size 432x288 with 1 Axes>"
      ]
     },
     "metadata": {
      "needs_background": "light"
     },
     "output_type": "display_data"
    }
   ],
   "source": [
    "sns.barplot(x='cons.conf.idx_cat', y='y', data=data_0)\n",
    "plt.show()"
   ]
  },
  {
   "cell_type": "markdown",
   "id": "9d6002ea",
   "metadata": {},
   "source": [
    "Ni el violinplot ni el barplot nos dan una idea clara de si esta variable afecta o no el hecho de que se realice un deposito a plazo fijo."
   ]
  },
  {
   "cell_type": "markdown",
   "id": "56998148",
   "metadata": {},
   "source": [
    "### Variable 'euribor3m'"
   ]
  },
  {
   "cell_type": "code",
   "execution_count": 76,
   "id": "7cb12243",
   "metadata": {},
   "outputs": [
    {
     "data": {
      "text/plain": [
       "count    30360.000000\n",
       "mean         3.970239\n",
       "std          1.556323\n",
       "min          0.634000\n",
       "25%          4.021000\n",
       "50%          4.859000\n",
       "75%          4.962000\n",
       "max          5.045000\n",
       "Name: euribor3m, dtype: float64"
      ]
     },
     "execution_count": 76,
     "metadata": {},
     "output_type": "execute_result"
    }
   ],
   "source": [
    "data_0['euribor3m'].describe()"
   ]
  },
  {
   "cell_type": "code",
   "execution_count": 77,
   "id": "bae35bd7",
   "metadata": {},
   "outputs": [
    {
     "data": {
      "image/png": "[encoded data removed]",
      "text/plain": [
       "<Figure size 1440x216 with 1 Axes>"
      ]
     },
     "metadata": {
      "needs_background": "light"
     },
     "output_type": "display_data"
    }
   ],
   "source": [
    "j = sns.catplot(x='y', y='euribor3m', data=data_0, kind='violin')\n",
    "j.fig.set_size_inches(20,3)"
   ]
  },
  {
   "cell_type": "markdown",
   "id": "2aa4098b",
   "metadata": {},
   "source": [
    "A mayores valores de euriborm3, menores probabilidades hay de que el cliente realice el deposito a plazo fijo; y viceversa."
   ]
  },
  {
   "cell_type": "code",
   "execution_count": 78,
   "id": "95e3e8e7",
   "metadata": {},
   "outputs": [
    {
     "data": {
      "text/plain": [
       "(0.633, 4.859]    15635\n",
       "(4.859, 5.045]    14725\n",
       "Name: euribor3m_cat, dtype: int64"
      ]
     },
     "execution_count": 78,
     "metadata": {},
     "output_type": "execute_result"
    }
   ],
   "source": [
    "data_0['euribor3m_cat'] = pd.qcut(x = data_0['euribor3m'], q = 2)\n",
    "\n",
    "data_0['euribor3m_cat'].value_counts()"
   ]
  },
  {
   "cell_type": "code",
   "execution_count": 79,
   "id": "3b93fb9c",
   "metadata": {},
   "outputs": [
    {
     "data": {
      "image/png": "[encoded data removed]",
      "text/plain": [
       "<Figure size 432x288 with 1 Axes>"
      ]
     },
     "metadata": {
      "needs_background": "light"
     },
     "output_type": "display_data"
    }
   ],
   "source": [
    "sns.barplot(x='euribor3m_cat', y='y', data=data_0)\n",
    "plt.show()"
   ]
  },
  {
   "cell_type": "markdown",
   "id": "fe23292d",
   "metadata": {},
   "source": [
    "### Variable 'nr.employed'"
   ]
  },
  {
   "cell_type": "code",
   "execution_count": 80,
   "id": "b6d9b1da",
   "metadata": {},
   "outputs": [
    {
     "data": {
      "text/plain": [
       "count    30360.000000\n",
       "mean      5181.932372\n",
       "std         60.639498\n",
       "min       4963.600000\n",
       "25%       5191.000000\n",
       "50%       5195.800000\n",
       "75%       5228.100000\n",
       "max       5228.100000\n",
       "Name: nr.employed, dtype: float64"
      ]
     },
     "execution_count": 80,
     "metadata": {},
     "output_type": "execute_result"
    }
   ],
   "source": [
    "data_0['nr.employed'].describe()"
   ]
  },
  {
   "cell_type": "code",
   "execution_count": 81,
   "id": "027d32bd",
   "metadata": {},
   "outputs": [
    {
     "data": {
      "image/png": "[encoded data removed]",
      "text/plain": [
       "<Figure size 1440x216 with 1 Axes>"
      ]
     },
     "metadata": {
      "needs_background": "light"
     },
     "output_type": "display_data"
    }
   ],
   "source": [
    "k = sns.catplot(x='y', y='nr.employed', data=data_0, kind='violin')\n",
    "k.fig.set_size_inches(20,3)"
   ]
  },
  {
   "cell_type": "code",
   "execution_count": 82,
   "id": "aa36c864",
   "metadata": {},
   "outputs": [
    {
     "data": {
      "text/plain": [
       "(4963.599, 5195.8]    16792\n",
       "(5195.8, 5228.1]      13568\n",
       "Name: nr.employed_cat, dtype: int64"
      ]
     },
     "execution_count": 82,
     "metadata": {},
     "output_type": "execute_result"
    }
   ],
   "source": [
    "data_0['nr.employed_cat'] = pd.qcut(x = data_0['nr.employed'], q = 2)\n",
    "\n",
    "data_0['nr.employed_cat'].value_counts()"
   ]
  },
  {
   "cell_type": "code",
   "execution_count": 83,
   "id": "0833c951",
   "metadata": {},
   "outputs": [
    {
     "data": {
      "image/png": "[encoded data removed]",
      "text/plain": [
       "<Figure size 432x288 with 1 Axes>"
      ]
     },
     "metadata": {
      "needs_background": "light"
     },
     "output_type": "display_data"
    }
   ],
   "source": [
    "sns.barplot(x='nr.employed_cat', y='y', data=data_0)\n",
    "plt.show()"
   ]
  },
  {
   "cell_type": "markdown",
   "id": "049b124c",
   "metadata": {},
   "source": [
    "## Visualización"
   ]
  },
  {
   "cell_type": "code",
   "execution_count": 84,
   "id": "8edc4ea3",
   "metadata": {},
   "outputs": [],
   "source": [
    "custom_palette = sns.color_palette(\"Paired\", 9) #Seteamos paleta de colores para este grafico\n",
    "\n",
    "sns.set_theme() #seteamos el aspecto general"
   ]
  },
  {
   "cell_type": "markdown",
   "id": "3d17d5d6",
   "metadata": {},
   "source": [
    "### Éxito de campaña y Edad"
   ]
  },
  {
   "cell_type": "code",
   "execution_count": 85,
   "id": "4897ce15",
   "metadata": {},
   "outputs": [
    {
     "data": {
      "image/png": "[encoded data removed]",
      "text/plain": [
       "<Figure size 648x576 with 1 Axes>"
      ]
     },
     "metadata": {},
     "output_type": "display_data"
    }
   ],
   "source": [
    "# Relacion edad y la proporcion de exito\n",
    "\n",
    "fig, ax = plt.subplots(1, \n",
    "                      figsize = (9,8), \n",
    "                      facecolor = 'white') #Definimos figura y nombre de los ejes\n",
    "\n",
    "bar_plot = sns.barplot(x = data_0['age_cat'],\n",
    "                       y = data_0['y'])\n",
    "\n",
    "plt.xticks(ticks = np.arange(3), \n",
    "           labels = ['18-34', '35-44', '45+'])\n",
    "\n",
    "ax.set(ylabel = \"Proporción de éxitos\",\n",
    "       xlabel = \"Rango de Edad\")\n",
    "\n",
    "plt.title('ÉXITO DE CAMPAÑA Y EDAD', \n",
    "          fontsize = 18, \n",
    "          x = .55)\n",
    "\n",
    "ax.text(0, -0.1,\n",
    "        'Fuente: Elaboración propia usando datos publicados en kaggle.com/volodymyrgavrysh/bank-marketing-campaigns-dataset',\n",
    "        verticalalignment = 'bottom',\n",
    "        horizontalalignment = 'left',\n",
    "        transform = ax.transAxes,\n",
    "        color = 'black',\n",
    "        fontsize = 8)\n",
    "\n",
    "plt.savefig('exito_por_edad.png', dpi = 300, facecolor = fig.get_facecolor(), bbox_inches = 'tight')\n",
    "\n",
    "plt.show();"
   ]
  },
  {
   "cell_type": "markdown",
   "id": "e690bfbb",
   "metadata": {},
   "source": [
    "### Éxito de campaña y Educación"
   ]
  },
  {
   "cell_type": "code",
   "execution_count": 86,
   "id": "30f809c1",
   "metadata": {},
   "outputs": [
    {
     "data": {
      "image/png": "[encoded data removed]",
      "text/plain": [
       "<Figure size 648x576 with 1 Axes>"
      ]
     },
     "metadata": {},
     "output_type": "display_data"
    }
   ],
   "source": [
    "# Relacion educacion y la proporcion de exito\n",
    "\n",
    "fig, ax = plt.subplots(1, \n",
    "                      figsize = (9,8), \n",
    "                      facecolor = 'white') #Definimos figura y nombre de los ejes\n",
    "\n",
    "bar_plot = sns.barplot(x = data_0['edu_cat'],\n",
    "                       y = data_0['y'])\n",
    "\n",
    "plt.xticks(ticks = np.arange(3), \n",
    "           labels = ['Sec. Inc.', 'Sec. Com.', 'Universitario'])\n",
    "\n",
    "ax.set(ylabel = \"Proporción de éxitos\",\n",
    "       xlabel = \"Nivel educativo\")\n",
    "\n",
    "plt.title('ÉXITO DE CAMPAÑA Y EDUCACIÓN', \n",
    "          fontsize = 18, \n",
    "          x = .55)\n",
    "\n",
    "ax.text(0, -0.1,\n",
    "        'Fuente: Elaboración propia usando datos publicados en kaggle.com/volodymyrgavrysh/bank-marketing-campaigns-dataset',\n",
    "        verticalalignment = 'bottom',\n",
    "        horizontalalignment = 'left',\n",
    "        transform = ax.transAxes,\n",
    "        color = 'black',\n",
    "        fontsize = 8)\n",
    "\n",
    "plt.savefig('exito_por_educacion.png', dpi = 300, facecolor = fig.get_facecolor(), bbox_inches = 'tight')\n",
    "\n",
    "plt.show();"
   ]
  },
  {
   "cell_type": "markdown",
   "id": "91db91e3",
   "metadata": {},
   "source": [
    "### Éxito de campaña y Ocupación"
   ]
  },
  {
   "cell_type": "code",
   "execution_count": 87,
   "id": "1bf54e26",
   "metadata": {},
   "outputs": [
    {
     "data": {
      "image/png": "[encoded data removed]",
      "text/plain": [
       "<Figure size 648x576 with 1 Axes>"
      ]
     },
     "metadata": {},
     "output_type": "display_data"
    }
   ],
   "source": [
    "# Relacion tipo de trabajo y la proporcion de exito\n",
    "\n",
    "fig, ax = plt.subplots(1, \n",
    "                      figsize = (9,8), \n",
    "                      facecolor = 'white') #Definimos figura y nombre de los ejes\n",
    "\n",
    "bar_plot = sns.barplot(x = data_0['job_cat'],\n",
    "                       y = data_0['y'])\n",
    "\n",
    "#plt.xticks(rotation = 45)\n",
    "\n",
    "ax.set(ylabel = \"Proporción de éxitos\",\n",
    "       xlabel = \"Condición y calidad ocupacional\")\n",
    "\n",
    "plt.title('ÉXITO DE CAMPAÑA Y OCUPACIÓN', \n",
    "          fontsize = 18, \n",
    "          x = .55)\n",
    "\n",
    "ax.text(0, -0.21,\n",
    "        'Fuente: Elaboración propia usando datos publicados en kaggle.com/volodymyrgavrysh/bank-marketing-campaigns-dataset',\n",
    "        verticalalignment = 'bottom',\n",
    "        horizontalalignment = 'left',\n",
    "        transform = ax.transAxes,\n",
    "        color = 'black',\n",
    "        fontsize = 8)\n",
    "\n",
    "plt.savefig('exito_por_ocupacion.png', dpi = 300, facecolor=fig.get_facecolor(), bbox_inches='tight')\n",
    "\n",
    "plt.show();"
   ]
  },
  {
   "cell_type": "markdown",
   "id": "eea57a4b",
   "metadata": {},
   "source": [
    "### Éxito de campaña y Cantidad de contactos con cliente"
   ]
  },
  {
   "cell_type": "code",
   "execution_count": 88,
   "id": "28bd3d98",
   "metadata": {},
   "outputs": [
    {
     "data": {
      "image/png": "[encoded data removed]",
      "text/plain": [
       "<Figure size 648x576 with 1 Axes>"
      ]
     },
     "metadata": {},
     "output_type": "display_data"
    }
   ],
   "source": [
    "# Relacion numero de contactos y la proporcion de exito\n",
    "\n",
    "fig, ax = plt.subplots(1, \n",
    "                      figsize = (9,8), \n",
    "                      facecolor = 'white') #Definimos figura y nombre de los ejes\n",
    "\n",
    "bar_plot = sns.barplot(x = data_0['campaign'],\n",
    "                       y = data_0['y'])\n",
    "\n",
    "ax.set(ylabel = \"Proporción de éxitos\",\n",
    "       xlabel = \"Cantidad de contactos con cliente\")\n",
    "\n",
    "plt.title('ÉXITO DE CAMPAÑA Y CONTACTO CON CLIENTE', \n",
    "          fontsize = 18, \n",
    "          x = .55)\n",
    "\n",
    "ax.text(0, -0.1,\n",
    "        'Fuente: Elaboración propia usando datos publicados en kaggle.com/volodymyrgavrysh/bank-marketing-campaigns-dataset',\n",
    "        verticalalignment = 'bottom',\n",
    "        horizontalalignment = 'left',\n",
    "        transform = ax.transAxes,\n",
    "        color = 'black',\n",
    "        fontsize = 8)\n",
    "\n",
    "plt.savefig('exito_por_contactos.png', dpi = 300, facecolor = fig.get_facecolor(), bbox_inches = 'tight')\n",
    "\n",
    "plt.show();"
   ]
  },
  {
   "cell_type": "markdown",
   "id": "0fc8d48a",
   "metadata": {},
   "source": [
    "### Éxito de campaña segun Cantidad de contactos con cliente: Edad y Educación"
   ]
  },
  {
   "cell_type": "code",
   "execution_count": 89,
   "id": "5ef10416",
   "metadata": {},
   "outputs": [
    {
     "name": "stderr",
     "output_type": "stream",
     "text": [
      "C:\\Users\\aj\\anaconda3\\envs\\dhdsblend2021\\lib\\site-packages\\seaborn\\axisgrid.py:645: UserWarning: Using the barplot function without specifying `order` is likely to produce an incorrect plot.\n",
      "  warnings.warn(warning)\n"
     ]
    },
    {
     "data": {
      "image/png": "[encoded data removed]",
      "text/plain": [
       "<Figure size 648x648 with 9 Axes>"
      ]
     },
     "metadata": {},
     "output_type": "display_data"
    }
   ],
   "source": [
    "# Relacion entre cantidad de contactos en la campania actual y la proporcion de exito\n",
    "\n",
    "# Creamos la grilla vacia, donde vamos a segmentar por nivel educativo y por rango de edad\n",
    "\n",
    "grid = sns.FacetGrid(data_0, \n",
    "                     row = \"edu_cat\",\n",
    "                     col = \"age_cat\", \n",
    "                     margin_titles = True)\n",
    "\n",
    "# Graficamos cada uno de los graficos de barras que corresponden a los elementos de la grilla:\n",
    "\n",
    "grid.map(sns.barplot, 'campaign', \"y\")\n",
    "\n",
    "grid.set_axis_labels(\"Número de contactos\", \"Proporción de éxitos\")\n",
    "\n",
    "grid.fig.subplots_adjust(top = 0.9)\n",
    "\n",
    "grid.fig.suptitle('ÉXITO DE CAMPAÑA E INTENSIDAD DE CONTACTO: EDAD Y EDUCACIÓN')\n",
    "    \n",
    "grid.fig.text(0, 0,\n",
    "              'Fuente: Elaboración propia usando datos publicados en kaggle.com/volodymyrgavrysh/bank-marketing-campaigns-dataset',\n",
    "              verticalalignment = 'bottom',\n",
    "              horizontalalignment = 'left',\n",
    "              color = 'black',\n",
    "              fontsize = 8)\n",
    "\n",
    "plt.savefig('exito_por_contactos_edadeduc.png', dpi = 300, facecolor=fig.get_facecolor(), bbox_inches='tight')\n",
    "\n",
    "plt.show();"
   ]
  },
  {
   "cell_type": "markdown",
   "id": "9d7dbc25",
   "metadata": {},
   "source": [
    "## Selección y preparación de variables para ejercicios de aprendizaje automático"
   ]
  },
  {
   "cell_type": "code",
   "execution_count": 90,
   "id": "d3799fcc",
   "metadata": {},
   "outputs": [
    {
     "name": "stdout",
     "output_type": "stream",
     "text": [
      "<class 'pandas.core.frame.DataFrame'>\n",
      "RangeIndex: 30360 entries, 0 to 30359\n",
      "Data columns (total 32 columns):\n",
      " #   Column              Non-Null Count  Dtype   \n",
      "---  ------              --------------  -----   \n",
      " 0   age                 30360 non-null  int64   \n",
      " 1   job                 30360 non-null  object  \n",
      " 2   marital             30360 non-null  object  \n",
      " 3   education           30360 non-null  object  \n",
      " 4   default             30360 non-null  object  \n",
      " 5   housing             30360 non-null  int32   \n",
      " 6   loan                30360 non-null  int32   \n",
      " 7   contact             30360 non-null  int32   \n",
      " 8   month               30360 non-null  int64   \n",
      " 9   day_of_week         30360 non-null  int64   \n",
      " 10  duration            30360 non-null  int64   \n",
      " 11  campaign            30360 non-null  int64   \n",
      " 12  pdays               0 non-null      float64 \n",
      " 13  previous            30360 non-null  int64   \n",
      " 14  poutcome            30360 non-null  object  \n",
      " 15  emp.var.rate        30360 non-null  float64 \n",
      " 16  cons.price.idx      30360 non-null  float64 \n",
      " 17  cons.conf.idx       30360 non-null  float64 \n",
      " 18  euribor3m           30360 non-null  float64 \n",
      " 19  nr.employed         30360 non-null  float64 \n",
      " 20  y                   30360 non-null  int32   \n",
      " 21  age_cat             30360 non-null  category\n",
      " 22  job_cat             30360 non-null  category\n",
      " 23  married             30360 non-null  int64   \n",
      " 24  edu_cat             30360 non-null  category\n",
      " 25  month_cat           30360 non-null  int64   \n",
      " 26  duration_cat        30360 non-null  category\n",
      " 27  emp.var.rate_cat    30360 non-null  category\n",
      " 28  cons.price.idx_cat  30360 non-null  category\n",
      " 29  cons.conf.idx_cat   30360 non-null  category\n",
      " 30  euribor3m_cat       30360 non-null  category\n",
      " 31  nr.employed_cat     30360 non-null  category\n",
      "dtypes: category(9), float64(6), int32(4), int64(8), object(5)\n",
      "memory usage: 5.1+ MB\n"
     ]
    }
   ],
   "source": [
    "# Vemos las variables que quedaron\n",
    "\n",
    "data_0.info()"
   ]
  },
  {
   "cell_type": "code",
   "execution_count": 91,
   "id": "3f67199c",
   "metadata": {},
   "outputs": [],
   "source": [
    "# Transformamos las categoricas en dummies\n",
    "\n",
    "variables_a_dummies = ['age_cat', 'job_cat', 'edu_cat', 'day_of_week']\n",
    "\n",
    "data_0 = pd.get_dummies(data_0,\n",
    "                        columns = variables_a_dummies,\n",
    "                        drop_first = True)\n"
   ]
  },
  {
   "cell_type": "code",
   "execution_count": 92,
   "id": "6c87f631",
   "metadata": {},
   "outputs": [
    {
     "data": {
      "text/plain": [
       "Index(['age', 'job', 'marital', 'education', 'default', 'housing', 'loan',\n",
       "       'contact', 'month', 'duration', 'campaign', 'pdays', 'previous',\n",
       "       'poutcome', 'emp.var.rate', 'cons.price.idx', 'cons.conf.idx',\n",
       "       'euribor3m', 'nr.employed', 'y', 'married', 'month_cat', 'duration_cat',\n",
       "       'emp.var.rate_cat', 'cons.price.idx_cat', 'cons.conf.idx_cat',\n",
       "       'euribor3m_cat', 'nr.employed_cat', 'age_cat_35-44 años',\n",
       "       'age_cat_45+ años', 'job_cat_Calificación Media-Baja',\n",
       "       'job_cat_Calificación Media-Alta', 'edu_cat_Secundario Com',\n",
       "       'edu_cat_Universitario Com', 'day_of_week_2', 'day_of_week_3',\n",
       "       'day_of_week_4', 'day_of_week_5'],\n",
       "      dtype='object')"
      ]
     },
     "execution_count": 92,
     "metadata": {},
     "output_type": "execute_result"
    }
   ],
   "source": [
    "# Vemos las columnas post aplicacion de get_dummies\n",
    "\n",
    "data_0.columns"
   ]
  },
  {
   "cell_type": "code",
   "execution_count": 93,
   "id": "7d32684f",
   "metadata": {},
   "outputs": [],
   "source": [
    "# Armamos la base para los ejercicios de entrenamiento\n",
    "\n",
    "variables_a_dropear = ['age', 'job', 'marital', 'education', 'default', \n",
    "                       'month', 'duration', 'duration_cat', 'pdays', 'previous',\n",
    "                       'poutcome', 'emp.var.rate_cat', 'cons.price.idx_cat', 'cons.conf.idx_cat',\n",
    "                       'euribor3m_cat', 'nr.employed_cat']"
   ]
  },
  {
   "cell_type": "code",
   "execution_count": 94,
   "id": "402de942",
   "metadata": {},
   "outputs": [
    {
     "name": "stdout",
     "output_type": "stream",
     "text": [
      "<class 'pandas.core.frame.DataFrame'>\n",
      "RangeIndex: 30360 entries, 0 to 30359\n",
      "Data columns (total 22 columns):\n",
      " #   Column                           Non-Null Count  Dtype  \n",
      "---  ------                           --------------  -----  \n",
      " 0   housing                          30360 non-null  int32  \n",
      " 1   loan                             30360 non-null  int32  \n",
      " 2   contact                          30360 non-null  int32  \n",
      " 3   campaign                         30360 non-null  int64  \n",
      " 4   emp.var.rate                     30360 non-null  float64\n",
      " 5   cons.price.idx                   30360 non-null  float64\n",
      " 6   cons.conf.idx                    30360 non-null  float64\n",
      " 7   euribor3m                        30360 non-null  float64\n",
      " 8   nr.employed                      30360 non-null  float64\n",
      " 9   y                                30360 non-null  int32  \n",
      " 10  married                          30360 non-null  int64  \n",
      " 11  month_cat                        30360 non-null  int64  \n",
      " 12  age_cat_35-44 años               30360 non-null  uint8  \n",
      " 13  age_cat_45+ años                 30360 non-null  uint8  \n",
      " 14  job_cat_Calificación Media-Baja  30360 non-null  uint8  \n",
      " 15  job_cat_Calificación Media-Alta  30360 non-null  uint8  \n",
      " 16  edu_cat_Secundario Com           30360 non-null  uint8  \n",
      " 17  edu_cat_Universitario Com        30360 non-null  uint8  \n",
      " 18  day_of_week_2                    30360 non-null  uint8  \n",
      " 19  day_of_week_3                    30360 non-null  uint8  \n",
      " 20  day_of_week_4                    30360 non-null  uint8  \n",
      " 21  day_of_week_5                    30360 non-null  uint8  \n",
      "dtypes: float64(5), int32(4), int64(3), uint8(10)\n",
      "memory usage: 2.6 MB\n"
     ]
    }
   ],
   "source": [
    "data_0.drop(variables_a_dropear, axis = 1).info()"
   ]
  },
  {
   "cell_type": "code",
   "execution_count": 95,
   "id": "d9710b28",
   "metadata": {},
   "outputs": [
    {
     "data": {
      "text/html": [
       "<div>\n",
       "<style scoped>\n",
       "    .dataframe tbody tr th:only-of-type {\n",
       "        vertical-align: middle;\n",
       "    }\n",
       "\n",
       "    .dataframe tbody tr th {\n",
       "        vertical-align: top;\n",
       "    }\n",
       "\n",
       "    .dataframe thead th {\n",
       "        text-align: right;\n",
       "    }\n",
       "</style>\n",
       "<table border=\"1\" class=\"dataframe\">\n",
       "  <thead>\n",
       "    <tr style=\"text-align: right;\">\n",
       "      <th></th>\n",
       "      <th>housing</th>\n",
       "      <th>loan</th>\n",
       "      <th>contact</th>\n",
       "      <th>campaign</th>\n",
       "      <th>emp.var.rate</th>\n",
       "      <th>cons.price.idx</th>\n",
       "      <th>cons.conf.idx</th>\n",
       "      <th>euribor3m</th>\n",
       "      <th>nr.employed</th>\n",
       "      <th>y</th>\n",
       "      <th>...</th>\n",
       "      <th>age_cat_35-44 años</th>\n",
       "      <th>age_cat_45+ años</th>\n",
       "      <th>job_cat_Calificación Media-Baja</th>\n",
       "      <th>job_cat_Calificación Media-Alta</th>\n",
       "      <th>edu_cat_Secundario Com</th>\n",
       "      <th>edu_cat_Universitario Com</th>\n",
       "      <th>day_of_week_2</th>\n",
       "      <th>day_of_week_3</th>\n",
       "      <th>day_of_week_4</th>\n",
       "      <th>day_of_week_5</th>\n",
       "    </tr>\n",
       "  </thead>\n",
       "  <tbody>\n",
       "    <tr>\n",
       "      <th>count</th>\n",
       "      <td>30360.000000</td>\n",
       "      <td>30360.000000</td>\n",
       "      <td>30360.000000</td>\n",
       "      <td>30360.000000</td>\n",
       "      <td>30360.000000</td>\n",
       "      <td>30360.000000</td>\n",
       "      <td>30360.000000</td>\n",
       "      <td>30360.000000</td>\n",
       "      <td>30360.000000</td>\n",
       "      <td>30360.000000</td>\n",
       "      <td>...</td>\n",
       "      <td>30360.000000</td>\n",
       "      <td>30360.000000</td>\n",
       "      <td>30360.000000</td>\n",
       "      <td>30360.000000</td>\n",
       "      <td>30360.000000</td>\n",
       "      <td>30360.000000</td>\n",
       "      <td>30360.000000</td>\n",
       "      <td>30360.000000</td>\n",
       "      <td>30360.000000</td>\n",
       "      <td>30360.000000</td>\n",
       "    </tr>\n",
       "    <tr>\n",
       "      <th>mean</th>\n",
       "      <td>0.544598</td>\n",
       "      <td>0.151482</td>\n",
       "      <td>0.413011</td>\n",
       "      <td>2.081555</td>\n",
       "      <td>0.388261</td>\n",
       "      <td>93.646458</td>\n",
       "      <td>-40.410119</td>\n",
       "      <td>3.970239</td>\n",
       "      <td>5181.932372</td>\n",
       "      <td>0.054513</td>\n",
       "      <td>...</td>\n",
       "      <td>0.337747</td>\n",
       "      <td>0.307609</td>\n",
       "      <td>0.359552</td>\n",
       "      <td>0.569796</td>\n",
       "      <td>0.357411</td>\n",
       "      <td>0.333037</td>\n",
       "      <td>0.199045</td>\n",
       "      <td>0.197760</td>\n",
       "      <td>0.204974</td>\n",
       "      <td>0.186397</td>\n",
       "    </tr>\n",
       "    <tr>\n",
       "      <th>std</th>\n",
       "      <td>0.498015</td>\n",
       "      <td>0.358524</td>\n",
       "      <td>0.492383</td>\n",
       "      <td>1.302700</td>\n",
       "      <td>1.418314</td>\n",
       "      <td>0.538624</td>\n",
       "      <td>4.164977</td>\n",
       "      <td>1.556323</td>\n",
       "      <td>60.639498</td>\n",
       "      <td>0.227030</td>\n",
       "      <td>...</td>\n",
       "      <td>0.472950</td>\n",
       "      <td>0.461511</td>\n",
       "      <td>0.479877</td>\n",
       "      <td>0.495113</td>\n",
       "      <td>0.479245</td>\n",
       "      <td>0.471307</td>\n",
       "      <td>0.399288</td>\n",
       "      <td>0.398317</td>\n",
       "      <td>0.403689</td>\n",
       "      <td>0.389433</td>\n",
       "    </tr>\n",
       "    <tr>\n",
       "      <th>min</th>\n",
       "      <td>0.000000</td>\n",
       "      <td>0.000000</td>\n",
       "      <td>0.000000</td>\n",
       "      <td>1.000000</td>\n",
       "      <td>-3.400000</td>\n",
       "      <td>92.201000</td>\n",
       "      <td>-50.800000</td>\n",
       "      <td>0.634000</td>\n",
       "      <td>4963.600000</td>\n",
       "      <td>0.000000</td>\n",
       "      <td>...</td>\n",
       "      <td>0.000000</td>\n",
       "      <td>0.000000</td>\n",
       "      <td>0.000000</td>\n",
       "      <td>0.000000</td>\n",
       "      <td>0.000000</td>\n",
       "      <td>0.000000</td>\n",
       "      <td>0.000000</td>\n",
       "      <td>0.000000</td>\n",
       "      <td>0.000000</td>\n",
       "      <td>0.000000</td>\n",
       "    </tr>\n",
       "    <tr>\n",
       "      <th>25%</th>\n",
       "      <td>0.000000</td>\n",
       "      <td>0.000000</td>\n",
       "      <td>0.000000</td>\n",
       "      <td>1.000000</td>\n",
       "      <td>-0.100000</td>\n",
       "      <td>93.200000</td>\n",
       "      <td>-42.700000</td>\n",
       "      <td>4.021000</td>\n",
       "      <td>5191.000000</td>\n",
       "      <td>0.000000</td>\n",
       "      <td>...</td>\n",
       "      <td>0.000000</td>\n",
       "      <td>0.000000</td>\n",
       "      <td>0.000000</td>\n",
       "      <td>0.000000</td>\n",
       "      <td>0.000000</td>\n",
       "      <td>0.000000</td>\n",
       "      <td>0.000000</td>\n",
       "      <td>0.000000</td>\n",
       "      <td>0.000000</td>\n",
       "      <td>0.000000</td>\n",
       "    </tr>\n",
       "    <tr>\n",
       "      <th>50%</th>\n",
       "      <td>1.000000</td>\n",
       "      <td>0.000000</td>\n",
       "      <td>0.000000</td>\n",
       "      <td>2.000000</td>\n",
       "      <td>1.100000</td>\n",
       "      <td>93.918000</td>\n",
       "      <td>-41.800000</td>\n",
       "      <td>4.859000</td>\n",
       "      <td>5195.800000</td>\n",
       "      <td>0.000000</td>\n",
       "      <td>...</td>\n",
       "      <td>0.000000</td>\n",
       "      <td>0.000000</td>\n",
       "      <td>0.000000</td>\n",
       "      <td>1.000000</td>\n",
       "      <td>0.000000</td>\n",
       "      <td>0.000000</td>\n",
       "      <td>0.000000</td>\n",
       "      <td>0.000000</td>\n",
       "      <td>0.000000</td>\n",
       "      <td>0.000000</td>\n",
       "    </tr>\n",
       "    <tr>\n",
       "      <th>75%</th>\n",
       "      <td>1.000000</td>\n",
       "      <td>0.000000</td>\n",
       "      <td>1.000000</td>\n",
       "      <td>3.000000</td>\n",
       "      <td>1.400000</td>\n",
       "      <td>93.994000</td>\n",
       "      <td>-36.400000</td>\n",
       "      <td>4.962000</td>\n",
       "      <td>5228.100000</td>\n",
       "      <td>0.000000</td>\n",
       "      <td>...</td>\n",
       "      <td>1.000000</td>\n",
       "      <td>1.000000</td>\n",
       "      <td>1.000000</td>\n",
       "      <td>1.000000</td>\n",
       "      <td>1.000000</td>\n",
       "      <td>1.000000</td>\n",
       "      <td>0.000000</td>\n",
       "      <td>0.000000</td>\n",
       "      <td>0.000000</td>\n",
       "      <td>0.000000</td>\n",
       "    </tr>\n",
       "    <tr>\n",
       "      <th>max</th>\n",
       "      <td>1.000000</td>\n",
       "      <td>1.000000</td>\n",
       "      <td>1.000000</td>\n",
       "      <td>6.000000</td>\n",
       "      <td>1.400000</td>\n",
       "      <td>94.767000</td>\n",
       "      <td>-29.800000</td>\n",
       "      <td>5.045000</td>\n",
       "      <td>5228.100000</td>\n",
       "      <td>1.000000</td>\n",
       "      <td>...</td>\n",
       "      <td>1.000000</td>\n",
       "      <td>1.000000</td>\n",
       "      <td>1.000000</td>\n",
       "      <td>1.000000</td>\n",
       "      <td>1.000000</td>\n",
       "      <td>1.000000</td>\n",
       "      <td>1.000000</td>\n",
       "      <td>1.000000</td>\n",
       "      <td>1.000000</td>\n",
       "      <td>1.000000</td>\n",
       "    </tr>\n",
       "  </tbody>\n",
       "</table>\n",
       "<p>8 rows × 22 columns</p>\n",
       "</div>"
      ],
      "text/plain": [
       "            housing          loan       contact      campaign  emp.var.rate  \\\n",
       "count  30360.000000  30360.000000  30360.000000  30360.000000  30360.000000   \n",
       "mean       0.544598      0.151482      0.413011      2.081555      0.388261   \n",
       "std        0.498015      0.358524      0.492383      1.302700      1.418314   \n",
       "min        0.000000      0.000000      0.000000      1.000000     -3.400000   \n",
       "25%        0.000000      0.000000      0.000000      1.000000     -0.100000   \n",
       "50%        1.000000      0.000000      0.000000      2.000000      1.100000   \n",
       "75%        1.000000      0.000000      1.000000      3.000000      1.400000   \n",
       "max        1.000000      1.000000      1.000000      6.000000      1.400000   \n",
       "\n",
       "       cons.price.idx  cons.conf.idx     euribor3m   nr.employed  \\\n",
       "count    30360.000000   30360.000000  30360.000000  30360.000000   \n",
       "mean        93.646458     -40.410119      3.970239   5181.932372   \n",
       "std          0.538624       4.164977      1.556323     60.639498   \n",
       "min         92.201000     -50.800000      0.634000   4963.600000   \n",
       "25%         93.200000     -42.700000      4.021000   5191.000000   \n",
       "50%         93.918000     -41.800000      4.859000   5195.800000   \n",
       "75%         93.994000     -36.400000      4.962000   5228.100000   \n",
       "max         94.767000     -29.800000      5.045000   5228.100000   \n",
       "\n",
       "                  y  ...  age_cat_35-44 años  age_cat_45+ años  \\\n",
       "count  30360.000000  ...        30360.000000      30360.000000   \n",
       "mean       0.054513  ...            0.337747          0.307609   \n",
       "std        0.227030  ...            0.472950          0.461511   \n",
       "min        0.000000  ...            0.000000          0.000000   \n",
       "25%        0.000000  ...            0.000000          0.000000   \n",
       "50%        0.000000  ...            0.000000          0.000000   \n",
       "75%        0.000000  ...            1.000000          1.000000   \n",
       "max        1.000000  ...            1.000000          1.000000   \n",
       "\n",
       "       job_cat_Calificación Media-Baja  job_cat_Calificación Media-Alta  \\\n",
       "count                     30360.000000                     30360.000000   \n",
       "mean                          0.359552                         0.569796   \n",
       "std                           0.479877                         0.495113   \n",
       "min                           0.000000                         0.000000   \n",
       "25%                           0.000000                         0.000000   \n",
       "50%                           0.000000                         1.000000   \n",
       "75%                           1.000000                         1.000000   \n",
       "max                           1.000000                         1.000000   \n",
       "\n",
       "       edu_cat_Secundario Com  edu_cat_Universitario Com  day_of_week_2  \\\n",
       "count            30360.000000               30360.000000   30360.000000   \n",
       "mean                 0.357411                   0.333037       0.199045   \n",
       "std                  0.479245                   0.471307       0.399288   \n",
       "min                  0.000000                   0.000000       0.000000   \n",
       "25%                  0.000000                   0.000000       0.000000   \n",
       "50%                  0.000000                   0.000000       0.000000   \n",
       "75%                  1.000000                   1.000000       0.000000   \n",
       "max                  1.000000                   1.000000       1.000000   \n",
       "\n",
       "       day_of_week_3  day_of_week_4  day_of_week_5  \n",
       "count   30360.000000   30360.000000   30360.000000  \n",
       "mean        0.197760       0.204974       0.186397  \n",
       "std         0.398317       0.403689       0.389433  \n",
       "min         0.000000       0.000000       0.000000  \n",
       "25%         0.000000       0.000000       0.000000  \n",
       "50%         0.000000       0.000000       0.000000  \n",
       "75%         0.000000       0.000000       0.000000  \n",
       "max         1.000000       1.000000       1.000000  \n",
       "\n",
       "[8 rows x 22 columns]"
      ]
     },
     "execution_count": 95,
     "metadata": {},
     "output_type": "execute_result"
    }
   ],
   "source": [
    "data_0.drop(variables_a_dropear, axis = 1).describe()"
   ]
  },
  {
   "cell_type": "code",
   "execution_count": 96,
   "id": "554aa790",
   "metadata": {},
   "outputs": [],
   "source": [
    "# Descartamos las variables que no vamos a usar para el ejercicio de entrenamiento\n",
    "\n",
    "base_entrenamiento = data_0.drop(variables_a_dropear, axis = 1)"
   ]
  },
  {
   "cell_type": "code",
   "execution_count": 97,
   "id": "db632fc5",
   "metadata": {},
   "outputs": [],
   "source": [
    "# Exportamos la base para entrenamiento\n",
    "\n",
    "#base_entrenamiento.to_csv('base_entrenamiento.csv', index = False)"
   ]
  },
  {
   "cell_type": "code",
   "execution_count": null,
   "id": "edea2263",
   "metadata": {},
   "outputs": [],
   "source": []
  }
 ],
 "metadata": {
  "kernelspec": {
   "display_name": "Python 3",
   "language": "python",
   "name": "python3"
  },
  "language_info": {
   "codemirror_mode": {
    "name": "ipython",
    "version": 3
   },
   "file_extension": ".py",
   "mimetype": "text/x-python",
   "name": "python",
   "nbconvert_exporter": "python",
   "pygments_lexer": "ipython3",
   "version": "3.8.11"
  }
 },
 "nbformat": 4,
 "nbformat_minor": 5
}
