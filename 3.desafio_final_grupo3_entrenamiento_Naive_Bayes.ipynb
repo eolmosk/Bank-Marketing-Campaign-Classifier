{
 "cells": [
  {
   "cell_type": "markdown",
   "id": "0ac9a368",
   "metadata": {},
   "source": [
    "---\n",
    "<img src = '../logo_dh_grupo3.png'>"
   ]
  },
  {
   "cell_type": "markdown",
   "id": "16cf8284",
   "metadata": {},
   "source": [
    "# <h1><left><ins>Entrenamiento y Evaluación de modelos"
   ]
  },
  {
   "cell_type": "markdown",
   "id": "b151374a",
   "metadata": {},
   "source": [
    "## Importación de librerías y bases de datos"
   ]
  },
  {
   "cell_type": "code",
   "execution_count": 1,
   "id": "818cab66",
   "metadata": {},
   "outputs": [
    {
     "name": "stdout",
     "output_type": "stream",
     "text": [
      "Requirement already satisfied: imblearn in c:\\users\\nano\\anaconda3\\envs\\dhdsblend2021\\lib\\site-packages (0.0)\n",
      "Requirement already satisfied: imbalanced-learn in c:\\users\\nano\\anaconda3\\envs\\dhdsblend2021\\lib\\site-packages (from imblearn) (0.7.0)\n",
      "Requirement already satisfied: scikit-learn>=0.23 in c:\\users\\nano\\anaconda3\\envs\\dhdsblend2021\\lib\\site-packages (from imbalanced-learn->imblearn) (0.23.2)\n",
      "Requirement already satisfied: scipy>=0.19.1 in c:\\users\\nano\\anaconda3\\envs\\dhdsblend2021\\lib\\site-packages (from imbalanced-learn->imblearn) (1.5.2)\n",
      "Requirement already satisfied: joblib>=0.11 in c:\\users\\nano\\anaconda3\\envs\\dhdsblend2021\\lib\\site-packages (from imbalanced-learn->imblearn) (1.0.1)\n",
      "Requirement already satisfied: numpy>=1.13.3 in c:\\users\\nano\\anaconda3\\envs\\dhdsblend2021\\lib\\site-packages (from imbalanced-learn->imblearn) (1.19.2)\n",
      "Requirement already satisfied: threadpoolctl>=2.0.0 in c:\\users\\nano\\anaconda3\\envs\\dhdsblend2021\\lib\\site-packages (from scikit-learn>=0.23->imbalanced-learn->imblearn) (2.1.0)\n",
      "Note: you may need to restart the kernel to use updated packages.\n"
     ]
    }
   ],
   "source": [
    "pip install imblearn"
   ]
  },
  {
   "cell_type": "code",
   "execution_count": 2,
   "id": "6af35456",
   "metadata": {},
   "outputs": [],
   "source": [
    "# Importamos las librerias relevantes\n",
    "import imblearn\n",
    "import pandas as pd\n",
    "import numpy as np\n",
    "import seaborn as sns\n",
    "import matplotlib.pyplot as plt\n",
    "import sklearn "
   ]
  },
  {
   "cell_type": "code",
   "execution_count": 3,
   "id": "dc0737ab",
   "metadata": {},
   "outputs": [],
   "source": [
    "import warnings\n",
    "warnings.filterwarnings('ignore')"
   ]
  },
  {
   "cell_type": "code",
   "execution_count": 4,
   "id": "81d31202",
   "metadata": {},
   "outputs": [],
   "source": [
    "# Importamos las bases de datos\n",
    "\n",
    "data_0 = pd.read_csv(\"base_entrenamiento.csv\")"
   ]
  },
  {
   "cell_type": "code",
   "execution_count": 5,
   "id": "1017f4e9",
   "metadata": {},
   "outputs": [
    {
     "data": {
      "text/plain": [
       "(30360, 22)"
      ]
     },
     "execution_count": 5,
     "metadata": {},
     "output_type": "execute_result"
    }
   ],
   "source": [
    "# Cantidad de filas y columnas\n",
    "\n",
    "data_0.shape"
   ]
  },
  {
   "cell_type": "markdown",
   "id": "9c46231b",
   "metadata": {},
   "source": [
    "La base de datos tiene 30,360 observaciones de 21 columnas."
   ]
  },
  {
   "cell_type": "code",
   "execution_count": 6,
   "id": "a0b565ef",
   "metadata": {},
   "outputs": [
    {
     "name": "stdout",
     "output_type": "stream",
     "text": [
      "<class 'pandas.core.frame.DataFrame'>\n",
      "RangeIndex: 30360 entries, 0 to 30359\n",
      "Data columns (total 22 columns):\n",
      " #   Column                Non-Null Count  Dtype  \n",
      "---  ------                --------------  -----  \n",
      " 0   housing               30360 non-null  int64  \n",
      " 1   loan                  30360 non-null  int64  \n",
      " 2   contact               30360 non-null  int64  \n",
      " 3   campaign              30360 non-null  int64  \n",
      " 4   emp.var.rate          30360 non-null  float64\n",
      " 5   cons.price.idx        30360 non-null  float64\n",
      " 6   cons.conf.idx         30360 non-null  float64\n",
      " 7   euribor3m             30360 non-null  float64\n",
      " 8   nr.employed           30360 non-null  float64\n",
      " 9   y                     30360 non-null  int64  \n",
      " 10  married               30360 non-null  int64  \n",
      " 11  month_cat             30360 non-null  int64  \n",
      " 12  age_cat_(34.0, 44.0]  30360 non-null  int64  \n",
      " 13  age_cat_(44.0, 69.0]  30360 non-null  int64  \n",
      " 14  job_cat_1             30360 non-null  int64  \n",
      " 15  job_cat_2             30360 non-null  int64  \n",
      " 16  education_cat_1       30360 non-null  int64  \n",
      " 17  education_cat_2       30360 non-null  int64  \n",
      " 18  day_of_week_2         30360 non-null  int64  \n",
      " 19  day_of_week_3         30360 non-null  int64  \n",
      " 20  day_of_week_4         30360 non-null  int64  \n",
      " 21  day_of_week_5         30360 non-null  int64  \n",
      "dtypes: float64(5), int64(17)\n",
      "memory usage: 5.1 MB\n"
     ]
    }
   ],
   "source": [
    "# Nombre y tipo de columnas, ademas de cantidad de filas no nulas\n",
    "\n",
    "data_0.info()"
   ]
  },
  {
   "cell_type": "markdown",
   "id": "6d5bcb1f",
   "metadata": {},
   "source": [
    "Hay 10 variables numéricas y 11 categóricas."
   ]
  },
  {
   "cell_type": "code",
   "execution_count": 7,
   "id": "ca0c9249",
   "metadata": {},
   "outputs": [],
   "source": [
    "# Separamos la variable target (y)\n",
    "X = data_0.drop('y', axis = 1)\n",
    "\n",
    "y = data_0['y']"
   ]
  },
  {
   "cell_type": "code",
   "execution_count": 8,
   "id": "6d3e410f",
   "metadata": {},
   "outputs": [],
   "source": [
    "# Separamos el dataset en Train y Test:\n",
    "\n",
    "from sklearn.model_selection import train_test_split\n",
    "\n",
    "X_train, X_test, y_train, y_test = train_test_split(X, y,test_size = 0.30,\n",
    "                                                   random_state = 42,\n",
    "                                                   stratify = y)"
   ]
  },
  {
   "cell_type": "code",
   "execution_count": 9,
   "id": "96ca88e2",
   "metadata": {},
   "outputs": [],
   "source": [
    "\n",
    "from sklearn.preprocessing import StandardScaler\n",
    "\n",
    "sd = StandardScaler()"
   ]
  },
  {
   "cell_type": "code",
   "execution_count": 10,
   "id": "d7031509",
   "metadata": {},
   "outputs": [],
   "source": [
    "# Estandarizamos las variables continuas:\n",
    "variables_continuas = ['campaign', 'emp.var.rate', 'cons.price.idx', 'cons.conf.idx', 'euribor3m',\n",
    "                       'nr.employed']\n",
    "\n",
    "X_train[variables_continuas] = sd.fit_transform(X_train[variables_continuas])"
   ]
  },
  {
   "cell_type": "code",
   "execution_count": 11,
   "id": "03951b16",
   "metadata": {},
   "outputs": [],
   "source": [
    "# Transformamos las variables continuas en x_test con la estandarizacion aprendida en el paso anterior (con los datos de entrenamiento)\n",
    "X_test[variables_continuas] = sd.transform(X_test[variables_continuas])"
   ]
  },
  {
   "cell_type": "code",
   "execution_count": 12,
   "id": "4349209f",
   "metadata": {},
   "outputs": [],
   "source": [
    "# Atendemos el problema del desbalanceo de clases con random oversampler:\n",
    "\n",
    "from imblearn.over_sampling import RandomOverSampler\n",
    "\n",
    "ros = RandomOverSampler(sampling_strategy = 'minority')\n",
    "\n",
    "X_train_os, y_train_os = ros.fit_resample(X_train, y_train)"
   ]
  },
  {
   "cell_type": "markdown",
   "id": "47a1d345",
   "metadata": {},
   "source": [
    "# Naive Bayes"
   ]
  },
  {
   "cell_type": "code",
   "execution_count": 13,
   "id": "04292d49",
   "metadata": {},
   "outputs": [],
   "source": [
    "from sklearn.naive_bayes import GaussianNB\n",
    "from sklearn.metrics import confusion_matrix, accuracy_score, precision_score, recall_score, f1_score, roc_curve, roc_auc_score, auc, classification_report"
   ]
  },
  {
   "cell_type": "code",
   "execution_count": 14,
   "id": "9f281cee",
   "metadata": {},
   "outputs": [
    {
     "data": {
      "text/plain": [
       "GaussianNB()"
      ]
     },
     "execution_count": 14,
     "metadata": {},
     "output_type": "execute_result"
    }
   ],
   "source": [
    "gnb = GaussianNB()\n",
    "gnb.fit(X_train_os, y_train_os)"
   ]
  },
  {
   "cell_type": "code",
   "execution_count": 15,
   "id": "6a4255bd",
   "metadata": {},
   "outputs": [],
   "source": [
    "yNB_pred = gnb.predict(X_test)"
   ]
  },
  {
   "cell_type": "code",
   "execution_count": 16,
   "id": "e79d885a",
   "metadata": {},
   "outputs": [
    {
     "name": "stdout",
     "output_type": "stream",
     "text": [
      "Recall (Verdaderos Positivos sobre Positivos Totales):  0.7707161698103817\n",
      "Precisión (Verdaderos Positivos sobre Predicciones Positivas Totales):  0.7903843209309447\n",
      "Specificity (Verdaderos Negativos sobre Negativos Totales):  0.7956004578709003\n",
      "F1 Score:  0.780426346822557\n"
     ]
    },
    {
     "data": {
      "text/plain": [
       "array([[15986,  4107],\n",
       "       [ 4607, 15486]], dtype=int64)"
      ]
     },
     "execution_count": 16,
     "metadata": {},
     "output_type": "execute_result"
    }
   ],
   "source": [
    "# Metricas de entrenamiento\n",
    "round(accuracy_score(y_train_os, gnb.predict(X_train_os)), 2)\n",
    "conf_mat_pred = confusion_matrix(y_train_os, gnb.predict(X_train_os))\n",
    "TPBNp = conf_mat_pred[1,1]\n",
    "TNBNp = conf_mat_pred[0,0]\n",
    "FPBNp = conf_mat_pred[0,1]\n",
    "FNBNp = conf_mat_pred[1,0]\n",
    "print('Recall (Verdaderos Positivos sobre Positivos Totales): ', recall_score(y_train_os, gnb.predict(X_train_os)))\n",
    "print('Precisión (Verdaderos Positivos sobre Predicciones Positivas Totales): ', precision_score(y_train_os, gnb.predict(X_train_os)))\n",
    "print('Specificity (Verdaderos Negativos sobre Negativos Totales): ', TNBNp / (TNBNp + FPBNp))\n",
    "print('F1 Score: ', f1_score(y_train_os, gnb.predict(X_train_os)))\n",
    "conf_mat_pred"
   ]
  },
  {
   "cell_type": "code",
   "execution_count": 17,
   "id": "0a2ba33d",
   "metadata": {},
   "outputs": [
    {
     "name": "stdout",
     "output_type": "stream",
     "text": [
      "Recall (Verdaderos Positivos sobre Positivos Totales):  0.7318548387096774\n",
      "Precisión (Verdaderos Positivos sobre Predicciones Positivas Totales):  0.16154873164218958\n",
      "Specificity (Verdaderos Negativos sobre Negativos Totales):  0.7812354853692522\n",
      "F1 Score:  0.2646737149106817\n"
     ]
    },
    {
     "data": {
      "text/plain": [
       "array([[6728, 1884],\n",
       "       [ 133,  363]], dtype=int64)"
      ]
     },
     "execution_count": 17,
     "metadata": {},
     "output_type": "execute_result"
    }
   ],
   "source": [
    "# Metricas de testeo\n",
    "round(accuracy_score(y_test, yNB_pred), 2)\n",
    "conf_mat = confusion_matrix(y_test, yNB_pred)\n",
    "TPBN = conf_mat[1,1]\n",
    "TNBN = conf_mat[0,0]\n",
    "FPBN = conf_mat[0,1]\n",
    "FNBN = conf_mat[1,0]\n",
    "print('Recall (Verdaderos Positivos sobre Positivos Totales): ', recall_score(y_test, yNB_pred))\n",
    "print('Precisión (Verdaderos Positivos sobre Predicciones Positivas Totales): ', precision_score(y_test, yNB_pred))\n",
    "print('Specificity (Verdaderos Negativos sobre Negativos Totales): ', TNBN / (TNBN + FPBN))\n",
    "print('F1 Score: ', f1_score(y_test, yNB_pred))\n",
    "conf_mat"
   ]
  },
  {
   "cell_type": "code",
   "execution_count": 18,
   "id": "ebb6494e",
   "metadata": {},
   "outputs": [
    {
     "name": "stdout",
     "output_type": "stream",
     "text": [
      "              precision    recall  f1-score   support\n",
      "\n",
      "           0       0.98      0.78      0.87      8612\n",
      "           1       0.16      0.73      0.26       496\n",
      "\n",
      "    accuracy                           0.78      9108\n",
      "   macro avg       0.57      0.76      0.57      9108\n",
      "weighted avg       0.94      0.78      0.84      9108\n",
      "\n"
     ]
    }
   ],
   "source": [
    "print(classification_report(y_test, yNB_pred))"
   ]
  },
  {
   "cell_type": "markdown",
   "id": "9515a947",
   "metadata": {},
   "source": [
    "Observamos que el modelo detecta un 73 % de los casos de éxitos, pero a expensas de aplicar muchísimos llamados telefónicos innecesarios a clientes que no terminarán concretando el plazo fijo: Apenas el 16% de los llamados derivará en la concreción de un plazo fijo. Vamos a probar fijando un umbral más exigente, buscando que el modelo reduzca los falsos positivos."
   ]
  },
  {
   "cell_type": "code",
   "execution_count": 19,
   "id": "9b2da54f",
   "metadata": {},
   "outputs": [],
   "source": [
    "# Comparamos con otro threshold\n",
    "\n",
    "gnb_y_pred_prob = gnb.predict_proba(X_test)[:,1]\n",
    "\n",
    "threshold = 0.80 #5% es el porcentaje de individuos con acv en la muestra\n",
    "\n",
    "GNB_y_pred_80 = (gnb_y_pred_prob >= threshold).astype(int)"
   ]
  },
  {
   "cell_type": "code",
   "execution_count": 20,
   "id": "786ee6a5",
   "metadata": {},
   "outputs": [
    {
     "name": "stdout",
     "output_type": "stream",
     "text": [
      "Recall (Verdaderos Positivos sobre Positivos Totales):  0.7318548387096774\n",
      "Precisión (Verdaderos Positivos sobre Predicciones Positivas Totales):  0.16154873164218958\n",
      "Specificity (Verdaderos Negativos sobre Negativos Totales):  0.7840222944728286\n",
      "F1 Score:  0.26700993012136814\n"
     ]
    },
    {
     "data": {
      "text/plain": [
       "array([[6752, 1860],\n",
       "       [ 133,  363]], dtype=int64)"
      ]
     },
     "execution_count": 20,
     "metadata": {},
     "output_type": "execute_result"
    }
   ],
   "source": [
    "# Metricas de testeo con threshold 80\n",
    "round(accuracy_score(y_test, GNB_y_pred_80), 2)\n",
    "conf_mat = confusion_matrix(y_test, GNB_y_pred_80)\n",
    "TPBN = conf_mat[1,1]\n",
    "TNBN = conf_mat[0,0]\n",
    "FPBN = conf_mat[0,1]\n",
    "FNBN = conf_mat[1,0]\n",
    "print('Recall (Verdaderos Positivos sobre Positivos Totales): ', recall_score(y_test, yNB_pred))\n",
    "print('Precisión (Verdaderos Positivos sobre Predicciones Positivas Totales): ', precision_score(y_test, yNB_pred))\n",
    "print('Specificity (Verdaderos Negativos sobre Negativos Totales): ', TNBN / (TNBN + FPBN))\n",
    "print('F1 Score: ', f1_score(y_test, GNB_y_pred_80))\n",
    "conf_mat"
   ]
  },
  {
   "cell_type": "code",
   "execution_count": 21,
   "id": "1aeea7b4",
   "metadata": {},
   "outputs": [
    {
     "name": "stdout",
     "output_type": "stream",
     "text": [
      "              precision    recall  f1-score   support\n",
      "\n",
      "           0       0.98      0.78      0.87      8612\n",
      "           1       0.16      0.73      0.27       496\n",
      "\n",
      "    accuracy                           0.78      9108\n",
      "   macro avg       0.57      0.76      0.57      9108\n",
      "weighted avg       0.94      0.78      0.84      9108\n",
      "\n"
     ]
    }
   ],
   "source": [
    "print(classification_report(y_test, GNB_y_pred_80))"
   ]
  },
  {
   "cell_type": "markdown",
   "id": "3780d3a7",
   "metadata": {},
   "source": [
    "Aún aumentando el umbral, la performance del modelo se mantiene en niveles similares, sin reducir la cantidad de falsos positivos. Teniendo en cuenta que este es un modelo baseline. Puede servir como punto de partida, pero avanzaremos con otros modelos más sofisticados para buscar detectar la mayor cantidad posible de casos de éxito minimizando al mismo tiempo los falsos positivos (llamadas que no terminarán concretando un plazo fijo)."
   ]
  },
  {
   "cell_type": "code",
   "execution_count": 22,
   "id": "4fa8310d",
   "metadata": {},
   "outputs": [
    {
     "data": {
      "image/png": "[encoded data removed]",
      "text/plain": [
       "<Figure size 432x288 with 1 Axes>"
      ]
     },
     "metadata": {
      "needs_background": "light"
     },
     "output_type": "display_data"
    }
   ],
   "source": [
    "fpr_NB, tpr_NB, thr_NB = roc_curve(y_test, gnb_y_pred_prob)\n",
    "plt.axis([0, 1.01, 0, 1.01])\n",
    "plt.xlabel('1 - Specificty')\n",
    "plt.ylabel('TPR / Sensitivity')\n",
    "plt.title('ROC Curve')\n",
    "plt.plot(fpr_NB, tpr_NB)\n",
    "plt.plot(np.arange(0,1, step =0.01), np.arange(0,1, step =0.01))\n",
    "plt.show()"
   ]
  },
  {
   "cell_type": "code",
   "execution_count": 23,
   "id": "c844384d",
   "metadata": {},
   "outputs": [],
   "source": [
    "import shelve\n",
    "\n",
    "# Creamos un shelve para guardar X_train_os, Y_train_os, X_test, y_test para poder utilizarlos en la notebook 4 (modelos).\n",
    "\n",
    "shelf = shelve.open(\"NB_bank\");\n",
    "\n",
    "shelf[\"Naive_Bayes\"] = gnb\n",
    "\n",
    "shelf.close();"
   ]
  },
  {
   "cell_type": "code",
   "execution_count": null,
   "id": "0e2856c5",
   "metadata": {},
   "outputs": [],
   "source": []
  }
 ],
 "metadata": {
  "kernelspec": {
   "display_name": "Python 3",
   "language": "python",
   "name": "python3"
  },
  "language_info": {
   "codemirror_mode": {
    "name": "ipython",
    "version": 3
   },
   "file_extension": ".py",
   "mimetype": "text/x-python",
   "name": "python",
   "nbconvert_exporter": "python",
   "pygments_lexer": "ipython3",
   "version": "3.8.8"
  }
 },
 "nbformat": 4,
 "nbformat_minor": 5
}
