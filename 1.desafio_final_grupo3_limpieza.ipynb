{
 "cells": [
  {
   "cell_type": "markdown",
   "id": "9f2d80ed",
   "metadata": {},
   "source": [
    "---\n",
    "<img src = '../../../../logo_dh_grupo3.png'>"
   ]
  },
  {
   "cell_type": "markdown",
   "id": "101d88b9",
   "metadata": {},
   "source": [
    "# <h1><left><ins>Exploración y Limpieza de Datos</ins></left></h1>"
   ]
  },
  {
   "cell_type": "markdown",
   "id": "779dae5f",
   "metadata": {},
   "source": [
    "## Importación de librerías y bases de datos"
   ]
  },
  {
   "cell_type": "code",
   "execution_count": 1,
   "id": "3fdc4122",
   "metadata": {},
   "outputs": [],
   "source": [
    "# Importamos las librerias relevantes\n",
    "\n",
    "import pandas as pd\n",
    "import numpy as np\n",
    "import seaborn as sns"
   ]
  },
  {
   "cell_type": "code",
   "execution_count": 2,
   "id": "c00e37f9",
   "metadata": {},
   "outputs": [],
   "source": [
    "# Importamos las bases de datos\n",
    "\n",
    "data_0 = pd.read_csv(\"bank-additional-full.csv\", \n",
    "                           sep = \";\")"
   ]
  },
  {
   "cell_type": "markdown",
   "id": "c5cea473",
   "metadata": {},
   "source": [
    "## Inspección general de la base data_0"
   ]
  },
  {
   "cell_type": "code",
   "execution_count": 3,
   "id": "60d4eec8",
   "metadata": {},
   "outputs": [
    {
     "data": {
      "text/plain": [
       "(41188, 21)"
      ]
     },
     "execution_count": 3,
     "metadata": {},
     "output_type": "execute_result"
    }
   ],
   "source": [
    "# Cantidad de filas y columnas\n",
    "\n",
    "data_0.shape"
   ]
  },
  {
   "cell_type": "markdown",
   "id": "39d3fed0",
   "metadata": {},
   "source": [
    "La base de datos tiene 41.188 observaciones de 21 columnas."
   ]
  },
  {
   "cell_type": "code",
   "execution_count": 4,
   "id": "9a1a8288",
   "metadata": {},
   "outputs": [
    {
     "name": "stdout",
     "output_type": "stream",
     "text": [
      "<class 'pandas.core.frame.DataFrame'>\n",
      "RangeIndex: 41188 entries, 0 to 41187\n",
      "Data columns (total 21 columns):\n",
      " #   Column          Non-Null Count  Dtype  \n",
      "---  ------          --------------  -----  \n",
      " 0   age             41188 non-null  int64  \n",
      " 1   job             41188 non-null  object \n",
      " 2   marital         41188 non-null  object \n",
      " 3   education       41188 non-null  object \n",
      " 4   default         41188 non-null  object \n",
      " 5   housing         41188 non-null  object \n",
      " 6   loan            41188 non-null  object \n",
      " 7   contact         41188 non-null  object \n",
      " 8   month           41188 non-null  object \n",
      " 9   day_of_week     41188 non-null  object \n",
      " 10  duration        41188 non-null  int64  \n",
      " 11  campaign        41188 non-null  int64  \n",
      " 12  pdays           41188 non-null  int64  \n",
      " 13  previous        41188 non-null  int64  \n",
      " 14  poutcome        41188 non-null  object \n",
      " 15  emp.var.rate    41188 non-null  float64\n",
      " 16  cons.price.idx  41188 non-null  float64\n",
      " 17  cons.conf.idx   41188 non-null  float64\n",
      " 18  euribor3m       41188 non-null  float64\n",
      " 19  nr.employed     41188 non-null  float64\n",
      " 20  y               41188 non-null  object \n",
      "dtypes: float64(5), int64(5), object(11)\n",
      "memory usage: 6.6+ MB\n"
     ]
    }
   ],
   "source": [
    "# Nombre y tipo de columnas, ademas de cantidad de filas no nulas\n",
    "\n",
    "data_0.info()"
   ]
  },
  {
   "cell_type": "markdown",
   "id": "dd14b374",
   "metadata": {},
   "source": [
    "Hay 10 variables numéricas y 11 categóricas."
   ]
  },
  {
   "cell_type": "markdown",
   "id": "bfa5e367",
   "metadata": {},
   "source": [
    "Inspeccionamos las variables numéricas:"
   ]
  },
  {
   "cell_type": "code",
   "execution_count": 5,
   "id": "30dc8a17",
   "metadata": {},
   "outputs": [
    {
     "data": {
      "text/html": [
       "<div>\n",
       "<style scoped>\n",
       "    .dataframe tbody tr th:only-of-type {\n",
       "        vertical-align: middle;\n",
       "    }\n",
       "\n",
       "    .dataframe tbody tr th {\n",
       "        vertical-align: top;\n",
       "    }\n",
       "\n",
       "    .dataframe thead th {\n",
       "        text-align: right;\n",
       "    }\n",
       "</style>\n",
       "<table border=\"1\" class=\"dataframe\">\n",
       "  <thead>\n",
       "    <tr style=\"text-align: right;\">\n",
       "      <th></th>\n",
       "      <th>age</th>\n",
       "      <th>duration</th>\n",
       "      <th>campaign</th>\n",
       "      <th>pdays</th>\n",
       "      <th>previous</th>\n",
       "      <th>emp.var.rate</th>\n",
       "      <th>cons.price.idx</th>\n",
       "      <th>cons.conf.idx</th>\n",
       "      <th>euribor3m</th>\n",
       "      <th>nr.employed</th>\n",
       "    </tr>\n",
       "  </thead>\n",
       "  <tbody>\n",
       "    <tr>\n",
       "      <th>count</th>\n",
       "      <td>41188.00000</td>\n",
       "      <td>41188.000000</td>\n",
       "      <td>41188.000000</td>\n",
       "      <td>41188.000000</td>\n",
       "      <td>41188.000000</td>\n",
       "      <td>41188.000000</td>\n",
       "      <td>41188.000000</td>\n",
       "      <td>41188.000000</td>\n",
       "      <td>41188.000000</td>\n",
       "      <td>41188.000000</td>\n",
       "    </tr>\n",
       "    <tr>\n",
       "      <th>mean</th>\n",
       "      <td>40.02406</td>\n",
       "      <td>258.285010</td>\n",
       "      <td>2.567593</td>\n",
       "      <td>962.475454</td>\n",
       "      <td>0.172963</td>\n",
       "      <td>0.081886</td>\n",
       "      <td>93.575664</td>\n",
       "      <td>-40.502600</td>\n",
       "      <td>3.621291</td>\n",
       "      <td>5167.035911</td>\n",
       "    </tr>\n",
       "    <tr>\n",
       "      <th>std</th>\n",
       "      <td>10.42125</td>\n",
       "      <td>259.279249</td>\n",
       "      <td>2.770014</td>\n",
       "      <td>186.910907</td>\n",
       "      <td>0.494901</td>\n",
       "      <td>1.570960</td>\n",
       "      <td>0.578840</td>\n",
       "      <td>4.628198</td>\n",
       "      <td>1.734447</td>\n",
       "      <td>72.251528</td>\n",
       "    </tr>\n",
       "    <tr>\n",
       "      <th>min</th>\n",
       "      <td>17.00000</td>\n",
       "      <td>0.000000</td>\n",
       "      <td>1.000000</td>\n",
       "      <td>0.000000</td>\n",
       "      <td>0.000000</td>\n",
       "      <td>-3.400000</td>\n",
       "      <td>92.201000</td>\n",
       "      <td>-50.800000</td>\n",
       "      <td>0.634000</td>\n",
       "      <td>4963.600000</td>\n",
       "    </tr>\n",
       "    <tr>\n",
       "      <th>25%</th>\n",
       "      <td>32.00000</td>\n",
       "      <td>102.000000</td>\n",
       "      <td>1.000000</td>\n",
       "      <td>999.000000</td>\n",
       "      <td>0.000000</td>\n",
       "      <td>-1.800000</td>\n",
       "      <td>93.075000</td>\n",
       "      <td>-42.700000</td>\n",
       "      <td>1.344000</td>\n",
       "      <td>5099.100000</td>\n",
       "    </tr>\n",
       "    <tr>\n",
       "      <th>50%</th>\n",
       "      <td>38.00000</td>\n",
       "      <td>180.000000</td>\n",
       "      <td>2.000000</td>\n",
       "      <td>999.000000</td>\n",
       "      <td>0.000000</td>\n",
       "      <td>1.100000</td>\n",
       "      <td>93.749000</td>\n",
       "      <td>-41.800000</td>\n",
       "      <td>4.857000</td>\n",
       "      <td>5191.000000</td>\n",
       "    </tr>\n",
       "    <tr>\n",
       "      <th>75%</th>\n",
       "      <td>47.00000</td>\n",
       "      <td>319.000000</td>\n",
       "      <td>3.000000</td>\n",
       "      <td>999.000000</td>\n",
       "      <td>0.000000</td>\n",
       "      <td>1.400000</td>\n",
       "      <td>93.994000</td>\n",
       "      <td>-36.400000</td>\n",
       "      <td>4.961000</td>\n",
       "      <td>5228.100000</td>\n",
       "    </tr>\n",
       "    <tr>\n",
       "      <th>max</th>\n",
       "      <td>98.00000</td>\n",
       "      <td>4918.000000</td>\n",
       "      <td>56.000000</td>\n",
       "      <td>999.000000</td>\n",
       "      <td>7.000000</td>\n",
       "      <td>1.400000</td>\n",
       "      <td>94.767000</td>\n",
       "      <td>-26.900000</td>\n",
       "      <td>5.045000</td>\n",
       "      <td>5228.100000</td>\n",
       "    </tr>\n",
       "  </tbody>\n",
       "</table>\n",
       "</div>"
      ],
      "text/plain": [
       "               age      duration      campaign         pdays      previous  \\\n",
       "count  41188.00000  41188.000000  41188.000000  41188.000000  41188.000000   \n",
       "mean      40.02406    258.285010      2.567593    962.475454      0.172963   \n",
       "std       10.42125    259.279249      2.770014    186.910907      0.494901   \n",
       "min       17.00000      0.000000      1.000000      0.000000      0.000000   \n",
       "25%       32.00000    102.000000      1.000000    999.000000      0.000000   \n",
       "50%       38.00000    180.000000      2.000000    999.000000      0.000000   \n",
       "75%       47.00000    319.000000      3.000000    999.000000      0.000000   \n",
       "max       98.00000   4918.000000     56.000000    999.000000      7.000000   \n",
       "\n",
       "       emp.var.rate  cons.price.idx  cons.conf.idx     euribor3m   nr.employed  \n",
       "count  41188.000000    41188.000000   41188.000000  41188.000000  41188.000000  \n",
       "mean       0.081886       93.575664     -40.502600      3.621291   5167.035911  \n",
       "std        1.570960        0.578840       4.628198      1.734447     72.251528  \n",
       "min       -3.400000       92.201000     -50.800000      0.634000   4963.600000  \n",
       "25%       -1.800000       93.075000     -42.700000      1.344000   5099.100000  \n",
       "50%        1.100000       93.749000     -41.800000      4.857000   5191.000000  \n",
       "75%        1.400000       93.994000     -36.400000      4.961000   5228.100000  \n",
       "max        1.400000       94.767000     -26.900000      5.045000   5228.100000  "
      ]
     },
     "execution_count": 5,
     "metadata": {},
     "output_type": "execute_result"
    }
   ],
   "source": [
    "# Estadisticas descriptivas de variables continuas\n",
    "\n",
    "data_0.describe()"
   ]
  },
  {
   "cell_type": "markdown",
   "id": "9d0917b9",
   "metadata": {},
   "source": [
    "A primera vista, las variables contínuas no presentan missings, tienen igual cantidad de observaciones que filas en la base."
   ]
  },
  {
   "cell_type": "markdown",
   "id": "3f80bc05",
   "metadata": {},
   "source": [
    "Sin embargo, la variable pdays esta definida como cantidad de dias que pasaron entre el ultimo contacto con el cliente aplicaron  el valor 999 para los casos en los que no hubo contacto previo. Debemos convertir ese valor a None para que no distorsione las metricas."
   ]
  },
  {
   "cell_type": "code",
   "execution_count": 6,
   "id": "8ea45cb7",
   "metadata": {},
   "outputs": [],
   "source": [
    "data_0.loc[data_0['pdays'] == 999, 'pdays'] = np.nan"
   ]
  },
  {
   "cell_type": "code",
   "execution_count": 7,
   "id": "151a2cc7",
   "metadata": {},
   "outputs": [
    {
     "data": {
      "text/plain": [
       "count    1515.000000\n",
       "mean        6.014521\n",
       "std         3.824906\n",
       "min         0.000000\n",
       "25%         3.000000\n",
       "50%         6.000000\n",
       "75%         7.000000\n",
       "max        27.000000\n",
       "Name: pdays, dtype: float64"
      ]
     },
     "execution_count": 7,
     "metadata": {},
     "output_type": "execute_result"
    }
   ],
   "source": [
    "data_0['pdays'].describe()"
   ]
  },
  {
   "cell_type": "markdown",
   "id": "7222c6cd",
   "metadata": {},
   "source": [
    "Inspeccionamos las variables categóricas:"
   ]
  },
  {
   "cell_type": "code",
   "execution_count": 8,
   "id": "b5068a2c",
   "metadata": {},
   "outputs": [
    {
     "data": {
      "text/plain": [
       "no     36548\n",
       "yes     4640\n",
       "Name: y, dtype: int64"
      ]
     },
     "execution_count": 8,
     "metadata": {},
     "output_type": "execute_result"
    }
   ],
   "source": [
    "data_0.y.value_counts()"
   ]
  },
  {
   "cell_type": "markdown",
   "id": "84daea75",
   "metadata": {},
   "source": [
    "La variable y, el outcome de interés que indica si el usuario aceptó establecer un plazo fijo, no presenta missings."
   ]
  },
  {
   "cell_type": "code",
   "execution_count": 9,
   "id": "6f648cbb",
   "metadata": {},
   "outputs": [
    {
     "data": {
      "text/plain": [
       "admin.           10422\n",
       "blue-collar       9254\n",
       "technician        6743\n",
       "services          3969\n",
       "management        2924\n",
       "retired           1720\n",
       "entrepreneur      1456\n",
       "self-employed     1421\n",
       "housemaid         1060\n",
       "unemployed        1014\n",
       "student            875\n",
       "unknown            330\n",
       "Name: job, dtype: int64"
      ]
     },
     "execution_count": 9,
     "metadata": {},
     "output_type": "execute_result"
    }
   ],
   "source": [
    "data_0.job.value_counts()"
   ]
  },
  {
   "cell_type": "code",
   "execution_count": 10,
   "id": "78cc0129",
   "metadata": {},
   "outputs": [
    {
     "data": {
      "text/plain": [
       "married     24928\n",
       "single      11568\n",
       "divorced     4612\n",
       "unknown        80\n",
       "Name: marital, dtype: int64"
      ]
     },
     "execution_count": 10,
     "metadata": {},
     "output_type": "execute_result"
    }
   ],
   "source": [
    "data_0.marital.value_counts()"
   ]
  },
  {
   "cell_type": "code",
   "execution_count": 11,
   "id": "049b137f",
   "metadata": {},
   "outputs": [
    {
     "data": {
      "text/plain": [
       "university.degree      12168\n",
       "high.school             9515\n",
       "basic.9y                6045\n",
       "professional.course     5243\n",
       "basic.4y                4176\n",
       "basic.6y                2292\n",
       "unknown                 1731\n",
       "illiterate                18\n",
       "Name: education, dtype: int64"
      ]
     },
     "execution_count": 11,
     "metadata": {},
     "output_type": "execute_result"
    }
   ],
   "source": [
    "data_0.education.value_counts()"
   ]
  },
  {
   "cell_type": "code",
   "execution_count": 12,
   "id": "fe760d0e",
   "metadata": {},
   "outputs": [
    {
     "data": {
      "text/plain": [
       "no         32588\n",
       "unknown     8597\n",
       "yes            3\n",
       "Name: default, dtype: int64"
      ]
     },
     "execution_count": 12,
     "metadata": {},
     "output_type": "execute_result"
    }
   ],
   "source": [
    "data_0.default.value_counts()"
   ]
  },
  {
   "cell_type": "code",
   "execution_count": 13,
   "id": "ef229311",
   "metadata": {},
   "outputs": [
    {
     "data": {
      "text/plain": [
       "yes        21576\n",
       "no         18622\n",
       "unknown      990\n",
       "Name: housing, dtype: int64"
      ]
     },
     "execution_count": 13,
     "metadata": {},
     "output_type": "execute_result"
    }
   ],
   "source": [
    "data_0.housing.value_counts()"
   ]
  },
  {
   "cell_type": "code",
   "execution_count": 14,
   "id": "cf4abdcb",
   "metadata": {},
   "outputs": [
    {
     "data": {
      "text/plain": [
       "no         33950\n",
       "yes         6248\n",
       "unknown      990\n",
       "Name: loan, dtype: int64"
      ]
     },
     "execution_count": 14,
     "metadata": {},
     "output_type": "execute_result"
    }
   ],
   "source": [
    "data_0.loan.value_counts()"
   ]
  },
  {
   "cell_type": "code",
   "execution_count": 15,
   "id": "5b88658f",
   "metadata": {},
   "outputs": [
    {
     "data": {
      "text/plain": [
       "cellular     26144\n",
       "telephone    15044\n",
       "Name: contact, dtype: int64"
      ]
     },
     "execution_count": 15,
     "metadata": {},
     "output_type": "execute_result"
    }
   ],
   "source": [
    "data_0.contact.value_counts()"
   ]
  },
  {
   "cell_type": "code",
   "execution_count": 16,
   "id": "5afaa634",
   "metadata": {},
   "outputs": [
    {
     "data": {
      "text/plain": [
       "may    13769\n",
       "jul     7174\n",
       "aug     6178\n",
       "jun     5318\n",
       "nov     4101\n",
       "apr     2632\n",
       "oct      718\n",
       "sep      570\n",
       "mar      546\n",
       "dec      182\n",
       "Name: month, dtype: int64"
      ]
     },
     "execution_count": 16,
     "metadata": {},
     "output_type": "execute_result"
    }
   ],
   "source": [
    "data_0.month.value_counts()"
   ]
  },
  {
   "cell_type": "code",
   "execution_count": 17,
   "id": "ee721f08",
   "metadata": {},
   "outputs": [
    {
     "data": {
      "text/plain": [
       "thu    8623\n",
       "mon    8514\n",
       "wed    8134\n",
       "tue    8090\n",
       "fri    7827\n",
       "Name: day_of_week, dtype: int64"
      ]
     },
     "execution_count": 17,
     "metadata": {},
     "output_type": "execute_result"
    }
   ],
   "source": [
    "data_0.day_of_week.value_counts()"
   ]
  },
  {
   "cell_type": "code",
   "execution_count": 18,
   "id": "2f8abcf9",
   "metadata": {},
   "outputs": [
    {
     "data": {
      "text/plain": [
       "nonexistent    35563\n",
       "failure         4252\n",
       "success         1373\n",
       "Name: poutcome, dtype: int64"
      ]
     },
     "execution_count": 18,
     "metadata": {},
     "output_type": "execute_result"
    }
   ],
   "source": [
    "data_0.poutcome.value_counts()"
   ]
  },
  {
   "cell_type": "markdown",
   "id": "7c3306a6",
   "metadata": {},
   "source": [
    "## Limpieza de outliers"
   ]
  },
  {
   "cell_type": "code",
   "execution_count": 19,
   "id": "8dd3bdd3",
   "metadata": {},
   "outputs": [],
   "source": [
    "# Creamos una funcion que nos devuelve una mascara con las filas de la base definidas como outliers en funcion de una variable\n",
    "\n",
    "def mask_outlier(data, variable):\n",
    "    \n",
    "    q1 = data[variable].quantile(0.25) #percentil 25\n",
    "    \n",
    "    q3 = data[variable].quantile(0.75) #percentil 75\n",
    "    \n",
    "    iqr = q3 - q1 #rango intercuartilico\n",
    "    \n",
    "    iqr_plus = iqr * 1.5\n",
    "    \n",
    "    up_threshold = q3 + iqr_plus\n",
    "    \n",
    "    low_threshold = q1 - iqr_plus\n",
    "    \n",
    "    mask_outlier_sup = data[variable] > up_threshold\n",
    "    \n",
    "    mask_outlier_inf = data[variable] < low_threshold\n",
    "    \n",
    "    return np.logical_or(mask_outlier_sup, mask_outlier_inf)"
   ]
  },
  {
   "cell_type": "code",
   "execution_count": 20,
   "id": "01a5c6d9",
   "metadata": {},
   "outputs": [
    {
     "data": {
      "text/plain": [
       "['age',\n",
       " 'duration',\n",
       " 'campaign',\n",
       " 'pdays',\n",
       " 'previous',\n",
       " 'emp.var.rate',\n",
       " 'cons.price.idx',\n",
       " 'cons.conf.idx',\n",
       " 'euribor3m',\n",
       " 'nr.employed']"
      ]
     },
     "execution_count": 20,
     "metadata": {},
     "output_type": "execute_result"
    }
   ],
   "source": [
    "'''La idea es crear un booleano en el que se indique con True si en la base\n",
    "original hay al menos una variable continua para la cual la fila de referencia\n",
    "constituye un outlier'''\n",
    "\n",
    "# Creamos lista de variables continuas presentes en la base\n",
    "\n",
    "mask_continuas = np.logical_or(data_0.dtypes == 'int64', \n",
    "                               data_0.dtypes == 'float64')\n",
    "\n",
    "variables_continuas = list(data_0.columns[mask_continuas])\n",
    "variables_continuas"
   ]
  },
  {
   "cell_type": "code",
   "execution_count": 21,
   "id": "2c0a3941",
   "metadata": {},
   "outputs": [
    {
     "data": {
      "text/plain": [
       "['job',\n",
       " 'marital',\n",
       " 'education',\n",
       " 'default',\n",
       " 'housing',\n",
       " 'loan',\n",
       " 'contact',\n",
       " 'month',\n",
       " 'day_of_week',\n",
       " 'poutcome',\n",
       " 'y']"
      ]
     },
     "execution_count": 21,
     "metadata": {},
     "output_type": "execute_result"
    }
   ],
   "source": [
    "# Analogamente para las variables categoricas presentes en la base\n",
    "\n",
    "mask_categoricas = data_0.dtypes == 'object'\n",
    "\n",
    "variables_categoricas = list(data_0.columns[mask_categoricas])\n",
    "variables_categoricas"
   ]
  },
  {
   "cell_type": "code",
   "execution_count": 22,
   "id": "98aadefd",
   "metadata": {},
   "outputs": [
    {
     "data": {
      "text/plain": [
       "(30360, 21)"
      ]
     },
     "execution_count": 22,
     "metadata": {},
     "output_type": "execute_result"
    }
   ],
   "source": [
    "# Creamos una serie tipo booleano de falsos del mismo tamanio que la base original\n",
    "\n",
    "outliers = pd.Series(data = False, \n",
    "                     index = data_0.index)\n",
    "\n",
    "# Creamos nueva base, que sea sin outliers y sobre la que trabajaremos de ahora en mas\n",
    "\n",
    "data_so = data_0.copy()\n",
    "\n",
    "# Iteramos a traves de cada variable continua de la base\n",
    "\n",
    "for v in variables_continuas:\n",
    "    \n",
    "    # mascara que indica con True si la fila es outlier segun variable v\n",
    "    \n",
    "    outliers_var = mask_outlier(data_so, v)\n",
    "    \n",
    "    # actualizamos mascara final donde si la fila es outlier segun v entonces\n",
    "    # se vuelve True\n",
    "    \n",
    "    outliers = np.logical_or(outliers, outliers_var)\n",
    "\n",
    "# Nos quedamos con las filas que no representan outliers para ninguna de las variables continuas\n",
    "\n",
    "data_so = data_so.loc[~outliers]\n",
    "data_so.shape"
   ]
  },
  {
   "cell_type": "markdown",
   "id": "2cf9cddc",
   "metadata": {},
   "source": [
    "La base de datos neta de outliers tiene 30.360 observaciones de 21 columnas."
   ]
  },
  {
   "cell_type": "code",
   "execution_count": 31,
   "id": "ffdb65d3",
   "metadata": {},
   "outputs": [
    {
     "name": "stdout",
     "output_type": "stream",
     "text": [
      "<class 'pandas.core.frame.DataFrame'>\n",
      "Int64Index: 30360 entries, 0 to 41186\n",
      "Data columns (total 21 columns):\n",
      " #   Column          Non-Null Count  Dtype  \n",
      "---  ------          --------------  -----  \n",
      " 0   age             30360 non-null  int64  \n",
      " 1   job             30360 non-null  object \n",
      " 2   marital         30360 non-null  object \n",
      " 3   education       30360 non-null  object \n",
      " 4   default         30360 non-null  object \n",
      " 5   housing         30360 non-null  object \n",
      " 6   loan            30360 non-null  object \n",
      " 7   contact         30360 non-null  object \n",
      " 8   month           30360 non-null  object \n",
      " 9   day_of_week     30360 non-null  object \n",
      " 10  duration        30360 non-null  int64  \n",
      " 11  campaign        30360 non-null  int64  \n",
      " 12  pdays           0 non-null      float64\n",
      " 13  previous        30360 non-null  int64  \n",
      " 14  poutcome        30360 non-null  object \n",
      " 15  emp.var.rate    30360 non-null  float64\n",
      " 16  cons.price.idx  30360 non-null  float64\n",
      " 17  cons.conf.idx   30360 non-null  float64\n",
      " 18  euribor3m       30360 non-null  float64\n",
      " 19  nr.employed     30360 non-null  float64\n",
      " 20  y               30360 non-null  object \n",
      "dtypes: float64(6), int64(4), object(11)\n",
      "memory usage: 5.1+ MB\n"
     ]
    }
   ],
   "source": [
    "data_so.info()"
   ]
  },
  {
   "cell_type": "markdown",
   "id": "5bc4f40c",
   "metadata": {},
   "source": [
    "La variable pdays se queda sin observaciones luego de la limpieza de outliers."
   ]
  },
  {
   "cell_type": "markdown",
   "id": "c6a98727",
   "metadata": {},
   "source": [
    "## Imputación de missings"
   ]
  },
  {
   "cell_type": "code",
   "execution_count": 23,
   "id": "15d8ffc5",
   "metadata": {},
   "outputs": [],
   "source": [
    "# Como las variables continuas no presentan missings, trabajamos solo con las categoricas\n",
    "\n",
    "# Definimos una funcion que nos traiga la categoria mas frecuente de una variable categorica\n",
    "\n",
    "def valor_fill_categorica(data, variable, na_is_cat = False, na_cat_name = ''):\n",
    "    '''\n",
    "    data: nombre de DataFrame.\n",
    "    variable: nombre de columna en data, escrita entre ''.\n",
    "    na_is_cat: booleano que indica si los missings en variable constituyen una categoria en si misma o no.\n",
    "    na_car_name: si na_is_cat es True, nombre de categoria que indica dato missing en variable.\n",
    "    '''\n",
    "    \n",
    "    if na_is_cat==False:\n",
    "        \n",
    "        # Valor de la frecuencia absoluta maxima\n",
    "        \n",
    "        frecuencia_max = data[variable].value_counts().max()\n",
    "        \n",
    "        # Booleano que indica cual categoria es la que presenta la frecuencia absoluta maxima\n",
    "        \n",
    "        mascara_frecuencia_max = data[variable].value_counts() == frecuencia_max\n",
    "        \n",
    "        # Nombre de categoria con frecuencia absoluta maxima\n",
    "        \n",
    "        var_cat_fillna = data[variable].value_counts().index[mascara_frecuencia_max][0]\n",
    "        \n",
    "        return var_cat_fillna\n",
    "    \n",
    "    else:\n",
    "        \n",
    "        # Filas en las que la variable tiene categoria na\n",
    "        \n",
    "        mascara_missings = data[variable] == na_cat_name\n",
    "        \n",
    "        # Valor de la frecuencia absoluta maxima\n",
    "        \n",
    "        frecuencia_max = data.loc[~mascara_missings, variable].value_counts().max()\n",
    "        \n",
    "        # Booleano que indica cual categoria es la que presenta la frecuencia absoluta maxima\n",
    "        \n",
    "        mascara_frecuencia_max = data.loc[~mascara_missings, variable].value_counts() == frecuencia_max\n",
    "        \n",
    "        # Nombre de categoria con frecuencia absoluta maxima\n",
    "        \n",
    "        var_cat_fillna = data.loc[~mascara_missings, variable].value_counts().index[mascara_frecuencia_max][0]\n",
    "        \n",
    "        return var_cat_fillna\n"
   ]
  },
  {
   "cell_type": "code",
   "execution_count": 24,
   "id": "b96e70dc",
   "metadata": {},
   "outputs": [],
   "source": [
    "# Removemos la y del string de categoricas, que ya vimos que no tiene missings\n",
    "\n",
    "variables_categoricas.remove('y')"
   ]
  },
  {
   "cell_type": "code",
   "execution_count": 25,
   "id": "f1c9c9ab",
   "metadata": {},
   "outputs": [
    {
     "data": {
      "text/plain": [
       "['job',\n",
       " 'marital',\n",
       " 'education',\n",
       " 'default',\n",
       " 'housing',\n",
       " 'loan',\n",
       " 'contact',\n",
       " 'month',\n",
       " 'day_of_week',\n",
       " 'poutcome']"
      ]
     },
     "execution_count": 25,
     "metadata": {},
     "output_type": "execute_result"
    }
   ],
   "source": [
    "variables_categoricas"
   ]
  },
  {
   "cell_type": "code",
   "execution_count": 26,
   "id": "e35035f4",
   "metadata": {},
   "outputs": [
    {
     "name": "stdout",
     "output_type": "stream",
     "text": [
      "La categoria mas frecuente de la variable job es: admin.\n",
      "La categoria mas frecuente de la variable marital es: married\n",
      "La categoria mas frecuente de la variable education es: university.degree\n",
      "La categoria mas frecuente de la variable default es: no\n",
      "La categoria mas frecuente de la variable housing es: yes\n",
      "La categoria mas frecuente de la variable loan es: no\n",
      "La categoria mas frecuente de la variable contact es: cellular\n",
      "La categoria mas frecuente de la variable month es: may\n",
      "La categoria mas frecuente de la variable day_of_week es: mon\n",
      "La categoria mas frecuente de la variable poutcome es: nonexistent\n"
     ]
    }
   ],
   "source": [
    "# Vemos como funciona la funcion definida mas arriba\n",
    "\n",
    "for v in variables_categoricas:\n",
    "    \n",
    "    var_cat_fillna = valor_fill_categorica(data_so, v, na_is_cat = True, na_cat_name = 'unknown')\n",
    "    \n",
    "    print(\"La categoria mas frecuente de la variable\", v, \"es:\", var_cat_fillna)"
   ]
  },
  {
   "cell_type": "code",
   "execution_count": 27,
   "id": "7eabf0fa",
   "metadata": {},
   "outputs": [],
   "source": [
    "# Imputamos missings de variables categoricas con la categoria mas frecuente:\n",
    "\n",
    "data_limpia = data_so.copy()\n",
    "\n",
    "for v in variables_categoricas:\n",
    "    \n",
    "    var_cat_fillna = valor_fill_categorica(data_limpia, v, na_is_cat = True, na_cat_name = 'unknown')\n",
    "    \n",
    "    mascara_na = data_limpia[v] == 'unknown'\n",
    "    \n",
    "    data_limpia.loc[mascara_na, v] = var_cat_fillna"
   ]
  },
  {
   "cell_type": "code",
   "execution_count": 28,
   "id": "4a0fb866",
   "metadata": {},
   "outputs": [
    {
     "name": "stdout",
     "output_type": "stream",
     "text": [
      "Tabulacion de categorias de variable job:\n",
      "\n",
      "Original:\n",
      "admin.           7669\n",
      "blue-collar      7146\n",
      "technician       5086\n",
      "services         2966\n",
      "management       2141\n",
      "entrepreneur     1096\n",
      "self-employed    1060\n",
      "retired           911\n",
      "housemaid         804\n",
      "unemployed        727\n",
      "student           507\n",
      "unknown           247\n",
      "Name: job, dtype: int64\n",
      "\n",
      "Luego de limpieza:\n",
      "admin.           7916\n",
      "blue-collar      7146\n",
      "technician       5086\n",
      "services         2966\n",
      "management       2141\n",
      "entrepreneur     1096\n",
      "self-employed    1060\n",
      "retired           911\n",
      "housemaid         804\n",
      "unemployed        727\n",
      "student           507\n",
      "Name: job, dtype: int64\n",
      "\n",
      "Tabulacion de categorias de variable marital:\n",
      "\n",
      "Original:\n",
      "married     18647\n",
      "single       8305\n",
      "divorced     3362\n",
      "unknown        46\n",
      "Name: marital, dtype: int64\n",
      "\n",
      "Luego de limpieza:\n",
      "married     18693\n",
      "single       8305\n",
      "divorced     3362\n",
      "Name: marital, dtype: int64\n",
      "\n",
      "Tabulacion de categorias de variable education:\n",
      "\n",
      "Original:\n",
      "university.degree      8879\n",
      "high.school            6940\n",
      "basic.9y               4604\n",
      "professional.course    3911\n",
      "basic.4y               3047\n",
      "basic.6y               1734\n",
      "unknown                1232\n",
      "illiterate               13\n",
      "Name: education, dtype: int64\n",
      "\n",
      "Luego de limpieza:\n",
      "university.degree      10111\n",
      "high.school             6940\n",
      "basic.9y                4604\n",
      "professional.course     3911\n",
      "basic.4y                3047\n",
      "basic.6y                1734\n",
      "illiterate                13\n",
      "Name: education, dtype: int64\n",
      "\n",
      "Tabulacion de categorias de variable default:\n",
      "\n",
      "Original:\n",
      "no         23494\n",
      "unknown     6864\n",
      "yes            2\n",
      "Name: default, dtype: int64\n",
      "\n",
      "Luego de limpieza:\n",
      "no     30358\n",
      "yes        2\n",
      "Name: default, dtype: int64\n",
      "\n",
      "Tabulacion de categorias de variable housing:\n",
      "\n",
      "Original:\n",
      "yes        15799\n",
      "no         13826\n",
      "unknown      735\n",
      "Name: housing, dtype: int64\n",
      "\n",
      "Luego de limpieza:\n",
      "yes    16534\n",
      "no     13826\n",
      "Name: housing, dtype: int64\n",
      "\n",
      "Tabulacion de categorias de variable loan:\n",
      "\n",
      "Original:\n",
      "no         25026\n",
      "yes         4599\n",
      "unknown      735\n",
      "Name: loan, dtype: int64\n",
      "\n",
      "Luego de limpieza:\n",
      "no     25761\n",
      "yes     4599\n",
      "Name: loan, dtype: int64\n",
      "\n",
      "Tabulacion de categorias de variable contact:\n",
      "\n",
      "Original:\n",
      "cellular     17821\n",
      "telephone    12539\n",
      "Name: contact, dtype: int64\n",
      "\n",
      "Luego de limpieza:\n",
      "cellular     17821\n",
      "telephone    12539\n",
      "Name: contact, dtype: int64\n",
      "\n",
      "Tabulacion de categorias de variable month:\n",
      "\n",
      "Original:\n",
      "may    10368\n",
      "jul     5697\n",
      "aug     4917\n",
      "jun     4230\n",
      "nov     2786\n",
      "apr     1637\n",
      "mar      305\n",
      "sep      227\n",
      "oct      120\n",
      "dec       73\n",
      "Name: month, dtype: int64\n",
      "\n",
      "Luego de limpieza:\n",
      "may    10368\n",
      "jul     5697\n",
      "aug     4917\n",
      "jun     4230\n",
      "nov     2786\n",
      "apr     1637\n",
      "mar      305\n",
      "sep      227\n",
      "oct      120\n",
      "dec       73\n",
      "Name: month, dtype: int64\n",
      "\n",
      "Tabulacion de categorias de variable day_of_week:\n",
      "\n",
      "Original:\n",
      "mon    6431\n",
      "thu    6223\n",
      "tue    6043\n",
      "wed    6004\n",
      "fri    5659\n",
      "Name: day_of_week, dtype: int64\n",
      "\n",
      "Luego de limpieza:\n",
      "mon    6431\n",
      "thu    6223\n",
      "tue    6043\n",
      "wed    6004\n",
      "fri    5659\n",
      "Name: day_of_week, dtype: int64\n",
      "\n",
      "Tabulacion de categorias de variable poutcome:\n",
      "\n",
      "Original:\n",
      "nonexistent    30360\n",
      "Name: poutcome, dtype: int64\n",
      "\n",
      "Luego de limpieza:\n",
      "nonexistent    30360\n",
      "Name: poutcome, dtype: int64\n",
      "\n"
     ]
    }
   ],
   "source": [
    "# Tabulamos las variables categoricas antes y despues de la imputacion para ver el efecto que tuvo la misma\n",
    "\n",
    "for v in variables_categoricas:\n",
    "    \n",
    "   print(f'Tabulacion de categorias de variable {v}:\\n\\n\\\n",
    "Original:\\n{data_so[v].value_counts()}\\n\\n\\\n",
    "Luego de limpieza:\\n{data_limpia[v].value_counts()}\\n')"
   ]
  },
  {
   "cell_type": "code",
   "execution_count": 29,
   "id": "24742b16",
   "metadata": {},
   "outputs": [
    {
     "name": "stdout",
     "output_type": "stream",
     "text": [
      "<class 'pandas.core.frame.DataFrame'>\n",
      "Int64Index: 30360 entries, 0 to 41186\n",
      "Data columns (total 21 columns):\n",
      " #   Column          Non-Null Count  Dtype  \n",
      "---  ------          --------------  -----  \n",
      " 0   age             30360 non-null  int64  \n",
      " 1   job             30360 non-null  object \n",
      " 2   marital         30360 non-null  object \n",
      " 3   education       30360 non-null  object \n",
      " 4   default         30360 non-null  object \n",
      " 5   housing         30360 non-null  object \n",
      " 6   loan            30360 non-null  object \n",
      " 7   contact         30360 non-null  object \n",
      " 8   month           30360 non-null  object \n",
      " 9   day_of_week     30360 non-null  object \n",
      " 10  duration        30360 non-null  int64  \n",
      " 11  campaign        30360 non-null  int64  \n",
      " 12  pdays           0 non-null      float64\n",
      " 13  previous        30360 non-null  int64  \n",
      " 14  poutcome        30360 non-null  object \n",
      " 15  emp.var.rate    30360 non-null  float64\n",
      " 16  cons.price.idx  30360 non-null  float64\n",
      " 17  cons.conf.idx   30360 non-null  float64\n",
      " 18  euribor3m       30360 non-null  float64\n",
      " 19  nr.employed     30360 non-null  float64\n",
      " 20  y               30360 non-null  object \n",
      "dtypes: float64(6), int64(4), object(11)\n",
      "memory usage: 5.1+ MB\n"
     ]
    }
   ],
   "source": [
    "data_limpia.info()"
   ]
  },
  {
   "cell_type": "code",
   "execution_count": 30,
   "id": "22cad090",
   "metadata": {},
   "outputs": [],
   "source": [
    "# Exportamos la base limpia\n",
    "\n",
    "data_limpia.to_csv('bank-additional-full_limpia.csv', index = False)"
   ]
  },
  {
   "cell_type": "code",
   "execution_count": null,
   "id": "e1e3f553",
   "metadata": {},
   "outputs": [],
   "source": []
  }
 ],
 "metadata": {
  "kernelspec": {
   "display_name": "Python 3",
   "language": "python",
   "name": "python3"
  },
  "language_info": {
   "codemirror_mode": {
    "name": "ipython",
    "version": 3
   },
   "file_extension": ".py",
   "mimetype": "text/x-python",
   "name": "python",
   "nbconvert_exporter": "python",
   "pygments_lexer": "ipython3",
   "version": "3.8.8"
  }
 },
 "nbformat": 4,
 "nbformat_minor": 5
}
