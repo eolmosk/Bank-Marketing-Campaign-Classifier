{
 "cells": [
  {
   "cell_type": "markdown",
   "id": "59c9e758",
   "metadata": {},
   "source": [
    "---\n",
    "<img src = 'logo_dh_grupo3.png'>"
   ]
  },
  {
   "cell_type": "markdown",
   "id": "c3e8bb02",
   "metadata": {},
   "source": [
    "# <h2><left><ins>Exploración y Entranamiento de modelos basados en arboles y ensambles (bagging y boosting)</ins></left></h2>\n",
    "    \n",
    "   "
   ]
  },
  {
   "cell_type": "markdown",
   "id": "1cdaef5d",
   "metadata": {},
   "source": [
    "### Introduccion."
   ]
  },
  {
   "cell_type": "markdown",
   "id": "a2700f3e",
   "metadata": {},
   "source": [
    "En esta notebook se realiza una exploracion de los modelos basados en Arboles y Ensambles.\n",
    "\n",
    "Realizamos un oversampling de los datos de entrenamiento ya que se encuentran desbalanceados.\n",
    "\n",
    "Dado que estamos abordando un problema de clasificacion binaria supervisada con datos estructuradas se realiza un modelo base de Desicion Tree Classifier que a continuacion se toma para realizar un bagging (ensamble). Seguimos con el entrenamiento de un Ramdon Forest sin y con tuneo de hiperparametros. Asi mismo aplicamos los algoritmos de boosting basados en arboles que son considerados el estado del arte en problemas de clasificacion con datos estructurados: XGBOOST, CATBOOST y LIGHTGBM. Realizamos un voting (ensamble) con modelos ya entrenados considerados menos potentes: Regression Logistic, Knn, NaivesBayes y Random Forest\n",
    "Midiendo las metricas de todos estos modelos se llega a la conclusion de que el mejor modelo a implementar es XGBOOST con oversampling para la muestra de datos otorgada."
   ]
  },
  {
   "cell_type": "markdown",
   "id": "7495420e",
   "metadata": {},
   "source": [
    "## Importación de librerías y bases de datos"
   ]
  },
  {
   "cell_type": "code",
   "execution_count": 1,
   "id": "140dfd69",
   "metadata": {},
   "outputs": [],
   "source": [
    "# Importamos las librerias relevantes\n",
    "import imblearn\n",
    "import pandas as pd\n",
    "import numpy as np\n",
    "import seaborn as sns\n",
    "import matplotlib.pyplot as plt\n",
    "import sklearn \n",
    "import warnings\n",
    "warnings.filterwarnings('ignore')"
   ]
  },
  {
   "cell_type": "code",
   "execution_count": 2,
   "id": "8e9d8828",
   "metadata": {},
   "outputs": [],
   "source": [
    "# Importamos las bases de datos\n",
    "data_0 = pd.read_csv(\"base_entrenamiento.csv\")"
   ]
  },
  {
   "cell_type": "code",
   "execution_count": 3,
   "id": "a169f1e2",
   "metadata": {},
   "outputs": [
    {
     "data": {
      "text/plain": [
       "(30360, 22)"
      ]
     },
     "execution_count": 3,
     "metadata": {},
     "output_type": "execute_result"
    }
   ],
   "source": [
    "# Cantidad de filas y columnas\n",
    "data_0.shape"
   ]
  },
  {
   "cell_type": "markdown",
   "id": "df4b09fa",
   "metadata": {},
   "source": [
    "La base de datos tiene 30,360 observaciones de 21 columnas."
   ]
  },
  {
   "cell_type": "code",
   "execution_count": 4,
   "id": "3007a969",
   "metadata": {},
   "outputs": [
    {
     "name": "stdout",
     "output_type": "stream",
     "text": [
      "<class 'pandas.core.frame.DataFrame'>\n",
      "RangeIndex: 30360 entries, 0 to 30359\n",
      "Data columns (total 22 columns):\n",
      " #   Column                Non-Null Count  Dtype  \n",
      "---  ------                --------------  -----  \n",
      " 0   housing               30360 non-null  int64  \n",
      " 1   loan                  30360 non-null  int64  \n",
      " 2   contact               30360 non-null  int64  \n",
      " 3   campaign              30360 non-null  int64  \n",
      " 4   emp.var.rate          30360 non-null  float64\n",
      " 5   cons.price.idx        30360 non-null  float64\n",
      " 6   cons.conf.idx         30360 non-null  float64\n",
      " 7   euribor3m             30360 non-null  float64\n",
      " 8   nr.employed           30360 non-null  float64\n",
      " 9   y                     30360 non-null  int64  \n",
      " 10  married               30360 non-null  int64  \n",
      " 11  month_cat             30360 non-null  int64  \n",
      " 12  age_cat_(34.0, 44.0]  30360 non-null  int64  \n",
      " 13  age_cat_(44.0, 69.0]  30360 non-null  int64  \n",
      " 14  job_cat_1             30360 non-null  int64  \n",
      " 15  job_cat_2             30360 non-null  int64  \n",
      " 16  education_cat_1       30360 non-null  int64  \n",
      " 17  education_cat_2       30360 non-null  int64  \n",
      " 18  day_of_week_2         30360 non-null  int64  \n",
      " 19  day_of_week_3         30360 non-null  int64  \n",
      " 20  day_of_week_4         30360 non-null  int64  \n",
      " 21  day_of_week_5         30360 non-null  int64  \n",
      "dtypes: float64(5), int64(17)\n",
      "memory usage: 5.1 MB\n"
     ]
    }
   ],
   "source": [
    "# Nombre y tipo de columnas, ademas de cantidad de filas no nulas\n",
    "data_0.info()"
   ]
  },
  {
   "cell_type": "markdown",
   "id": "5e83c914",
   "metadata": {},
   "source": [
    "Hay 10 variables numéricas y 11 categóricas."
   ]
  },
  {
   "cell_type": "code",
   "execution_count": 5,
   "id": "17b8be2f",
   "metadata": {},
   "outputs": [],
   "source": [
    "# Definimos la matriz de features, X, y el vector de la target, y\n",
    "X = data_0.drop('y', axis = 1)\n",
    "\n",
    "y = data_0['y']"
   ]
  },
  {
   "cell_type": "code",
   "execution_count": 6,
   "id": "c637d218",
   "metadata": {},
   "outputs": [],
   "source": [
    "# Separamos el dataset en Train y Test:\n",
    "from sklearn.model_selection import train_test_split\n",
    "\n",
    "X_train, X_test, y_train, y_test = train_test_split(X, y,test_size = 0.30,\n",
    "                                                   random_state = 42,\n",
    "                                                   stratify = y)"
   ]
  },
  {
   "cell_type": "code",
   "execution_count": 7,
   "id": "93df56b2",
   "metadata": {},
   "outputs": [],
   "source": [
    "# Estandarizamos las features continuas del conjunto de entrenamiento y de testeo\n",
    "from sklearn.preprocessing import StandardScaler\n",
    "sd = StandardScaler()"
   ]
  },
  {
   "cell_type": "code",
   "execution_count": 8,
   "id": "5699cb18",
   "metadata": {},
   "outputs": [],
   "source": [
    "# Estandarizamos las variables continuas:\n",
    "variables_continuas = ['campaign', 'emp.var.rate', 'cons.price.idx', 'cons.conf.idx', 'euribor3m',\n",
    "                       'nr.employed']\n",
    "X_train[variables_continuas] = sd.fit_transform(X_train[variables_continuas])"
   ]
  },
  {
   "cell_type": "code",
   "execution_count": 9,
   "id": "8b61ff8b",
   "metadata": {},
   "outputs": [],
   "source": [
    "# Transformamos las variables continuas en x_test con la estandarizacion aprendida en el paso anterior (con los datos de entrenamiento)\n",
    "X_test[variables_continuas] = sd.transform(X_test[variables_continuas])"
   ]
  },
  {
   "cell_type": "code",
   "execution_count": 10,
   "id": "de54e821",
   "metadata": {},
   "outputs": [
    {
     "name": "stdout",
     "output_type": "stream",
     "text": [
      "0    0.945487\n",
      "1    0.054513\n",
      "Name: y, dtype: float64\n",
      "0    0.945464\n",
      "1    0.054536\n",
      "Name: y, dtype: float64\n",
      "0    0.945542\n",
      "1    0.054458\n",
      "Name: y, dtype: float64\n"
     ]
    }
   ],
   "source": [
    "# Observamos distribucion de la variable target\n",
    "print(y.value_counts(normalize = True))\n",
    "print(y_train.value_counts(normalize = True))\n",
    "print(y_test.value_counts(normalize = True))"
   ]
  },
  {
   "cell_type": "markdown",
   "id": "bec04407",
   "metadata": {},
   "source": [
    "Vemos que las clases de la variable target estan desbalanceadas. Procedemos a aplicar oversampling."
   ]
  },
  {
   "cell_type": "code",
   "execution_count": 11,
   "id": "24f1d748",
   "metadata": {},
   "outputs": [],
   "source": [
    "# Atendemos el problema del desbalanceo de clases con random oversampler:\n",
    "\n",
    "from imblearn.over_sampling import RandomOverSampler\n",
    "ros = RandomOverSampler(sampling_strategy = 'minority')\n",
    "X_train_os, y_train_os = ros.fit_resample(X_train, y_train)"
   ]
  },
  {
   "cell_type": "markdown",
   "id": "f85fc6e2",
   "metadata": {},
   "source": [
    "### Entrenamiento de modelos"
   ]
  },
  {
   "cell_type": "markdown",
   "id": "7c6cdbf6",
   "metadata": {},
   "source": [
    "# DESICION TREE"
   ]
  },
  {
   "cell_type": "markdown",
   "id": "bc4de8aa",
   "metadata": {},
   "source": [
    "### Modelo base DesicionTree: Hiperparámetros default"
   ]
  },
  {
   "cell_type": "code",
   "execution_count": 12,
   "id": "090dce2f",
   "metadata": {},
   "outputs": [],
   "source": [
    "#Importamos metricas para evaluar modelos\n",
    "from sklearn.metrics import confusion_matrix, accuracy_score, recall_score, precision_score, \\\n",
    "f1_score, roc_curve, auc, classification_report"
   ]
  },
  {
   "cell_type": "code",
   "execution_count": 13,
   "id": "74f5cc94",
   "metadata": {},
   "outputs": [],
   "source": [
    "#Importamos libreria time y iniciazamos para medir el tiempo de ejecucion del modelo\n",
    "import time\n",
    "start = time.time()"
   ]
  },
  {
   "cell_type": "code",
   "execution_count": 14,
   "id": "0aef98b7",
   "metadata": {},
   "outputs": [],
   "source": [
    "# Entranamiento del modelo  base Desicion Tree : hiperparametros default\n",
    "from sklearn.tree import DecisionTreeClassifier"
   ]
  },
  {
   "cell_type": "code",
   "execution_count": 15,
   "id": "2bbe918a",
   "metadata": {},
   "outputs": [
    {
     "data": {
      "text/plain": [
       "DecisionTreeClassifier()"
      ]
     },
     "execution_count": 15,
     "metadata": {},
     "output_type": "execute_result"
    }
   ],
   "source": [
    "#Instanciamos el modelo y lo entrenamos\n",
    "model_dt = DecisionTreeClassifier()\n",
    "\n",
    "model_dt.fit(X_train_os, y_train_os)"
   ]
  },
  {
   "cell_type": "markdown",
   "id": "aa7a8afd",
   "metadata": {},
   "source": [
    "Veamos los hiperparámetros del modelo DecisionTreeClassifier y sus valores default"
   ]
  },
  {
   "cell_type": "code",
   "execution_count": 16,
   "id": "f7536675",
   "metadata": {},
   "outputs": [
    {
     "data": {
      "text/plain": [
       "{'ccp_alpha': 0.0,\n",
       " 'class_weight': None,\n",
       " 'criterion': 'gini',\n",
       " 'max_depth': None,\n",
       " 'max_features': None,\n",
       " 'max_leaf_nodes': None,\n",
       " 'min_impurity_decrease': 0.0,\n",
       " 'min_impurity_split': None,\n",
       " 'min_samples_leaf': 1,\n",
       " 'min_samples_split': 2,\n",
       " 'min_weight_fraction_leaf': 0.0,\n",
       " 'presort': 'deprecated',\n",
       " 'random_state': None,\n",
       " 'splitter': 'best'}"
      ]
     },
     "execution_count": 16,
     "metadata": {},
     "output_type": "execute_result"
    }
   ],
   "source": [
    "dt_dft_params = model_dt.get_params()\n",
    "dt_dft_params"
   ]
  },
  {
   "cell_type": "markdown",
   "id": "7164ff4b",
   "metadata": {},
   "source": [
    "En https://scikit-learn.org/stable/modules/generated/sklearn.tree.DecisionTreeClassifier.html se puede ver una descripción de los mismos. Continuamos con las predicciones y la evaluación del modelo."
   ]
  },
  {
   "cell_type": "code",
   "execution_count": 17,
   "id": "efcf1cd9",
   "metadata": {},
   "outputs": [],
   "source": [
    "# Prediccion de la target usando el modelo Desicion Tree con hiperparametros defaults\n",
    "\n",
    "y_pred_dt_dft = model_dt.predict(X_test)\n",
    "\n",
    "y_pred_proba_dt_dft = model_dt.predict_proba(X_test)\n"
   ]
  },
  {
   "cell_type": "code",
   "execution_count": 18,
   "id": "0648f227",
   "metadata": {},
   "outputs": [
    {
     "name": "stdout",
     "output_type": "stream",
     "text": [
      "La matriz de confusión del modelo  Desicion Tree Classifier con hiperparámetros default es: \n",
      "[[8009  603]\n",
      " [ 352  144]]\n",
      "\n",
      "El accuracy score del modelo  Desicion Tree con hiperparámetros default es: 0.9\n",
      "\n",
      "El error de clasificación del modelo Desicion Tree con hiperparámetros default es: 0.1\n",
      "\n",
      "El recall score del modelo Desicion Tree con hiperparámetros default es: 0.29\n",
      "\n",
      "La especificidad del modeloDesicion Tree con hiperparámetros default es: 0.93\n",
      "\n",
      "El false positive rate del Desicion TreeTree con hiperparámetros default es: 0.07\n",
      "\n",
      "La precisión del modelo Desicion Tree con hiperparámetros default es: 0.19\n",
      "\n",
      "              precision    recall  f1-score   support\n",
      "\n",
      "           0       0.96      0.93      0.94      8612\n",
      "           1       0.19      0.29      0.23       496\n",
      "\n",
      "    accuracy                           0.90      9108\n",
      "   macro avg       0.58      0.61      0.59      9108\n",
      "weighted avg       0.92      0.90      0.90      9108\n",
      "\n"
     ]
    }
   ],
   "source": [
    "# Evaluacion del modelo Desicion Tree con hiperparametros defaults\n",
    "\n",
    "# Matriz de confusion\n",
    "\n",
    "dt_dft_confmat = confusion_matrix(y_test, y_pred_dt_dft)\n",
    "\n",
    "TN_dt_dft = dt_dft_confmat[0, 0] #True Negatives\n",
    "FP_dt_dft = dt_dft_confmat[0, 1] #False Positives\n",
    "FN_dt_dft = dt_dft_confmat[1, 0] #False Negatives\n",
    "TP_dt_dft = dt_dft_confmat[1, 1] #True Positives\n",
    "\n",
    "# Accuracy Score\n",
    "\n",
    "dt_dft_accuracy = accuracy_score(y_test, y_pred_dt_dft)\n",
    "\n",
    "# Error de clasificacion\n",
    "\n",
    "dt_dft_errclf = 1 - dt_dft_accuracy\n",
    "\n",
    "# Recall\n",
    "\n",
    "dt_dft_recall = recall_score(y_test, y_pred_dt_dft)\n",
    "\n",
    "# Especificidad\n",
    "\n",
    "dt_dft_specificity = TN_dt_dft / (TN_dt_dft + FP_dt_dft)\n",
    "\n",
    "# False Positive Rate\n",
    "\n",
    "dt_dft_fpr = 1 - dt_dft_specificity\n",
    "\n",
    "# Precision\n",
    "\n",
    "dt_dft_precision = precision_score(y_test, y_pred_dt_dft)\n",
    "\n",
    "# F1 Score\n",
    "\n",
    "dt_dft_f1score = precision_score(y_test, y_pred_dt_dft)\n",
    "\n",
    "# Mostramos el conjunto de medidas de evaluacion\n",
    "\n",
    "print(f'La matriz de confusión del modelo  Desicion Tree Classifier con hiperparámetros default es: \\n{dt_dft_confmat.round(2)}\\n')\n",
    "print(f'El accuracy score del modelo  Desicion Tree con hiperparámetros default es: {dt_dft_accuracy.round(2)}\\n')\n",
    "print(f'El error de clasificación del modelo Desicion Tree con hiperparámetros default es: {dt_dft_errclf.round(2)}\\n')\n",
    "print(f'El recall score del modelo Desicion Tree con hiperparámetros default es: {dt_dft_recall.round(2)}\\n')\n",
    "print(f'La especificidad del modeloDesicion Tree con hiperparámetros default es: {dt_dft_specificity.round(2)}\\n')\n",
    "print(f'El false positive rate del Desicion TreeTree con hiperparámetros default es: {dt_dft_fpr.round(2)}\\n')\n",
    "print(f'La precisión del modelo Desicion Tree con hiperparámetros default es: {dt_dft_precision.round(2)}\\n')\n",
    "\n",
    "\n",
    "#Resumimos la informacion en el Reporte de Clasificacion.\n",
    "\n",
    "print(classification_report(y_test, y_pred_dt_dft))"
   ]
  },
  {
   "cell_type": "code",
   "execution_count": 19,
   "id": "3eaaefa1",
   "metadata": {},
   "outputs": [
    {
     "name": "stdout",
     "output_type": "stream",
     "text": [
      "Execution time is:\n",
      "6.5600199699401855\n"
     ]
    }
   ],
   "source": [
    "#Finalizamos el tiempo de ejecucion\n",
    "end = time.time()\n",
    "print('Execution time is:')\n",
    "print(end - start)"
   ]
  },
  {
   "cell_type": "markdown",
   "id": "153180ff",
   "metadata": {},
   "source": [
    "# BAGGING"
   ]
  },
  {
   "cell_type": "markdown",
   "id": "4f7d8113",
   "metadata": {},
   "source": [
    "Exploramos el BagginnClassfier de scikit-learn y algunas de sus características. https://scikit-learn.org/stable/modules/generated/sklearn.ensemble.BaggingClassifier.html"
   ]
  },
  {
   "cell_type": "code",
   "execution_count": 20,
   "id": "f0a83f33",
   "metadata": {},
   "outputs": [],
   "source": [
    "#importamos librerias para evaluacion de modelos\n",
    "from sklearn.model_selection import cross_val_score\n",
    "from sklearn.model_selection import GridSearchCV\n",
    "from sklearn.model_selection import StratifiedKFold \n",
    "from sklearn.model_selection import RandomizedSearchCV"
   ]
  },
  {
   "cell_type": "code",
   "execution_count": 21,
   "id": "7d67c7d6",
   "metadata": {},
   "outputs": [],
   "source": [
    "#Iniciamos temporizador\n",
    "start = time.time()"
   ]
  },
  {
   "cell_type": "code",
   "execution_count": 22,
   "id": "180446a1",
   "metadata": {},
   "outputs": [],
   "source": [
    "#Importamos el clasificador de Bagging\n",
    "from sklearn.ensemble import BaggingClassifier"
   ]
  },
  {
   "cell_type": "code",
   "execution_count": 23,
   "id": "a86e868e",
   "metadata": {},
   "outputs": [
    {
     "name": "stdout",
     "output_type": "stream",
     "text": [
      "{'base_estimator__max_depth': [3, 5, 10], 'base_estimator__max_features': [None, 'auto'], 'base_estimator__min_samples_leaf': [1, 3, 5], 'base_estimator__min_samples_split': [2, 5, 7], 'bootstrap_features': [False, True], 'max_features': [0.5, 1.0], 'max_samples': [0.5, 1.0], 'n_estimators': [2, 5, 10]}\n"
     ]
    }
   ],
   "source": [
    "#Preparamos un GridSearch para encontrar el mejor hiperparametro \n",
    "# Utilizando el siguiente diccionario de parametros, optimizar los hiperparámetros.\n",
    "\n",
    "param_grid = {\"base_estimator__max_depth\": [3,5,10],\n",
    "          \"base_estimator__max_features\": [None, \"auto\"],\n",
    "          \"base_estimator__min_samples_leaf\": [1, 3, 5],\n",
    "          \"base_estimator__min_samples_split\": [2, 5, 7],\n",
    "          'bootstrap_features': [False, True],\n",
    "          'max_features': [0.5, 1.0],\n",
    "          'max_samples': [0.5, 1.0],\n",
    "          'n_estimators': [2, 5, 10],\n",
    "}\n",
    "\n",
    "\n",
    "print(param_grid)\n",
    "\n",
    "# Indicamos 10 folds para luego hacer cross validation\n",
    "\n",
    "folds=StratifiedKFold(n_splits=10, random_state=42, shuffle=True)\n",
    "\n",
    "# Hacemos distintas GridSearchCV cada una con un Scoring diferente.\n",
    "\n",
    "# F1\n",
    "grid_f1_bag =  GridSearchCV(BaggingClassifier(DecisionTreeClassifier()), param_grid, n_jobs=-2, cv=folds, scoring='f1')\n",
    "# Recall\n",
    "grid_recall_bag =  GridSearchCV(BaggingClassifier(DecisionTreeClassifier()), param_grid, n_jobs=-2, cv=folds, scoring='recall')\n",
    "# Precision\n",
    "grid_precision_bag =  GridSearchCV(BaggingClassifier(DecisionTreeClassifier()), param_grid, n_jobs=-2, cv=folds, scoring='precision')\n"
   ]
  },
  {
   "cell_type": "code",
   "execution_count": 25,
   "id": "6898e30d",
   "metadata": {},
   "outputs": [
    {
     "ename": "KeyboardInterrupt",
     "evalue": "",
     "output_type": "error",
     "traceback": [
      "\u001b[0;31m---------------------------------------------------------------------------\u001b[0m",
      "\u001b[0;31mKeyboardInterrupt\u001b[0m                         Traceback (most recent call last)",
      "\u001b[0;32m<ipython-input-25-93151244deed>\u001b[0m in \u001b[0;36m<module>\u001b[0;34m\u001b[0m\n\u001b[1;32m      2\u001b[0m \u001b[0mstart\u001b[0m \u001b[0;34m=\u001b[0m \u001b[0mtime\u001b[0m\u001b[0;34m.\u001b[0m\u001b[0mtime\u001b[0m\u001b[0;34m(\u001b[0m\u001b[0;34m)\u001b[0m\u001b[0;34m\u001b[0m\u001b[0;34m\u001b[0m\u001b[0m\n\u001b[1;32m      3\u001b[0m \u001b[0;31m#GScv con F1-score\u001b[0m\u001b[0;34m\u001b[0m\u001b[0;34m\u001b[0m\u001b[0;34m\u001b[0m\u001b[0m\n\u001b[0;32m----> 4\u001b[0;31m \u001b[0mgrid_f1_bag\u001b[0m\u001b[0;34m.\u001b[0m\u001b[0mfit\u001b[0m\u001b[0;34m(\u001b[0m\u001b[0mX_train_os\u001b[0m\u001b[0;34m,\u001b[0m \u001b[0my_train_os\u001b[0m\u001b[0;34m)\u001b[0m\u001b[0;34m\u001b[0m\u001b[0;34m\u001b[0m\u001b[0m\n\u001b[0m\u001b[1;32m      5\u001b[0m \u001b[0mend\u001b[0m \u001b[0;34m=\u001b[0m \u001b[0mtime\u001b[0m\u001b[0;34m.\u001b[0m\u001b[0mtime\u001b[0m\u001b[0;34m(\u001b[0m\u001b[0;34m)\u001b[0m\u001b[0;34m\u001b[0m\u001b[0;34m\u001b[0m\u001b[0m\n\u001b[1;32m      6\u001b[0m \u001b[0mprint\u001b[0m\u001b[0;34m(\u001b[0m\u001b[0;34m\"tiempo de ejecucion:\"\u001b[0m\u001b[0;34m,\u001b[0m \u001b[0;34m(\u001b[0m\u001b[0mend\u001b[0m\u001b[0;34m-\u001b[0m\u001b[0mstart\u001b[0m\u001b[0;34m)\u001b[0m\u001b[0;34m)\u001b[0m\u001b[0;34m\u001b[0m\u001b[0;34m\u001b[0m\u001b[0m\n",
      "\u001b[0;32m~/opt/anaconda3/envs/dhdsblend2021/lib/python3.8/site-packages/sklearn/utils/validation.py\u001b[0m in \u001b[0;36minner_f\u001b[0;34m(*args, **kwargs)\u001b[0m\n\u001b[1;32m     70\u001b[0m                           FutureWarning)\n\u001b[1;32m     71\u001b[0m         \u001b[0mkwargs\u001b[0m\u001b[0;34m.\u001b[0m\u001b[0mupdate\u001b[0m\u001b[0;34m(\u001b[0m\u001b[0;34m{\u001b[0m\u001b[0mk\u001b[0m\u001b[0;34m:\u001b[0m \u001b[0marg\u001b[0m \u001b[0;32mfor\u001b[0m \u001b[0mk\u001b[0m\u001b[0;34m,\u001b[0m \u001b[0marg\u001b[0m \u001b[0;32min\u001b[0m \u001b[0mzip\u001b[0m\u001b[0;34m(\u001b[0m\u001b[0msig\u001b[0m\u001b[0;34m.\u001b[0m\u001b[0mparameters\u001b[0m\u001b[0;34m,\u001b[0m \u001b[0margs\u001b[0m\u001b[0;34m)\u001b[0m\u001b[0;34m}\u001b[0m\u001b[0;34m)\u001b[0m\u001b[0;34m\u001b[0m\u001b[0;34m\u001b[0m\u001b[0m\n\u001b[0;32m---> 72\u001b[0;31m         \u001b[0;32mreturn\u001b[0m \u001b[0mf\u001b[0m\u001b[0;34m(\u001b[0m\u001b[0;34m**\u001b[0m\u001b[0mkwargs\u001b[0m\u001b[0;34m)\u001b[0m\u001b[0;34m\u001b[0m\u001b[0;34m\u001b[0m\u001b[0m\n\u001b[0m\u001b[1;32m     73\u001b[0m     \u001b[0;32mreturn\u001b[0m \u001b[0minner_f\u001b[0m\u001b[0;34m\u001b[0m\u001b[0;34m\u001b[0m\u001b[0m\n\u001b[1;32m     74\u001b[0m \u001b[0;34m\u001b[0m\u001b[0m\n",
      "\u001b[0;32m~/opt/anaconda3/envs/dhdsblend2021/lib/python3.8/site-packages/sklearn/model_selection/_search.py\u001b[0m in \u001b[0;36mfit\u001b[0;34m(self, X, y, groups, **fit_params)\u001b[0m\n\u001b[1;32m    734\u001b[0m                 \u001b[0;32mreturn\u001b[0m \u001b[0mresults\u001b[0m\u001b[0;34m\u001b[0m\u001b[0;34m\u001b[0m\u001b[0m\n\u001b[1;32m    735\u001b[0m \u001b[0;34m\u001b[0m\u001b[0m\n\u001b[0;32m--> 736\u001b[0;31m             \u001b[0mself\u001b[0m\u001b[0;34m.\u001b[0m\u001b[0m_run_search\u001b[0m\u001b[0;34m(\u001b[0m\u001b[0mevaluate_candidates\u001b[0m\u001b[0;34m)\u001b[0m\u001b[0;34m\u001b[0m\u001b[0;34m\u001b[0m\u001b[0m\n\u001b[0m\u001b[1;32m    737\u001b[0m \u001b[0;34m\u001b[0m\u001b[0m\n\u001b[1;32m    738\u001b[0m         \u001b[0;31m# For multi-metric evaluation, store the best_index_, best_params_ and\u001b[0m\u001b[0;34m\u001b[0m\u001b[0;34m\u001b[0m\u001b[0;34m\u001b[0m\u001b[0m\n",
      "\u001b[0;32m~/opt/anaconda3/envs/dhdsblend2021/lib/python3.8/site-packages/sklearn/model_selection/_search.py\u001b[0m in \u001b[0;36m_run_search\u001b[0;34m(self, evaluate_candidates)\u001b[0m\n\u001b[1;32m   1186\u001b[0m     \u001b[0;32mdef\u001b[0m \u001b[0m_run_search\u001b[0m\u001b[0;34m(\u001b[0m\u001b[0mself\u001b[0m\u001b[0;34m,\u001b[0m \u001b[0mevaluate_candidates\u001b[0m\u001b[0;34m)\u001b[0m\u001b[0;34m:\u001b[0m\u001b[0;34m\u001b[0m\u001b[0;34m\u001b[0m\u001b[0m\n\u001b[1;32m   1187\u001b[0m         \u001b[0;34m\"\"\"Search all candidates in param_grid\"\"\"\u001b[0m\u001b[0;34m\u001b[0m\u001b[0;34m\u001b[0m\u001b[0m\n\u001b[0;32m-> 1188\u001b[0;31m         \u001b[0mevaluate_candidates\u001b[0m\u001b[0;34m(\u001b[0m\u001b[0mParameterGrid\u001b[0m\u001b[0;34m(\u001b[0m\u001b[0mself\u001b[0m\u001b[0;34m.\u001b[0m\u001b[0mparam_grid\u001b[0m\u001b[0;34m)\u001b[0m\u001b[0;34m)\u001b[0m\u001b[0;34m\u001b[0m\u001b[0;34m\u001b[0m\u001b[0m\n\u001b[0m\u001b[1;32m   1189\u001b[0m \u001b[0;34m\u001b[0m\u001b[0m\n\u001b[1;32m   1190\u001b[0m \u001b[0;34m\u001b[0m\u001b[0m\n",
      "\u001b[0;32m~/opt/anaconda3/envs/dhdsblend2021/lib/python3.8/site-packages/sklearn/model_selection/_search.py\u001b[0m in \u001b[0;36mevaluate_candidates\u001b[0;34m(candidate_params)\u001b[0m\n\u001b[1;32m    706\u001b[0m                               n_splits, n_candidates, n_candidates * n_splits))\n\u001b[1;32m    707\u001b[0m \u001b[0;34m\u001b[0m\u001b[0m\n\u001b[0;32m--> 708\u001b[0;31m                 out = parallel(delayed(_fit_and_score)(clone(base_estimator),\n\u001b[0m\u001b[1;32m    709\u001b[0m                                                        \u001b[0mX\u001b[0m\u001b[0;34m,\u001b[0m \u001b[0my\u001b[0m\u001b[0;34m,\u001b[0m\u001b[0;34m\u001b[0m\u001b[0;34m\u001b[0m\u001b[0m\n\u001b[1;32m    710\u001b[0m                                                        \u001b[0mtrain\u001b[0m\u001b[0;34m=\u001b[0m\u001b[0mtrain\u001b[0m\u001b[0;34m,\u001b[0m \u001b[0mtest\u001b[0m\u001b[0;34m=\u001b[0m\u001b[0mtest\u001b[0m\u001b[0;34m,\u001b[0m\u001b[0;34m\u001b[0m\u001b[0;34m\u001b[0m\u001b[0m\n",
      "\u001b[0;32m~/opt/anaconda3/envs/dhdsblend2021/lib/python3.8/site-packages/joblib/parallel.py\u001b[0m in \u001b[0;36m__call__\u001b[0;34m(self, iterable)\u001b[0m\n\u001b[1;32m   1052\u001b[0m \u001b[0;34m\u001b[0m\u001b[0m\n\u001b[1;32m   1053\u001b[0m             \u001b[0;32mwith\u001b[0m \u001b[0mself\u001b[0m\u001b[0;34m.\u001b[0m\u001b[0m_backend\u001b[0m\u001b[0;34m.\u001b[0m\u001b[0mretrieval_context\u001b[0m\u001b[0;34m(\u001b[0m\u001b[0;34m)\u001b[0m\u001b[0;34m:\u001b[0m\u001b[0;34m\u001b[0m\u001b[0;34m\u001b[0m\u001b[0m\n\u001b[0;32m-> 1054\u001b[0;31m                 \u001b[0mself\u001b[0m\u001b[0;34m.\u001b[0m\u001b[0mretrieve\u001b[0m\u001b[0;34m(\u001b[0m\u001b[0;34m)\u001b[0m\u001b[0;34m\u001b[0m\u001b[0;34m\u001b[0m\u001b[0m\n\u001b[0m\u001b[1;32m   1055\u001b[0m             \u001b[0;31m# Make sure that we get a last message telling us we are done\u001b[0m\u001b[0;34m\u001b[0m\u001b[0;34m\u001b[0m\u001b[0;34m\u001b[0m\u001b[0m\n\u001b[1;32m   1056\u001b[0m             \u001b[0melapsed_time\u001b[0m \u001b[0;34m=\u001b[0m \u001b[0mtime\u001b[0m\u001b[0;34m.\u001b[0m\u001b[0mtime\u001b[0m\u001b[0;34m(\u001b[0m\u001b[0;34m)\u001b[0m \u001b[0;34m-\u001b[0m \u001b[0mself\u001b[0m\u001b[0;34m.\u001b[0m\u001b[0m_start_time\u001b[0m\u001b[0;34m\u001b[0m\u001b[0;34m\u001b[0m\u001b[0m\n",
      "\u001b[0;32m~/opt/anaconda3/envs/dhdsblend2021/lib/python3.8/site-packages/joblib/parallel.py\u001b[0m in \u001b[0;36mretrieve\u001b[0;34m(self)\u001b[0m\n\u001b[1;32m    931\u001b[0m             \u001b[0;32mtry\u001b[0m\u001b[0;34m:\u001b[0m\u001b[0;34m\u001b[0m\u001b[0;34m\u001b[0m\u001b[0m\n\u001b[1;32m    932\u001b[0m                 \u001b[0;32mif\u001b[0m \u001b[0mgetattr\u001b[0m\u001b[0;34m(\u001b[0m\u001b[0mself\u001b[0m\u001b[0;34m.\u001b[0m\u001b[0m_backend\u001b[0m\u001b[0;34m,\u001b[0m \u001b[0;34m'supports_timeout'\u001b[0m\u001b[0;34m,\u001b[0m \u001b[0;32mFalse\u001b[0m\u001b[0;34m)\u001b[0m\u001b[0;34m:\u001b[0m\u001b[0;34m\u001b[0m\u001b[0;34m\u001b[0m\u001b[0m\n\u001b[0;32m--> 933\u001b[0;31m                     \u001b[0mself\u001b[0m\u001b[0;34m.\u001b[0m\u001b[0m_output\u001b[0m\u001b[0;34m.\u001b[0m\u001b[0mextend\u001b[0m\u001b[0;34m(\u001b[0m\u001b[0mjob\u001b[0m\u001b[0;34m.\u001b[0m\u001b[0mget\u001b[0m\u001b[0;34m(\u001b[0m\u001b[0mtimeout\u001b[0m\u001b[0;34m=\u001b[0m\u001b[0mself\u001b[0m\u001b[0;34m.\u001b[0m\u001b[0mtimeout\u001b[0m\u001b[0;34m)\u001b[0m\u001b[0;34m)\u001b[0m\u001b[0;34m\u001b[0m\u001b[0;34m\u001b[0m\u001b[0m\n\u001b[0m\u001b[1;32m    934\u001b[0m                 \u001b[0;32melse\u001b[0m\u001b[0;34m:\u001b[0m\u001b[0;34m\u001b[0m\u001b[0;34m\u001b[0m\u001b[0m\n\u001b[1;32m    935\u001b[0m                     \u001b[0mself\u001b[0m\u001b[0;34m.\u001b[0m\u001b[0m_output\u001b[0m\u001b[0;34m.\u001b[0m\u001b[0mextend\u001b[0m\u001b[0;34m(\u001b[0m\u001b[0mjob\u001b[0m\u001b[0;34m.\u001b[0m\u001b[0mget\u001b[0m\u001b[0;34m(\u001b[0m\u001b[0;34m)\u001b[0m\u001b[0;34m)\u001b[0m\u001b[0;34m\u001b[0m\u001b[0;34m\u001b[0m\u001b[0m\n",
      "\u001b[0;32m~/opt/anaconda3/envs/dhdsblend2021/lib/python3.8/site-packages/joblib/_parallel_backends.py\u001b[0m in \u001b[0;36mwrap_future_result\u001b[0;34m(future, timeout)\u001b[0m\n\u001b[1;32m    540\u001b[0m         AsyncResults.get from multiprocessing.\"\"\"\n\u001b[1;32m    541\u001b[0m         \u001b[0;32mtry\u001b[0m\u001b[0;34m:\u001b[0m\u001b[0;34m\u001b[0m\u001b[0;34m\u001b[0m\u001b[0m\n\u001b[0;32m--> 542\u001b[0;31m             \u001b[0;32mreturn\u001b[0m \u001b[0mfuture\u001b[0m\u001b[0;34m.\u001b[0m\u001b[0mresult\u001b[0m\u001b[0;34m(\u001b[0m\u001b[0mtimeout\u001b[0m\u001b[0;34m=\u001b[0m\u001b[0mtimeout\u001b[0m\u001b[0;34m)\u001b[0m\u001b[0;34m\u001b[0m\u001b[0;34m\u001b[0m\u001b[0m\n\u001b[0m\u001b[1;32m    543\u001b[0m         \u001b[0;32mexcept\u001b[0m \u001b[0mCfTimeoutError\u001b[0m \u001b[0;32mas\u001b[0m \u001b[0me\u001b[0m\u001b[0;34m:\u001b[0m\u001b[0;34m\u001b[0m\u001b[0;34m\u001b[0m\u001b[0m\n\u001b[1;32m    544\u001b[0m             \u001b[0;32mraise\u001b[0m \u001b[0mTimeoutError\u001b[0m \u001b[0;32mfrom\u001b[0m \u001b[0me\u001b[0m\u001b[0;34m\u001b[0m\u001b[0;34m\u001b[0m\u001b[0m\n",
      "\u001b[0;32m~/opt/anaconda3/envs/dhdsblend2021/lib/python3.8/concurrent/futures/_base.py\u001b[0m in \u001b[0;36mresult\u001b[0;34m(self, timeout)\u001b[0m\n\u001b[1;32m    437\u001b[0m                     \u001b[0;32mreturn\u001b[0m \u001b[0mself\u001b[0m\u001b[0;34m.\u001b[0m\u001b[0m__get_result\u001b[0m\u001b[0;34m(\u001b[0m\u001b[0;34m)\u001b[0m\u001b[0;34m\u001b[0m\u001b[0;34m\u001b[0m\u001b[0m\n\u001b[1;32m    438\u001b[0m \u001b[0;34m\u001b[0m\u001b[0m\n\u001b[0;32m--> 439\u001b[0;31m                 \u001b[0mself\u001b[0m\u001b[0;34m.\u001b[0m\u001b[0m_condition\u001b[0m\u001b[0;34m.\u001b[0m\u001b[0mwait\u001b[0m\u001b[0;34m(\u001b[0m\u001b[0mtimeout\u001b[0m\u001b[0;34m)\u001b[0m\u001b[0;34m\u001b[0m\u001b[0;34m\u001b[0m\u001b[0m\n\u001b[0m\u001b[1;32m    440\u001b[0m \u001b[0;34m\u001b[0m\u001b[0m\n\u001b[1;32m    441\u001b[0m                 \u001b[0;32mif\u001b[0m \u001b[0mself\u001b[0m\u001b[0;34m.\u001b[0m\u001b[0m_state\u001b[0m \u001b[0;32min\u001b[0m \u001b[0;34m[\u001b[0m\u001b[0mCANCELLED\u001b[0m\u001b[0;34m,\u001b[0m \u001b[0mCANCELLED_AND_NOTIFIED\u001b[0m\u001b[0;34m]\u001b[0m\u001b[0;34m:\u001b[0m\u001b[0;34m\u001b[0m\u001b[0;34m\u001b[0m\u001b[0m\n",
      "\u001b[0;32m~/opt/anaconda3/envs/dhdsblend2021/lib/python3.8/threading.py\u001b[0m in \u001b[0;36mwait\u001b[0;34m(self, timeout)\u001b[0m\n\u001b[1;32m    300\u001b[0m         \u001b[0;32mtry\u001b[0m\u001b[0;34m:\u001b[0m    \u001b[0;31m# restore state no matter what (e.g., KeyboardInterrupt)\u001b[0m\u001b[0;34m\u001b[0m\u001b[0;34m\u001b[0m\u001b[0m\n\u001b[1;32m    301\u001b[0m             \u001b[0;32mif\u001b[0m \u001b[0mtimeout\u001b[0m \u001b[0;32mis\u001b[0m \u001b[0;32mNone\u001b[0m\u001b[0;34m:\u001b[0m\u001b[0;34m\u001b[0m\u001b[0;34m\u001b[0m\u001b[0m\n\u001b[0;32m--> 302\u001b[0;31m                 \u001b[0mwaiter\u001b[0m\u001b[0;34m.\u001b[0m\u001b[0macquire\u001b[0m\u001b[0;34m(\u001b[0m\u001b[0;34m)\u001b[0m\u001b[0;34m\u001b[0m\u001b[0;34m\u001b[0m\u001b[0m\n\u001b[0m\u001b[1;32m    303\u001b[0m                 \u001b[0mgotit\u001b[0m \u001b[0;34m=\u001b[0m \u001b[0;32mTrue\u001b[0m\u001b[0;34m\u001b[0m\u001b[0;34m\u001b[0m\u001b[0m\n\u001b[1;32m    304\u001b[0m             \u001b[0;32melse\u001b[0m\u001b[0;34m:\u001b[0m\u001b[0;34m\u001b[0m\u001b[0;34m\u001b[0m\u001b[0m\n",
      "\u001b[0;31mKeyboardInterrupt\u001b[0m: "
     ]
    }
   ],
   "source": [
    "#Entrenamos el grid search\n",
    "start = time.time()\n",
    "#GScv con F1-score\n",
    "grid_f1_bag.fit(X_train_os, y_train_os)\n",
    "end = time.time()\n",
    "print(\"tiempo de ejecucion:\", (end-start))"
   ]
  },
  {
   "cell_type": "code",
   "execution_count": null,
   "id": "a37176a0",
   "metadata": {},
   "outputs": [],
   "source": [
    "#GScv cpn Recall\n",
    "grid_recall_bag.fit(X_train_os, y_train_os)\n",
    "#GScv con Precision\n",
    "grid_precision_bag.fit(X_train_os, y_train_os)\n"
   ]
  },
  {
   "cell_type": "code",
   "execution_count": null,
   "id": "dddffd17",
   "metadata": {},
   "outputs": [],
   "source": [
    "#GScv con Precision\n",
    "grid_precision_bag.fit(X_train_os, y_train_os)\n"
   ]
  },
  {
   "cell_type": "code",
   "execution_count": null,
   "id": "4679e380",
   "metadata": {},
   "outputs": [],
   "source": [
    "#Imprimimos los estimadores seleccionados en cada GScv:\n",
    "print(\"Mejores parametros para f1:\", grid_f1_bag.best_params_)\n",
    "print(\"Mejores parametros para recall:\", grid_recall_bag.best_params_)\n",
    "print(\"Mejores parametros para precision:\", grid_precision_bag.best_params_)\n"
   ]
  },
  {
   "cell_type": "code",
   "execution_count": 36,
   "id": "262ba552",
   "metadata": {},
   "outputs": [
    {
     "name": "stdout",
     "output_type": "stream",
     "text": [
      "Mejores parametros para f1: BaggingClassifier(base_estimator=DecisionTreeClassifier(max_depth=10),\n",
      "                  max_samples=0.5)\n",
      "Mejores parametros para recall: BaggingClassifier(base_estimator=DecisionTreeClassifier(max_depth=10),\n",
      "                  max_samples=0.5)\n",
      "Mejres parametros para precision: BaggingClassifier(base_estimator=DecisionTreeClassifier(max_depth=10),\n",
      "                  max_samples=0.5)\n"
     ]
    }
   ],
   "source": [
    "#Imprimimos el mejor estimador en cada GScv:\n",
    "best_grid_f1_bag = grid_f1_bag.best_estimator_\n",
    "best_grid_recall_bag = grid_recall_bag.best_estimator_\n",
    "best_grid_precision_bag = grid_precision_bag.best_estimator_\n",
    "print(\"Mejores parametros para f1:\", grid_f1_bag.best_estimator_)\n",
    "print(\"Mejores parametros para recall:\", grid_recall_bag.best_estimator_)\n",
    "print(\"Mejres parametros para precision:\", grid_precision_bag.best_estimator_)"
   ]
  },
  {
   "cell_type": "code",
   "execution_count": 37,
   "id": "a36bac48",
   "metadata": {},
   "outputs": [
    {
     "name": "stdout",
     "output_type": "stream",
     "text": [
      "Mejor puntaje de f1-score: 0.8757449624355977\n",
      "Mejor puntaje de recall: 0.8652767521278625\n",
      "Mejor puntaje de precision: 0.8949144962550248\n"
     ]
    }
   ],
   "source": [
    "#imprimimos los mejores scores de cada GScv\n",
    "print(\"Mejor puntaje de f1-score:\", grid_f1_bag.best_score_)\n",
    "print(\"Mejor puntaje de recall:\", grid_recall_bag.best_score_)\n",
    "print(\"Mejor puntaje de precision:\", grid_precision_bag.best_score_)"
   ]
  },
  {
   "cell_type": "code",
   "execution_count": 38,
   "id": "a7575a08",
   "metadata": {},
   "outputs": [],
   "source": [
    "# Prediccion de la target usando el modelo Bagging Classifier\n",
    "y_pred_grid_bag_f1 = grid_f1_bag.predict(X_test)\n",
    "\n",
    "y_pred_grid_bag_recall = grid_recall_bag.predict(X_test)\n",
    "\n",
    "y_pred_grid_bag_precision = grid_precision_bag.predict(X_test)"
   ]
  },
  {
   "cell_type": "code",
   "execution_count": 39,
   "id": "75e24425",
   "metadata": {},
   "outputs": [
    {
     "name": "stdout",
     "output_type": "stream",
     "text": [
      "y_pred_grid_bag_f1:\n",
      "               precision    recall  f1-score   support\n",
      "\n",
      "           0       0.98      0.88      0.93      8612\n",
      "           1       0.25      0.67      0.36       496\n",
      "\n",
      "    accuracy                           0.87      9108\n",
      "   macro avg       0.61      0.78      0.65      9108\n",
      "weighted avg       0.94      0.87      0.90      9108\n",
      "\n",
      "y_pred_grid_bag_recall:\n",
      "               precision    recall  f1-score   support\n",
      "\n",
      "           0       0.98      0.89      0.93      8612\n",
      "           1       0.25      0.67      0.37       496\n",
      "\n",
      "    accuracy                           0.88      9108\n",
      "   macro avg       0.62      0.78      0.65      9108\n",
      "weighted avg       0.94      0.88      0.90      9108\n",
      "\n",
      "y_pred_grid_bag-precision:\n",
      "               precision    recall  f1-score   support\n",
      "\n",
      "           0       0.98      0.89      0.93      8612\n",
      "           1       0.26      0.68      0.38       496\n",
      "\n",
      "    accuracy                           0.88      9108\n",
      "   macro avg       0.62      0.79      0.66      9108\n",
      "weighted avg       0.94      0.88      0.90      9108\n",
      "\n"
     ]
    }
   ],
   "source": [
    "#Reporte de Clasificacion\n",
    "from sklearn.metrics import classification_report, confusion_matrix\n",
    "print (f\"y_pred_grid_bag_f1:\\n\",\n",
    "       classification_report(y_test, y_pred_grid_bag_f1))\n",
    "print (f\"y_pred_grid_bag_recall:\\n\",\n",
    "       classification_report(y_test, y_pred_grid_bag_recall))\n",
    "print (f\"y_pred_grid_bag-precision:\\n\",\n",
    "       classification_report(y_test, y_pred_grid_bag_precision))"
   ]
  },
  {
   "cell_type": "code",
   "execution_count": 42,
   "id": "de1e4745",
   "metadata": {},
   "outputs": [
    {
     "name": "stdout",
     "output_type": "stream",
     "text": [
      "y_pred_rgrid_f1 confusion matrix: \n",
      " [[7618  994]\n",
      " [ 165  331]]\n",
      "y_pred_rgrid_recall confusion matrix: \n",
      " [[7636  976]\n",
      " [ 162  334]]\n",
      "y_pred_rgrid_precision confusion matrix: \n",
      " [[7659  953]\n",
      " [ 157  339]]\n"
     ]
    }
   ],
   "source": [
    "#Matriz de Confusion\n",
    "confusion_f1_bag = confusion_matrix(y_test, y_pred_grid_bag_f1)\n",
    "print(f\"y_pred_rgrid_f1 confusion matrix: \\n\", confusion_f1_bag)\n",
    "confusion_recall_bag = confusion_matrix(y_test, y_pred_grid_bag_recall)\n",
    "print(f\"y_pred_rgrid_recall confusion matrix: \\n\",confusion_recall_bag)\n",
    "confusion_precision_bag = confusion_matrix(y_test, y_pred_grid_bag_precision)\n",
    "print(f\"y_pred_rgrid_precision confusion matrix: \\n\",confusion_precision_bag)"
   ]
  },
  {
   "cell_type": "code",
   "execution_count": 43,
   "id": "068dcdc7",
   "metadata": {},
   "outputs": [
    {
     "name": "stdout",
     "output_type": "stream",
     "text": [
      "Execution time is:\n",
      "6675.575545549393\n"
     ]
    }
   ],
   "source": [
    "#Finalizamos Temporizador y medimos tiempo de ejecucion.\n",
    "end = time.time()\n",
    "print('Execution time is:')\n",
    "print(end - start)"
   ]
  },
  {
   "cell_type": "code",
   "execution_count": 46,
   "id": "52174b40",
   "metadata": {},
   "outputs": [],
   "source": [
    "#Se guarda en disco el resultado del modelo\n",
    "import pickle"
   ]
  },
  {
   "cell_type": "code",
   "execution_count": null,
   "id": "43a463f7",
   "metadata": {},
   "outputs": [],
   "source": [
    "with open('bagging_f1.pkl','wb') as f:\n",
    "    pickle.dump(grid_f1_bag,f)\n",
    "    print('dump sucess')"
   ]
  },
  {
   "cell_type": "code",
   "execution_count": 48,
   "id": "2a9edd96",
   "metadata": {},
   "outputs": [
    {
     "name": "stdout",
     "output_type": "stream",
     "text": [
      "dump sucess\n"
     ]
    }
   ],
   "source": [
    "with open('bagging_recall.pkl','wb') as f:\n",
    "    pickle.dump(grid_recall_bag,f)\n",
    "    print('dump sucess')"
   ]
  },
  {
   "cell_type": "code",
   "execution_count": 50,
   "id": "1bfe5688",
   "metadata": {},
   "outputs": [
    {
     "name": "stdout",
     "output_type": "stream",
     "text": [
      "dump sucess\n"
     ]
    }
   ],
   "source": [
    "with open('bagging_precision.pkl','wb') as f:\n",
    "    pickle.dump(grid_precision_bag,f)\n",
    "    print('dump sucess')"
   ]
  },
  {
   "cell_type": "markdown",
   "id": "2a524597",
   "metadata": {},
   "source": [
    "# RANDOMFOREST"
   ]
  },
  {
   "cell_type": "code",
   "execution_count": 51,
   "id": "70a1ac06",
   "metadata": {},
   "outputs": [],
   "source": [
    "#Importamos libreria\n",
    "from sklearn.ensemble import RandomForestClassifier"
   ]
  },
  {
   "cell_type": "markdown",
   "id": "aaf8815e",
   "metadata": {},
   "source": [
    "### Modelo base RandomFores: Hiperparámetros default"
   ]
  },
  {
   "cell_type": "code",
   "execution_count": 53,
   "id": "9ff864a2",
   "metadata": {},
   "outputs": [],
   "source": [
    "#Se inicia temporizador\n",
    "start = time.time()"
   ]
  },
  {
   "cell_type": "code",
   "execution_count": 54,
   "id": "ce4fb16f",
   "metadata": {},
   "outputs": [
    {
     "data": {
      "text/plain": [
       "{'bootstrap': True,\n",
       " 'ccp_alpha': 0.0,\n",
       " 'class_weight': None,\n",
       " 'criterion': 'gini',\n",
       " 'max_depth': None,\n",
       " 'max_features': 'auto',\n",
       " 'max_leaf_nodes': None,\n",
       " 'max_samples': None,\n",
       " 'min_impurity_decrease': 0.0,\n",
       " 'min_impurity_split': None,\n",
       " 'min_samples_leaf': 1,\n",
       " 'min_samples_split': 2,\n",
       " 'min_weight_fraction_leaf': 0.0,\n",
       " 'n_estimators': 100,\n",
       " 'n_jobs': None,\n",
       " 'oob_score': False,\n",
       " 'random_state': None,\n",
       " 'verbose': 0,\n",
       " 'warm_start': False}"
      ]
     },
     "execution_count": 54,
     "metadata": {},
     "output_type": "execute_result"
    }
   ],
   "source": [
    "#Se instancia modelo RandomForestClassifier\n",
    "model_rf =  RandomForestClassifier()\n",
    "#Veamos los hiperparámetros del Random Forest y sus valores defaul\n",
    "model_rf.fit(X_train_os, y_train_os)\n",
    "rf_dft_params = model_rf.get_params()\n",
    "rf_dft_params"
   ]
  },
  {
   "cell_type": "markdown",
   "id": "1e01e84f",
   "metadata": {},
   "source": [
    "\n",
    "En esta pagina se puede ver una descripción de los parametros.\n",
    "\n",
    "https://scikit-earn.org/stable/modules/generated/sklearn.ensemble.RandomForestClassifier.html"
   ]
  },
  {
   "cell_type": "code",
   "execution_count": 57,
   "id": "467ccaae",
   "metadata": {},
   "outputs": [
    {
     "name": "stdout",
     "output_type": "stream",
     "text": [
      "La matriz de confusión del modelo  Random Forest Classifier con hiperparámetros default es: \n",
      "[[8088  524]\n",
      " [ 315  181]]\n",
      "\n",
      "El accuracy score del modelo  Random Forest con hiperparámetros default es: 0.91\n",
      "\n",
      "El error de clasificación del modelo Random Forest con hiperparámetros default es: 0.09\n",
      "\n",
      "El recall score del modelo Random Forest con hiperparámetros default es: 0.36\n",
      "\n",
      "La especificidad del modelo Random Forest con hiperparámetros default es: 0.94\n",
      "\n",
      "El false positive rate del Random Forest Tree con hiperparámetros default es: 0.06\n",
      "\n",
      "La precisión del modelo Random Forest con hiperparámetros default es: 0.26\n",
      "\n",
      "              precision    recall  f1-score   support\n",
      "\n",
      "           0       0.96      0.94      0.95      8612\n",
      "           1       0.26      0.36      0.30       496\n",
      "\n",
      "    accuracy                           0.91      9108\n",
      "   macro avg       0.61      0.65      0.63      9108\n",
      "weighted avg       0.92      0.91      0.92      9108\n",
      "\n"
     ]
    }
   ],
   "source": [
    "# Prediccion de la target usando el Random Forest Tree con hiperparametros defaults\n",
    "\n",
    "y_pred_rf_dft = model_rf.predict(X_test)\n",
    "\n",
    "y_pred_proba_rf_dft = model_rf.predict_proba(X_test)\n",
    "\n",
    "\n",
    "\n",
    "# Evaluacion del modelo Random Forest con hiperparametros defaults\n",
    "\n",
    "# Matriz de confusion\n",
    "\n",
    "rf_dft_confmat = confusion_matrix(y_test, y_pred_rf_dft)\n",
    "\n",
    "TN_rf_dft = rf_dft_confmat[0, 0] #True Negatives\n",
    "FP_rf_dft = rf_dft_confmat[0, 1] #False Positives\n",
    "FN_rf_dft = rf_dft_confmat[1, 0] #False Negatives\n",
    "TP_rf_dft = rf_dft_confmat[1, 1] #True Positives\n",
    "\n",
    "# Accuracy Score\n",
    "\n",
    "rf_dft_accuracy = accuracy_score(y_test, y_pred_rf_dft)\n",
    "\n",
    "# Error de clasificacion\n",
    "\n",
    "rf_dft_errclf = 1 - rf_dft_accuracy\n",
    "\n",
    "# Recall\n",
    "\n",
    "rf_dft_recall = recall_score(y_test, y_pred_rf_dft)\n",
    "\n",
    "# Especificidad\n",
    "\n",
    "rf_dft_specificity = TN_rf_dft / (TN_rf_dft + FP_rf_dft)\n",
    "\n",
    "# False Positive Rate\n",
    "\n",
    "rf_dft_fpr = 1 - rf_dft_specificity\n",
    "\n",
    "# Precision\n",
    "\n",
    "rf_dft_precision = precision_score(y_test, y_pred_rf_dft)\n",
    "\n",
    "# F1 Score\n",
    "\n",
    "rf_dft_f1score = precision_score(y_test, y_pred_rf_dft)\n",
    "\n",
    "# Mostramos el conjunto de medidas de evaluacion\n",
    "\n",
    "print(f'La matriz de confusión del modelo  Random Forest Classifier con hiperparámetros default es: \\n{rf_dft_confmat.round(2)}\\n')\n",
    "print(f'El accuracy score del modelo  Random Forest con hiperparámetros default es: {rf_dft_accuracy.round(2)}\\n')\n",
    "print(f'El error de clasificación del modelo Random Forest con hiperparámetros default es: {rf_dft_errclf.round(2)}\\n')\n",
    "print(f'El recall score del modelo Random Forest con hiperparámetros default es: {rf_dft_recall.round(2)}\\n')\n",
    "print(f'La especificidad del modelo Random Forest con hiperparámetros default es: {rf_dft_specificity.round(2)}\\n')\n",
    "print(f'El false positive rate del Random Forest Tree con hiperparámetros default es: {rf_dft_fpr.round(2)}\\n')\n",
    "print(f'La precisión del modelo Random Forest con hiperparámetros default es: {rf_dft_precision.round(2)}\\n')\n",
    "\n",
    "\n",
    "#Resumimos la informacion en el Reporte de Clasificacion.\n",
    "\n",
    "print(classification_report(y_test, y_pred_rf_dft))"
   ]
  },
  {
   "cell_type": "code",
   "execution_count": 58,
   "id": "ddf149e8",
   "metadata": {},
   "outputs": [
    {
     "name": "stdout",
     "output_type": "stream",
     "text": [
      "Execution time is:\n",
      "180.67117595672607\n"
     ]
    }
   ],
   "source": [
    "#Se finaliza temporizador y se calcula tiempo de ejecucion.\n",
    "end = time.time()\n",
    "print('Execution time is:')\n",
    "print(end - start)"
   ]
  },
  {
   "cell_type": "markdown",
   "id": "0dd598f4",
   "metadata": {},
   "source": [
    "### Modelo Random Forest Hiperparámetros óptimos"
   ]
  },
  {
   "cell_type": "code",
   "execution_count": 59,
   "id": "df3a9a98",
   "metadata": {},
   "outputs": [
    {
     "name": "stdout",
     "output_type": "stream",
     "text": [
      "{'n_estimators': [50, 100, 500], 'max_features': ['auto', 'sqrt'], 'max_depth': [1, 2, 3, 4], 'criterion': ['gini', 'entropy']}\n"
     ]
    }
   ],
   "source": [
    "start = time.time()\n",
    "#Preparamos un GridSearch para encontrar el mejor hiperparametro\n",
    "model_rf_gs = RandomForestClassifier()\n",
    "\n",
    "# Utilizando el siguiente diccionario de parametros, optimizar los hiperparámetros.\n",
    "\n",
    "param_grid = {  \n",
    "    \"n_estimators\": [50,100,500],      # Number of boosted trees to fit.\n",
    "    \"max_features\": ['auto', 'sqrt'],\n",
    "    \"max_depth\": [1,2,3,4],            # Maximum tree depth for base learners.\n",
    "    \"criterion\": ['gini', 'entropy']\n",
    "}\n",
    "\n",
    "print(param_grid)\n",
    "\n",
    "# Indicamos 10 folds para luego hacer cross validation\n",
    "\n",
    "folds=StratifiedKFold(n_splits=10, random_state=42, shuffle=True)"
   ]
  },
  {
   "cell_type": "code",
   "execution_count": 60,
   "id": "c59ae882",
   "metadata": {},
   "outputs": [],
   "source": [
    "# F1\n",
    "grid_f1_rf =  GridSearchCV(model_rf_gs, param_grid, n_jobs=-2, cv=folds, scoring='f1')\n",
    "# Recall\n",
    "grid_recall_rf =  GridSearchCV(model_rf_gs, param_grid, n_jobs=-2, cv=folds, scoring='recall')\n",
    "# Precision\n",
    "grid_precision_rf =  GridSearchCV(model_rf_gs, param_grid, n_jobs=-2, cv=folds, scoring='precision')"
   ]
  },
  {
   "cell_type": "code",
   "execution_count": 61,
   "id": "d90aea5e",
   "metadata": {},
   "outputs": [
    {
     "data": {
      "text/plain": [
       "GridSearchCV(cv=StratifiedKFold(n_splits=10, random_state=42, shuffle=True),\n",
       "             estimator=RandomForestClassifier(), n_jobs=-2,\n",
       "             param_grid={'criterion': ['gini', 'entropy'],\n",
       "                         'max_depth': [1, 2, 3, 4],\n",
       "                         'max_features': ['auto', 'sqrt'],\n",
       "                         'n_estimators': [50, 100, 500]},\n",
       "             scoring='precision')"
      ]
     },
     "execution_count": 61,
     "metadata": {},
     "output_type": "execute_result"
    }
   ],
   "source": [
    "# entrenamos el grid search\n",
    "#GScv con F1-score\n",
    "grid_f1_rf.fit(X_train_os, y_train_os)\n",
    "#GScv cpn Recall\n",
    "grid_recall_rf.fit(X_train_os, y_train_os)\n",
    "#GScv con Precision\n",
    "grid_precision_rf.fit(X_train_os, y_train_os)"
   ]
  },
  {
   "cell_type": "code",
   "execution_count": 62,
   "id": "66392008",
   "metadata": {},
   "outputs": [
    {
     "name": "stdout",
     "output_type": "stream",
     "text": [
      "Mejores parametros para f1: {'criterion': 'gini', 'max_depth': 4, 'max_features': 'auto', 'n_estimators': 100}\n",
      "Mejores parametros para recall: {'criterion': 'gini', 'max_depth': 4, 'max_features': 'sqrt', 'n_estimators': 500}\n",
      "Mejores parametros para precision: {'criterion': 'entropy', 'max_depth': 4, 'max_features': 'sqrt', 'n_estimators': 50}\n"
     ]
    }
   ],
   "source": [
    "#Imprimimos los estimadores seleccionados en cada GScv:\n",
    "print(\"Mejores parametros para f1:\", grid_f1_rf.best_params_)\n",
    "print(\"Mejores parametros para recall:\", grid_recall_rf.best_params_)\n",
    "print(\"Mejores parametros para precision:\", grid_precision_rf.best_params_)\n"
   ]
  },
  {
   "cell_type": "code",
   "execution_count": 63,
   "id": "f8e5fda0",
   "metadata": {},
   "outputs": [
    {
     "name": "stdout",
     "output_type": "stream",
     "text": [
      "Mejores parametros para f1: RandomForestClassifier(max_depth=4)\n",
      "Mejores parametros para recall: RandomForestClassifier(max_depth=4, max_features='sqrt', n_estimators=500)\n",
      "Mejores parametros para precision: RandomForestClassifier(criterion='entropy', max_depth=4, max_features='sqrt',\n",
      "                       n_estimators=50)\n"
     ]
    }
   ],
   "source": [
    "#Imprimimos los estimadores seleccionados en cada GScv:\n",
    "grid_f1_rf_best=grid_f1_rf.best_estimator_\n",
    "grid_recall_rf_best=grid_recall_rf.best_estimator_\n",
    "grid_precision_rf_best=grid_precision_rf.best_estimator_\n",
    "print(\"Mejores parametros para f1:\", grid_f1_rf.best_estimator_)\n",
    "print(\"Mejores parametros para recall:\", grid_recall_rf.best_estimator_)\n",
    "print(\"Mejores parametros para precision:\", grid_precision_rf.best_estimator_)"
   ]
  },
  {
   "cell_type": "code",
   "execution_count": 64,
   "id": "a6fc8ba3",
   "metadata": {},
   "outputs": [
    {
     "name": "stdout",
     "output_type": "stream",
     "text": [
      "Mejor puntaje de f1-score: 0.7917439951105107\n",
      "Mejor puntaje de recall: 0.7901751323026481\n",
      "Mejor puntaje de precision: 0.7939128839506076\n"
     ]
    }
   ],
   "source": [
    "#imprimimos los mejores scores de cada GScv\n",
    "print(\"Mejor puntaje de f1-score:\", grid_f1_rf.best_score_)\n",
    "print(\"Mejor puntaje de recall:\", grid_recall_rf.best_score_)\n",
    "print(\"Mejor puntaje de precision:\", grid_precision_rf.best_score_)"
   ]
  },
  {
   "cell_type": "code",
   "execution_count": 65,
   "id": "aae9692e",
   "metadata": {},
   "outputs": [],
   "source": [
    "# Prediccion de la target usando el modelo Random Forest Classifier Optimizado\n",
    "y_pred_grid_rf_f1 = grid_f1_rf.predict(X_test)\n",
    "\n",
    "y_pred_grid_rf_recall = grid_recall_rf.predict(X_test)\n",
    "\n",
    "y_pred_grid_rf_precision = grid_precision_rf.predict(X_test)"
   ]
  },
  {
   "cell_type": "code",
   "execution_count": 66,
   "id": "f13938c8",
   "metadata": {},
   "outputs": [
    {
     "name": "stdout",
     "output_type": "stream",
     "text": [
      "y_pred_grid_rf_f1:\n",
      "               precision    recall  f1-score   support\n",
      "\n",
      "           0       0.98      0.78      0.87      8612\n",
      "           1       0.16      0.74      0.27       496\n",
      "\n",
      "    accuracy                           0.78      9108\n",
      "   macro avg       0.57      0.76      0.57      9108\n",
      "weighted avg       0.94      0.78      0.84      9108\n",
      "\n",
      "y_pred_grid_rf_recall:\n",
      "               precision    recall  f1-score   support\n",
      "\n",
      "           0       0.98      0.78      0.87      8612\n",
      "           1       0.17      0.76      0.27       496\n",
      "\n",
      "    accuracy                           0.78      9108\n",
      "   macro avg       0.57      0.77      0.57      9108\n",
      "weighted avg       0.94      0.78      0.84      9108\n",
      "\n",
      "y_pred_grid_rf-precision:\n",
      "               precision    recall  f1-score   support\n",
      "\n",
      "           0       0.98      0.78      0.87      8612\n",
      "           1       0.17      0.77      0.27       496\n",
      "\n",
      "    accuracy                           0.78      9108\n",
      "   macro avg       0.58      0.77      0.57      9108\n",
      "weighted avg       0.94      0.78      0.84      9108\n",
      "\n"
     ]
    }
   ],
   "source": [
    "#Reporte de Clasificacion\n",
    "from sklearn.metrics import classification_report, confusion_matrix\n",
    "print (f\"y_pred_grid_rf_f1:\\n\",\n",
    "       classification_report(y_test, y_pred_grid_rf_f1))\n",
    "print (f\"y_pred_grid_rf_recall:\\n\",\n",
    "       classification_report(y_test, y_pred_grid_rf_recall))\n",
    "print (f\"y_pred_grid_rf-precision:\\n\",\n",
    "       classification_report(y_test, y_pred_grid_rf_precision))"
   ]
  },
  {
   "cell_type": "code",
   "execution_count": 167,
   "id": "7f20ddca",
   "metadata": {},
   "outputs": [
    {
     "name": "stdout",
     "output_type": "stream",
     "text": [
      "y_pred_grid_f1 confusion matrix: \n",
      " [[6723 1889]\n",
      " [ 129  367]]\n",
      "y_pred_grid_recall confusion matrix: \n",
      " [[6719 1893]\n",
      " [ 117  379]]\n",
      "y_pred_grid_precision confusion matrix: \n",
      " [[6717 1895]\n",
      " [ 115  381]]\n"
     ]
    }
   ],
   "source": [
    "#Matriz de Confusion\n",
    "confusion_f1_rf = confusion_matrix(y_test, y_pred_grid_rf_f1)\n",
    "print(f\"y_pred_grid_f1 confusion matrix: \\n\", confusion_f1_rf)\n",
    "confusion_recall_rf = confusion_matrix(y_test, y_pred_grid_rf_recall)\n",
    "print(f\"y_pred_grid_recall confusion matrix: \\n\",confusion_recall_rf)\n",
    "confusion_precision_rf = confusion_matrix(y_test, y_pred_grid_rf_precision)\n",
    "print(f\"y_pred_grid_precision confusion matrix: \\n\",confusion_precision_rf)"
   ]
  },
  {
   "cell_type": "code",
   "execution_count": 70,
   "id": "ca28557e",
   "metadata": {},
   "outputs": [
    {
     "name": "stdout",
     "output_type": "stream",
     "text": [
      "Execution time is:\n",
      "2287.470594406128\n"
     ]
    }
   ],
   "source": [
    "end = time.time()\n",
    "print('Execution time is:')\n",
    "print(end - start)"
   ]
  },
  {
   "cell_type": "code",
   "execution_count": 71,
   "id": "d26b5410",
   "metadata": {},
   "outputs": [
    {
     "name": "stdout",
     "output_type": "stream",
     "text": [
      "dump sucess\n",
      "dump sucess\n",
      "dump sucess\n"
     ]
    }
   ],
   "source": [
    "#Guradamos modelos en disco\n",
    "with open('rf_f1.pkl','wb') as f:\n",
    "    pickle.dump(grid_f1_rf,f)\n",
    "    print('dump sucess')\n",
    "\n",
    "with open('rf_recall.pkl','wb') as f:\n",
    "    pickle.dump(grid_recall_rf,f)\n",
    "    print('dump sucess')\n",
    "\n",
    "with open('rf_precision.pkl','wb') as f:\n",
    "    pickle.dump(grid_precision_rf,f)\n",
    "    print('dump sucess')\n"
   ]
  },
  {
   "cell_type": "markdown",
   "id": "2711e4ba",
   "metadata": {},
   "source": [
    "### Random Forest - Importancia de las features"
   ]
  },
  {
   "cell_type": "code",
   "execution_count": 74,
   "id": "b515a1c6",
   "metadata": {},
   "outputs": [],
   "source": [
    "important_features = list(zip(X_train_os.columns,model_rf.feature_importances_))\n",
    "sorted_features = sorted(important_features, key=lambda x: x[1])"
   ]
  },
  {
   "cell_type": "code",
   "execution_count": 75,
   "id": "6d2529f6",
   "metadata": {},
   "outputs": [
    {
     "data": {
      "image/png": "[encoded data removed]",
      "text/plain": [
       "<Figure size 576x1152 with 1 Axes>"
      ]
     },
     "metadata": {
      "needs_background": "light"
     },
     "output_type": "display_data"
    }
   ],
   "source": [
    "importance = []\n",
    "feature_names = []\n",
    "plt.figure(figsize=(8, 16))\n",
    "n_features = X_train_os.shape[1]\n",
    "for i in sorted_features:\n",
    "    feature_names.append(i[0])\n",
    "    importance.append(i[1])\n",
    "    \n",
    "plt.barh(range(n_features), importance)\n",
    "plt.yticks(np.arange(n_features), feature_names)\n",
    "plt.xlabel('Feature importance')\n",
    "plt.ylabel('Feature')\n",
    "plt.show()\n"
   ]
  },
  {
   "cell_type": "markdown",
   "id": "8a4ce341",
   "metadata": {},
   "source": [
    "# XGBOOST"
   ]
  },
  {
   "cell_type": "code",
   "execution_count": 76,
   "id": "38ee3d6d",
   "metadata": {},
   "outputs": [],
   "source": [
    "#Inicializamos temporizador\n",
    "import time\n",
    "start = time.time()"
   ]
  },
  {
   "cell_type": "code",
   "execution_count": 77,
   "id": "193a29b9",
   "metadata": {},
   "outputs": [],
   "source": [
    "#importamos xgboost\n",
    "from xgboost.sklearn import XGBClassifier"
   ]
  },
  {
   "cell_type": "markdown",
   "id": "5c932074",
   "metadata": {},
   "source": [
    "### Modelo base XGBOOST: Hiperparámetros default"
   ]
  },
  {
   "cell_type": "code",
   "execution_count": 79,
   "id": "4364a7e2",
   "metadata": {},
   "outputs": [],
   "source": [
    "#Renombramos columnas por nombre invalida para este algoritmo\n",
    "X_train_os = X_train_os.rename(columns={'age_cat_(34.0, 44.0]':'age_cat_1',\n",
    "                                        'age_cat_(44.0, 69.0]':'age_cat_2'})"
   ]
  },
  {
   "cell_type": "code",
   "execution_count": 81,
   "id": "8bca5320",
   "metadata": {},
   "outputs": [
    {
     "name": "stdout",
     "output_type": "stream",
     "text": [
      "[20:12:08] WARNING: C:/Users/Administrator/workspace/xgboost-win64_release_1.4.0/src/learner.cc:1095: Starting in XGBoost 1.3.0, the default evaluation metric used with the objective 'binary:logistic' was changed from 'error' to 'logloss'. Explicitly set eval_metric if you'd like to restore the old behavior.\n"
     ]
    },
    {
     "data": {
      "text/plain": [
       "{'objective': 'binary:logistic',\n",
       " 'use_label_encoder': False,\n",
       " 'base_score': 0.5,\n",
       " 'booster': 'gbtree',\n",
       " 'colsample_bylevel': 1,\n",
       " 'colsample_bynode': 1,\n",
       " 'colsample_bytree': 1,\n",
       " 'gamma': 0,\n",
       " 'gpu_id': -1,\n",
       " 'importance_type': 'gain',\n",
       " 'interaction_constraints': '',\n",
       " 'learning_rate': 0.300000012,\n",
       " 'max_delta_step': 0,\n",
       " 'max_depth': 6,\n",
       " 'min_child_weight': 1,\n",
       " 'missing': nan,\n",
       " 'monotone_constraints': '()',\n",
       " 'n_estimators': 100,\n",
       " 'n_jobs': -1,\n",
       " 'num_parallel_tree': 1,\n",
       " 'random_state': 0,\n",
       " 'reg_alpha': 0,\n",
       " 'reg_lambda': 1,\n",
       " 'scale_pos_weight': 1,\n",
       " 'subsample': 1,\n",
       " 'tree_method': 'exact',\n",
       " 'validate_parameters': 1,\n",
       " 'verbosity': None}"
      ]
     },
     "execution_count": 81,
     "metadata": {},
     "output_type": "execute_result"
    }
   ],
   "source": [
    "model_xgb = XGBClassifier(n_jobs=-1, use_label_encoder=False)\n",
    "#Veamos los hiperparámetros del XGBOOST y sus valores defaul\n",
    "model_xgb.fit(X_train_os, y_train_os)\n",
    "xgb_dft_params = model_xgb.get_params()\n",
    "xgb_dft_params"
   ]
  },
  {
   "cell_type": "markdown",
   "id": "f121b6b4",
   "metadata": {},
   "source": [
    "En https://xgboost.readthedocs.io/en/latest/index.html se puede ver la descripcion de los modelo XGBOOST"
   ]
  },
  {
   "cell_type": "code",
   "execution_count": 82,
   "id": "d5fc7117",
   "metadata": {},
   "outputs": [],
   "source": [
    "# Prediccion de la target usando el XGBOOST con hiperparametros defaults\n",
    "\n",
    "y_pred_xgb_dft = model_xgb.predict(X_test)\n",
    "\n",
    "y_pred_proba_xgb_dft = model_xgb.predict_proba(X_test)"
   ]
  },
  {
   "cell_type": "code",
   "execution_count": 85,
   "id": "82ab0d2b",
   "metadata": {},
   "outputs": [
    {
     "name": "stdout",
     "output_type": "stream",
     "text": [
      "La matriz de confusión del modelo  XGBOOST Classifier con hiperparámetros default es: \n",
      "[[7646  966]\n",
      " [ 193  303]]\n",
      "\n",
      "El accuracy score del modelo  XGBOOST con hiperparámetros default es: 0.87\n",
      "\n",
      "El error de clasificación del modelo XGBOOST con hiperparámetros default es: 0.13\n",
      "\n",
      "El recall score del modelo XGBOOST con hiperparámetros default es: 0.61\n",
      "\n",
      "La especificidad del modelo XGBOOST con hiperparámetros default es: 0.89\n",
      "\n",
      "El false positive rate del XGBOOST con hiperparámetros default es: 0.11\n",
      "\n",
      "La precisión del modelo XGBOOST con hiperparámetros default es: 0.24\n",
      "\n",
      "              precision    recall  f1-score   support\n",
      "\n",
      "           0       0.98      0.89      0.93      8612\n",
      "           1       0.24      0.61      0.34       496\n",
      "\n",
      "    accuracy                           0.87      9108\n",
      "   macro avg       0.61      0.75      0.64      9108\n",
      "weighted avg       0.94      0.87      0.90      9108\n",
      "\n"
     ]
    }
   ],
   "source": [
    "# Evaluacion del modelo XGBOOST con hiperparametros defaults\n",
    "\n",
    "# Matriz de confusion\n",
    "\n",
    "xgb_dft_confmat = confusion_matrix(y_test, y_pred_xgb_dft)\n",
    "\n",
    "TN_xgb_dft = xgb_dft_confmat[0, 0] #True Negatives\n",
    "FP_xgb_dft = xgb_dft_confmat[0, 1] #False Positives\n",
    "FN_xgb_dft = xgb_dft_confmat[1, 0] #False Negatives\n",
    "TP_xgb_dft = xgb_dft_confmat[1, 1] #True Positives\n",
    "\n",
    "# Accuracy Score\n",
    "\n",
    "xgb_dft_accuracy = accuracy_score(y_test, y_pred_xgb_dft)\n",
    "\n",
    "# Error de clasificacion\n",
    "\n",
    "xgb_dft_errclf = 1 - xgb_dft_accuracy\n",
    "\n",
    "# Recall\n",
    "\n",
    "xgb_dft_recall = recall_score(y_test, y_pred_xgb_dft)\n",
    "\n",
    "# Especificidad\n",
    "\n",
    "xgb_dft_specificity = TN_xgb_dft / (TN_xgb_dft + FP_xgb_dft)\n",
    "\n",
    "# False Positive Rate\n",
    "\n",
    "xgb_dft_fpr = 1 - xgb_dft_specificity\n",
    "\n",
    "# Precision\n",
    "\n",
    "xgb_dft_precision = precision_score(y_test, y_pred_xgb_dft)\n",
    "\n",
    "# F1 Score\n",
    "\n",
    "xgb_dft_f1score = precision_score(y_test, y_pred_xgb_dft)\n",
    "\n",
    "# Mostramos el conjunto de medidas de evaluacion\n",
    "\n",
    "print(f'La matriz de confusión del modelo  XGBOOST Classifier con hiperparámetros default es: \\n{xgb_dft_confmat.round(2)}\\n')\n",
    "print(f'El accuracy score del modelo  XGBOOST con hiperparámetros default es: {xgb_dft_accuracy.round(2)}\\n')\n",
    "print(f'El error de clasificación del modelo XGBOOST con hiperparámetros default es: {xgb_dft_errclf.round(2)}\\n')\n",
    "print(f'El recall score del modelo XGBOOST con hiperparámetros default es: {xgb_dft_recall.round(2)}\\n')\n",
    "print(f'La especificidad del modelo XGBOOST con hiperparámetros default es: {xgb_dft_specificity.round(2)}\\n')\n",
    "print(f'El false positive rate del XGBOOST con hiperparámetros default es: {xgb_dft_fpr.round(2)}\\n')\n",
    "print(f'La precisión del modelo XGBOOST con hiperparámetros default es: {xgb_dft_precision.round(2)}\\n')\n",
    "\n",
    "\n",
    "#Resumimos la informacion en el Reporte de Clasificacion.\n",
    "\n",
    "print(classification_report(y_test, y_pred_xgb_dft))"
   ]
  },
  {
   "cell_type": "code",
   "execution_count": 86,
   "id": "4732e01c",
   "metadata": {},
   "outputs": [
    {
     "name": "stdout",
     "output_type": "stream",
     "text": [
      "Execution time is:\n",
      "183.2981390953064\n"
     ]
    }
   ],
   "source": [
    "#finalizamos temporizador y medimos el tiempo de ejecucion\n",
    "end = time.time()\n",
    "print('Execution time is:')\n",
    "print(end - start)"
   ]
  },
  {
   "cell_type": "markdown",
   "id": "541dde73",
   "metadata": {},
   "source": [
    "### Modelo XGBOOST Hiperparámetros óptimos"
   ]
  },
  {
   "cell_type": "code",
   "execution_count": 87,
   "id": "8122bad6",
   "metadata": {},
   "outputs": [],
   "source": [
    "# se inica temporizador\n",
    "start = time.time()"
   ]
  },
  {
   "cell_type": "code",
   "execution_count": 90,
   "id": "8878680f",
   "metadata": {},
   "outputs": [
    {
     "name": "stdout",
     "output_type": "stream",
     "text": [
      "{'n_estimators': [50, 100, 500], 'max_depth': [1, 2, 3, 4], 'learning_rate': [0.01, 0.1]}\n"
     ]
    }
   ],
   "source": [
    "#Preparamos un GridSearch para encontrar el mejor hiperparametro\n",
    "model_xgb_gs = XGBClassifier(n_jobs=-1, use_label_encoder=False)\n",
    "\n",
    "\n",
    "# Utilizando el siguiente diccionario de parametros, optimizar los hiperparámetros.\n",
    "\n",
    "param_grid = {  \n",
    "    \"n_estimators\": [50,100,500],      # Number of boosted trees to fit.\n",
    "    \"max_depth\": [1,2,3,4],            # Maximum tree depth for base learners.\n",
    "    \"learning_rate\": [0.01, 0.1],      # Boosting learning rate (xgb’s “eta”)\n",
    "}\n",
    "print(param_grid)\n",
    "\n",
    "# Indicamos 10 folds para luego hacer cross validation\n",
    "folds=StratifiedKFold(n_splits=10, random_state=42, shuffle=True)"
   ]
  },
  {
   "cell_type": "code",
   "execution_count": 91,
   "id": "894936b3",
   "metadata": {},
   "outputs": [],
   "source": [
    "#Gridsearch\n",
    "# F1\n",
    "grid_f1_xgb =  GridSearchCV(model_xgb_gs, param_grid, n_jobs=-2, cv=folds, scoring='f1')\n",
    "# Recall\n",
    "grid_recall_xgb =  GridSearchCV(model_xgb_gs, param_grid, n_jobs=-2, cv=folds, scoring='recall')\n",
    "# Precision\n",
    "grid_precision_xgb =  GridSearchCV(model_xgb_gs, param_grid,  n_jobs=-2, cv=folds, scoring='precision')"
   ]
  },
  {
   "cell_type": "code",
   "execution_count": 92,
   "id": "6f8785d6",
   "metadata": {},
   "outputs": [
    {
     "name": "stdout",
     "output_type": "stream",
     "text": [
      "[20:29:19] WARNING: C:/Users/Administrator/workspace/xgboost-win64_release_1.4.0/src/learner.cc:1095: Starting in XGBoost 1.3.0, the default evaluation metric used with the objective 'binary:logistic' was changed from 'error' to 'logloss'. Explicitly set eval_metric if you'd like to restore the old behavior.\n",
      "[20:38:52] WARNING: C:/Users/Administrator/workspace/xgboost-win64_release_1.4.0/src/learner.cc:1095: Starting in XGBoost 1.3.0, the default evaluation metric used with the objective 'binary:logistic' was changed from 'error' to 'logloss'. Explicitly set eval_metric if you'd like to restore the old behavior.\n",
      "[20:46:40] WARNING: C:/Users/Administrator/workspace/xgboost-win64_release_1.4.0/src/learner.cc:1095: Starting in XGBoost 1.3.0, the default evaluation metric used with the objective 'binary:logistic' was changed from 'error' to 'logloss'. Explicitly set eval_metric if you'd like to restore the old behavior.\n"
     ]
    },
    {
     "data": {
      "text/plain": [
       "GridSearchCV(cv=StratifiedKFold(n_splits=10, random_state=42, shuffle=True),\n",
       "             estimator=XGBClassifier(base_score=None, booster=None,\n",
       "                                     colsample_bylevel=None,\n",
       "                                     colsample_bynode=None,\n",
       "                                     colsample_bytree=None, gamma=None,\n",
       "                                     gpu_id=None, importance_type='gain',\n",
       "                                     interaction_constraints=None,\n",
       "                                     learning_rate=None, max_delta_step=None,\n",
       "                                     max_depth=None, min_child_weight=None,\n",
       "                                     missi...raints=None,\n",
       "                                     n_estimators=100, n_jobs=-1,\n",
       "                                     num_parallel_tree=None, random_state=None,\n",
       "                                     reg_alpha=None, reg_lambda=None,\n",
       "                                     scale_pos_weight=None, subsample=None,\n",
       "                                     tree_method=None, use_label_encoder=False,\n",
       "                                     validate_parameters=None, verbosity=None),\n",
       "             n_jobs=-2,\n",
       "             param_grid={'learning_rate': [0.01, 0.1],\n",
       "                         'max_depth': [1, 2, 3, 4],\n",
       "                         'n_estimators': [50, 100, 500]},\n",
       "             scoring='precision')"
      ]
     },
     "execution_count": 92,
     "metadata": {},
     "output_type": "execute_result"
    }
   ],
   "source": [
    "# entrenamos el grid search\n",
    "#GScv con F1-score\n",
    "grid_f1_xgb.fit(X_train_os, y_train_os)\n",
    "#GScv cpn Recall\n",
    "grid_recall_xgb.fit(X_train_os, y_train_os)\n",
    "#GScv con Precision\n",
    "grid_precision_xgb.fit(X_train_os, y_train_os)"
   ]
  },
  {
   "cell_type": "code",
   "execution_count": 93,
   "id": "2097e88f",
   "metadata": {},
   "outputs": [
    {
     "name": "stdout",
     "output_type": "stream",
     "text": [
      "Mejores parametros para f1: {'learning_rate': 0.1, 'max_depth': 4, 'n_estimators': 500}\n",
      "Mejores parametros para recall: {'learning_rate': 0.1, 'max_depth': 4, 'n_estimators': 500}\n",
      "Mejores parametros para precision: {'learning_rate': 0.1, 'max_depth': 4, 'n_estimators': 500}\n"
     ]
    }
   ],
   "source": [
    "#Imprimimos los estimadores seleccionados en cada GScv:\n",
    "print(\"Mejores parametros para f1:\", grid_f1_xgb.best_params_)\n",
    "print(\"Mejores parametros para recall:\", grid_recall_xgb.best_params_)\n",
    "print(\"Mejores parametros para precision:\", grid_precision_xgb.best_params_)\n"
   ]
  },
  {
   "cell_type": "code",
   "execution_count": 95,
   "id": "0e14f7e9",
   "metadata": {},
   "outputs": [
    {
     "name": "stdout",
     "output_type": "stream",
     "text": [
      "Mejores parametros para f1: XGBClassifier(base_score=0.5, booster='gbtree', colsample_bylevel=1,\n",
      "              colsample_bynode=1, colsample_bytree=1, gamma=0, gpu_id=-1,\n",
      "              importance_type='gain', interaction_constraints='',\n",
      "              learning_rate=0.1, max_delta_step=0, max_depth=4,\n",
      "              min_child_weight=1, missing=nan, monotone_constraints='()',\n",
      "              n_estimators=500, n_jobs=-1, num_parallel_tree=1, random_state=0,\n",
      "              reg_alpha=0, reg_lambda=1, scale_pos_weight=1, subsample=1,\n",
      "              tree_method='exact', use_label_encoder=False,\n",
      "              validate_parameters=1, verbosity=None)\n",
      "Mejores parametros para recall: XGBClassifier(base_score=0.5, booster='gbtree', colsample_bylevel=1,\n",
      "              colsample_bynode=1, colsample_bytree=1, gamma=0, gpu_id=-1,\n",
      "              importance_type='gain', interaction_constraints='',\n",
      "              learning_rate=0.1, max_delta_step=0, max_depth=4,\n",
      "              min_child_weight=1, missing=nan, monotone_constraints='()',\n",
      "              n_estimators=500, n_jobs=-1, num_parallel_tree=1, random_state=0,\n",
      "              reg_alpha=0, reg_lambda=1, scale_pos_weight=1, subsample=1,\n",
      "              tree_method='exact', use_label_encoder=False,\n",
      "              validate_parameters=1, verbosity=None)\n",
      "Mejores parametros para precision: XGBClassifier(base_score=0.5, booster='gbtree', colsample_bylevel=1,\n",
      "              colsample_bynode=1, colsample_bytree=1, gamma=0, gpu_id=-1,\n",
      "              importance_type='gain', interaction_constraints='',\n",
      "              learning_rate=0.1, max_delta_step=0, max_depth=4,\n",
      "              min_child_weight=1, missing=nan, monotone_constraints='()',\n",
      "              n_estimators=500, n_jobs=-1, num_parallel_tree=1, random_state=0,\n",
      "              reg_alpha=0, reg_lambda=1, scale_pos_weight=1, subsample=1,\n",
      "              tree_method='exact', use_label_encoder=False,\n",
      "              validate_parameters=1, verbosity=None)\n"
     ]
    }
   ],
   "source": [
    "#Imprimimos los estimadores seleccionados en cada GScv:\n",
    "grid_f1_xgb_best=grid_f1_xgb.best_estimator_\n",
    "grid_recall_xgb_best_best=grid_recall_xgb.best_estimator_\n",
    "grid_precision_xgb_best=grid_precision_xgb.best_estimator_\n",
    "\n",
    "print(\"Mejores parametros para f1:\", grid_f1_xgb.best_estimator_)\n",
    "print(\"Mejores parametros para recall:\", grid_recall_xgb.best_estimator_)\n",
    "print(\"Mejores parametros para precision:\", grid_precision_xgb.best_estimator_)"
   ]
  },
  {
   "cell_type": "code",
   "execution_count": 97,
   "id": "84a3a1de",
   "metadata": {},
   "outputs": [
    {
     "name": "stdout",
     "output_type": "stream",
     "text": [
      "Mejor puntaje de f1-score: 0.8525407367943281\n",
      "Mejor puntaje de recall: 0.8268553945058184\n",
      "Mejor puntaje de precision: 0.8799492435243526\n"
     ]
    }
   ],
   "source": [
    "#imprimimos los mejores scores de cada GScv\n",
    "print(\"Mejor puntaje de f1-score:\", grid_f1_xgb.best_score_)\n",
    "print(\"Mejor puntaje de recall:\", grid_recall_xgb.best_score_)\n",
    "print(\"Mejor puntaje de precision:\", grid_precision_xgb.best_score_)"
   ]
  },
  {
   "cell_type": "code",
   "execution_count": 98,
   "id": "2c0c4ab5",
   "metadata": {},
   "outputs": [],
   "source": [
    "# Prediccion de la target usando el modelo XGBOOST \n",
    "y_pred_grid_xgb_f1 = grid_f1_xgb.predict(X_test)\n",
    "y_pred_grid_xgb_recall = grid_recall_xgb.predict(X_test)\n",
    "y_pred_grid_xgb_precision = grid_precision_xgb.predict(X_test)"
   ]
  },
  {
   "cell_type": "code",
   "execution_count": 106,
   "id": "f7a02c16",
   "metadata": {},
   "outputs": [
    {
     "name": "stdout",
     "output_type": "stream",
     "text": [
      "y_pred_grid_xgb_f1:\n",
      "               precision    recall  f1-score   support\n",
      "\n",
      "           0       0.98      0.88      0.93      8612\n",
      "           1       0.24      0.68      0.36       496\n",
      "\n",
      "    accuracy                           0.87      9108\n",
      "   macro avg       0.61      0.78      0.64      9108\n",
      "weighted avg       0.94      0.87      0.89      9108\n",
      "\n",
      "y_pred_grid_xgb_recall:\n",
      "               precision    recall  f1-score   support\n",
      "\n",
      "           0       0.98      0.88      0.93      8612\n",
      "           1       0.24      0.68      0.36       496\n",
      "\n",
      "    accuracy                           0.87      9108\n",
      "   macro avg       0.61      0.78      0.64      9108\n",
      "weighted avg       0.94      0.87      0.89      9108\n",
      "\n",
      "y_pred_grid_xgb-precision:\n",
      "               precision    recall  f1-score   support\n",
      "\n",
      "           0       0.98      0.88      0.93      8612\n",
      "           1       0.24      0.68      0.36       496\n",
      "\n",
      "    accuracy                           0.87      9108\n",
      "   macro avg       0.61      0.78      0.64      9108\n",
      "weighted avg       0.94      0.87      0.89      9108\n",
      "\n"
     ]
    }
   ],
   "source": [
    "#Reporte de Clasificacion\n",
    "from sklearn.metrics import classification_report, confusion_matrix\n",
    "print (f\"y_pred_grid_xgb_f1:\\n\",\n",
    "       classification_report(y_test, y_pred_grid_xgb_f1))\n",
    "print (f\"y_pred_grid_xgb_recall:\\n\",\n",
    "       classification_report(y_test, y_pred_grid_xgb_recall))\n",
    "print (f\"y_pred_grid_xgb-precision:\\n\",\n",
    "       classification_report(y_test, y_pred_grid_xgb_precision))"
   ]
  },
  {
   "cell_type": "code",
   "execution_count": 109,
   "id": "c9400f3e",
   "metadata": {},
   "outputs": [
    {
     "name": "stdout",
     "output_type": "stream",
     "text": [
      "y_pred_grid_f1 confusion matrix: \n",
      " [[7561 1051]\n",
      " [ 159  337]]\n",
      "y_pred_grid_recall confusion matrix: \n",
      " [[7561 1051]\n",
      " [ 159  337]]\n",
      "y_pred_grid_precision confusion matrix: \n",
      " [[7561 1051]\n",
      " [ 159  337]]\n"
     ]
    }
   ],
   "source": [
    "#Matriz de Confusion\n",
    "confusion_f1_xgb = confusion_matrix(y_test, y_pred_grid_xgb_f1)\n",
    "print(f\"y_pred_grid_f1 confusion matrix: \\n\", confusion_f1_xgb)\n",
    "confusion_recall_xgb = confusion_matrix(y_test, y_pred_grid_xgb_recall)\n",
    "print(f\"y_pred_grid_recall confusion matrix: \\n\",confusion_recall_xgb)\n",
    "confusion_precision_xgb = confusion_matrix(y_test, y_pred_grid_xgb_precision)\n",
    "print(f\"y_pred_grid_precision confusion matrix: \\n\",confusion_precision_xgb)"
   ]
  },
  {
   "cell_type": "code",
   "execution_count": 110,
   "id": "0b1e61e5",
   "metadata": {},
   "outputs": [
    {
     "name": "stdout",
     "output_type": "stream",
     "text": [
      "Execution time is:\n",
      "2744.762835741043\n"
     ]
    }
   ],
   "source": [
    "#Finaliza temporizador y mide tiempo de ejecucion\n",
    "end = time.time()\n",
    "print('Execution time is:')\n",
    "print(end - start)"
   ]
  },
  {
   "cell_type": "code",
   "execution_count": 184,
   "id": "eaff1c0e",
   "metadata": {},
   "outputs": [
    {
     "name": "stdout",
     "output_type": "stream",
     "text": [
      "dump sucess\n"
     ]
    }
   ],
   "source": [
    "#Se guarda mejor modelo de GXBOOST en disco\n",
    "with open('xgboost_f1.pkl','wb') as f:\n",
    "    pickle.dump(grid_f1_xgb,f)\n",
    "    print('dump sucess')"
   ]
  },
  {
   "cell_type": "markdown",
   "id": "f6327bb2",
   "metadata": {},
   "source": [
    "### XGBOOST - Importancia de las features"
   ]
  },
  {
   "cell_type": "code",
   "execution_count": 156,
   "id": "245d4b5e",
   "metadata": {},
   "outputs": [
    {
     "data": {
      "text/plain": [
       "array([0.01042385, 0.0108292 , 0.02035314, 0.01309848, 0.537626  ,\n",
       "       0.02967554, 0.02338985, 0.01882701, 0.17848377, 0.01215204,\n",
       "       0.01682375, 0.0149356 , 0.0109996 , 0.01783635, 0.01103012,\n",
       "       0.01053535, 0.01251207, 0.01244761, 0.01203779, 0.01238559,\n",
       "       0.01359723], dtype=float32)"
      ]
     },
     "execution_count": 156,
     "metadata": {},
     "output_type": "execute_result"
    }
   ],
   "source": [
    "grid_f1_xgb_best.feature_importances_"
   ]
  },
  {
   "cell_type": "code",
   "execution_count": 157,
   "id": "f8a2abaf",
   "metadata": {},
   "outputs": [
    {
     "data": {
      "text/plain": [
       "<BarContainer object of 21 artists>"
      ]
     },
     "execution_count": 157,
     "metadata": {},
     "output_type": "execute_result"
    },
    {
     "data": {
      "image/png": "[encoded data removed]",
      "text/plain": [
       "<Figure size 432x288 with 1 Axes>"
      ]
     },
     "metadata": {
      "needs_background": "light"
     },
     "output_type": "display_data"
    }
   ],
   "source": [
    "plt.barh(X_train_os.columns, grid_f1_xgb_best.feature_importances_)"
   ]
  },
  {
   "cell_type": "code",
   "execution_count": 158,
   "id": "7c989bf8",
   "metadata": {},
   "outputs": [
    {
     "data": {
      "text/plain": [
       "Text(0.5, 0, 'Xgboost Feature Importance')"
      ]
     },
     "execution_count": 158,
     "metadata": {},
     "output_type": "execute_result"
    },
    {
     "data": {
      "image/png": "[encoded data removed]",
      "text/plain": [
       "<Figure size 432x288 with 1 Axes>"
      ]
     },
     "metadata": {
      "needs_background": "light"
     },
     "output_type": "display_data"
    }
   ],
   "source": [
    "sorted_idx = grid_f1_xgb_best.feature_importances_.argsort()\n",
    "plt.barh(X_train_os.columns[sorted_idx], grid_f1_xgb_best.feature_importances_[sorted_idx])\n",
    "plt.xlabel(\"Xgboost Feature Importance\")"
   ]
  },
  {
   "cell_type": "code",
   "execution_count": 159,
   "id": "ceb74d41",
   "metadata": {},
   "outputs": [
    {
     "data": {
      "text/plain": [
       "<Figure size 432x288 with 0 Axes>"
      ]
     },
     "metadata": {},
     "output_type": "display_data"
    }
   ],
   "source": [
    "plt.savefig('xgb_inportance.png')"
   ]
  },
  {
   "cell_type": "markdown",
   "id": "ca109af1",
   "metadata": {},
   "source": [
    "# VOTING  "
   ]
  },
  {
   "cell_type": "markdown",
   "id": "57c6a53b",
   "metadata": {},
   "source": [
    "Documentacion de Voting Classifier\n",
    "https://scikit-learn.org/stable/modules/generated/sklearn.ensemble.VotingClassifier.html"
   ]
  },
  {
   "cell_type": "code",
   "execution_count": 169,
   "id": "ff69a084",
   "metadata": {},
   "outputs": [],
   "source": [
    "#Se importa libreria de KNN\n",
    "from sklearn.neighbors import KNeighborsClassifier\n",
    "##knn_best = KNeighborsClassifier(n_neighbors=11)"
   ]
  },
  {
   "cell_type": "code",
   "execution_count": 176,
   "id": "5849e18b",
   "metadata": {},
   "outputs": [],
   "source": [
    "#Se carga desde disco el modelo ya entrenado de KNN\n",
    "with open('knn-f1.pkl','rb') as f:\n",
    "    knn_best = pickle.load(f)\n",
    "f.close()"
   ]
  },
  {
   "cell_type": "code",
   "execution_count": 170,
   "id": "09ab265e",
   "metadata": {},
   "outputs": [],
   "source": [
    "#Se carga desde disco el modelo ya entrenado de RandomForest\n",
    "with open('rf_f1.pkl','rb') as f:\n",
    "    rf_best = pickle.load(f)\n",
    "f.close()"
   ]
  },
  {
   "cell_type": "code",
   "execution_count": 171,
   "id": "c5bd74ec",
   "metadata": {},
   "outputs": [],
   "source": [
    "#Se instancia un nuevo modelo con el mejor estimador previsto por el gridsearch\n",
    "#rf_best = RandomForestClassifier(max_depth=4, max_features='sqrt', n_estimators=50)"
   ]
  },
  {
   "cell_type": "code",
   "execution_count": 177,
   "id": "b5bfcfa3",
   "metadata": {},
   "outputs": [],
   "source": [
    "##Se carga desde disco el modelo ya entrenado de Logistic Regression\n",
    "from sklearn.linear_model import LogisticRegression\n",
    "with open('lr_best.pkl','rb') as f:\n",
    "    log_reg = pickle.load(f)\n",
    "f.close()"
   ]
  },
  {
   "cell_type": "code",
   "execution_count": 178,
   "id": "187349e9",
   "metadata": {},
   "outputs": [],
   "source": [
    "#Se instancia un nuevo modelo NBG Gaussian\n",
    "from sklearn.naive_bayes import GaussianNB\n",
    "NBG = GaussianNB()"
   ]
  },
  {
   "cell_type": "code",
   "execution_count": 179,
   "id": "4e9860f6",
   "metadata": {},
   "outputs": [],
   "source": [
    "from sklearn.ensemble import VotingClassifier\n",
    "#Se crea un diccionario de modelos\n",
    "estimators=[('knn', knn_best), ('rf', rf_best), ('logreg', log_reg), ('nb', NBG)]\n",
    "#Se instancia un voting imputando los modelos\n",
    "ensemble = VotingClassifier(estimators, voting='hard')#poner n_jobs = -2"
   ]
  },
  {
   "cell_type": "code",
   "execution_count": 180,
   "id": "f108a3c7",
   "metadata": {},
   "outputs": [
    {
     "data": {
      "text/plain": [
       "VotingClassifier(estimators=[('knn',\n",
       "                              RandomizedSearchCV(cv=StratifiedKFold(n_splits=10, random_state=42, shuffle=True),\n",
       "                                                 estimator=KNeighborsClassifier(),\n",
       "                                                 n_iter=15, n_jobs=-2,\n",
       "                                                 param_distributions={'metric': ['minkowski',\n",
       "                                                                                 'manhattan'],\n",
       "                                                                      'n_neighbors': [1,\n",
       "                                                                                      2,\n",
       "                                                                                      3,\n",
       "                                                                                      4,\n",
       "                                                                                      5,\n",
       "                                                                                      6,\n",
       "                                                                                      7,\n",
       "                                                                                      8,\n",
       "                                                                                      9,\n",
       "                                                                                      10,\n",
       "                                                                                      11,\n",
       "                                                                                      12,\n",
       "                                                                                      13,\n",
       "                                                                                      14,\n",
       "                                                                                      15,\n",
       "                                                                                      16,\n",
       "                                                                                      17,\n",
       "                                                                                      18,\n",
       "                                                                                      19,\n",
       "                                                                                      20]},\n",
       "                                                 random_state=42,\n",
       "                                                 scoring='f1')),\n",
       "                             ('rf',\n",
       "                              GridSearchCV(cv=Stra...\n",
       "                                           n_jobs=-1,\n",
       "                                           param_grid={'C': array([4.45445805e-05, 3.15200799e-01, 1.56421099e-02, 3.21743627e-03,\n",
       "       2.19679297e-01, 6.34277784e+01, 1.09517285e-03, 2.35783890e+00,\n",
       "       7.79832694e-03, 1.13771321e-05]),\n",
       "                                                       'fit_intercept': [False,\n",
       "                                                                         True],\n",
       "                                                       'max_iter': [100, 150,\n",
       "                                                                    200],\n",
       "                                                       'penalty': ['none',\n",
       "                                                                   'l2'],\n",
       "                                                       'solver': ['newton-cg',\n",
       "                                                                  'lbfgs',\n",
       "                                                                  'sag',\n",
       "                                                                  'saga']},\n",
       "                                           scoring='precision')),\n",
       "                             ('nb', GaussianNB())])"
      ]
     },
     "execution_count": 180,
     "metadata": {},
     "output_type": "execute_result"
    }
   ],
   "source": [
    "#Se fitea en train\n",
    "ensemble.fit(X_train_os, y_train_os)"
   ]
  },
  {
   "cell_type": "code",
   "execution_count": 181,
   "id": "ea68a365",
   "metadata": {},
   "outputs": [],
   "source": [
    "#Preciones del ensamble\n",
    "y_pred = ensemble.predict(X_test)"
   ]
  },
  {
   "cell_type": "code",
   "execution_count": 188,
   "id": "8c3d58e3",
   "metadata": {},
   "outputs": [
    {
     "name": "stdout",
     "output_type": "stream",
     "text": [
      "y_pred:\n",
      "               precision    recall  f1-score   support\n",
      "\n",
      "           0       0.98      0.78      0.87      8612\n",
      "           1       0.16      0.73      0.26       496\n",
      "\n",
      "    accuracy                           0.78      9108\n",
      "   macro avg       0.57      0.76      0.57      9108\n",
      "weighted avg       0.94      0.78      0.84      9108\n",
      "\n"
     ]
    }
   ],
   "source": [
    "#Reporte de Clasificacion\n",
    "print (f\"y_pred:\\n\",\n",
    "       classification_report(y_test, y_pred))"
   ]
  },
  {
   "cell_type": "code",
   "execution_count": 183,
   "id": "6dcceeac",
   "metadata": {},
   "outputs": [
    {
     "name": "stdout",
     "output_type": "stream",
     "text": [
      "y_pred_confusion matrix: \n",
      " [[6728 1884]\n",
      " [ 133  363]]\n"
     ]
    }
   ],
   "source": [
    "#Matriz de Confusion\n",
    "confusion_recall = confusion_matrix(y_test, y_pred)\n",
    "print(f\"y_pred_confusion matrix: \\n\",confusion_recall)"
   ]
  },
  {
   "cell_type": "markdown",
   "id": "9303e618",
   "metadata": {},
   "source": [
    "# CATBOOST "
   ]
  },
  {
   "cell_type": "markdown",
   "id": "7d08f4bd",
   "metadata": {},
   "source": [
    "Documentacion del modelo:\n",
    "https://catboost.ai/docs/concepts/about.html"
   ]
  },
  {
   "cell_type": "markdown",
   "id": "813a77fe",
   "metadata": {},
   "source": [
    "Con catboost los resultados sin optimizar hiperparámetros ya son excelentes. Entonces procedemos a entrenar el modelo con los datos de training con las para parametros por default."
   ]
  },
  {
   "cell_type": "code",
   "execution_count": 111,
   "id": "3e4cc554",
   "metadata": {},
   "outputs": [],
   "source": [
    "start = time.time()"
   ]
  },
  {
   "cell_type": "code",
   "execution_count": 112,
   "id": "f8f612f3",
   "metadata": {},
   "outputs": [
    {
     "name": "stdout",
     "output_type": "stream",
     "text": [
      "Learning rate set to 0.049874\n",
      "0:\tlearn: 0.6675945\ttotal: 340ms\tremaining: 5m 40s\n",
      "1:\tlearn: 0.6450384\ttotal: 354ms\tremaining: 2m 56s\n",
      "2:\tlearn: 0.6247196\ttotal: 370ms\tremaining: 2m 2s\n",
      "3:\tlearn: 0.6065280\ttotal: 384ms\tremaining: 1m 35s\n",
      "4:\tlearn: 0.5897361\ttotal: 400ms\tremaining: 1m 19s\n",
      "5:\tlearn: 0.5755267\ttotal: 416ms\tremaining: 1m 8s\n",
      "6:\tlearn: 0.5632257\ttotal: 431ms\tremaining: 1m 1s\n",
      "7:\tlearn: 0.5521078\ttotal: 447ms\tremaining: 55.4s\n",
      "8:\tlearn: 0.5411411\ttotal: 463ms\tremaining: 51s\n",
      "9:\tlearn: 0.5327733\ttotal: 480ms\tremaining: 47.5s\n",
      "10:\tlearn: 0.5254824\ttotal: 497ms\tremaining: 44.7s\n",
      "11:\tlearn: 0.5188027\ttotal: 513ms\tremaining: 42.2s\n",
      "12:\tlearn: 0.5124112\ttotal: 530ms\tremaining: 40.2s\n",
      "13:\tlearn: 0.5066983\ttotal: 608ms\tremaining: 42.9s\n",
      "14:\tlearn: 0.5009033\ttotal: 623ms\tremaining: 40.9s\n",
      "15:\tlearn: 0.4963374\ttotal: 641ms\tremaining: 39.4s\n",
      "16:\tlearn: 0.4916720\ttotal: 660ms\tremaining: 38.2s\n",
      "17:\tlearn: 0.4876347\ttotal: 680ms\tremaining: 37.1s\n",
      "18:\tlearn: 0.4835230\ttotal: 697ms\tremaining: 36s\n",
      "19:\tlearn: 0.4799032\ttotal: 713ms\tremaining: 34.9s\n",
      "20:\tlearn: 0.4769329\ttotal: 729ms\tremaining: 34s\n",
      "21:\tlearn: 0.4736715\ttotal: 750ms\tremaining: 33.3s\n",
      "22:\tlearn: 0.4712304\ttotal: 769ms\tremaining: 32.6s\n",
      "23:\tlearn: 0.4688863\ttotal: 789ms\tremaining: 32.1s\n",
      "24:\tlearn: 0.4662361\ttotal: 810ms\tremaining: 31.6s\n",
      "25:\tlearn: 0.4640369\ttotal: 835ms\tremaining: 31.3s\n",
      "26:\tlearn: 0.4618479\ttotal: 851ms\tremaining: 30.7s\n",
      "27:\tlearn: 0.4595464\ttotal: 868ms\tremaining: 30.1s\n",
      "28:\tlearn: 0.4580660\ttotal: 883ms\tremaining: 29.6s\n",
      "29:\tlearn: 0.4562401\ttotal: 899ms\tremaining: 29.1s\n",
      "30:\tlearn: 0.4547837\ttotal: 913ms\tremaining: 28.5s\n",
      "31:\tlearn: 0.4532529\ttotal: 931ms\tremaining: 28.2s\n",
      "32:\tlearn: 0.4518328\ttotal: 951ms\tremaining: 27.9s\n",
      "33:\tlearn: 0.4505627\ttotal: 970ms\tremaining: 27.6s\n",
      "34:\tlearn: 0.4491593\ttotal: 990ms\tremaining: 27.3s\n",
      "35:\tlearn: 0.4478775\ttotal: 1.09s\tremaining: 29.3s\n",
      "36:\tlearn: 0.4466327\ttotal: 1.16s\tremaining: 30.1s\n",
      "37:\tlearn: 0.4456027\ttotal: 1.19s\tremaining: 30.1s\n",
      "38:\tlearn: 0.4442512\ttotal: 1.22s\tremaining: 30s\n",
      "39:\tlearn: 0.4423783\ttotal: 1.24s\tremaining: 29.9s\n",
      "40:\tlearn: 0.4410033\ttotal: 1.28s\tremaining: 29.9s\n",
      "41:\tlearn: 0.4402599\ttotal: 1.3s\tremaining: 29.7s\n",
      "42:\tlearn: 0.4391474\ttotal: 1.32s\tremaining: 29.5s\n",
      "43:\tlearn: 0.4381285\ttotal: 1.34s\tremaining: 29.2s\n",
      "44:\tlearn: 0.4371038\ttotal: 1.38s\tremaining: 29.2s\n",
      "45:\tlearn: 0.4362547\ttotal: 1.4s\tremaining: 29.1s\n",
      "46:\tlearn: 0.4356054\ttotal: 1.43s\tremaining: 28.9s\n",
      "47:\tlearn: 0.4343127\ttotal: 1.46s\tremaining: 28.9s\n",
      "48:\tlearn: 0.4336311\ttotal: 1.48s\tremaining: 28.8s\n",
      "49:\tlearn: 0.4325224\ttotal: 1.5s\tremaining: 28.6s\n",
      "50:\tlearn: 0.4315366\ttotal: 1.53s\tremaining: 28.4s\n",
      "51:\tlearn: 0.4305004\ttotal: 1.55s\tremaining: 28.3s\n",
      "52:\tlearn: 0.4297696\ttotal: 1.58s\tremaining: 28.2s\n",
      "53:\tlearn: 0.4288524\ttotal: 1.6s\tremaining: 28.1s\n",
      "54:\tlearn: 0.4283566\ttotal: 1.64s\tremaining: 28.2s\n",
      "55:\tlearn: 0.4278938\ttotal: 1.66s\tremaining: 28s\n",
      "56:\tlearn: 0.4269233\ttotal: 1.69s\tremaining: 27.9s\n",
      "57:\tlearn: 0.4264476\ttotal: 1.71s\tremaining: 27.7s\n",
      "58:\tlearn: 0.4257900\ttotal: 1.74s\tremaining: 27.7s\n",
      "59:\tlearn: 0.4253719\ttotal: 1.76s\tremaining: 27.6s\n",
      "60:\tlearn: 0.4248744\ttotal: 1.78s\tremaining: 27.5s\n",
      "61:\tlearn: 0.4244377\ttotal: 1.81s\tremaining: 27.4s\n",
      "62:\tlearn: 0.4236401\ttotal: 1.84s\tremaining: 27.4s\n",
      "63:\tlearn: 0.4230240\ttotal: 1.86s\tremaining: 27.3s\n",
      "64:\tlearn: 0.4220678\ttotal: 1.88s\tremaining: 27s\n",
      "65:\tlearn: 0.4217080\ttotal: 1.89s\tremaining: 26.8s\n",
      "66:\tlearn: 0.4208472\ttotal: 1.91s\tremaining: 26.6s\n",
      "67:\tlearn: 0.4200121\ttotal: 1.93s\tremaining: 26.5s\n",
      "68:\tlearn: 0.4188366\ttotal: 1.95s\tremaining: 26.4s\n",
      "69:\tlearn: 0.4182944\ttotal: 1.97s\tremaining: 26.2s\n",
      "70:\tlearn: 0.4176498\ttotal: 1.99s\tremaining: 26s\n",
      "71:\tlearn: 0.4167065\ttotal: 2.01s\tremaining: 25.9s\n",
      "72:\tlearn: 0.4158085\ttotal: 2.02s\tremaining: 25.7s\n",
      "73:\tlearn: 0.4151551\ttotal: 2.04s\tremaining: 25.6s\n",
      "74:\tlearn: 0.4146540\ttotal: 2.06s\tremaining: 25.4s\n",
      "75:\tlearn: 0.4141404\ttotal: 2.07s\tremaining: 25.2s\n",
      "76:\tlearn: 0.4134898\ttotal: 2.1s\tremaining: 25.1s\n",
      "77:\tlearn: 0.4125186\ttotal: 2.12s\tremaining: 25s\n",
      "78:\tlearn: 0.4121760\ttotal: 2.14s\tremaining: 24.9s\n",
      "79:\tlearn: 0.4115797\ttotal: 2.16s\tremaining: 24.8s\n",
      "80:\tlearn: 0.4112592\ttotal: 2.18s\tremaining: 24.7s\n",
      "81:\tlearn: 0.4103385\ttotal: 2.2s\tremaining: 24.6s\n",
      "82:\tlearn: 0.4094771\ttotal: 2.21s\tremaining: 24.5s\n",
      "83:\tlearn: 0.4088175\ttotal: 2.23s\tremaining: 24.3s\n",
      "84:\tlearn: 0.4079943\ttotal: 2.25s\tremaining: 24.2s\n",
      "85:\tlearn: 0.4074858\ttotal: 2.27s\tremaining: 24.1s\n",
      "86:\tlearn: 0.4070392\ttotal: 2.29s\tremaining: 24s\n",
      "87:\tlearn: 0.4066390\ttotal: 2.31s\tremaining: 23.9s\n",
      "88:\tlearn: 0.4059912\ttotal: 2.33s\tremaining: 23.8s\n",
      "89:\tlearn: 0.4056336\ttotal: 2.35s\tremaining: 23.8s\n",
      "90:\tlearn: 0.4049221\ttotal: 2.37s\tremaining: 23.7s\n",
      "91:\tlearn: 0.4039627\ttotal: 2.38s\tremaining: 23.5s\n",
      "92:\tlearn: 0.4029823\ttotal: 2.4s\tremaining: 23.4s\n",
      "93:\tlearn: 0.4026428\ttotal: 2.42s\tremaining: 23.3s\n",
      "94:\tlearn: 0.4019492\ttotal: 2.43s\tremaining: 23.2s\n",
      "95:\tlearn: 0.4010809\ttotal: 2.46s\tremaining: 23.1s\n",
      "96:\tlearn: 0.4004553\ttotal: 2.48s\tremaining: 23s\n",
      "97:\tlearn: 0.4000295\ttotal: 2.5s\tremaining: 23s\n",
      "98:\tlearn: 0.3996242\ttotal: 2.51s\tremaining: 22.9s\n",
      "99:\tlearn: 0.3985873\ttotal: 2.54s\tremaining: 22.8s\n",
      "100:\tlearn: 0.3982240\ttotal: 2.55s\tremaining: 22.7s\n",
      "101:\tlearn: 0.3978172\ttotal: 2.57s\tremaining: 22.6s\n",
      "102:\tlearn: 0.3972421\ttotal: 2.59s\tremaining: 22.5s\n",
      "103:\tlearn: 0.3967287\ttotal: 2.61s\tremaining: 22.5s\n",
      "104:\tlearn: 0.3963275\ttotal: 2.64s\tremaining: 22.5s\n",
      "105:\tlearn: 0.3955761\ttotal: 2.67s\tremaining: 22.5s\n",
      "106:\tlearn: 0.3951634\ttotal: 2.69s\tremaining: 22.4s\n",
      "107:\tlearn: 0.3946893\ttotal: 2.71s\tremaining: 22.4s\n",
      "108:\tlearn: 0.3940282\ttotal: 2.73s\tremaining: 22.3s\n",
      "109:\tlearn: 0.3933966\ttotal: 2.76s\tremaining: 22.3s\n",
      "110:\tlearn: 0.3926856\ttotal: 2.78s\tremaining: 22.3s\n",
      "111:\tlearn: 0.3917517\ttotal: 2.81s\tremaining: 22.2s\n",
      "112:\tlearn: 0.3908504\ttotal: 2.83s\tremaining: 22.2s\n",
      "113:\tlearn: 0.3903728\ttotal: 2.85s\tremaining: 22.2s\n",
      "114:\tlearn: 0.3899961\ttotal: 2.87s\tremaining: 22.1s\n",
      "115:\tlearn: 0.3894718\ttotal: 2.89s\tremaining: 22s\n",
      "116:\tlearn: 0.3890289\ttotal: 2.91s\tremaining: 22s\n",
      "117:\tlearn: 0.3884955\ttotal: 2.93s\tremaining: 21.9s\n",
      "118:\tlearn: 0.3882286\ttotal: 2.95s\tremaining: 21.8s\n",
      "119:\tlearn: 0.3870476\ttotal: 2.96s\tremaining: 21.7s\n",
      "120:\tlearn: 0.3866766\ttotal: 2.98s\tremaining: 21.7s\n",
      "121:\tlearn: 0.3861839\ttotal: 3s\tremaining: 21.6s\n",
      "122:\tlearn: 0.3858628\ttotal: 3.02s\tremaining: 21.5s\n",
      "123:\tlearn: 0.3851458\ttotal: 3.04s\tremaining: 21.5s\n",
      "124:\tlearn: 0.3847070\ttotal: 3.06s\tremaining: 21.4s\n",
      "125:\tlearn: 0.3842365\ttotal: 3.09s\tremaining: 21.4s\n",
      "126:\tlearn: 0.3835408\ttotal: 3.1s\tremaining: 21.3s\n",
      "127:\tlearn: 0.3826792\ttotal: 3.12s\tremaining: 21.3s\n",
      "128:\tlearn: 0.3822442\ttotal: 3.14s\tremaining: 21.2s\n",
      "129:\tlearn: 0.3816447\ttotal: 3.16s\tremaining: 21.2s\n",
      "130:\tlearn: 0.3813860\ttotal: 3.18s\tremaining: 21.1s\n",
      "131:\tlearn: 0.3809649\ttotal: 3.2s\tremaining: 21.1s\n",
      "132:\tlearn: 0.3805760\ttotal: 3.22s\tremaining: 21s\n",
      "133:\tlearn: 0.3801861\ttotal: 3.24s\tremaining: 21s\n",
      "134:\tlearn: 0.3798030\ttotal: 3.27s\tremaining: 20.9s\n",
      "135:\tlearn: 0.3794962\ttotal: 3.29s\tremaining: 20.9s\n",
      "136:\tlearn: 0.3793207\ttotal: 3.31s\tremaining: 20.8s\n",
      "137:\tlearn: 0.3787590\ttotal: 3.33s\tremaining: 20.8s\n",
      "138:\tlearn: 0.3781487\ttotal: 3.35s\tremaining: 20.8s\n",
      "139:\tlearn: 0.3779101\ttotal: 3.38s\tremaining: 20.8s\n",
      "140:\tlearn: 0.3775275\ttotal: 3.4s\tremaining: 20.7s\n",
      "141:\tlearn: 0.3772818\ttotal: 3.42s\tremaining: 20.7s\n",
      "142:\tlearn: 0.3769619\ttotal: 3.44s\tremaining: 20.6s\n",
      "143:\tlearn: 0.3763633\ttotal: 3.46s\tremaining: 20.5s\n",
      "144:\tlearn: 0.3758440\ttotal: 3.48s\tremaining: 20.5s\n",
      "145:\tlearn: 0.3755975\ttotal: 3.5s\tremaining: 20.5s\n",
      "146:\tlearn: 0.3750690\ttotal: 3.51s\tremaining: 20.4s\n",
      "147:\tlearn: 0.3744862\ttotal: 3.53s\tremaining: 20.3s\n",
      "148:\tlearn: 0.3741341\ttotal: 3.55s\tremaining: 20.3s\n",
      "149:\tlearn: 0.3738514\ttotal: 3.57s\tremaining: 20.2s\n",
      "150:\tlearn: 0.3733881\ttotal: 3.59s\tremaining: 20.2s\n",
      "151:\tlearn: 0.3730848\ttotal: 3.61s\tremaining: 20.2s\n",
      "152:\tlearn: 0.3725247\ttotal: 3.64s\tremaining: 20.1s\n",
      "153:\tlearn: 0.3720007\ttotal: 3.65s\tremaining: 20.1s\n",
      "154:\tlearn: 0.3718501\ttotal: 3.8s\tremaining: 20.7s\n",
      "155:\tlearn: 0.3714051\ttotal: 3.86s\tremaining: 20.9s\n",
      "156:\tlearn: 0.3708663\ttotal: 3.9s\tremaining: 20.9s\n",
      "157:\tlearn: 0.3705689\ttotal: 3.92s\tremaining: 20.9s\n",
      "158:\tlearn: 0.3701444\ttotal: 3.95s\tremaining: 20.9s\n",
      "159:\tlearn: 0.3695410\ttotal: 3.97s\tremaining: 20.9s\n",
      "160:\tlearn: 0.3689514\ttotal: 4s\tremaining: 20.9s\n",
      "161:\tlearn: 0.3686529\ttotal: 4.03s\tremaining: 20.8s\n",
      "162:\tlearn: 0.3681318\ttotal: 4.06s\tremaining: 20.8s\n",
      "163:\tlearn: 0.3677108\ttotal: 4.09s\tremaining: 20.8s\n",
      "164:\tlearn: 0.3674556\ttotal: 4.12s\tremaining: 20.8s\n",
      "165:\tlearn: 0.3667676\ttotal: 4.14s\tremaining: 20.8s\n",
      "166:\tlearn: 0.3663698\ttotal: 4.17s\tremaining: 20.8s\n",
      "167:\tlearn: 0.3658256\ttotal: 4.19s\tremaining: 20.7s\n",
      "168:\tlearn: 0.3655590\ttotal: 4.22s\tremaining: 20.7s\n",
      "169:\tlearn: 0.3654391\ttotal: 4.24s\tremaining: 20.7s\n",
      "170:\tlearn: 0.3649838\ttotal: 4.27s\tremaining: 20.7s\n",
      "171:\tlearn: 0.3648705\ttotal: 4.3s\tremaining: 20.7s\n",
      "172:\tlearn: 0.3646780\ttotal: 4.33s\tremaining: 20.7s\n",
      "173:\tlearn: 0.3641597\ttotal: 4.36s\tremaining: 20.7s\n",
      "174:\tlearn: 0.3639266\ttotal: 4.39s\tremaining: 20.7s\n",
      "175:\tlearn: 0.3633229\ttotal: 4.42s\tremaining: 20.7s\n",
      "176:\tlearn: 0.3630096\ttotal: 4.44s\tremaining: 20.7s\n",
      "177:\tlearn: 0.3625582\ttotal: 4.47s\tremaining: 20.6s\n",
      "178:\tlearn: 0.3623444\ttotal: 4.5s\tremaining: 20.6s\n",
      "179:\tlearn: 0.3618438\ttotal: 4.53s\tremaining: 20.6s\n",
      "180:\tlearn: 0.3612815\ttotal: 4.56s\tremaining: 20.6s\n",
      "181:\tlearn: 0.3608850\ttotal: 4.58s\tremaining: 20.6s\n",
      "182:\tlearn: 0.3606784\ttotal: 4.6s\tremaining: 20.5s\n",
      "183:\tlearn: 0.3601522\ttotal: 4.62s\tremaining: 20.5s\n",
      "184:\tlearn: 0.3599388\ttotal: 4.64s\tremaining: 20.5s\n",
      "185:\tlearn: 0.3595197\ttotal: 4.67s\tremaining: 20.4s\n",
      "186:\tlearn: 0.3591073\ttotal: 4.69s\tremaining: 20.4s\n",
      "187:\tlearn: 0.3587880\ttotal: 4.71s\tremaining: 20.4s\n",
      "188:\tlearn: 0.3582747\ttotal: 4.74s\tremaining: 20.3s\n",
      "189:\tlearn: 0.3579950\ttotal: 4.75s\tremaining: 20.3s\n",
      "190:\tlearn: 0.3573595\ttotal: 4.78s\tremaining: 20.2s\n",
      "191:\tlearn: 0.3572429\ttotal: 4.79s\tremaining: 20.2s\n",
      "192:\tlearn: 0.3568628\ttotal: 4.82s\tremaining: 20.1s\n",
      "193:\tlearn: 0.3566363\ttotal: 4.83s\tremaining: 20.1s\n",
      "194:\tlearn: 0.3561746\ttotal: 4.86s\tremaining: 20.1s\n",
      "195:\tlearn: 0.3558596\ttotal: 4.88s\tremaining: 20s\n",
      "196:\tlearn: 0.3555371\ttotal: 4.9s\tremaining: 20s\n",
      "197:\tlearn: 0.3552202\ttotal: 4.91s\tremaining: 19.9s\n",
      "198:\tlearn: 0.3548882\ttotal: 4.93s\tremaining: 19.8s\n",
      "199:\tlearn: 0.3543909\ttotal: 4.94s\tremaining: 19.8s\n",
      "200:\tlearn: 0.3541397\ttotal: 4.96s\tremaining: 19.7s\n",
      "201:\tlearn: 0.3538559\ttotal: 4.98s\tremaining: 19.7s\n",
      "202:\tlearn: 0.3534212\ttotal: 5s\tremaining: 19.6s\n",
      "203:\tlearn: 0.3532079\ttotal: 5.03s\tremaining: 19.6s\n",
      "204:\tlearn: 0.3528038\ttotal: 5.05s\tremaining: 19.6s\n",
      "205:\tlearn: 0.3525307\ttotal: 5.08s\tremaining: 19.6s\n",
      "206:\tlearn: 0.3523326\ttotal: 5.1s\tremaining: 19.6s\n",
      "207:\tlearn: 0.3517553\ttotal: 5.13s\tremaining: 19.5s\n",
      "208:\tlearn: 0.3513583\ttotal: 5.16s\tremaining: 19.5s\n",
      "209:\tlearn: 0.3507851\ttotal: 5.18s\tremaining: 19.5s\n",
      "210:\tlearn: 0.3505723\ttotal: 5.21s\tremaining: 19.5s\n",
      "211:\tlearn: 0.3499616\ttotal: 5.24s\tremaining: 19.5s\n",
      "212:\tlearn: 0.3497306\ttotal: 5.26s\tremaining: 19.4s\n",
      "213:\tlearn: 0.3491964\ttotal: 5.28s\tremaining: 19.4s\n",
      "214:\tlearn: 0.3489743\ttotal: 5.3s\tremaining: 19.4s\n",
      "215:\tlearn: 0.3485392\ttotal: 5.33s\tremaining: 19.3s\n",
      "216:\tlearn: 0.3484280\ttotal: 5.35s\tremaining: 19.3s\n",
      "217:\tlearn: 0.3478736\ttotal: 5.38s\tremaining: 19.3s\n",
      "218:\tlearn: 0.3475852\ttotal: 5.4s\tremaining: 19.3s\n",
      "219:\tlearn: 0.3470148\ttotal: 5.43s\tremaining: 19.2s\n",
      "220:\tlearn: 0.3466066\ttotal: 5.45s\tremaining: 19.2s\n",
      "221:\tlearn: 0.3462136\ttotal: 5.48s\tremaining: 19.2s\n",
      "222:\tlearn: 0.3457444\ttotal: 5.51s\tremaining: 19.2s\n",
      "223:\tlearn: 0.3455966\ttotal: 5.54s\tremaining: 19.2s\n",
      "224:\tlearn: 0.3450058\ttotal: 5.57s\tremaining: 19.2s\n",
      "225:\tlearn: 0.3445052\ttotal: 5.59s\tremaining: 19.2s\n",
      "226:\tlearn: 0.3440616\ttotal: 5.62s\tremaining: 19.1s\n",
      "227:\tlearn: 0.3437042\ttotal: 5.63s\tremaining: 19.1s\n",
      "228:\tlearn: 0.3432512\ttotal: 5.65s\tremaining: 19s\n",
      "229:\tlearn: 0.3429917\ttotal: 5.67s\tremaining: 19s\n",
      "230:\tlearn: 0.3427056\ttotal: 5.7s\tremaining: 19s\n",
      "231:\tlearn: 0.3425878\ttotal: 5.72s\tremaining: 18.9s\n",
      "232:\tlearn: 0.3422690\ttotal: 5.73s\tremaining: 18.9s\n",
      "233:\tlearn: 0.3418243\ttotal: 5.75s\tremaining: 18.8s\n",
      "234:\tlearn: 0.3415223\ttotal: 5.77s\tremaining: 18.8s\n",
      "235:\tlearn: 0.3413981\ttotal: 5.79s\tremaining: 18.7s\n",
      "236:\tlearn: 0.3410189\ttotal: 5.81s\tremaining: 18.7s\n",
      "237:\tlearn: 0.3405244\ttotal: 5.83s\tremaining: 18.7s\n",
      "238:\tlearn: 0.3401565\ttotal: 5.85s\tremaining: 18.6s\n",
      "239:\tlearn: 0.3397691\ttotal: 5.87s\tremaining: 18.6s\n",
      "240:\tlearn: 0.3396311\ttotal: 5.89s\tremaining: 18.5s\n",
      "241:\tlearn: 0.3394517\ttotal: 5.9s\tremaining: 18.5s\n",
      "242:\tlearn: 0.3393124\ttotal: 5.92s\tremaining: 18.4s\n",
      "243:\tlearn: 0.3389696\ttotal: 5.94s\tremaining: 18.4s\n",
      "244:\tlearn: 0.3383440\ttotal: 5.96s\tremaining: 18.4s\n",
      "245:\tlearn: 0.3380737\ttotal: 5.98s\tremaining: 18.3s\n",
      "246:\tlearn: 0.3377588\ttotal: 6s\tremaining: 18.3s\n",
      "247:\tlearn: 0.3374075\ttotal: 6.02s\tremaining: 18.3s\n",
      "248:\tlearn: 0.3369366\ttotal: 6.04s\tremaining: 18.2s\n",
      "249:\tlearn: 0.3363434\ttotal: 6.06s\tremaining: 18.2s\n",
      "250:\tlearn: 0.3358372\ttotal: 6.08s\tremaining: 18.2s\n",
      "251:\tlearn: 0.3355496\ttotal: 6.1s\tremaining: 18.1s\n",
      "252:\tlearn: 0.3353087\ttotal: 6.12s\tremaining: 18.1s\n",
      "253:\tlearn: 0.3349485\ttotal: 6.14s\tremaining: 18s\n",
      "254:\tlearn: 0.3346264\ttotal: 6.17s\tremaining: 18s\n",
      "255:\tlearn: 0.3343094\ttotal: 6.19s\tremaining: 18s\n",
      "256:\tlearn: 0.3341615\ttotal: 6.22s\tremaining: 18s\n",
      "257:\tlearn: 0.3340229\ttotal: 6.25s\tremaining: 18s\n",
      "258:\tlearn: 0.3336801\ttotal: 6.28s\tremaining: 18s\n",
      "259:\tlearn: 0.3332991\ttotal: 6.32s\tremaining: 18s\n",
      "260:\tlearn: 0.3330325\ttotal: 6.34s\tremaining: 18s\n",
      "261:\tlearn: 0.3329270\ttotal: 6.52s\tremaining: 18.4s\n",
      "262:\tlearn: 0.3327432\ttotal: 6.58s\tremaining: 18.4s\n",
      "263:\tlearn: 0.3324779\ttotal: 6.63s\tremaining: 18.5s\n",
      "264:\tlearn: 0.3318476\ttotal: 6.68s\tremaining: 18.5s\n",
      "265:\tlearn: 0.3314060\ttotal: 6.72s\tremaining: 18.5s\n",
      "266:\tlearn: 0.3311614\ttotal: 6.75s\tremaining: 18.5s\n",
      "267:\tlearn: 0.3308751\ttotal: 6.79s\tremaining: 18.5s\n",
      "268:\tlearn: 0.3307505\ttotal: 6.82s\tremaining: 18.5s\n",
      "269:\tlearn: 0.3303953\ttotal: 6.87s\tremaining: 18.6s\n",
      "270:\tlearn: 0.3301893\ttotal: 6.91s\tremaining: 18.6s\n",
      "271:\tlearn: 0.3295901\ttotal: 6.93s\tremaining: 18.6s\n",
      "272:\tlearn: 0.3293595\ttotal: 6.96s\tremaining: 18.5s\n",
      "273:\tlearn: 0.3291516\ttotal: 6.98s\tremaining: 18.5s\n",
      "274:\tlearn: 0.3288916\ttotal: 7s\tremaining: 18.5s\n",
      "275:\tlearn: 0.3287014\ttotal: 7.03s\tremaining: 18.4s\n",
      "276:\tlearn: 0.3285823\ttotal: 7.06s\tremaining: 18.4s\n",
      "277:\tlearn: 0.3282999\ttotal: 7.09s\tremaining: 18.4s\n",
      "278:\tlearn: 0.3280057\ttotal: 7.12s\tremaining: 18.4s\n",
      "279:\tlearn: 0.3278433\ttotal: 7.15s\tremaining: 18.4s\n",
      "280:\tlearn: 0.3273995\ttotal: 7.18s\tremaining: 18.4s\n",
      "281:\tlearn: 0.3271157\ttotal: 7.21s\tremaining: 18.4s\n",
      "282:\tlearn: 0.3267055\ttotal: 7.25s\tremaining: 18.4s\n",
      "283:\tlearn: 0.3261909\ttotal: 7.29s\tremaining: 18.4s\n",
      "284:\tlearn: 0.3258824\ttotal: 7.33s\tremaining: 18.4s\n",
      "285:\tlearn: 0.3254452\ttotal: 7.36s\tremaining: 18.4s\n",
      "286:\tlearn: 0.3250774\ttotal: 7.38s\tremaining: 18.3s\n",
      "287:\tlearn: 0.3248122\ttotal: 7.41s\tremaining: 18.3s\n",
      "288:\tlearn: 0.3246428\ttotal: 7.43s\tremaining: 18.3s\n",
      "289:\tlearn: 0.3245517\ttotal: 7.46s\tremaining: 18.3s\n",
      "290:\tlearn: 0.3242724\ttotal: 7.48s\tremaining: 18.2s\n",
      "291:\tlearn: 0.3241049\ttotal: 7.51s\tremaining: 18.2s\n",
      "292:\tlearn: 0.3238237\ttotal: 7.54s\tremaining: 18.2s\n",
      "293:\tlearn: 0.3237383\ttotal: 7.56s\tremaining: 18.2s\n",
      "294:\tlearn: 0.3236465\ttotal: 7.59s\tremaining: 18.1s\n",
      "295:\tlearn: 0.3233136\ttotal: 7.62s\tremaining: 18.1s\n",
      "296:\tlearn: 0.3231517\ttotal: 7.64s\tremaining: 18.1s\n",
      "297:\tlearn: 0.3227661\ttotal: 7.67s\tremaining: 18.1s\n",
      "298:\tlearn: 0.3224511\ttotal: 7.71s\tremaining: 18.1s\n",
      "299:\tlearn: 0.3223281\ttotal: 7.74s\tremaining: 18s\n",
      "300:\tlearn: 0.3221765\ttotal: 7.76s\tremaining: 18s\n",
      "301:\tlearn: 0.3218901\ttotal: 7.79s\tremaining: 18s\n",
      "302:\tlearn: 0.3217081\ttotal: 7.81s\tremaining: 18s\n",
      "303:\tlearn: 0.3214662\ttotal: 7.83s\tremaining: 17.9s\n",
      "304:\tlearn: 0.3212054\ttotal: 7.87s\tremaining: 17.9s\n",
      "305:\tlearn: 0.3209527\ttotal: 7.89s\tremaining: 17.9s\n",
      "306:\tlearn: 0.3206140\ttotal: 7.92s\tremaining: 17.9s\n",
      "307:\tlearn: 0.3203864\ttotal: 7.95s\tremaining: 17.9s\n",
      "308:\tlearn: 0.3202437\ttotal: 7.97s\tremaining: 17.8s\n",
      "309:\tlearn: 0.3200432\ttotal: 7.99s\tremaining: 17.8s\n",
      "310:\tlearn: 0.3198864\ttotal: 8.02s\tremaining: 17.8s\n",
      "311:\tlearn: 0.3196236\ttotal: 8.04s\tremaining: 17.7s\n",
      "312:\tlearn: 0.3194815\ttotal: 8.06s\tremaining: 17.7s\n",
      "313:\tlearn: 0.3191356\ttotal: 8.09s\tremaining: 17.7s\n",
      "314:\tlearn: 0.3188892\ttotal: 8.11s\tremaining: 17.6s\n",
      "315:\tlearn: 0.3186039\ttotal: 8.14s\tremaining: 17.6s\n",
      "316:\tlearn: 0.3184099\ttotal: 8.17s\tremaining: 17.6s\n",
      "317:\tlearn: 0.3182853\ttotal: 8.19s\tremaining: 17.6s\n",
      "318:\tlearn: 0.3181822\ttotal: 8.22s\tremaining: 17.5s\n",
      "319:\tlearn: 0.3179615\ttotal: 8.24s\tremaining: 17.5s\n",
      "320:\tlearn: 0.3175562\ttotal: 8.27s\tremaining: 17.5s\n",
      "321:\tlearn: 0.3174001\ttotal: 8.29s\tremaining: 17.5s\n",
      "322:\tlearn: 0.3171735\ttotal: 8.31s\tremaining: 17.4s\n",
      "323:\tlearn: 0.3168092\ttotal: 8.33s\tremaining: 17.4s\n",
      "324:\tlearn: 0.3165878\ttotal: 8.36s\tremaining: 17.4s\n",
      "325:\tlearn: 0.3165073\ttotal: 8.38s\tremaining: 17.3s\n",
      "326:\tlearn: 0.3162878\ttotal: 8.4s\tremaining: 17.3s\n",
      "327:\tlearn: 0.3160130\ttotal: 8.43s\tremaining: 17.3s\n",
      "328:\tlearn: 0.3158650\ttotal: 8.46s\tremaining: 17.3s\n",
      "329:\tlearn: 0.3156884\ttotal: 8.49s\tremaining: 17.2s\n",
      "330:\tlearn: 0.3151592\ttotal: 8.52s\tremaining: 17.2s\n",
      "331:\tlearn: 0.3149331\ttotal: 8.54s\tremaining: 17.2s\n",
      "332:\tlearn: 0.3147537\ttotal: 8.57s\tremaining: 17.2s\n",
      "333:\tlearn: 0.3145755\ttotal: 8.59s\tremaining: 17.1s\n",
      "334:\tlearn: 0.3140919\ttotal: 8.62s\tremaining: 17.1s\n",
      "335:\tlearn: 0.3138766\ttotal: 8.64s\tremaining: 17.1s\n",
      "336:\tlearn: 0.3137143\ttotal: 8.67s\tremaining: 17.1s\n",
      "337:\tlearn: 0.3135400\ttotal: 8.7s\tremaining: 17s\n",
      "338:\tlearn: 0.3130319\ttotal: 8.72s\tremaining: 17s\n",
      "339:\tlearn: 0.3127653\ttotal: 8.75s\tremaining: 17s\n",
      "340:\tlearn: 0.3126172\ttotal: 8.77s\tremaining: 17s\n",
      "341:\tlearn: 0.3124042\ttotal: 8.79s\tremaining: 16.9s\n",
      "342:\tlearn: 0.3121755\ttotal: 8.82s\tremaining: 16.9s\n",
      "343:\tlearn: 0.3120664\ttotal: 8.85s\tremaining: 16.9s\n",
      "344:\tlearn: 0.3117870\ttotal: 8.88s\tremaining: 16.9s\n",
      "345:\tlearn: 0.3116814\ttotal: 8.9s\tremaining: 16.8s\n",
      "346:\tlearn: 0.3113441\ttotal: 8.93s\tremaining: 16.8s\n",
      "347:\tlearn: 0.3111001\ttotal: 8.95s\tremaining: 16.8s\n",
      "348:\tlearn: 0.3108260\ttotal: 8.98s\tremaining: 16.7s\n",
      "349:\tlearn: 0.3105554\ttotal: 9s\tremaining: 16.7s\n",
      "350:\tlearn: 0.3103136\ttotal: 9.03s\tremaining: 16.7s\n",
      "351:\tlearn: 0.3100779\ttotal: 9.06s\tremaining: 16.7s\n",
      "352:\tlearn: 0.3098873\ttotal: 9.09s\tremaining: 16.7s\n",
      "353:\tlearn: 0.3096237\ttotal: 9.11s\tremaining: 16.6s\n",
      "354:\tlearn: 0.3092622\ttotal: 9.23s\tremaining: 16.8s\n",
      "355:\tlearn: 0.3089219\ttotal: 9.29s\tremaining: 16.8s\n",
      "356:\tlearn: 0.3084379\ttotal: 9.31s\tremaining: 16.8s\n",
      "357:\tlearn: 0.3082074\ttotal: 9.34s\tremaining: 16.7s\n",
      "358:\tlearn: 0.3080731\ttotal: 9.36s\tremaining: 16.7s\n",
      "359:\tlearn: 0.3078276\ttotal: 9.39s\tremaining: 16.7s\n",
      "360:\tlearn: 0.3075419\ttotal: 9.41s\tremaining: 16.7s\n",
      "361:\tlearn: 0.3073237\ttotal: 9.44s\tremaining: 16.6s\n",
      "362:\tlearn: 0.3071579\ttotal: 9.47s\tremaining: 16.6s\n",
      "363:\tlearn: 0.3069374\ttotal: 9.5s\tremaining: 16.6s\n",
      "364:\tlearn: 0.3066511\ttotal: 9.53s\tremaining: 16.6s\n",
      "365:\tlearn: 0.3062771\ttotal: 9.55s\tremaining: 16.5s\n",
      "366:\tlearn: 0.3060858\ttotal: 9.58s\tremaining: 16.5s\n",
      "367:\tlearn: 0.3056341\ttotal: 9.61s\tremaining: 16.5s\n",
      "368:\tlearn: 0.3053530\ttotal: 9.63s\tremaining: 16.5s\n",
      "369:\tlearn: 0.3050073\ttotal: 9.66s\tremaining: 16.4s\n",
      "370:\tlearn: 0.3048995\ttotal: 9.68s\tremaining: 16.4s\n",
      "371:\tlearn: 0.3045088\ttotal: 9.71s\tremaining: 16.4s\n",
      "372:\tlearn: 0.3042322\ttotal: 9.73s\tremaining: 16.4s\n",
      "373:\tlearn: 0.3040906\ttotal: 9.76s\tremaining: 16.3s\n",
      "374:\tlearn: 0.3039497\ttotal: 9.78s\tremaining: 16.3s\n",
      "375:\tlearn: 0.3036140\ttotal: 9.81s\tremaining: 16.3s\n",
      "376:\tlearn: 0.3033916\ttotal: 9.84s\tremaining: 16.3s\n",
      "377:\tlearn: 0.3033043\ttotal: 9.87s\tremaining: 16.2s\n",
      "378:\tlearn: 0.3030854\ttotal: 9.89s\tremaining: 16.2s\n",
      "379:\tlearn: 0.3029430\ttotal: 9.92s\tremaining: 16.2s\n",
      "380:\tlearn: 0.3027261\ttotal: 9.95s\tremaining: 16.2s\n",
      "381:\tlearn: 0.3024675\ttotal: 9.97s\tremaining: 16.1s\n",
      "382:\tlearn: 0.3023230\ttotal: 10s\tremaining: 16.1s\n",
      "383:\tlearn: 0.3020566\ttotal: 10s\tremaining: 16.1s\n",
      "384:\tlearn: 0.3018179\ttotal: 10.1s\tremaining: 16.1s\n",
      "385:\tlearn: 0.3016979\ttotal: 10.1s\tremaining: 16s\n",
      "386:\tlearn: 0.3016019\ttotal: 10.1s\tremaining: 16s\n",
      "387:\tlearn: 0.3014240\ttotal: 10.1s\tremaining: 16s\n",
      "388:\tlearn: 0.3010366\ttotal: 10.2s\tremaining: 16s\n",
      "389:\tlearn: 0.3007039\ttotal: 10.2s\tremaining: 15.9s\n",
      "390:\tlearn: 0.3005420\ttotal: 10.2s\tremaining: 15.9s\n",
      "391:\tlearn: 0.3003624\ttotal: 10.2s\tremaining: 15.9s\n",
      "392:\tlearn: 0.3001151\ttotal: 10.3s\tremaining: 15.9s\n",
      "393:\tlearn: 0.2998421\ttotal: 10.3s\tremaining: 15.9s\n",
      "394:\tlearn: 0.2995293\ttotal: 10.4s\tremaining: 15.9s\n",
      "395:\tlearn: 0.2994353\ttotal: 10.4s\tremaining: 15.8s\n",
      "396:\tlearn: 0.2992210\ttotal: 10.4s\tremaining: 15.9s\n",
      "397:\tlearn: 0.2990277\ttotal: 10.5s\tremaining: 15.9s\n",
      "398:\tlearn: 0.2989273\ttotal: 10.5s\tremaining: 15.8s\n",
      "399:\tlearn: 0.2988429\ttotal: 10.6s\tremaining: 15.8s\n",
      "400:\tlearn: 0.2987355\ttotal: 10.6s\tremaining: 15.8s\n",
      "401:\tlearn: 0.2986098\ttotal: 10.6s\tremaining: 15.8s\n",
      "402:\tlearn: 0.2983103\ttotal: 10.7s\tremaining: 15.8s\n",
      "403:\tlearn: 0.2979310\ttotal: 10.7s\tremaining: 15.8s\n",
      "404:\tlearn: 0.2977275\ttotal: 10.8s\tremaining: 15.8s\n",
      "405:\tlearn: 0.2975248\ttotal: 10.8s\tremaining: 15.8s\n",
      "406:\tlearn: 0.2973235\ttotal: 10.8s\tremaining: 15.8s\n",
      "407:\tlearn: 0.2970431\ttotal: 10.9s\tremaining: 15.8s\n",
      "408:\tlearn: 0.2969802\ttotal: 10.9s\tremaining: 15.8s\n",
      "409:\tlearn: 0.2968679\ttotal: 11s\tremaining: 15.8s\n",
      "410:\tlearn: 0.2967114\ttotal: 11s\tremaining: 15.8s\n",
      "411:\tlearn: 0.2965047\ttotal: 11.1s\tremaining: 15.8s\n",
      "412:\tlearn: 0.2963972\ttotal: 11.1s\tremaining: 15.8s\n",
      "413:\tlearn: 0.2963398\ttotal: 11.1s\tremaining: 15.8s\n",
      "414:\tlearn: 0.2962499\ttotal: 11.2s\tremaining: 15.8s\n",
      "415:\tlearn: 0.2958955\ttotal: 11.2s\tremaining: 15.8s\n",
      "416:\tlearn: 0.2958158\ttotal: 11.3s\tremaining: 15.8s\n",
      "417:\tlearn: 0.2955032\ttotal: 11.3s\tremaining: 15.7s\n",
      "418:\tlearn: 0.2952939\ttotal: 11.3s\tremaining: 15.7s\n",
      "419:\tlearn: 0.2951185\ttotal: 11.4s\tremaining: 15.7s\n",
      "420:\tlearn: 0.2950250\ttotal: 11.4s\tremaining: 15.7s\n",
      "421:\tlearn: 0.2946761\ttotal: 11.5s\tremaining: 15.7s\n",
      "422:\tlearn: 0.2945168\ttotal: 11.5s\tremaining: 15.7s\n",
      "423:\tlearn: 0.2944668\ttotal: 11.5s\tremaining: 15.7s\n",
      "424:\tlearn: 0.2943374\ttotal: 11.6s\tremaining: 15.7s\n",
      "425:\tlearn: 0.2940288\ttotal: 11.6s\tremaining: 15.7s\n",
      "426:\tlearn: 0.2936116\ttotal: 11.7s\tremaining: 15.7s\n",
      "427:\tlearn: 0.2933068\ttotal: 11.7s\tremaining: 15.6s\n",
      "428:\tlearn: 0.2931899\ttotal: 11.7s\tremaining: 15.6s\n",
      "429:\tlearn: 0.2930255\ttotal: 11.8s\tremaining: 15.6s\n",
      "430:\tlearn: 0.2928786\ttotal: 11.8s\tremaining: 15.6s\n",
      "431:\tlearn: 0.2928100\ttotal: 11.9s\tremaining: 15.6s\n",
      "432:\tlearn: 0.2926967\ttotal: 11.9s\tremaining: 15.6s\n",
      "433:\tlearn: 0.2925677\ttotal: 11.9s\tremaining: 15.6s\n",
      "434:\tlearn: 0.2924688\ttotal: 12s\tremaining: 15.5s\n",
      "435:\tlearn: 0.2923767\ttotal: 12s\tremaining: 15.5s\n",
      "436:\tlearn: 0.2922309\ttotal: 12s\tremaining: 15.5s\n",
      "437:\tlearn: 0.2918671\ttotal: 12.1s\tremaining: 15.5s\n",
      "438:\tlearn: 0.2914270\ttotal: 12.1s\tremaining: 15.5s\n",
      "439:\tlearn: 0.2912804\ttotal: 12.2s\tremaining: 15.5s\n",
      "440:\tlearn: 0.2909707\ttotal: 12.2s\tremaining: 15.4s\n",
      "441:\tlearn: 0.2905587\ttotal: 12.2s\tremaining: 15.4s\n",
      "442:\tlearn: 0.2904004\ttotal: 12.3s\tremaining: 15.4s\n",
      "443:\tlearn: 0.2901576\ttotal: 12.3s\tremaining: 15.4s\n",
      "444:\tlearn: 0.2897840\ttotal: 12.3s\tremaining: 15.4s\n",
      "445:\tlearn: 0.2895096\ttotal: 12.3s\tremaining: 15.3s\n",
      "446:\tlearn: 0.2891791\ttotal: 12.4s\tremaining: 15.3s\n",
      "447:\tlearn: 0.2890333\ttotal: 12.4s\tremaining: 15.3s\n",
      "448:\tlearn: 0.2887113\ttotal: 12.4s\tremaining: 15.3s\n",
      "449:\tlearn: 0.2885610\ttotal: 12.5s\tremaining: 15.2s\n",
      "450:\tlearn: 0.2882053\ttotal: 12.5s\tremaining: 15.2s\n",
      "451:\tlearn: 0.2878396\ttotal: 12.5s\tremaining: 15.2s\n",
      "452:\tlearn: 0.2876425\ttotal: 12.5s\tremaining: 15.1s\n",
      "453:\tlearn: 0.2874038\ttotal: 12.5s\tremaining: 15.1s\n",
      "454:\tlearn: 0.2871948\ttotal: 12.6s\tremaining: 15.1s\n",
      "455:\tlearn: 0.2869307\ttotal: 12.6s\tremaining: 15s\n",
      "456:\tlearn: 0.2866423\ttotal: 12.6s\tremaining: 15s\n",
      "457:\tlearn: 0.2864113\ttotal: 12.6s\tremaining: 15s\n",
      "458:\tlearn: 0.2860822\ttotal: 12.7s\tremaining: 14.9s\n",
      "459:\tlearn: 0.2858649\ttotal: 12.7s\tremaining: 14.9s\n",
      "460:\tlearn: 0.2856742\ttotal: 12.7s\tremaining: 14.9s\n",
      "461:\tlearn: 0.2853207\ttotal: 12.8s\tremaining: 14.9s\n",
      "462:\tlearn: 0.2849224\ttotal: 12.8s\tremaining: 14.8s\n",
      "463:\tlearn: 0.2848141\ttotal: 12.8s\tremaining: 14.8s\n",
      "464:\tlearn: 0.2846597\ttotal: 12.8s\tremaining: 14.8s\n",
      "465:\tlearn: 0.2843522\ttotal: 12.9s\tremaining: 14.8s\n",
      "466:\tlearn: 0.2840328\ttotal: 12.9s\tremaining: 14.7s\n",
      "467:\tlearn: 0.2837760\ttotal: 12.9s\tremaining: 14.7s\n",
      "468:\tlearn: 0.2835605\ttotal: 13s\tremaining: 14.7s\n",
      "469:\tlearn: 0.2833801\ttotal: 13s\tremaining: 14.7s\n",
      "470:\tlearn: 0.2831446\ttotal: 13s\tremaining: 14.6s\n",
      "471:\tlearn: 0.2829495\ttotal: 13s\tremaining: 14.6s\n",
      "472:\tlearn: 0.2827283\ttotal: 13.1s\tremaining: 14.6s\n",
      "473:\tlearn: 0.2825186\ttotal: 13.1s\tremaining: 14.5s\n",
      "474:\tlearn: 0.2822151\ttotal: 13.1s\tremaining: 14.5s\n",
      "475:\tlearn: 0.2820665\ttotal: 13.2s\tremaining: 14.5s\n",
      "476:\tlearn: 0.2818582\ttotal: 13.2s\tremaining: 14.4s\n",
      "477:\tlearn: 0.2815552\ttotal: 13.2s\tremaining: 14.4s\n",
      "478:\tlearn: 0.2814149\ttotal: 13.2s\tremaining: 14.4s\n",
      "479:\tlearn: 0.2811450\ttotal: 13.3s\tremaining: 14.4s\n",
      "480:\tlearn: 0.2809906\ttotal: 13.3s\tremaining: 14.3s\n",
      "481:\tlearn: 0.2807163\ttotal: 13.3s\tremaining: 14.3s\n",
      "482:\tlearn: 0.2805633\ttotal: 13.3s\tremaining: 14.3s\n",
      "483:\tlearn: 0.2803416\ttotal: 13.4s\tremaining: 14.2s\n",
      "484:\tlearn: 0.2800179\ttotal: 13.4s\tremaining: 14.2s\n",
      "485:\tlearn: 0.2798984\ttotal: 13.4s\tremaining: 14.2s\n",
      "486:\tlearn: 0.2798095\ttotal: 13.4s\tremaining: 14.2s\n",
      "487:\tlearn: 0.2796275\ttotal: 13.5s\tremaining: 14.1s\n",
      "488:\tlearn: 0.2794992\ttotal: 13.5s\tremaining: 14.1s\n",
      "489:\tlearn: 0.2792157\ttotal: 13.5s\tremaining: 14.1s\n",
      "490:\tlearn: 0.2789615\ttotal: 13.5s\tremaining: 14s\n",
      "491:\tlearn: 0.2788042\ttotal: 13.6s\tremaining: 14s\n",
      "492:\tlearn: 0.2785970\ttotal: 13.6s\tremaining: 14s\n",
      "493:\tlearn: 0.2784935\ttotal: 13.6s\tremaining: 13.9s\n",
      "494:\tlearn: 0.2783547\ttotal: 13.6s\tremaining: 13.9s\n",
      "495:\tlearn: 0.2781415\ttotal: 13.6s\tremaining: 13.9s\n",
      "496:\tlearn: 0.2777229\ttotal: 13.7s\tremaining: 13.8s\n",
      "497:\tlearn: 0.2774294\ttotal: 13.7s\tremaining: 13.8s\n",
      "498:\tlearn: 0.2773314\ttotal: 13.7s\tremaining: 13.8s\n",
      "499:\tlearn: 0.2771312\ttotal: 13.7s\tremaining: 13.7s\n",
      "500:\tlearn: 0.2770007\ttotal: 13.8s\tremaining: 13.7s\n",
      "501:\tlearn: 0.2768345\ttotal: 13.8s\tremaining: 13.7s\n",
      "502:\tlearn: 0.2767203\ttotal: 13.8s\tremaining: 13.6s\n",
      "503:\tlearn: 0.2765085\ttotal: 13.8s\tremaining: 13.6s\n",
      "504:\tlearn: 0.2763026\ttotal: 13.8s\tremaining: 13.6s\n",
      "505:\tlearn: 0.2761815\ttotal: 13.9s\tremaining: 13.5s\n",
      "506:\tlearn: 0.2760294\ttotal: 13.9s\tremaining: 13.5s\n",
      "507:\tlearn: 0.2756196\ttotal: 13.9s\tremaining: 13.5s\n",
      "508:\tlearn: 0.2754301\ttotal: 13.9s\tremaining: 13.4s\n",
      "509:\tlearn: 0.2752249\ttotal: 13.9s\tremaining: 13.4s\n",
      "510:\tlearn: 0.2750118\ttotal: 14s\tremaining: 13.4s\n",
      "511:\tlearn: 0.2747249\ttotal: 14s\tremaining: 13.3s\n",
      "512:\tlearn: 0.2745867\ttotal: 14s\tremaining: 13.3s\n",
      "513:\tlearn: 0.2744738\ttotal: 14.1s\tremaining: 13.3s\n",
      "514:\tlearn: 0.2742519\ttotal: 14.1s\tremaining: 13.3s\n",
      "515:\tlearn: 0.2740557\ttotal: 14.1s\tremaining: 13.2s\n",
      "516:\tlearn: 0.2738065\ttotal: 14.1s\tremaining: 13.2s\n",
      "517:\tlearn: 0.2736120\ttotal: 14.2s\tremaining: 13.2s\n",
      "518:\tlearn: 0.2734401\ttotal: 14.2s\tremaining: 13.1s\n",
      "519:\tlearn: 0.2733059\ttotal: 14.2s\tremaining: 13.1s\n",
      "520:\tlearn: 0.2730978\ttotal: 14.2s\tremaining: 13.1s\n",
      "521:\tlearn: 0.2728596\ttotal: 14.2s\tremaining: 13s\n",
      "522:\tlearn: 0.2726543\ttotal: 14.3s\tremaining: 13s\n",
      "523:\tlearn: 0.2725457\ttotal: 14.3s\tremaining: 13s\n",
      "524:\tlearn: 0.2723013\ttotal: 14.3s\tremaining: 13s\n",
      "525:\tlearn: 0.2721843\ttotal: 14.4s\tremaining: 12.9s\n",
      "526:\tlearn: 0.2720920\ttotal: 14.4s\tremaining: 12.9s\n",
      "527:\tlearn: 0.2719702\ttotal: 14.4s\tremaining: 12.9s\n",
      "528:\tlearn: 0.2717456\ttotal: 14.4s\tremaining: 12.9s\n",
      "529:\tlearn: 0.2714189\ttotal: 14.5s\tremaining: 12.8s\n",
      "530:\tlearn: 0.2712618\ttotal: 14.5s\tremaining: 12.8s\n",
      "531:\tlearn: 0.2712026\ttotal: 14.5s\tremaining: 12.8s\n",
      "532:\tlearn: 0.2710042\ttotal: 14.5s\tremaining: 12.7s\n",
      "533:\tlearn: 0.2708481\ttotal: 14.6s\tremaining: 12.7s\n",
      "534:\tlearn: 0.2707152\ttotal: 14.6s\tremaining: 12.7s\n",
      "535:\tlearn: 0.2706114\ttotal: 14.6s\tremaining: 12.6s\n",
      "536:\tlearn: 0.2705362\ttotal: 14.6s\tremaining: 12.6s\n",
      "537:\tlearn: 0.2704369\ttotal: 14.6s\tremaining: 12.6s\n",
      "538:\tlearn: 0.2701236\ttotal: 14.7s\tremaining: 12.5s\n",
      "539:\tlearn: 0.2699481\ttotal: 14.7s\tremaining: 12.5s\n",
      "540:\tlearn: 0.2696106\ttotal: 14.7s\tremaining: 12.5s\n",
      "541:\tlearn: 0.2695109\ttotal: 14.7s\tremaining: 12.5s\n",
      "542:\tlearn: 0.2692945\ttotal: 14.8s\tremaining: 12.4s\n",
      "543:\tlearn: 0.2690468\ttotal: 14.8s\tremaining: 12.4s\n",
      "544:\tlearn: 0.2687866\ttotal: 14.8s\tremaining: 12.4s\n",
      "545:\tlearn: 0.2686903\ttotal: 14.8s\tremaining: 12.3s\n",
      "546:\tlearn: 0.2685222\ttotal: 14.8s\tremaining: 12.3s\n",
      "547:\tlearn: 0.2683986\ttotal: 14.9s\tremaining: 12.3s\n",
      "548:\tlearn: 0.2683282\ttotal: 14.9s\tremaining: 12.2s\n",
      "549:\tlearn: 0.2680022\ttotal: 14.9s\tremaining: 12.2s\n",
      "550:\tlearn: 0.2678257\ttotal: 14.9s\tremaining: 12.2s\n",
      "551:\tlearn: 0.2677393\ttotal: 14.9s\tremaining: 12.1s\n",
      "552:\tlearn: 0.2675146\ttotal: 15s\tremaining: 12.1s\n",
      "553:\tlearn: 0.2673112\ttotal: 15s\tremaining: 12.1s\n",
      "554:\tlearn: 0.2672131\ttotal: 15s\tremaining: 12s\n",
      "555:\tlearn: 0.2670188\ttotal: 15s\tremaining: 12s\n",
      "556:\tlearn: 0.2669374\ttotal: 15.1s\tremaining: 12s\n",
      "557:\tlearn: 0.2667599\ttotal: 15.1s\tremaining: 12s\n",
      "558:\tlearn: 0.2666093\ttotal: 15.2s\tremaining: 12s\n",
      "559:\tlearn: 0.2663386\ttotal: 15.2s\tremaining: 11.9s\n",
      "560:\tlearn: 0.2662163\ttotal: 15.2s\tremaining: 11.9s\n",
      "561:\tlearn: 0.2660758\ttotal: 15.2s\tremaining: 11.9s\n",
      "562:\tlearn: 0.2658930\ttotal: 15.3s\tremaining: 11.9s\n",
      "563:\tlearn: 0.2656011\ttotal: 15.3s\tremaining: 11.8s\n",
      "564:\tlearn: 0.2654644\ttotal: 15.3s\tremaining: 11.8s\n",
      "565:\tlearn: 0.2652893\ttotal: 15.4s\tremaining: 11.8s\n",
      "566:\tlearn: 0.2652390\ttotal: 15.4s\tremaining: 11.7s\n",
      "567:\tlearn: 0.2650420\ttotal: 15.4s\tremaining: 11.7s\n",
      "568:\tlearn: 0.2648107\ttotal: 15.4s\tremaining: 11.7s\n",
      "569:\tlearn: 0.2645622\ttotal: 15.5s\tremaining: 11.7s\n",
      "570:\tlearn: 0.2644491\ttotal: 15.5s\tremaining: 11.6s\n",
      "571:\tlearn: 0.2643365\ttotal: 15.5s\tremaining: 11.6s\n",
      "572:\tlearn: 0.2641239\ttotal: 15.5s\tremaining: 11.6s\n",
      "573:\tlearn: 0.2637098\ttotal: 15.6s\tremaining: 11.5s\n",
      "574:\tlearn: 0.2636181\ttotal: 15.6s\tremaining: 11.5s\n",
      "575:\tlearn: 0.2634931\ttotal: 15.6s\tremaining: 11.5s\n",
      "576:\tlearn: 0.2633356\ttotal: 15.6s\tremaining: 11.5s\n",
      "577:\tlearn: 0.2632156\ttotal: 15.7s\tremaining: 11.4s\n",
      "578:\tlearn: 0.2630536\ttotal: 15.7s\tremaining: 11.4s\n",
      "579:\tlearn: 0.2629103\ttotal: 15.7s\tremaining: 11.4s\n",
      "580:\tlearn: 0.2628326\ttotal: 15.7s\tremaining: 11.3s\n",
      "581:\tlearn: 0.2624841\ttotal: 15.7s\tremaining: 11.3s\n",
      "582:\tlearn: 0.2623569\ttotal: 15.8s\tremaining: 11.3s\n",
      "583:\tlearn: 0.2621686\ttotal: 15.8s\tremaining: 11.2s\n",
      "584:\tlearn: 0.2620328\ttotal: 15.8s\tremaining: 11.2s\n",
      "585:\tlearn: 0.2618216\ttotal: 15.8s\tremaining: 11.2s\n",
      "586:\tlearn: 0.2616329\ttotal: 15.9s\tremaining: 11.2s\n",
      "587:\tlearn: 0.2614643\ttotal: 15.9s\tremaining: 11.1s\n",
      "588:\tlearn: 0.2613140\ttotal: 15.9s\tremaining: 11.1s\n",
      "589:\tlearn: 0.2612257\ttotal: 15.9s\tremaining: 11.1s\n",
      "590:\tlearn: 0.2611646\ttotal: 15.9s\tremaining: 11s\n",
      "591:\tlearn: 0.2608546\ttotal: 16s\tremaining: 11s\n",
      "592:\tlearn: 0.2607826\ttotal: 16s\tremaining: 11s\n",
      "593:\tlearn: 0.2606279\ttotal: 16s\tremaining: 10.9s\n",
      "594:\tlearn: 0.2605030\ttotal: 16s\tremaining: 10.9s\n",
      "595:\tlearn: 0.2601915\ttotal: 16s\tremaining: 10.9s\n",
      "596:\tlearn: 0.2600124\ttotal: 16.1s\tremaining: 10.8s\n",
      "597:\tlearn: 0.2598467\ttotal: 16.1s\tremaining: 10.8s\n",
      "598:\tlearn: 0.2597082\ttotal: 16.1s\tremaining: 10.8s\n",
      "599:\tlearn: 0.2595795\ttotal: 16.1s\tremaining: 10.8s\n",
      "600:\tlearn: 0.2595221\ttotal: 16.1s\tremaining: 10.7s\n",
      "601:\tlearn: 0.2592768\ttotal: 16.2s\tremaining: 10.7s\n",
      "602:\tlearn: 0.2591742\ttotal: 16.2s\tremaining: 10.7s\n",
      "603:\tlearn: 0.2590297\ttotal: 16.2s\tremaining: 10.6s\n",
      "604:\tlearn: 0.2589459\ttotal: 16.2s\tremaining: 10.6s\n",
      "605:\tlearn: 0.2587983\ttotal: 16.3s\tremaining: 10.6s\n",
      "606:\tlearn: 0.2586332\ttotal: 16.3s\tremaining: 10.6s\n",
      "607:\tlearn: 0.2585643\ttotal: 16.3s\tremaining: 10.5s\n",
      "608:\tlearn: 0.2583494\ttotal: 16.3s\tremaining: 10.5s\n",
      "609:\tlearn: 0.2582223\ttotal: 16.4s\tremaining: 10.5s\n",
      "610:\tlearn: 0.2580151\ttotal: 16.4s\tremaining: 10.4s\n",
      "611:\tlearn: 0.2578283\ttotal: 16.4s\tremaining: 10.4s\n",
      "612:\tlearn: 0.2577350\ttotal: 16.4s\tremaining: 10.4s\n",
      "613:\tlearn: 0.2576707\ttotal: 16.5s\tremaining: 10.4s\n",
      "614:\tlearn: 0.2574475\ttotal: 16.5s\tremaining: 10.3s\n",
      "615:\tlearn: 0.2573263\ttotal: 16.6s\tremaining: 10.4s\n",
      "616:\tlearn: 0.2572521\ttotal: 16.7s\tremaining: 10.4s\n",
      "617:\tlearn: 0.2570419\ttotal: 16.7s\tremaining: 10.3s\n",
      "618:\tlearn: 0.2569997\ttotal: 16.8s\tremaining: 10.3s\n",
      "619:\tlearn: 0.2568859\ttotal: 16.8s\tremaining: 10.3s\n",
      "620:\tlearn: 0.2567334\ttotal: 16.9s\tremaining: 10.3s\n",
      "621:\tlearn: 0.2566268\ttotal: 16.9s\tremaining: 10.3s\n",
      "622:\tlearn: 0.2565568\ttotal: 17s\tremaining: 10.3s\n",
      "623:\tlearn: 0.2564681\ttotal: 17s\tremaining: 10.2s\n",
      "624:\tlearn: 0.2561532\ttotal: 17s\tremaining: 10.2s\n",
      "625:\tlearn: 0.2559792\ttotal: 17s\tremaining: 10.2s\n",
      "626:\tlearn: 0.2558596\ttotal: 17.1s\tremaining: 10.2s\n",
      "627:\tlearn: 0.2557074\ttotal: 17.1s\tremaining: 10.1s\n",
      "628:\tlearn: 0.2556053\ttotal: 17.1s\tremaining: 10.1s\n",
      "629:\tlearn: 0.2555121\ttotal: 17.2s\tremaining: 10.1s\n",
      "630:\tlearn: 0.2553476\ttotal: 17.2s\tremaining: 10.1s\n",
      "631:\tlearn: 0.2551696\ttotal: 17.2s\tremaining: 10s\n",
      "632:\tlearn: 0.2551073\ttotal: 17.3s\tremaining: 10s\n",
      "633:\tlearn: 0.2549340\ttotal: 17.3s\tremaining: 9.99s\n",
      "634:\tlearn: 0.2548236\ttotal: 17.3s\tremaining: 9.96s\n",
      "635:\tlearn: 0.2547447\ttotal: 17.4s\tremaining: 9.94s\n",
      "636:\tlearn: 0.2546513\ttotal: 17.4s\tremaining: 9.92s\n",
      "637:\tlearn: 0.2545100\ttotal: 17.4s\tremaining: 9.89s\n",
      "638:\tlearn: 0.2544369\ttotal: 17.5s\tremaining: 9.87s\n",
      "639:\tlearn: 0.2542807\ttotal: 17.5s\tremaining: 9.84s\n",
      "640:\tlearn: 0.2541358\ttotal: 17.5s\tremaining: 9.81s\n",
      "641:\tlearn: 0.2540800\ttotal: 17.5s\tremaining: 9.79s\n",
      "642:\tlearn: 0.2540002\ttotal: 17.6s\tremaining: 9.76s\n",
      "643:\tlearn: 0.2539267\ttotal: 17.6s\tremaining: 9.73s\n",
      "644:\tlearn: 0.2538758\ttotal: 17.6s\tremaining: 9.7s\n",
      "645:\tlearn: 0.2537527\ttotal: 17.6s\tremaining: 9.67s\n",
      "646:\tlearn: 0.2537054\ttotal: 17.7s\tremaining: 9.64s\n",
      "647:\tlearn: 0.2535357\ttotal: 17.7s\tremaining: 9.62s\n",
      "648:\tlearn: 0.2534664\ttotal: 17.7s\tremaining: 9.59s\n",
      "649:\tlearn: 0.2532775\ttotal: 17.8s\tremaining: 9.56s\n",
      "650:\tlearn: 0.2531183\ttotal: 17.8s\tremaining: 9.53s\n",
      "651:\tlearn: 0.2527890\ttotal: 17.8s\tremaining: 9.5s\n",
      "652:\tlearn: 0.2527316\ttotal: 17.8s\tremaining: 9.48s\n",
      "653:\tlearn: 0.2526165\ttotal: 17.9s\tremaining: 9.45s\n",
      "654:\tlearn: 0.2525370\ttotal: 17.9s\tremaining: 9.42s\n",
      "655:\tlearn: 0.2524646\ttotal: 17.9s\tremaining: 9.39s\n",
      "656:\tlearn: 0.2523785\ttotal: 17.9s\tremaining: 9.36s\n",
      "657:\tlearn: 0.2521847\ttotal: 18s\tremaining: 9.34s\n",
      "658:\tlearn: 0.2520699\ttotal: 18s\tremaining: 9.31s\n",
      "659:\tlearn: 0.2517298\ttotal: 18s\tremaining: 9.28s\n",
      "660:\tlearn: 0.2516275\ttotal: 18s\tremaining: 9.25s\n",
      "661:\tlearn: 0.2515708\ttotal: 18.1s\tremaining: 9.22s\n",
      "662:\tlearn: 0.2513663\ttotal: 18.1s\tremaining: 9.2s\n",
      "663:\tlearn: 0.2512879\ttotal: 18.1s\tremaining: 9.17s\n",
      "664:\tlearn: 0.2511439\ttotal: 18.1s\tremaining: 9.14s\n",
      "665:\tlearn: 0.2510914\ttotal: 18.2s\tremaining: 9.11s\n",
      "666:\tlearn: 0.2509947\ttotal: 18.2s\tremaining: 9.08s\n",
      "667:\tlearn: 0.2508854\ttotal: 18.2s\tremaining: 9.06s\n",
      "668:\tlearn: 0.2507569\ttotal: 18.3s\tremaining: 9.03s\n",
      "669:\tlearn: 0.2507063\ttotal: 18.3s\tremaining: 9s\n",
      "670:\tlearn: 0.2506640\ttotal: 18.3s\tremaining: 8.97s\n",
      "671:\tlearn: 0.2505997\ttotal: 18.3s\tremaining: 8.95s\n",
      "672:\tlearn: 0.2505636\ttotal: 18.4s\tremaining: 8.92s\n",
      "673:\tlearn: 0.2504055\ttotal: 18.4s\tremaining: 8.89s\n",
      "674:\tlearn: 0.2503536\ttotal: 18.4s\tremaining: 8.86s\n",
      "675:\tlearn: 0.2502483\ttotal: 18.4s\tremaining: 8.84s\n",
      "676:\tlearn: 0.2501906\ttotal: 18.5s\tremaining: 8.81s\n",
      "677:\tlearn: 0.2501620\ttotal: 18.5s\tremaining: 8.78s\n",
      "678:\tlearn: 0.2500633\ttotal: 18.5s\tremaining: 8.75s\n",
      "679:\tlearn: 0.2499585\ttotal: 18.5s\tremaining: 8.72s\n",
      "680:\tlearn: 0.2498467\ttotal: 18.6s\tremaining: 8.69s\n",
      "681:\tlearn: 0.2497795\ttotal: 18.6s\tremaining: 8.66s\n",
      "682:\tlearn: 0.2495598\ttotal: 18.6s\tremaining: 8.64s\n",
      "683:\tlearn: 0.2493671\ttotal: 18.6s\tremaining: 8.61s\n",
      "684:\tlearn: 0.2493036\ttotal: 18.7s\tremaining: 8.58s\n",
      "685:\tlearn: 0.2492100\ttotal: 18.7s\tremaining: 8.55s\n",
      "686:\tlearn: 0.2490677\ttotal: 18.7s\tremaining: 8.52s\n",
      "687:\tlearn: 0.2489019\ttotal: 18.7s\tremaining: 8.49s\n",
      "688:\tlearn: 0.2488370\ttotal: 18.8s\tremaining: 8.47s\n",
      "689:\tlearn: 0.2487519\ttotal: 18.8s\tremaining: 8.45s\n",
      "690:\tlearn: 0.2487022\ttotal: 18.8s\tremaining: 8.42s\n",
      "691:\tlearn: 0.2485765\ttotal: 18.9s\tremaining: 8.39s\n",
      "692:\tlearn: 0.2484773\ttotal: 18.9s\tremaining: 8.37s\n",
      "693:\tlearn: 0.2483195\ttotal: 18.9s\tremaining: 8.33s\n",
      "694:\tlearn: 0.2482788\ttotal: 18.9s\tremaining: 8.3s\n",
      "695:\tlearn: 0.2481120\ttotal: 18.9s\tremaining: 8.27s\n",
      "696:\tlearn: 0.2479736\ttotal: 19s\tremaining: 8.24s\n",
      "697:\tlearn: 0.2478878\ttotal: 19s\tremaining: 8.21s\n",
      "698:\tlearn: 0.2476832\ttotal: 19s\tremaining: 8.18s\n",
      "699:\tlearn: 0.2475148\ttotal: 19s\tremaining: 8.15s\n",
      "700:\tlearn: 0.2474514\ttotal: 19s\tremaining: 8.12s\n",
      "701:\tlearn: 0.2473392\ttotal: 19.1s\tremaining: 8.09s\n",
      "702:\tlearn: 0.2472199\ttotal: 19.1s\tremaining: 8.06s\n",
      "703:\tlearn: 0.2471158\ttotal: 19.1s\tremaining: 8.03s\n",
      "704:\tlearn: 0.2469822\ttotal: 19.1s\tremaining: 8s\n",
      "705:\tlearn: 0.2469335\ttotal: 19.1s\tremaining: 7.97s\n",
      "706:\tlearn: 0.2467417\ttotal: 19.2s\tremaining: 7.94s\n",
      "707:\tlearn: 0.2466440\ttotal: 19.2s\tremaining: 7.91s\n",
      "708:\tlearn: 0.2465988\ttotal: 19.2s\tremaining: 7.89s\n",
      "709:\tlearn: 0.2462789\ttotal: 19.2s\tremaining: 7.86s\n",
      "710:\tlearn: 0.2461584\ttotal: 19.3s\tremaining: 7.83s\n",
      "711:\tlearn: 0.2460724\ttotal: 19.3s\tremaining: 7.8s\n",
      "712:\tlearn: 0.2459433\ttotal: 19.3s\tremaining: 7.77s\n",
      "713:\tlearn: 0.2458221\ttotal: 19.4s\tremaining: 7.77s\n",
      "714:\tlearn: 0.2457154\ttotal: 19.5s\tremaining: 7.76s\n",
      "715:\tlearn: 0.2456334\ttotal: 19.5s\tremaining: 7.74s\n",
      "716:\tlearn: 0.2455829\ttotal: 19.6s\tremaining: 7.72s\n",
      "717:\tlearn: 0.2454877\ttotal: 19.6s\tremaining: 7.69s\n",
      "718:\tlearn: 0.2454234\ttotal: 19.6s\tremaining: 7.66s\n",
      "719:\tlearn: 0.2452785\ttotal: 19.6s\tremaining: 7.63s\n",
      "720:\tlearn: 0.2452148\ttotal: 19.7s\tremaining: 7.61s\n",
      "721:\tlearn: 0.2450547\ttotal: 19.7s\tremaining: 7.58s\n",
      "722:\tlearn: 0.2450106\ttotal: 19.7s\tremaining: 7.56s\n",
      "723:\tlearn: 0.2448276\ttotal: 19.7s\tremaining: 7.53s\n",
      "724:\tlearn: 0.2446994\ttotal: 19.8s\tremaining: 7.5s\n",
      "725:\tlearn: 0.2446411\ttotal: 19.8s\tremaining: 7.47s\n",
      "726:\tlearn: 0.2445322\ttotal: 19.8s\tremaining: 7.45s\n",
      "727:\tlearn: 0.2444925\ttotal: 19.9s\tremaining: 7.42s\n",
      "728:\tlearn: 0.2443122\ttotal: 19.9s\tremaining: 7.39s\n",
      "729:\tlearn: 0.2439686\ttotal: 19.9s\tremaining: 7.37s\n",
      "730:\tlearn: 0.2438956\ttotal: 19.9s\tremaining: 7.34s\n",
      "731:\tlearn: 0.2437779\ttotal: 20s\tremaining: 7.31s\n",
      "732:\tlearn: 0.2436564\ttotal: 20s\tremaining: 7.29s\n",
      "733:\tlearn: 0.2435781\ttotal: 20s\tremaining: 7.26s\n",
      "734:\tlearn: 0.2434489\ttotal: 20.1s\tremaining: 7.23s\n",
      "735:\tlearn: 0.2432463\ttotal: 20.1s\tremaining: 7.2s\n",
      "736:\tlearn: 0.2431980\ttotal: 20.1s\tremaining: 7.18s\n",
      "737:\tlearn: 0.2430869\ttotal: 20.1s\tremaining: 7.15s\n",
      "738:\tlearn: 0.2430322\ttotal: 20.2s\tremaining: 7.13s\n",
      "739:\tlearn: 0.2429815\ttotal: 20.2s\tremaining: 7.1s\n",
      "740:\tlearn: 0.2428432\ttotal: 20.2s\tremaining: 7.07s\n",
      "741:\tlearn: 0.2426816\ttotal: 20.2s\tremaining: 7.04s\n",
      "742:\tlearn: 0.2426031\ttotal: 20.3s\tremaining: 7.01s\n",
      "743:\tlearn: 0.2425317\ttotal: 20.3s\tremaining: 6.98s\n",
      "744:\tlearn: 0.2424225\ttotal: 20.3s\tremaining: 6.95s\n",
      "745:\tlearn: 0.2423617\ttotal: 20.3s\tremaining: 6.92s\n",
      "746:\tlearn: 0.2422601\ttotal: 20.4s\tremaining: 6.89s\n",
      "747:\tlearn: 0.2421449\ttotal: 20.4s\tremaining: 6.87s\n",
      "748:\tlearn: 0.2420388\ttotal: 20.4s\tremaining: 6.84s\n",
      "749:\tlearn: 0.2419411\ttotal: 20.4s\tremaining: 6.81s\n",
      "750:\tlearn: 0.2418633\ttotal: 20.5s\tremaining: 6.78s\n",
      "751:\tlearn: 0.2418190\ttotal: 20.5s\tremaining: 6.75s\n",
      "752:\tlearn: 0.2416912\ttotal: 20.5s\tremaining: 6.72s\n",
      "753:\tlearn: 0.2415445\ttotal: 20.5s\tremaining: 6.7s\n",
      "754:\tlearn: 0.2414400\ttotal: 20.6s\tremaining: 6.67s\n",
      "755:\tlearn: 0.2413748\ttotal: 20.6s\tremaining: 6.64s\n",
      "756:\tlearn: 0.2412876\ttotal: 20.6s\tremaining: 6.61s\n",
      "757:\tlearn: 0.2412377\ttotal: 20.6s\tremaining: 6.58s\n",
      "758:\tlearn: 0.2411330\ttotal: 20.6s\tremaining: 6.56s\n",
      "759:\tlearn: 0.2410247\ttotal: 20.7s\tremaining: 6.53s\n",
      "760:\tlearn: 0.2409142\ttotal: 20.7s\tremaining: 6.5s\n",
      "761:\tlearn: 0.2407987\ttotal: 20.7s\tremaining: 6.47s\n",
      "762:\tlearn: 0.2407057\ttotal: 20.7s\tremaining: 6.44s\n",
      "763:\tlearn: 0.2405872\ttotal: 20.8s\tremaining: 6.42s\n",
      "764:\tlearn: 0.2405418\ttotal: 20.8s\tremaining: 6.39s\n",
      "765:\tlearn: 0.2404936\ttotal: 20.8s\tremaining: 6.36s\n",
      "766:\tlearn: 0.2402644\ttotal: 20.8s\tremaining: 6.33s\n",
      "767:\tlearn: 0.2401408\ttotal: 20.9s\tremaining: 6.3s\n",
      "768:\tlearn: 0.2400238\ttotal: 20.9s\tremaining: 6.28s\n",
      "769:\tlearn: 0.2398882\ttotal: 20.9s\tremaining: 6.25s\n",
      "770:\tlearn: 0.2396526\ttotal: 20.9s\tremaining: 6.22s\n",
      "771:\tlearn: 0.2394713\ttotal: 21s\tremaining: 6.19s\n",
      "772:\tlearn: 0.2393394\ttotal: 21s\tremaining: 6.17s\n",
      "773:\tlearn: 0.2391120\ttotal: 21s\tremaining: 6.14s\n",
      "774:\tlearn: 0.2390230\ttotal: 21s\tremaining: 6.11s\n",
      "775:\tlearn: 0.2387304\ttotal: 21.1s\tremaining: 6.08s\n",
      "776:\tlearn: 0.2385335\ttotal: 21.1s\tremaining: 6.05s\n",
      "777:\tlearn: 0.2384712\ttotal: 21.1s\tremaining: 6.03s\n",
      "778:\tlearn: 0.2383130\ttotal: 21.2s\tremaining: 6s\n",
      "779:\tlearn: 0.2381885\ttotal: 21.2s\tremaining: 5.98s\n",
      "780:\tlearn: 0.2380547\ttotal: 21.2s\tremaining: 5.95s\n",
      "781:\tlearn: 0.2379677\ttotal: 21.2s\tremaining: 5.92s\n",
      "782:\tlearn: 0.2378612\ttotal: 21.3s\tremaining: 5.89s\n",
      "783:\tlearn: 0.2377580\ttotal: 21.3s\tremaining: 5.87s\n",
      "784:\tlearn: 0.2375723\ttotal: 21.3s\tremaining: 5.84s\n",
      "785:\tlearn: 0.2375034\ttotal: 21.3s\tremaining: 5.81s\n",
      "786:\tlearn: 0.2372401\ttotal: 21.4s\tremaining: 5.78s\n",
      "787:\tlearn: 0.2371351\ttotal: 21.4s\tremaining: 5.75s\n",
      "788:\tlearn: 0.2369813\ttotal: 21.4s\tremaining: 5.73s\n",
      "789:\tlearn: 0.2368872\ttotal: 21.4s\tremaining: 5.7s\n",
      "790:\tlearn: 0.2368312\ttotal: 21.5s\tremaining: 5.67s\n",
      "791:\tlearn: 0.2367543\ttotal: 21.5s\tremaining: 5.64s\n",
      "792:\tlearn: 0.2366890\ttotal: 21.5s\tremaining: 5.62s\n",
      "793:\tlearn: 0.2366233\ttotal: 21.6s\tremaining: 5.59s\n",
      "794:\tlearn: 0.2365362\ttotal: 21.6s\tremaining: 5.56s\n",
      "795:\tlearn: 0.2364808\ttotal: 21.6s\tremaining: 5.54s\n",
      "796:\tlearn: 0.2363671\ttotal: 21.6s\tremaining: 5.51s\n",
      "797:\tlearn: 0.2363205\ttotal: 21.6s\tremaining: 5.48s\n",
      "798:\tlearn: 0.2362385\ttotal: 21.7s\tremaining: 5.45s\n",
      "799:\tlearn: 0.2361963\ttotal: 21.7s\tremaining: 5.42s\n",
      "800:\tlearn: 0.2359946\ttotal: 21.7s\tremaining: 5.4s\n",
      "801:\tlearn: 0.2359320\ttotal: 21.7s\tremaining: 5.37s\n",
      "802:\tlearn: 0.2358291\ttotal: 21.8s\tremaining: 5.34s\n",
      "803:\tlearn: 0.2357389\ttotal: 21.8s\tremaining: 5.31s\n",
      "804:\tlearn: 0.2356848\ttotal: 21.8s\tremaining: 5.29s\n",
      "805:\tlearn: 0.2354708\ttotal: 21.9s\tremaining: 5.26s\n",
      "806:\tlearn: 0.2353759\ttotal: 21.9s\tremaining: 5.23s\n",
      "807:\tlearn: 0.2351735\ttotal: 21.9s\tremaining: 5.2s\n",
      "808:\tlearn: 0.2351357\ttotal: 21.9s\tremaining: 5.18s\n",
      "809:\tlearn: 0.2350456\ttotal: 22s\tremaining: 5.15s\n",
      "810:\tlearn: 0.2349976\ttotal: 22s\tremaining: 5.12s\n",
      "811:\tlearn: 0.2348870\ttotal: 22.1s\tremaining: 5.13s\n",
      "812:\tlearn: 0.2347856\ttotal: 22.3s\tremaining: 5.12s\n",
      "813:\tlearn: 0.2346601\ttotal: 22.3s\tremaining: 5.09s\n",
      "814:\tlearn: 0.2345880\ttotal: 22.3s\tremaining: 5.07s\n",
      "815:\tlearn: 0.2345230\ttotal: 22.4s\tremaining: 5.04s\n",
      "816:\tlearn: 0.2343279\ttotal: 22.4s\tremaining: 5.02s\n",
      "817:\tlearn: 0.2342859\ttotal: 22.5s\tremaining: 5s\n",
      "818:\tlearn: 0.2340657\ttotal: 22.5s\tremaining: 4.97s\n",
      "819:\tlearn: 0.2339095\ttotal: 22.5s\tremaining: 4.95s\n",
      "820:\tlearn: 0.2338806\ttotal: 22.6s\tremaining: 4.92s\n",
      "821:\tlearn: 0.2338420\ttotal: 22.6s\tremaining: 4.89s\n",
      "822:\tlearn: 0.2336780\ttotal: 22.6s\tremaining: 4.87s\n",
      "823:\tlearn: 0.2334855\ttotal: 22.7s\tremaining: 4.85s\n",
      "824:\tlearn: 0.2332850\ttotal: 22.7s\tremaining: 4.82s\n",
      "825:\tlearn: 0.2330958\ttotal: 22.8s\tremaining: 4.79s\n",
      "826:\tlearn: 0.2329653\ttotal: 22.8s\tremaining: 4.77s\n",
      "827:\tlearn: 0.2329108\ttotal: 22.8s\tremaining: 4.74s\n",
      "828:\tlearn: 0.2326833\ttotal: 22.8s\tremaining: 4.71s\n",
      "829:\tlearn: 0.2325802\ttotal: 22.9s\tremaining: 4.69s\n",
      "830:\tlearn: 0.2324888\ttotal: 22.9s\tremaining: 4.66s\n",
      "831:\tlearn: 0.2324038\ttotal: 23s\tremaining: 4.63s\n",
      "832:\tlearn: 0.2323163\ttotal: 23s\tremaining: 4.61s\n",
      "833:\tlearn: 0.2321468\ttotal: 23s\tremaining: 4.58s\n",
      "834:\tlearn: 0.2320369\ttotal: 23.1s\tremaining: 4.55s\n",
      "835:\tlearn: 0.2318641\ttotal: 23.1s\tremaining: 4.53s\n",
      "836:\tlearn: 0.2317223\ttotal: 23.1s\tremaining: 4.5s\n",
      "837:\tlearn: 0.2314701\ttotal: 23.1s\tremaining: 4.47s\n",
      "838:\tlearn: 0.2313396\ttotal: 23.2s\tremaining: 4.44s\n",
      "839:\tlearn: 0.2312871\ttotal: 23.2s\tremaining: 4.41s\n",
      "840:\tlearn: 0.2310381\ttotal: 23.2s\tremaining: 4.38s\n",
      "841:\tlearn: 0.2309587\ttotal: 23.2s\tremaining: 4.36s\n",
      "842:\tlearn: 0.2308799\ttotal: 23.2s\tremaining: 4.33s\n",
      "843:\tlearn: 0.2307177\ttotal: 23.3s\tremaining: 4.3s\n",
      "844:\tlearn: 0.2306835\ttotal: 23.3s\tremaining: 4.27s\n",
      "845:\tlearn: 0.2305967\ttotal: 23.3s\tremaining: 4.24s\n",
      "846:\tlearn: 0.2304502\ttotal: 23.3s\tremaining: 4.21s\n",
      "847:\tlearn: 0.2303798\ttotal: 23.4s\tremaining: 4.19s\n",
      "848:\tlearn: 0.2303069\ttotal: 23.4s\tremaining: 4.16s\n",
      "849:\tlearn: 0.2301001\ttotal: 23.4s\tremaining: 4.13s\n",
      "850:\tlearn: 0.2300569\ttotal: 23.4s\tremaining: 4.1s\n",
      "851:\tlearn: 0.2299509\ttotal: 23.5s\tremaining: 4.07s\n",
      "852:\tlearn: 0.2298971\ttotal: 23.5s\tremaining: 4.05s\n",
      "853:\tlearn: 0.2298269\ttotal: 23.5s\tremaining: 4.02s\n",
      "854:\tlearn: 0.2297819\ttotal: 23.5s\tremaining: 3.99s\n",
      "855:\tlearn: 0.2296925\ttotal: 23.6s\tremaining: 3.96s\n",
      "856:\tlearn: 0.2296035\ttotal: 23.6s\tremaining: 3.94s\n",
      "857:\tlearn: 0.2295314\ttotal: 23.6s\tremaining: 3.91s\n",
      "858:\tlearn: 0.2294820\ttotal: 23.6s\tremaining: 3.88s\n",
      "859:\tlearn: 0.2293701\ttotal: 23.7s\tremaining: 3.85s\n",
      "860:\tlearn: 0.2291729\ttotal: 23.7s\tremaining: 3.82s\n",
      "861:\tlearn: 0.2291017\ttotal: 23.7s\tremaining: 3.79s\n",
      "862:\tlearn: 0.2289304\ttotal: 23.7s\tremaining: 3.77s\n",
      "863:\tlearn: 0.2288596\ttotal: 23.7s\tremaining: 3.74s\n",
      "864:\tlearn: 0.2287177\ttotal: 23.8s\tremaining: 3.71s\n",
      "865:\tlearn: 0.2286844\ttotal: 23.8s\tremaining: 3.68s\n",
      "866:\tlearn: 0.2285388\ttotal: 23.8s\tremaining: 3.65s\n",
      "867:\tlearn: 0.2284677\ttotal: 23.8s\tremaining: 3.62s\n",
      "868:\tlearn: 0.2282474\ttotal: 23.8s\tremaining: 3.6s\n",
      "869:\tlearn: 0.2280993\ttotal: 23.9s\tremaining: 3.57s\n",
      "870:\tlearn: 0.2278919\ttotal: 23.9s\tremaining: 3.54s\n",
      "871:\tlearn: 0.2278573\ttotal: 23.9s\tremaining: 3.51s\n",
      "872:\tlearn: 0.2276902\ttotal: 23.9s\tremaining: 3.48s\n",
      "873:\tlearn: 0.2275038\ttotal: 23.9s\tremaining: 3.45s\n",
      "874:\tlearn: 0.2273616\ttotal: 24s\tremaining: 3.42s\n",
      "875:\tlearn: 0.2272274\ttotal: 24s\tremaining: 3.4s\n",
      "876:\tlearn: 0.2271644\ttotal: 24s\tremaining: 3.37s\n",
      "877:\tlearn: 0.2270616\ttotal: 24s\tremaining: 3.34s\n",
      "878:\tlearn: 0.2269457\ttotal: 24.1s\tremaining: 3.31s\n",
      "879:\tlearn: 0.2269262\ttotal: 24.1s\tremaining: 3.28s\n",
      "880:\tlearn: 0.2268858\ttotal: 24.1s\tremaining: 3.25s\n",
      "881:\tlearn: 0.2267646\ttotal: 24.1s\tremaining: 3.23s\n",
      "882:\tlearn: 0.2266043\ttotal: 24.2s\tremaining: 3.2s\n",
      "883:\tlearn: 0.2264863\ttotal: 24.2s\tremaining: 3.17s\n",
      "884:\tlearn: 0.2264009\ttotal: 24.2s\tremaining: 3.15s\n",
      "885:\tlearn: 0.2263302\ttotal: 24.2s\tremaining: 3.12s\n",
      "886:\tlearn: 0.2262772\ttotal: 24.3s\tremaining: 3.09s\n",
      "887:\tlearn: 0.2261635\ttotal: 24.3s\tremaining: 3.06s\n",
      "888:\tlearn: 0.2261161\ttotal: 24.3s\tremaining: 3.04s\n",
      "889:\tlearn: 0.2259517\ttotal: 24.3s\tremaining: 3.01s\n",
      "890:\tlearn: 0.2259053\ttotal: 24.4s\tremaining: 2.98s\n",
      "891:\tlearn: 0.2258732\ttotal: 24.4s\tremaining: 2.95s\n",
      "892:\tlearn: 0.2258471\ttotal: 24.4s\tremaining: 2.93s\n",
      "893:\tlearn: 0.2257935\ttotal: 24.5s\tremaining: 2.9s\n",
      "894:\tlearn: 0.2256640\ttotal: 24.5s\tremaining: 2.87s\n",
      "895:\tlearn: 0.2256166\ttotal: 24.5s\tremaining: 2.85s\n",
      "896:\tlearn: 0.2254349\ttotal: 24.5s\tremaining: 2.82s\n",
      "897:\tlearn: 0.2253194\ttotal: 24.6s\tremaining: 2.79s\n",
      "898:\tlearn: 0.2252505\ttotal: 24.6s\tremaining: 2.76s\n",
      "899:\tlearn: 0.2251946\ttotal: 24.6s\tremaining: 2.73s\n",
      "900:\tlearn: 0.2250667\ttotal: 24.6s\tremaining: 2.71s\n",
      "901:\tlearn: 0.2249113\ttotal: 24.7s\tremaining: 2.68s\n",
      "902:\tlearn: 0.2248504\ttotal: 24.7s\tremaining: 2.65s\n",
      "903:\tlearn: 0.2247402\ttotal: 24.7s\tremaining: 2.62s\n",
      "904:\tlearn: 0.2246717\ttotal: 24.7s\tremaining: 2.6s\n",
      "905:\tlearn: 0.2245283\ttotal: 24.8s\tremaining: 2.57s\n",
      "906:\tlearn: 0.2244206\ttotal: 24.8s\tremaining: 2.54s\n",
      "907:\tlearn: 0.2243777\ttotal: 24.8s\tremaining: 2.51s\n",
      "908:\tlearn: 0.2243287\ttotal: 24.8s\tremaining: 2.48s\n",
      "909:\tlearn: 0.2241742\ttotal: 24.8s\tremaining: 2.46s\n",
      "910:\tlearn: 0.2240698\ttotal: 25s\tremaining: 2.44s\n",
      "911:\tlearn: 0.2239202\ttotal: 25.1s\tremaining: 2.42s\n",
      "912:\tlearn: 0.2237947\ttotal: 25.1s\tremaining: 2.39s\n",
      "913:\tlearn: 0.2236751\ttotal: 25.1s\tremaining: 2.36s\n",
      "914:\tlearn: 0.2235581\ttotal: 25.2s\tremaining: 2.34s\n",
      "915:\tlearn: 0.2234547\ttotal: 25.2s\tremaining: 2.31s\n",
      "916:\tlearn: 0.2234019\ttotal: 25.2s\tremaining: 2.28s\n",
      "917:\tlearn: 0.2233096\ttotal: 25.2s\tremaining: 2.25s\n",
      "918:\tlearn: 0.2232220\ttotal: 25.2s\tremaining: 2.22s\n",
      "919:\tlearn: 0.2231874\ttotal: 25.3s\tremaining: 2.19s\n",
      "920:\tlearn: 0.2231263\ttotal: 25.3s\tremaining: 2.17s\n",
      "921:\tlearn: 0.2230588\ttotal: 25.3s\tremaining: 2.14s\n",
      "922:\tlearn: 0.2229844\ttotal: 25.3s\tremaining: 2.11s\n",
      "923:\tlearn: 0.2228756\ttotal: 25.3s\tremaining: 2.08s\n",
      "924:\tlearn: 0.2227741\ttotal: 25.4s\tremaining: 2.06s\n",
      "925:\tlearn: 0.2225999\ttotal: 25.4s\tremaining: 2.03s\n",
      "926:\tlearn: 0.2225527\ttotal: 25.4s\tremaining: 2s\n",
      "927:\tlearn: 0.2224679\ttotal: 25.5s\tremaining: 1.98s\n",
      "928:\tlearn: 0.2223786\ttotal: 25.5s\tremaining: 1.95s\n",
      "929:\tlearn: 0.2223173\ttotal: 25.5s\tremaining: 1.92s\n",
      "930:\tlearn: 0.2222699\ttotal: 25.5s\tremaining: 1.89s\n",
      "931:\tlearn: 0.2222285\ttotal: 25.6s\tremaining: 1.86s\n",
      "932:\tlearn: 0.2219380\ttotal: 25.6s\tremaining: 1.84s\n",
      "933:\tlearn: 0.2218920\ttotal: 25.6s\tremaining: 1.81s\n",
      "934:\tlearn: 0.2217612\ttotal: 25.6s\tremaining: 1.78s\n",
      "935:\tlearn: 0.2216613\ttotal: 25.7s\tremaining: 1.75s\n",
      "936:\tlearn: 0.2216150\ttotal: 25.7s\tremaining: 1.73s\n",
      "937:\tlearn: 0.2215507\ttotal: 25.7s\tremaining: 1.7s\n",
      "938:\tlearn: 0.2215046\ttotal: 25.8s\tremaining: 1.67s\n",
      "939:\tlearn: 0.2213612\ttotal: 25.8s\tremaining: 1.65s\n",
      "940:\tlearn: 0.2212512\ttotal: 25.8s\tremaining: 1.62s\n",
      "941:\tlearn: 0.2210915\ttotal: 25.8s\tremaining: 1.59s\n",
      "942:\tlearn: 0.2210545\ttotal: 25.9s\tremaining: 1.56s\n",
      "943:\tlearn: 0.2210154\ttotal: 25.9s\tremaining: 1.54s\n",
      "944:\tlearn: 0.2209862\ttotal: 26s\tremaining: 1.51s\n",
      "945:\tlearn: 0.2209377\ttotal: 26s\tremaining: 1.48s\n",
      "946:\tlearn: 0.2207707\ttotal: 26.1s\tremaining: 1.46s\n",
      "947:\tlearn: 0.2207155\ttotal: 26.1s\tremaining: 1.43s\n",
      "948:\tlearn: 0.2206189\ttotal: 26.1s\tremaining: 1.4s\n",
      "949:\tlearn: 0.2205200\ttotal: 26.1s\tremaining: 1.38s\n",
      "950:\tlearn: 0.2203566\ttotal: 26.2s\tremaining: 1.35s\n",
      "951:\tlearn: 0.2203149\ttotal: 26.2s\tremaining: 1.32s\n",
      "952:\tlearn: 0.2202732\ttotal: 26.2s\tremaining: 1.29s\n",
      "953:\tlearn: 0.2201425\ttotal: 26.3s\tremaining: 1.27s\n",
      "954:\tlearn: 0.2200108\ttotal: 26.3s\tremaining: 1.24s\n",
      "955:\tlearn: 0.2199623\ttotal: 26.4s\tremaining: 1.21s\n",
      "956:\tlearn: 0.2198960\ttotal: 26.4s\tremaining: 1.19s\n",
      "957:\tlearn: 0.2198693\ttotal: 26.4s\tremaining: 1.16s\n",
      "958:\tlearn: 0.2197403\ttotal: 26.5s\tremaining: 1.13s\n",
      "959:\tlearn: 0.2197115\ttotal: 26.5s\tremaining: 1.1s\n",
      "960:\tlearn: 0.2196768\ttotal: 26.6s\tremaining: 1.08s\n",
      "961:\tlearn: 0.2195752\ttotal: 26.6s\tremaining: 1.05s\n",
      "962:\tlearn: 0.2194699\ttotal: 26.7s\tremaining: 1.02s\n",
      "963:\tlearn: 0.2193533\ttotal: 26.7s\tremaining: 996ms\n",
      "964:\tlearn: 0.2192187\ttotal: 26.7s\tremaining: 969ms\n",
      "965:\tlearn: 0.2191149\ttotal: 26.7s\tremaining: 941ms\n",
      "966:\tlearn: 0.2190380\ttotal: 26.8s\tremaining: 914ms\n",
      "967:\tlearn: 0.2188530\ttotal: 26.8s\tremaining: 886ms\n",
      "968:\tlearn: 0.2186486\ttotal: 26.9s\tremaining: 859ms\n",
      "969:\tlearn: 0.2185398\ttotal: 26.9s\tremaining: 832ms\n",
      "970:\tlearn: 0.2184259\ttotal: 26.9s\tremaining: 804ms\n",
      "971:\tlearn: 0.2182741\ttotal: 27s\tremaining: 777ms\n",
      "972:\tlearn: 0.2182286\ttotal: 27s\tremaining: 750ms\n",
      "973:\tlearn: 0.2181286\ttotal: 27.1s\tremaining: 722ms\n",
      "974:\tlearn: 0.2180914\ttotal: 27.1s\tremaining: 695ms\n",
      "975:\tlearn: 0.2179840\ttotal: 27.1s\tremaining: 668ms\n",
      "976:\tlearn: 0.2178758\ttotal: 27.2s\tremaining: 640ms\n",
      "977:\tlearn: 0.2178419\ttotal: 27.2s\tremaining: 613ms\n",
      "978:\tlearn: 0.2177582\ttotal: 27.3s\tremaining: 585ms\n",
      "979:\tlearn: 0.2176904\ttotal: 27.3s\tremaining: 557ms\n",
      "980:\tlearn: 0.2175994\ttotal: 27.4s\tremaining: 530ms\n",
      "981:\tlearn: 0.2174145\ttotal: 27.4s\tremaining: 502ms\n",
      "982:\tlearn: 0.2173362\ttotal: 27.4s\tremaining: 474ms\n",
      "983:\tlearn: 0.2172121\ttotal: 27.5s\tremaining: 447ms\n",
      "984:\tlearn: 0.2171776\ttotal: 27.5s\tremaining: 419ms\n",
      "985:\tlearn: 0.2170661\ttotal: 27.5s\tremaining: 391ms\n",
      "986:\tlearn: 0.2167991\ttotal: 27.6s\tremaining: 363ms\n",
      "987:\tlearn: 0.2166968\ttotal: 27.6s\tremaining: 335ms\n",
      "988:\tlearn: 0.2166331\ttotal: 27.6s\tremaining: 307ms\n",
      "989:\tlearn: 0.2165141\ttotal: 27.6s\tremaining: 279ms\n",
      "990:\tlearn: 0.2164184\ttotal: 27.7s\tremaining: 251ms\n",
      "991:\tlearn: 0.2162510\ttotal: 27.7s\tremaining: 223ms\n",
      "992:\tlearn: 0.2162196\ttotal: 27.7s\tremaining: 195ms\n",
      "993:\tlearn: 0.2160843\ttotal: 27.8s\tremaining: 168ms\n",
      "994:\tlearn: 0.2160754\ttotal: 27.8s\tremaining: 140ms\n",
      "995:\tlearn: 0.2160160\ttotal: 27.8s\tremaining: 112ms\n",
      "996:\tlearn: 0.2158933\ttotal: 27.9s\tremaining: 83.8ms\n",
      "997:\tlearn: 0.2157659\ttotal: 27.9s\tremaining: 55.9ms\n",
      "998:\tlearn: 0.2156694\ttotal: 27.9s\tremaining: 28ms\n",
      "999:\tlearn: 0.2155241\ttotal: 28s\tremaining: 0us\n"
     ]
    },
    {
     "data": {
      "text/plain": [
       "<catboost.core.CatBoostClassifier at 0x2950dabbd90>"
      ]
     },
     "execution_count": 112,
     "metadata": {},
     "output_type": "execute_result"
    }
   ],
   "source": [
    "from catboost import CatBoostClassifier\n",
    "model_cat = CatBoostClassifier()\n",
    "model_cat.fit(X_train_os, y_train_os)"
   ]
  },
  {
   "cell_type": "code",
   "execution_count": 114,
   "id": "5f0a6395",
   "metadata": {},
   "outputs": [],
   "source": [
    "X_test = X_test.rename(columns={'age_cat_(34.0, 44.0]':'age_cat_1',\n",
    "                                'age_cat_(44.0, 69.0]':'age_cat_2'})"
   ]
  },
  {
   "cell_type": "code",
   "execution_count": 115,
   "id": "43607664",
   "metadata": {},
   "outputs": [],
   "source": [
    "#predicciones del modelo CATBOOST con hiperparametros defaults\n",
    "y_pred_cat_dft = model_cat.predict(X_test)"
   ]
  },
  {
   "cell_type": "code",
   "execution_count": 116,
   "id": "5c440b4b",
   "metadata": {},
   "outputs": [
    {
     "name": "stdout",
     "output_type": "stream",
     "text": [
      "La matriz de confusión del modelo  CATBOOST Classifier con hiperparámetros default es: \n",
      "[[7626  986]\n",
      " [ 173  323]]\n",
      "\n",
      "El accuracy score del modelo  CATBOOST con hiperparámetros default es: 0.87\n",
      "\n",
      "El error de clasificación del modelo CATBOOST con hiperparámetros default es: 0.13\n",
      "\n",
      "El recall score del modelo CATBOOST con hiperparámetros default es: 0.65\n",
      "\n",
      "La especificidad del modelo CATBOOST con hiperparámetros default es: 0.89\n",
      "\n",
      "El false positive rate del CATBOOST con hiperparámetros default es: 0.11\n",
      "\n",
      "La precisión del modelo CATBOOST con hiperparámetros default es: 0.25\n",
      "\n",
      "              precision    recall  f1-score   support\n",
      "\n",
      "           0       0.98      0.89      0.93      8612\n",
      "           1       0.25      0.65      0.36       496\n",
      "\n",
      "    accuracy                           0.87      9108\n",
      "   macro avg       0.61      0.77      0.64      9108\n",
      "weighted avg       0.94      0.87      0.90      9108\n",
      "\n"
     ]
    }
   ],
   "source": [
    "# Evaluacion del modelo CATBOOST con hiperparametros defaults\n",
    "\n",
    "# Matriz de confusion\n",
    "\n",
    "cat_dft_confmat = confusion_matrix(y_test, y_pred_cat_dft)\n",
    "\n",
    "TN_cat_dft = cat_dft_confmat[0, 0] #True Negatives\n",
    "FP_cat_dft = cat_dft_confmat[0, 1] #False Positives\n",
    "FN_cat_dft = cat_dft_confmat[1, 0] #False Negatives\n",
    "TP_cat_dft = cat_dft_confmat[1, 1] #True Positives\n",
    "\n",
    "# Accuracy Score\n",
    "\n",
    "cat_dft_accuracy = accuracy_score(y_test, y_pred_cat_dft)\n",
    "\n",
    "# Error de clasificacion\n",
    "\n",
    "cat_dft_errclf = 1 - cat_dft_accuracy\n",
    "\n",
    "# Recall\n",
    "\n",
    "cat_dft_recall = recall_score(y_test, y_pred_cat_dft)\n",
    "\n",
    "# Especificidad\n",
    "\n",
    "cat_dft_specificity = TN_cat_dft / (TN_cat_dft + FP_cat_dft)\n",
    "\n",
    "# False Positive Rate\n",
    "\n",
    "cat_dft_fpr = 1 - cat_dft_specificity\n",
    "\n",
    "# Precision\n",
    "\n",
    "cat_dft_precision = precision_score(y_test, y_pred_cat_dft)\n",
    "\n",
    "# F1 Score\n",
    "\n",
    "cat_dft_f1score = precision_score(y_test, y_pred_cat_dft)\n",
    "\n",
    "# Mostramos el conjunto de medidas de evaluacion\n",
    "\n",
    "print(f'La matriz de confusión del modelo  CATBOOST Classifier con hiperparámetros default es: \\n{cat_dft_confmat.round(2)}\\n')\n",
    "print(f'El accuracy score del modelo  CATBOOST con hiperparámetros default es: {cat_dft_accuracy.round(2)}\\n')\n",
    "print(f'El error de clasificación del modelo CATBOOST con hiperparámetros default es: {cat_dft_errclf.round(2)}\\n')\n",
    "print(f'El recall score del modelo CATBOOST con hiperparámetros default es: {cat_dft_recall.round(2)}\\n')\n",
    "print(f'La especificidad del modelo CATBOOST con hiperparámetros default es: {cat_dft_specificity.round(2)}\\n')\n",
    "print(f'El false positive rate del CATBOOST con hiperparámetros default es: {cat_dft_fpr.round(2)}\\n')\n",
    "print(f'La precisión del modelo CATBOOST con hiperparámetros default es: {cat_dft_precision.round(2)}\\n')\n",
    "\n",
    "\n",
    "#Resumimos la informacion en el Reporte de Clasificacion.\n",
    "\n",
    "print(classification_report(y_test, y_pred_cat_dft))"
   ]
  },
  {
   "cell_type": "code",
   "execution_count": 117,
   "id": "399d2480",
   "metadata": {},
   "outputs": [
    {
     "name": "stdout",
     "output_type": "stream",
     "text": [
      "Execution time is:\n",
      "574.3147842884064\n"
     ]
    }
   ],
   "source": [
    "#finalizamos temporizador y medimos tiempo de ejecucion\n",
    "end = time.time()\n",
    "print('Execution time is:')\n",
    "print(end - start)"
   ]
  },
  {
   "cell_type": "markdown",
   "id": "9e9d85e1",
   "metadata": {},
   "source": [
    "# LightGBM"
   ]
  },
  {
   "cell_type": "code",
   "execution_count": 118,
   "id": "649e6d94",
   "metadata": {},
   "outputs": [],
   "source": [
    "#Inicializamos temporizador para medir ejecucion del modelo\n",
    "start = time.time()"
   ]
  },
  {
   "cell_type": "code",
   "execution_count": 119,
   "id": "44a9f9a2",
   "metadata": {},
   "outputs": [],
   "source": [
    "#Se importa libreria\n",
    "import lightgbm as lgb"
   ]
  },
  {
   "cell_type": "markdown",
   "id": "e3b928f3",
   "metadata": {},
   "source": [
    "### Modelo base LightGBM: Hiperparámetros default"
   ]
  },
  {
   "cell_type": "code",
   "execution_count": 122,
   "id": "37b2206d",
   "metadata": {},
   "outputs": [
    {
     "data": {
      "text/plain": [
       "{'boosting_type': 'gbdt',\n",
       " 'class_weight': None,\n",
       " 'colsample_bytree': 1.0,\n",
       " 'importance_type': 'split',\n",
       " 'learning_rate': 0.1,\n",
       " 'max_depth': -1,\n",
       " 'min_child_samples': 20,\n",
       " 'min_child_weight': 0.001,\n",
       " 'min_split_gain': 0.0,\n",
       " 'n_estimators': 100,\n",
       " 'n_jobs': -1,\n",
       " 'num_leaves': 31,\n",
       " 'objective': None,\n",
       " 'random_state': None,\n",
       " 'reg_alpha': 0.0,\n",
       " 'reg_lambda': 0.0,\n",
       " 'silent': True,\n",
       " 'subsample': 1.0,\n",
       " 'subsample_for_bin': 200000,\n",
       " 'subsample_freq': 0}"
      ]
     },
     "execution_count": 122,
     "metadata": {},
     "output_type": "execute_result"
    }
   ],
   "source": [
    "#Instanciamos el modelo LIGHTGBM \n",
    "model_lgbm= lgb.LGBMClassifier()\n",
    "#Veamos los hiperparámetros del LightGBM y sus valores defaul\n",
    "model_lgbm.fit(X_train_os, y_train_os)\n",
    "lgbm_dft_params = model_lgbm.get_params()\n",
    "lgbm_dft_params"
   ]
  },
  {
   "cell_type": "markdown",
   "id": "2aeacc7e",
   "metadata": {},
   "source": [
    "Documentacion del modelo\n",
    "https://lightgbm.readthedocs.io/en/latest/pythonapi/lightgbm.LGBMClassifier.html#lightgbm.LGBMClassifier\n",
    "\n",
    "La lista completa de hiperparámetros se puede consultar aquí https://github.com/Microsoft/LightGBM/blob/master/docs/Parameters.rst"
   ]
  },
  {
   "cell_type": "code",
   "execution_count": 123,
   "id": "0a0d7746",
   "metadata": {},
   "outputs": [],
   "source": [
    "# Prediccion de la target usando el LightGBM con hiperparametros defaults\n",
    "\n",
    "y_pred_lgbm_dft = model_lgbm.predict(X_test)\n",
    "y_pred_proba_lgbm_dft = model_lgbm.predict_proba(X_test)"
   ]
  },
  {
   "cell_type": "code",
   "execution_count": 124,
   "id": "f2ea6bc7",
   "metadata": {},
   "outputs": [
    {
     "name": "stdout",
     "output_type": "stream",
     "text": [
      "La matriz de confusión del modelo LightGBM Classifier con hiperparámetros default es: \n",
      "[[7625  987]\n",
      " [ 143  353]]\n",
      "\n",
      "El accuracy score del modelo  LightGBM con hiperparámetros default es: 0.88\n",
      "\n",
      "El error de clasificación del modelo LightGBM con hiperparámetros default es: 0.12\n",
      "\n",
      "El recall score del modelo LightGBM con hiperparámetros default es: 0.71\n",
      "\n",
      "La especificidad del modelo LightGBM con hiperparámetros default es: 0.89\n",
      "\n",
      "El false positive rate del LightGBM con hiperparámetros default es: 0.11\n",
      "\n",
      "La precisión del modelo LightGBM con hiperparámetros default es: 0.26\n",
      "\n",
      "              precision    recall  f1-score   support\n",
      "\n",
      "           0       0.98      0.89      0.93      8612\n",
      "           1       0.26      0.71      0.38       496\n",
      "\n",
      "    accuracy                           0.88      9108\n",
      "   macro avg       0.62      0.80      0.66      9108\n",
      "weighted avg       0.94      0.88      0.90      9108\n",
      "\n"
     ]
    }
   ],
   "source": [
    "#Evaluacion del modelo\n",
    "# Matriz de confusion\n",
    "\n",
    "lgbm_dft_confmat = confusion_matrix(y_test, y_pred_lgbm_dft)\n",
    "\n",
    "TN_lgbm_dft = lgbm_dft_confmat[0, 0] #True Negatives\n",
    "FP_lgbm_dft = lgbm_dft_confmat[0, 1] #False Positives\n",
    "FN_lgbm_dft = lgbm_dft_confmat[1, 0] #False Negatives\n",
    "TP_lgbm_dft = lgbm_dft_confmat[1, 1] #True Positives\n",
    "\n",
    "# Accuracy Score\n",
    "\n",
    "lgbm_dft_accuracy = accuracy_score(y_test, y_pred_lgbm_dft)\n",
    "\n",
    "# Error de clasificacion\n",
    "\n",
    "lgbm_dft_errclf = 1 - lgbm_dft_accuracy\n",
    "\n",
    "# Recall\n",
    "\n",
    "lgbm_dft_recall = recall_score(y_test, y_pred_lgbm_dft)\n",
    "\n",
    "# Especificidad\n",
    "\n",
    "lgbm_dft_specificity = TN_lgbm_dft / (TN_lgbm_dft + FP_lgbm_dft)\n",
    "\n",
    "# False Positive Rate\n",
    "\n",
    "lgbm_dft_fpr = 1 - lgbm_dft_specificity\n",
    "\n",
    "# Precision\n",
    "\n",
    "lgbm_dft_precision = precision_score(y_test, y_pred_lgbm_dft)\n",
    "\n",
    "# F1 Score\n",
    "\n",
    "lgbm_dft_f1score = precision_score(y_test, y_pred_lgbm_dft)\n",
    "\n",
    "# Mostramos el conjunto de medidas de evaluacion\n",
    "\n",
    "print(f'La matriz de confusión del modelo LightGBM Classifier con hiperparámetros default es: \\n{lgbm_dft_confmat.round(2)}\\n')\n",
    "print(f'El accuracy score del modelo  LightGBM con hiperparámetros default es: {lgbm_dft_accuracy.round(2)}\\n')\n",
    "print(f'El error de clasificación del modelo LightGBM con hiperparámetros default es: {lgbm_dft_errclf.round(2)}\\n')\n",
    "print(f'El recall score del modelo LightGBM con hiperparámetros default es: {lgbm_dft_recall.round(2)}\\n')\n",
    "print(f'La especificidad del modelo LightGBM con hiperparámetros default es: {lgbm_dft_specificity.round(2)}\\n')\n",
    "print(f'El false positive rate del LightGBM con hiperparámetros default es: {lgbm_dft_fpr.round(2)}\\n')\n",
    "print(f'La precisión del modelo LightGBM con hiperparámetros default es: {lgbm_dft_precision.round(2)}\\n')\n",
    "\n",
    "\n",
    "#Resumimos la informacion en el Reporte de Clasificacion.\n",
    "\n",
    "print(classification_report(y_test, y_pred_lgbm_dft))"
   ]
  },
  {
   "cell_type": "code",
   "execution_count": 125,
   "id": "d374f19c",
   "metadata": {},
   "outputs": [
    {
     "name": "stdout",
     "output_type": "stream",
     "text": [
      "Execution time is:\n",
      "109.67965626716614\n"
     ]
    }
   ],
   "source": [
    "#Finalizamos temporizador y medimos tiempo de ejecucion.\n",
    "end = time.time()\n",
    "print('Execution time is:')\n",
    "print(end - start)"
   ]
  },
  {
   "cell_type": "markdown",
   "id": "d19ace39",
   "metadata": {},
   "source": [
    "### Modelo LightGBM Hiperparámetros óptimos"
   ]
  },
  {
   "cell_type": "code",
   "execution_count": 126,
   "id": "ba3a19a7",
   "metadata": {},
   "outputs": [],
   "source": [
    "#Inicializamos temporizador para medir tiempo de ejecucion\n",
    "start = time.time()"
   ]
  },
  {
   "cell_type": "code",
   "execution_count": 127,
   "id": "259d6399",
   "metadata": {},
   "outputs": [],
   "source": [
    "model_lgbm_gs = lgb.LGBMClassifier()"
   ]
  },
  {
   "cell_type": "code",
   "execution_count": 128,
   "id": "ce9e93c5",
   "metadata": {},
   "outputs": [],
   "source": [
    "param_grid = {'num_leaves':[20,40,60,80,100], 'min_child_samples':[5,10,15],'max_depth':[-1,5,10,20],\n",
    "             'learning_rate':[0.05,0.1,0.2],'reg_alpha':[0,0.01,0.03]}"
   ]
  },
  {
   "cell_type": "code",
   "execution_count": 129,
   "id": "71b4b5d1",
   "metadata": {},
   "outputs": [],
   "source": [
    "folds=StratifiedKFold(n_splits=10, random_state=42, shuffle=True)\n",
    "\n",
    "# F1\n",
    "grid_f1_lgbm =  GridSearchCV(model_lgbm_gs, param_grid, n_jobs=-2, cv=folds, scoring='f1')\n",
    "# Recall\n",
    "grid_recall_lgbm =  GridSearchCV(model_lgbm_gs, param_grid, n_jobs=-2, cv=folds, scoring='recall')\n",
    "# Precision\n",
    "grid_precision_lgbm =  GridSearchCV(model_lgbm_gs, param_grid,  n_jobs=-2, cv=folds, scoring='precision')\n"
   ]
  },
  {
   "cell_type": "code",
   "execution_count": 131,
   "id": "e32e1022",
   "metadata": {},
   "outputs": [
    {
     "data": {
      "text/plain": [
       "GridSearchCV(cv=StratifiedKFold(n_splits=10, random_state=42, shuffle=True),\n",
       "             estimator=LGBMClassifier(), n_jobs=-2,\n",
       "             param_grid={'learning_rate': [0.05, 0.1, 0.2],\n",
       "                         'max_depth': [-1, 5, 10, 20],\n",
       "                         'min_child_samples': [5, 10, 15],\n",
       "                         'num_leaves': [20, 40, 60, 80, 100],\n",
       "                         'reg_alpha': [0, 0.01, 0.03]},\n",
       "             scoring='precision')"
      ]
     },
     "execution_count": 131,
     "metadata": {},
     "output_type": "execute_result"
    }
   ],
   "source": [
    "# realizamos el grid search\n",
    "#GScv con F1-score\n",
    "grid_f1_lgbm.fit(X_train_os, y_train_os)\n",
    "#GScv cpn Recall\n",
    "grid_recall_lgbm.fit(X_train_os, y_train_os)\n",
    "#GScv con Precision\n",
    "grid_precision_lgbm.fit(X_train_os, y_train_os)"
   ]
  },
  {
   "cell_type": "code",
   "execution_count": 132,
   "id": "dacb1897",
   "metadata": {},
   "outputs": [
    {
     "name": "stdout",
     "output_type": "stream",
     "text": [
      "Mejores parametros para f1: {'learning_rate': 0.2, 'max_depth': -1, 'min_child_samples': 5, 'num_leaves': 100, 'reg_alpha': 0}\n",
      "Mejores parametros para recall: {'learning_rate': 0.2, 'max_depth': 20, 'min_child_samples': 10, 'num_leaves': 100, 'reg_alpha': 0}\n",
      "Mejores parametros para precision: {'learning_rate': 0.2, 'max_depth': -1, 'min_child_samples': 5, 'num_leaves': 100, 'reg_alpha': 0.03}\n"
     ]
    }
   ],
   "source": [
    "#Imprimimos los estimadores seleccionados en cada GScv:\n",
    "print(\"Mejores parametros para f1:\", grid_f1_lgbm.best_params_)\n",
    "print(\"Mejores parametros para recall:\", grid_recall_lgbm.best_params_)\n",
    "print(\"Mejores parametros para precision:\", grid_precision_lgbm.best_params_)"
   ]
  },
  {
   "cell_type": "code",
   "execution_count": 135,
   "id": "6bde2e4b",
   "metadata": {},
   "outputs": [
    {
     "name": "stdout",
     "output_type": "stream",
     "text": [
      "Mejores parametros para f1: LGBMClassifier(learning_rate=0.2, min_child_samples=5, num_leaves=100,\n",
      "               reg_alpha=0)\n",
      "Mejores parametros para recall: LGBMClassifier(learning_rate=0.2, max_depth=20, min_child_samples=10,\n",
      "               num_leaves=100, reg_alpha=0)\n",
      "Mejores parametros para precision: LGBMClassifier(learning_rate=0.2, min_child_samples=5, num_leaves=100,\n",
      "               reg_alpha=0.03)\n"
     ]
    }
   ],
   "source": [
    "#Imprimimos los estimadores seleccionados en cada GScv:\n",
    "grid_f1_lgbm_best=grid_f1_lgbm.best_estimator_\n",
    "grid_recall_lgbm_best=grid_recall_lgbm.best_estimator_\n",
    "grid_precision_lgbm_best=grid_precision_lgbm.best_estimator_\n",
    "print(\"Mejores parametros para f1:\", grid_f1_lgbm.best_estimator_)\n",
    "print(\"Mejores parametros para recall:\", grid_recall_lgbm.best_estimator_)\n",
    "print(\"Mejores parametros para precision:\", grid_precision_lgbm.best_estimator_)"
   ]
  },
  {
   "cell_type": "code",
   "execution_count": 137,
   "id": "26a50a3c",
   "metadata": {},
   "outputs": [
    {
     "name": "stdout",
     "output_type": "stream",
     "text": [
      "Mejor puntaje de f1-score: 0.9584330560015377\n",
      "Mejor puntaje de recall: 0.9927335448194567\n",
      "Mejor puntaje de precision: 0.9271789719727682\n"
     ]
    }
   ],
   "source": [
    "#imprimimos los mejores scores de cada GScv\n",
    "print(\"Mejor puntaje de f1-score:\", grid_f1_lgbm.best_score_)\n",
    "print(\"Mejor puntaje de recall:\", grid_recall_lgbm.best_score_)\n",
    "print(\"Mejor puntaje de precision:\", grid_precision_lgbm.best_score_)"
   ]
  },
  {
   "cell_type": "code",
   "execution_count": 143,
   "id": "80a1efed",
   "metadata": {},
   "outputs": [],
   "source": [
    "#Predicciones del Modelo LightGBM Hiperparámetros óptimos\n",
    "\n",
    "y_pred_grid_lgbm_f1 = grid_f1_lgbm.predict(X_test)\n",
    "y_pred_grid_lgbm_recall = grid_recall_lgbm.predict(X_test)\n",
    "y_pred_grid_lgbm_precision = grid_precision_lgbm.predict(X_test)"
   ]
  },
  {
   "cell_type": "code",
   "execution_count": 151,
   "id": "73a71067",
   "metadata": {},
   "outputs": [
    {
     "name": "stdout",
     "output_type": "stream",
     "text": [
      "y_pred_grid_lgbm_f1:\n",
      "               precision    recall  f1-score   support\n",
      "\n",
      "           0       0.97      0.92      0.94      8612\n",
      "           1       0.26      0.47      0.33       496\n",
      "\n",
      "    accuracy                           0.90      9108\n",
      "   macro avg       0.61      0.69      0.64      9108\n",
      "weighted avg       0.93      0.90      0.91      9108\n",
      "\n",
      "y_pred_grid_lgbm_recall:\n",
      "               precision    recall  f1-score   support\n",
      "\n",
      "           0       0.97      0.91      0.94      8612\n",
      "           1       0.24      0.50      0.33       496\n",
      "\n",
      "    accuracy                           0.89      9108\n",
      "   macro avg       0.61      0.71      0.63      9108\n",
      "weighted avg       0.93      0.89      0.90      9108\n",
      "\n",
      "y_pred_grid_lgbm-precision:\n",
      "               precision    recall  f1-score   support\n",
      "\n",
      "           0       0.97      0.91      0.94      8612\n",
      "           1       0.25      0.48      0.33       496\n",
      "\n",
      "    accuracy                           0.89      9108\n",
      "   macro avg       0.61      0.70      0.63      9108\n",
      "weighted avg       0.93      0.89      0.91      9108\n",
      "\n"
     ]
    }
   ],
   "source": [
    "#Reporte de Clasificacion\n",
    "from sklearn.metrics import classification_report, confusion_matrix\n",
    "print (f\"y_pred_grid_lgbm_f1:\\n\",\n",
    "       classification_report(y_test, y_pred_grid_lgbm_f1))\n",
    "print (f\"y_pred_grid_lgbm_recall:\\n\",\n",
    "       classification_report(y_test, y_pred_grid_lgbm_recall))\n",
    "print (f\"y_pred_grid_lgbm-precision:\\n\",\n",
    "       classification_report(y_test, y_pred_grid_lgbm_precision))"
   ]
  },
  {
   "cell_type": "code",
   "execution_count": 149,
   "id": "380a57e4",
   "metadata": {},
   "outputs": [
    {
     "name": "stdout",
     "output_type": "stream",
     "text": [
      "y_pred_grid_f1 confusion matrix: \n",
      " [[7940  672]\n",
      " [ 265  231]]\n",
      "y_pred_grid_recall confusion matrix: \n",
      " [[7826  786]\n",
      " [ 246  250]]\n",
      "y_pred_grid_precision confusion matrix: \n",
      " [[7879  733]\n",
      " [ 256  240]]\n"
     ]
    }
   ],
   "source": [
    "#Matriz de Confusion\n",
    "confusion_f1_lgbm = confusion_matrix(y_test, y_pred_grid_lgbm_f1)\n",
    "print(f\"y_pred_grid_f1 confusion matrix: \\n\", confusion_f1_lgbm)\n",
    "confusion_recall_lgbm = confusion_matrix(y_test, y_pred_grid_lgbm_recall)\n",
    "print(f\"y_pred_grid_recall confusion matrix: \\n\",confusion_recall_lgbm)\n",
    "confusion_precision_lgbm = confusion_matrix(y_test, y_pred_grid_lgbm_precision)\n",
    "print(f\"y_pred_grid_precision confusion matrix: \\n\",confusion_precision_lgbm)"
   ]
  },
  {
   "cell_type": "code",
   "execution_count": 152,
   "id": "98ebf672",
   "metadata": {},
   "outputs": [
    {
     "name": "stdout",
     "output_type": "stream",
     "text": [
      "Execution time is:\n",
      "8959.916585206985\n"
     ]
    }
   ],
   "source": [
    "#Finalizamos ejecucion y medimos el tiempo de ejecucion.\n",
    "end = time.time()\n",
    "print('Execution time is:')\n",
    "print(end - start)"
   ]
  },
  {
   "cell_type": "markdown",
   "id": "9b543f93",
   "metadata": {},
   "source": [
    "### LIGHTGBM - Importancia de las features"
   ]
  },
  {
   "cell_type": "code",
   "execution_count": 161,
   "id": "5b68481d",
   "metadata": {},
   "outputs": [
    {
     "data": {
      "image/png": "[encoded data removed]",
      "text/plain": [
       "<Figure size 432x288 with 1 Axes>"
      ]
     },
     "metadata": {
      "needs_background": "light"
     },
     "output_type": "display_data"
    }
   ],
   "source": [
    "lgb.plot_importance(grid_f1_lgbm.best_estimator_, max_num_features=5);"
   ]
  },
  {
   "cell_type": "markdown",
   "id": "0bfa415e",
   "metadata": {},
   "source": [
    "## Conclusiones:"
   ]
  },
  {
   "cell_type": "markdown",
   "id": "4d592aea",
   "metadata": {},
   "source": [
    "    De acuerdo a las metricas el mejor modelo eligido es XGBOOST con oversampling. \n",
    "   \n",
    "    \n",
    "    \n",
    "   "
   ]
  },
  {
   "cell_type": "code",
   "execution_count": 185,
   "id": "083e6030",
   "metadata": {},
   "outputs": [
    {
     "name": "stdout",
     "output_type": "stream",
     "text": [
      "y_pred_grid_xgb_f1:\n",
      "               precision    recall  f1-score   support\n",
      "\n",
      "           0       0.98      0.88      0.93      8612\n",
      "           1       0.24      0.68      0.36       496\n",
      "\n",
      "    accuracy                           0.87      9108\n",
      "   macro avg       0.61      0.78      0.64      9108\n",
      "weighted avg       0.94      0.87      0.89      9108\n",
      "\n"
     ]
    }
   ],
   "source": [
    "print (f\"y_pred_grid_xgb_f1:\\n\",\n",
    "       classification_report(y_test, y_pred_grid_xgb_f1))"
   ]
  },
  {
   "cell_type": "markdown",
   "id": "9c13fcaa",
   "metadata": {},
   "source": [
    " •\tEn general, las distintas especificaciones de los algoritmos XGBOOST,LIGHTGBM y CATBOOST muestran valores similares de cada uno de los scores de evaluación.Tomando XGBOOST, Si bien obtenemos valores altos para recall (aprox.89%), no es tal el caso de precision (aprox.24%), lo cual implica también valores bajos para el f1 score (aprox.36%).\n",
    "•\tEsto se puede leer como que el algoritmo, al mismo tiempo que logra captar relativamente bien al cliente que potencialmente va a tomar el plazo fijo (recall), sobreestima el tamaño de la población potencial de dichos clientes (precision) a apesar de esto es el mejor algoritmo si lo comparamos con los otros modelos Si el banco toma este algoritmo, va a captar a muchos clientes correctamente, a menor costo de campaña de marketing que los otros modelos que no son los arriba mencionados.\n",
    "\n",
    "\n",
    "\n",
    "\n",
    "    \n",
    "    \n",
    "   \n",
    "    \n",
    "    \n",
    "    "
   ]
  },
  {
   "cell_type": "code",
   "execution_count": null,
   "id": "d3144a33",
   "metadata": {},
   "outputs": [],
   "source": []
  },
  {
   "cell_type": "code",
   "execution_count": null,
   "id": "978edfa8",
   "metadata": {},
   "outputs": [],
   "source": []
  }
 ],
 "metadata": {
  "kernelspec": {
   "display_name": "Python 3",
   "language": "python",
   "name": "python3"
  },
  "language_info": {
   "codemirror_mode": {
    "name": "ipython",
    "version": 3
   },
   "file_extension": ".py",
   "mimetype": "text/x-python",
   "name": "python",
   "nbconvert_exporter": "python",
   "pygments_lexer": "ipython3",
   "version": "3.8.11"
  }
 },
 "nbformat": 4,
 "nbformat_minor": 5
}
