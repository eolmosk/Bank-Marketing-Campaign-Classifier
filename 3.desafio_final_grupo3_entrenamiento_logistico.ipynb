{
 "cells": [
  {
   "cell_type": "markdown",
   "id": "7bacacba",
   "metadata": {},
   "source": [
    "---\n",
    "<img src = '../../../logo_dh_grupo3.png'>"
   ]
  },
  {
   "cell_type": "markdown",
   "id": "c7d34814",
   "metadata": {},
   "source": [
    "# <h1><left><ins>Entrenamiento y Evaluación: Regresión Logística</ins></left></h1>"
   ]
  },
  {
   "cell_type": "markdown",
   "id": "c73ea50a",
   "metadata": {},
   "source": [
    "## Importación de librerías y bases de datos"
   ]
  },
  {
   "cell_type": "code",
   "execution_count": 1,
   "id": "1a536936",
   "metadata": {},
   "outputs": [],
   "source": [
    "# Importamos las librerias relevantes\n",
    "\n",
    "import pandas as pd\n",
    "import numpy as np\n",
    "import seaborn as sns\n",
    "import matplotlib.pyplot as plt\n",
    "from sklearn.metrics import confusion_matrix, accuracy_score, recall_score, precision_score, \\\n",
    "f1_score, roc_curve, auc, classification_report\n",
    "import warnings\n",
    "warnings.filterwarnings('ignore')"
   ]
  },
  {
   "cell_type": "code",
   "execution_count": 2,
   "id": "7d79b677",
   "metadata": {},
   "outputs": [],
   "source": [
    "# Importamos las bases de datos\n",
    "\n",
    "data_0 = pd.read_csv(\"base_entrenamiento.csv\")"
   ]
  },
  {
   "cell_type": "code",
   "execution_count": 3,
   "id": "819881c2",
   "metadata": {},
   "outputs": [
    {
     "data": {
      "text/plain": [
       "(30360, 22)"
      ]
     },
     "execution_count": 3,
     "metadata": {},
     "output_type": "execute_result"
    }
   ],
   "source": [
    "# Cantidad de filas y columnas\n",
    "\n",
    "data_0.shape"
   ]
  },
  {
   "cell_type": "markdown",
   "id": "045bc35a",
   "metadata": {},
   "source": [
    "La base de datos tiene 30,360 observaciones de 22 columnas."
   ]
  },
  {
   "cell_type": "code",
   "execution_count": 4,
   "id": "1d360e85",
   "metadata": {},
   "outputs": [
    {
     "name": "stdout",
     "output_type": "stream",
     "text": [
      "<class 'pandas.core.frame.DataFrame'>\n",
      "RangeIndex: 30360 entries, 0 to 30359\n",
      "Data columns (total 22 columns):\n",
      " #   Column                Non-Null Count  Dtype  \n",
      "---  ------                --------------  -----  \n",
      " 0   housing               30360 non-null  int64  \n",
      " 1   loan                  30360 non-null  int64  \n",
      " 2   contact               30360 non-null  int64  \n",
      " 3   campaign              30360 non-null  int64  \n",
      " 4   emp.var.rate          30360 non-null  float64\n",
      " 5   cons.price.idx        30360 non-null  float64\n",
      " 6   cons.conf.idx         30360 non-null  float64\n",
      " 7   euribor3m             30360 non-null  float64\n",
      " 8   nr.employed           30360 non-null  float64\n",
      " 9   y                     30360 non-null  int64  \n",
      " 10  married               30360 non-null  int64  \n",
      " 11  month_cat             30360 non-null  int64  \n",
      " 12  age_cat_(34.0, 44.0]  30360 non-null  int64  \n",
      " 13  age_cat_(44.0, 69.0]  30360 non-null  int64  \n",
      " 14  job_cat_1             30360 non-null  int64  \n",
      " 15  job_cat_2             30360 non-null  int64  \n",
      " 16  education_cat_1       30360 non-null  int64  \n",
      " 17  education_cat_2       30360 non-null  int64  \n",
      " 18  day_of_week_2         30360 non-null  int64  \n",
      " 19  day_of_week_3         30360 non-null  int64  \n",
      " 20  day_of_week_4         30360 non-null  int64  \n",
      " 21  day_of_week_5         30360 non-null  int64  \n",
      "dtypes: float64(5), int64(17)\n",
      "memory usage: 5.1 MB\n"
     ]
    }
   ],
   "source": [
    "# Nombre y tipo de columnas, ademas de cantidad de filas no nulas\n",
    "\n",
    "data_0.info()"
   ]
  },
  {
   "cell_type": "markdown",
   "id": "ea269372",
   "metadata": {},
   "source": [
    "## Conjuntos de Entrenamiento y Testeo"
   ]
  },
  {
   "cell_type": "code",
   "execution_count": 5,
   "id": "ee1cc332",
   "metadata": {},
   "outputs": [],
   "source": [
    "# Definimos la matriz de features, X, y el vector de la target, y\n",
    "\n",
    "X = data_0.drop('y', axis = 1)\n",
    "\n",
    "y = data_0['y']"
   ]
  },
  {
   "cell_type": "code",
   "execution_count": 6,
   "id": "f7c185a4",
   "metadata": {},
   "outputs": [],
   "source": [
    "# Separamos las unidades observadas en unidades para entrenamiento y unidades para testeo\n",
    "\n",
    "from sklearn.model_selection import train_test_split\n",
    "\n",
    "X_train, X_test, y_train, y_test = train_test_split(X, y,\n",
    "                                                    random_state = 42,\n",
    "                                                    test_size = 0.30,\n",
    "                                                    stratify = y)"
   ]
  },
  {
   "cell_type": "code",
   "execution_count": 7,
   "id": "86a8c998",
   "metadata": {},
   "outputs": [],
   "source": [
    "# Estandarizamos las features continuas del conjunto de entrenamiento y de testeo\n",
    "\n",
    "from sklearn.preprocessing import StandardScaler\n",
    "\n",
    "sd = StandardScaler()\n",
    "\n",
    "variables_continuas = ['campaign', 'emp.var.rate', 'cons.price.idx', 'cons.conf.idx', 'euribor3m',\n",
    "                       'nr.employed']\n",
    "\n",
    "X_train[variables_continuas] = sd.fit_transform(X_train[variables_continuas])"
   ]
  },
  {
   "cell_type": "code",
   "execution_count": 8,
   "id": "b17c91dc",
   "metadata": {},
   "outputs": [],
   "source": [
    "X_test[variables_continuas] = sd.transform(X_test[variables_continuas])"
   ]
  },
  {
   "cell_type": "code",
   "execution_count": 9,
   "id": "71b50de9",
   "metadata": {},
   "outputs": [
    {
     "name": "stdout",
     "output_type": "stream",
     "text": [
      "0    0.945487\n",
      "1    0.054513\n",
      "Name: y, dtype: float64\n",
      "0    0.945464\n",
      "1    0.054536\n",
      "Name: y, dtype: float64\n",
      "0    0.945542\n",
      "1    0.054458\n",
      "Name: y, dtype: float64\n"
     ]
    }
   ],
   "source": [
    "# Observamos distribucion de la variable target\n",
    "\n",
    "print(y.value_counts(normalize = True))\n",
    "\n",
    "print(y_train.value_counts(normalize = True))\n",
    "\n",
    "print(y_test.value_counts(normalize = True))"
   ]
  },
  {
   "cell_type": "markdown",
   "id": "0c83c4b9",
   "metadata": {},
   "source": [
    "Vemos que las clases de la variable target estan desbalanceadas. Procedemos a aplicar oversampling."
   ]
  },
  {
   "cell_type": "code",
   "execution_count": 10,
   "id": "131b8a1c",
   "metadata": {},
   "outputs": [],
   "source": [
    "# Clases desbalanceadas: aplicamos oversampling sobre conjunto de entrenamiento\n",
    "\n",
    "from imblearn.over_sampling import RandomOverSampler\n",
    "\n",
    "ros = RandomOverSampler(sampling_strategy = 'minority')\n",
    "\n",
    "X_train_os, y_train_os = ros.fit_sample(X_train, y_train)"
   ]
  },
  {
   "cell_type": "code",
   "execution_count": 71,
   "id": "be9981ea",
   "metadata": {},
   "outputs": [
    {
     "data": {
      "text/plain": [
       "(9108,)"
      ]
     },
     "execution_count": 71,
     "metadata": {},
     "output_type": "execute_result"
    }
   ],
   "source": [
    "y_test.shape"
   ]
  },
  {
   "cell_type": "markdown",
   "id": "7ee3bfcd",
   "metadata": {},
   "source": [
    "## Modelo Logístico: Hiperparámetros default"
   ]
  },
  {
   "cell_type": "code",
   "execution_count": 11,
   "id": "b6559e63",
   "metadata": {},
   "outputs": [
    {
     "data": {
      "text/plain": [
       "LogisticRegression()"
      ]
     },
     "execution_count": 11,
     "metadata": {},
     "output_type": "execute_result"
    }
   ],
   "source": [
    "# Entranamiento del modelo logistico: hiperparametros default\n",
    "\n",
    "from sklearn.linear_model import LogisticRegression\n",
    "\n",
    "model_lr = LogisticRegression()\n",
    "\n",
    "model_lr.fit(X_train_os, y_train_os)\n"
   ]
  },
  {
   "cell_type": "code",
   "execution_count": 12,
   "id": "b7843801",
   "metadata": {},
   "outputs": [
    {
     "data": {
      "text/plain": [
       "{'C': 1.0,\n",
       " 'class_weight': None,\n",
       " 'dual': False,\n",
       " 'fit_intercept': True,\n",
       " 'intercept_scaling': 1,\n",
       " 'l1_ratio': None,\n",
       " 'max_iter': 100,\n",
       " 'multi_class': 'auto',\n",
       " 'n_jobs': None,\n",
       " 'penalty': 'l2',\n",
       " 'random_state': None,\n",
       " 'solver': 'lbfgs',\n",
       " 'tol': 0.0001,\n",
       " 'verbose': 0,\n",
       " 'warm_start': False}"
      ]
     },
     "execution_count": 12,
     "metadata": {},
     "output_type": "execute_result"
    }
   ],
   "source": [
    "# Veamos los hiperparametros del modelo logistico y sus valores default\n",
    "\n",
    "lr_dft_params = model_lr.get_params()\n",
    "lr_dft_params"
   ]
  },
  {
   "cell_type": "markdown",
   "id": "3af6c61f",
   "metadata": {},
   "source": [
    "En https://scikit-learn.org/stable/modules/generated/sklearn.linear_model.LogisticRegression.html se puede ver una descripción de los mismos. Continuamos con las predicciones y la evaluación del modelo."
   ]
  },
  {
   "cell_type": "code",
   "execution_count": 13,
   "id": "e97bf095",
   "metadata": {},
   "outputs": [],
   "source": [
    "# Prediccion de la target usando el modelo logistico con hiperparametros defaults\n",
    "\n",
    "y_pred_lr_dft = model_lr.predict(X_test)\n",
    "\n",
    "y_pred_proba_lr_dft = model_lr.predict_proba(X_test)\n"
   ]
  },
  {
   "cell_type": "code",
   "execution_count": 14,
   "id": "3dba513d",
   "metadata": {},
   "outputs": [],
   "source": [
    "# Definimos funciones auxiliares que nos haran mas eficientes los ejercicios posteriores\n",
    "\n",
    "def evaluacion(target_test, target_pred):\n",
    "    '''Vamos a definir una funcion que nos trae una lista de scores de evaluacion de modelos'''\n",
    "    \n",
    "    scores = []\n",
    "    \n",
    "    # 0: Matriz de confusion\n",
    "    confmat = confusion_matrix(target_test, target_pred)\n",
    "    TN = confmat[0, 0] #True Negatives\n",
    "    FP = confmat[0, 1] #False Positives\n",
    "    FN = confmat[1, 0] #False Negatives\n",
    "    TP = confmat[1, 1] #True Positives\n",
    "    scores.append(confmat)\n",
    "    \n",
    "    # 1: Accuracy Score\n",
    "    accuracy = accuracy_score(target_test, target_pred)\n",
    "    scores.append(accuracy)\n",
    "\n",
    "    # 2: Error de clasificacion\n",
    "    errclf = 1 - accuracy\n",
    "    scores.append(errclf)\n",
    "\n",
    "    # 3: Recall\n",
    "    recall = recall_score(target_test, target_pred)\n",
    "    scores.append(recall)\n",
    "\n",
    "    # 4: Especificidad\n",
    "    specificity = TN / (TN + FP)\n",
    "    scores.append(specificity)\n",
    "\n",
    "    # 5: False Positive Rate\n",
    "    fpr = 1 - specificity\n",
    "    scores.append(fpr)\n",
    "\n",
    "    # 6: Precision\n",
    "    precision = precision_score(target_test, target_pred)\n",
    "    scores.append(precision)\n",
    "    \n",
    "    # 7: F1 Score\n",
    "    f1score = f1_score(target_test, target_pred)\n",
    "    scores.append(f1score)\n",
    "    \n",
    "    '''Output de funcion'''\n",
    "    return scores\n",
    "\n",
    "def reporte(modelo_name, scores):\n",
    "    '''Esta funcion nos devuelve un reporte de los scores del modelo indicado'''\n",
    "    \n",
    "    print(f'La matriz de confusión del modelo logístico {modelo_name} es: \\n{scores[0]}\\n')\n",
    "    print(f'El accuracy score del modelo logístico {modelo_name} es: {scores[1].round(3)}\\n')\n",
    "    print(f'El error de clasificación del modelo logístico {modelo_name} es: {scores[2].round(2)}\\n')\n",
    "    print(f'El recall score del modelo logístico {modelo_name} es: {scores[3].round(3)}\\n')\n",
    "    print(f'La especificidad del modelo logístico {modelo_name} es: {scores[4].round(3)}\\n')\n",
    "    print(f'El false positive rate del modelo logístico {modelo_name} es: {scores[5].round(2)}\\n')\n",
    "    print(f'La precisión del modelo logístico {modelo_name} es: {scores[6].round(3)}\\n')\n",
    "    print(f'El f1 score del modelo logístico {modelo_name} es: {scores[7].round(3)}')"
   ]
  },
  {
   "cell_type": "code",
   "execution_count": 15,
   "id": "b3bb3f34",
   "metadata": {},
   "outputs": [
    {
     "name": "stdout",
     "output_type": "stream",
     "text": [
      "La matriz de confusión del modelo logístico default es: \n",
      "[[6553 2059]\n",
      " [ 110  386]]\n",
      "\n",
      "El accuracy score del modelo logístico default es: 0.762\n",
      "\n",
      "El error de clasificación del modelo logístico default es: 0.24\n",
      "\n",
      "El recall score del modelo logístico default es: 0.778\n",
      "\n",
      "La especificidad del modelo logístico default es: 0.761\n",
      "\n",
      "El false positive rate del modelo logístico default es: 0.24\n",
      "\n",
      "La precisión del modelo logístico default es: 0.158\n",
      "\n",
      "El f1 score del modelo logístico default es: 0.262\n"
     ]
    }
   ],
   "source": [
    "# Evaluacion del modelo logistico con hiperparametros defaults\n",
    "\n",
    "scores_dft = evaluacion(y_test, y_pred_lr_dft)\n",
    "\n",
    "# Mostramos el conjunto de medidas de evaluacion\n",
    "\n",
    "reporte('default', scores_dft)"
   ]
  },
  {
   "cell_type": "markdown",
   "id": "7fc64fba",
   "metadata": {},
   "source": [
    "## Modelo Logístico: Hiperparámetros óptimos"
   ]
  },
  {
   "cell_type": "markdown",
   "id": "0d675b6d",
   "metadata": {},
   "source": [
    "Del conjunto de hiperparámetros del modelo logístico consideraremos un subconjunto para realizar la búsqueda de valores óptimos, definido a partir de la relevancia de los mismos de acuerdo al problema que enfrentamos: la predicción de una target binaria.\n",
    "Así, el subconjunto de hiperparámetros que usaremos del modelo logístico está integrado por:\n",
    "- C: Inversa de la fuerza de regularización.\n",
    "- fit_intercept: Especifica si se debe agregar una constante (también conocida como sesgo o intersección) a la función de decisión.\n",
    "- max_iter: Número máximo de iteraciones que se toman para que los solucionadores converjan.\n",
    "- penalty: Especifica la norma de la pena.\n",
    "- solver: Algoritmo a utilizar en el problema de optimización."
   ]
  },
  {
   "cell_type": "markdown",
   "id": "de6df05a",
   "metadata": {},
   "source": [
    "### Definición de los conjuntos de hiperparámetros"
   ]
  },
  {
   "cell_type": "markdown",
   "id": "1c68136f",
   "metadata": {},
   "source": [
    "Si bien *C*, *fit_intercept* y *max_inter* pueden combinarse entre sí y con el resto de cualquier manera, no es tal el caso para *penalty* y *solver*. Las combinaciones posibles y no posibles de éstos dos últimos se pueden ver en la tabla a continuación:"
   ]
  },
  {
   "cell_type": "markdown",
   "id": "71b4d125",
   "metadata": {},
   "source": [
    "<img src = '../../../desafio_final/logistic_hiperparam_table.png'>"
   ]
  },
  {
   "cell_type": "markdown",
   "id": "4e5f0f95",
   "metadata": {},
   "source": [
    "La fuente de la tabla es la Guía del Usuario para el modelo logístico, en la cual se presentan las distintas especificaciones del modelo de acuerdo a la penalización elegida y explica el rol de los distintos valores de los hiperparámetros. La misma se puede consultar en https://scikit-learn.org/stable/modules/linear_model.html#logistic-regression"
   ]
  },
  {
   "cell_type": "markdown",
   "id": "7eca3328",
   "metadata": {},
   "source": [
    "A partir esto, vamos a definir tres diccionarios que se diferenciarán entre sí de acuerdo a las combinaciones probadas de *penalty* y *solver*, dejando fijos los rangos de valores probados para *C*, *fit_intercept* y *max_iter*."
   ]
  },
  {
   "cell_type": "markdown",
   "id": "832eb9de",
   "metadata": {},
   "source": [
    "El primer diccionario considera que el *solver saga* es el único que se puede combinar con todas las alternativas de *penalty*:"
   ]
  },
  {
   "cell_type": "code",
   "execution_count": 16,
   "id": "b3a60adb",
   "metadata": {},
   "outputs": [],
   "source": [
    "from scipy.stats import loguniform\n",
    "\n",
    "lr_opt_params_1 = {'C':loguniform.rvs(1e-5, 100, size = 10), 'fit_intercept':[False, True], 'max_iter':[100, 150, 200], \n",
    "                   'penalty':['none', 'l1', 'l2', 'elasticnet'], \n",
    "                   'solver':['saga']}"
   ]
  },
  {
   "cell_type": "markdown",
   "id": "b3da487d",
   "metadata": {},
   "source": [
    "El segundo diccionario considera que tanto *newton-cg*, *lbfgs*, *sag* como *saga* se pueden combinar al mismo tiempo con las penalizaciones *none* y *l2*:"
   ]
  },
  {
   "cell_type": "code",
   "execution_count": 17,
   "id": "c5d15d24",
   "metadata": {},
   "outputs": [],
   "source": [
    "lr_opt_params_2 = {'C':loguniform.rvs(1e-5, 100, size = 10), 'fit_intercept':[False, True], 'max_iter':[100, 150, 200], \n",
    "                   'penalty':['none', 'l2'], \n",
    "                   'solver':['newton-cg', 'lbfgs', 'sag', 'saga']}"
   ]
  },
  {
   "cell_type": "markdown",
   "id": "817527a8",
   "metadata": {},
   "source": [
    "El tercer diccionario considera que el *solver liblinear* se puede combinar al mismo tiempo con las penalidades *l1* y *l2*:"
   ]
  },
  {
   "cell_type": "code",
   "execution_count": 18,
   "id": "4f181412",
   "metadata": {},
   "outputs": [],
   "source": [
    "lr_opt_params_3 = {'C':loguniform.rvs(1e-5, 100, size = 10), 'fit_intercept':[False, True], 'max_iter':[100, 150, 200], \n",
    "                   'penalty':['l1', 'l2'], \n",
    "                   'solver':['liblinear']}"
   ]
  },
  {
   "cell_type": "markdown",
   "id": "757e3a8f",
   "metadata": {},
   "source": [
    "### Entrenamiento, Predicción y Evaluación de especificaciones"
   ]
  },
  {
   "cell_type": "markdown",
   "id": "1877c066",
   "metadata": {},
   "source": [
    "Observaciones:\n",
    "- Dado que queremos predecir una target con clases originalmente desbalanceadas, con una proporción de 1s muy baja, utilizaremos las métricas de *Recall*, *Precision* y *F1 Score*. En consecuencia, tendremos 3x3 especificaciones, una para cada combinación de (conjunto de hiperparámetros, score)."
   ]
  },
  {
   "cell_type": "code",
   "execution_count": 19,
   "id": "0e853b78",
   "metadata": {},
   "outputs": [],
   "source": [
    "# Primero vamos a instanciar las folds que vamos a usar en search de hiperparametros\n",
    "\n",
    "from sklearn.model_selection import StratifiedKFold\n",
    "\n",
    "folds = StratifiedKFold(n_splits = 5, \n",
    "                        random_state = 42,\n",
    "                        shuffle = True)"
   ]
  },
  {
   "cell_type": "markdown",
   "id": "eb3c7624",
   "metadata": {},
   "source": [
    "#### Especificación 1: Conjunto 1 de hiperparámetros y Score Recall"
   ]
  },
  {
   "cell_type": "code",
   "execution_count": 20,
   "id": "aa8bc61c",
   "metadata": {},
   "outputs": [
    {
     "data": {
      "text/plain": [
       "GridSearchCV(cv=StratifiedKFold(n_splits=5, random_state=42, shuffle=True),\n",
       "             estimator=LogisticRegression(), n_jobs=-1,\n",
       "             param_grid={'C': array([4.46133712e-03, 3.02493106e+00, 6.34566016e-02, 1.69180655e+00,\n",
       "       1.21386034e-05, 1.91164326e+00, 7.02065257e-04, 2.14179099e-04,\n",
       "       9.08715394e+01, 3.49925237e-04]),\n",
       "                         'fit_intercept': [False, True],\n",
       "                         'max_iter': [100, 150, 200],\n",
       "                         'penalty': ['none', 'l1', 'l2', 'elasticnet'],\n",
       "                         'solver': ['saga']},\n",
       "             scoring='recall')"
      ]
     },
     "execution_count": 20,
     "metadata": {},
     "output_type": "execute_result"
    }
   ],
   "source": [
    "# Entrenamiento del modelo logistico: hiperparametros optimos, especificacion 1\n",
    "\n",
    "from sklearn.model_selection import GridSearchCV, RandomizedSearchCV\n",
    "\n",
    "model_lr_esp1 = GridSearchCV(LogisticRegression(),\n",
    "                             lr_opt_params_1,\n",
    "                             cv = folds,\n",
    "                             scoring = 'recall',\n",
    "                             n_jobs = -1)\n",
    "\n",
    "model_lr_esp1.fit(X_train_os, y_train_os)"
   ]
  },
  {
   "cell_type": "code",
   "execution_count": 21,
   "id": "02ddff21",
   "metadata": {},
   "outputs": [
    {
     "data": {
      "text/plain": [
       "{'C': 0.0003499252371623165,\n",
       " 'fit_intercept': False,\n",
       " 'max_iter': 100,\n",
       " 'penalty': 'l1',\n",
       " 'solver': 'saga'}"
      ]
     },
     "execution_count": 21,
     "metadata": {},
     "output_type": "execute_result"
    }
   ],
   "source": [
    "# Veamos los hiperparametros del modelo logistico, optimos segun especificacion 1\n",
    "\n",
    "lr_esp1_params = model_lr_esp1.best_params_\n",
    "lr_esp1_params"
   ]
  },
  {
   "cell_type": "code",
   "execution_count": 22,
   "id": "9f63fab6",
   "metadata": {},
   "outputs": [
    {
     "data": {
      "text/plain": [
       "0.83"
      ]
     },
     "execution_count": 22,
     "metadata": {},
     "output_type": "execute_result"
    }
   ],
   "source": [
    "# Vemos el recall del mejor modelo\n",
    "\n",
    "model_lr_esp1.best_score_.round(2)"
   ]
  },
  {
   "cell_type": "code",
   "execution_count": 23,
   "id": "5ef459d9",
   "metadata": {},
   "outputs": [],
   "source": [
    "# Prediccion de la target usando el modelo logistico con hiperparametros optimos, especificacion 1\n",
    "\n",
    "y_pred_lr_esp1 = model_lr_esp1.predict(X_test)\n",
    "\n",
    "y_pred_proba_lr_esp1 = model_lr_esp1.predict_proba(X_test)"
   ]
  },
  {
   "cell_type": "code",
   "execution_count": 24,
   "id": "09496d5f",
   "metadata": {},
   "outputs": [
    {
     "name": "stdout",
     "output_type": "stream",
     "text": [
      "La matriz de confusión del modelo logístico especificacion 1 es: \n",
      "[[6573 2039]\n",
      " [ 118  378]]\n",
      "\n",
      "El accuracy score del modelo logístico especificacion 1 es: 0.763\n",
      "\n",
      "El error de clasificación del modelo logístico especificacion 1 es: 0.24\n",
      "\n",
      "El recall score del modelo logístico especificacion 1 es: 0.762\n",
      "\n",
      "La especificidad del modelo logístico especificacion 1 es: 0.763\n",
      "\n",
      "El false positive rate del modelo logístico especificacion 1 es: 0.24\n",
      "\n",
      "La precisión del modelo logístico especificacion 1 es: 0.156\n",
      "\n",
      "El f1 score del modelo logístico especificacion 1 es: 0.26\n"
     ]
    }
   ],
   "source": [
    "# Evaluacion del modelo logistico con hiperparametros defaults, especificacion 1\n",
    "\n",
    "scores_esp1 = evaluacion(y_test, y_pred_lr_esp1)\n",
    "\n",
    "# Mostramos el conjunto de medidas de evaluacion\n",
    "\n",
    "reporte('especificacion 1', scores_esp1)"
   ]
  },
  {
   "cell_type": "markdown",
   "id": "fe0b7258",
   "metadata": {},
   "source": [
    "#### Especificación 2: Conjunto 1 de hiperparámetros y Score Precision"
   ]
  },
  {
   "cell_type": "code",
   "execution_count": 25,
   "id": "bfb4d0b7",
   "metadata": {},
   "outputs": [
    {
     "data": {
      "text/plain": [
       "GridSearchCV(cv=StratifiedKFold(n_splits=5, random_state=42, shuffle=True),\n",
       "             estimator=LogisticRegression(), n_jobs=-1,\n",
       "             param_grid={'C': array([4.46133712e-03, 3.02493106e+00, 6.34566016e-02, 1.69180655e+00,\n",
       "       1.21386034e-05, 1.91164326e+00, 7.02065257e-04, 2.14179099e-04,\n",
       "       9.08715394e+01, 3.49925237e-04]),\n",
       "                         'fit_intercept': [False, True],\n",
       "                         'max_iter': [100, 150, 200],\n",
       "                         'penalty': ['none', 'l1', 'l2', 'elasticnet'],\n",
       "                         'solver': ['saga']},\n",
       "             scoring='precision')"
      ]
     },
     "execution_count": 25,
     "metadata": {},
     "output_type": "execute_result"
    }
   ],
   "source": [
    "# Entrenamiento del modelo logistico: hiperparametros optimos, especificacion 2\n",
    "\n",
    "model_lr_esp2 = GridSearchCV(LogisticRegression(),\n",
    "                             lr_opt_params_1,\n",
    "                             cv = folds,\n",
    "                             scoring = 'precision',\n",
    "                             n_jobs = -1)\n",
    "\n",
    "model_lr_esp2.fit(X_train_os, y_train_os)"
   ]
  },
  {
   "cell_type": "code",
   "execution_count": 26,
   "id": "9d925b3e",
   "metadata": {},
   "outputs": [
    {
     "data": {
      "text/plain": [
       "{'C': 0.004461337118172516,\n",
       " 'fit_intercept': True,\n",
       " 'max_iter': 100,\n",
       " 'penalty': 'l1',\n",
       " 'solver': 'saga'}"
      ]
     },
     "execution_count": 26,
     "metadata": {},
     "output_type": "execute_result"
    }
   ],
   "source": [
    "# Veamos los hiperparametros del modelo logistico, optimos segun especificacion 2\n",
    "\n",
    "lr_esp2_params = model_lr_esp2.best_params_\n",
    "lr_esp2_params"
   ]
  },
  {
   "cell_type": "code",
   "execution_count": 27,
   "id": "441dadbb",
   "metadata": {},
   "outputs": [
    {
     "data": {
      "text/plain": [
       "0.79"
      ]
     },
     "execution_count": 27,
     "metadata": {},
     "output_type": "execute_result"
    }
   ],
   "source": [
    "# Vemos la precision del mejor modelo\n",
    "\n",
    "model_lr_esp2.best_score_.round(2)"
   ]
  },
  {
   "cell_type": "code",
   "execution_count": 28,
   "id": "d4c6c422",
   "metadata": {},
   "outputs": [],
   "source": [
    "# Prediccion de la target usando el modelo logistico con hiperparametros optimos, especificacion 2\n",
    "\n",
    "y_pred_lr_esp2 = model_lr_esp2.predict(X_test)\n",
    "\n",
    "y_pred_proba_lr_esp2 = model_lr_esp2.predict_proba(X_test)"
   ]
  },
  {
   "cell_type": "code",
   "execution_count": 29,
   "id": "49a4a506",
   "metadata": {},
   "outputs": [
    {
     "name": "stdout",
     "output_type": "stream",
     "text": [
      "La matriz de confusión del modelo logístico especifciacion 2 es: \n",
      "[[6727 1885]\n",
      " [ 133  363]]\n",
      "\n",
      "El accuracy score del modelo logístico especifciacion 2 es: 0.778\n",
      "\n",
      "El error de clasificación del modelo logístico especifciacion 2 es: 0.22\n",
      "\n",
      "El recall score del modelo logístico especifciacion 2 es: 0.732\n",
      "\n",
      "La especificidad del modelo logístico especifciacion 2 es: 0.781\n",
      "\n",
      "El false positive rate del modelo logístico especifciacion 2 es: 0.22\n",
      "\n",
      "La precisión del modelo logístico especifciacion 2 es: 0.161\n",
      "\n",
      "El f1 score del modelo logístico especifciacion 2 es: 0.265\n"
     ]
    }
   ],
   "source": [
    "# Evaluacion del modelo logistico con hiperparametros defaults, especificacion 2\n",
    "\n",
    "scores_esp2 = evaluacion(y_test, y_pred_lr_esp2)\n",
    "\n",
    "# Mostramos el conjunto de medidas de evaluacion\n",
    "\n",
    "reporte('especifciacion 2', scores_esp2)"
   ]
  },
  {
   "cell_type": "markdown",
   "id": "1567c74a",
   "metadata": {},
   "source": [
    "#### Especificación 3: Conjunto 1 de hiperparámetros y Score F1"
   ]
  },
  {
   "cell_type": "code",
   "execution_count": 30,
   "id": "da01c6c4",
   "metadata": {},
   "outputs": [
    {
     "data": {
      "text/plain": [
       "GridSearchCV(cv=StratifiedKFold(n_splits=5, random_state=42, shuffle=True),\n",
       "             estimator=LogisticRegression(), n_jobs=-1,\n",
       "             param_grid={'C': array([4.46133712e-03, 3.02493106e+00, 6.34566016e-02, 1.69180655e+00,\n",
       "       1.21386034e-05, 1.91164326e+00, 7.02065257e-04, 2.14179099e-04,\n",
       "       9.08715394e+01, 3.49925237e-04]),\n",
       "                         'fit_intercept': [False, True],\n",
       "                         'max_iter': [100, 150, 200],\n",
       "                         'penalty': ['none', 'l1', 'l2', 'elasticnet'],\n",
       "                         'solver': ['saga']},\n",
       "             scoring='f1')"
      ]
     },
     "execution_count": 30,
     "metadata": {},
     "output_type": "execute_result"
    }
   ],
   "source": [
    "# Entrenamiento del modelo logistico: hiperparametros optimos, especificacion 3\n",
    "\n",
    "model_lr_esp3 = GridSearchCV(LogisticRegression(),\n",
    "                             lr_opt_params_1,\n",
    "                             cv = folds,\n",
    "                             scoring = 'f1',\n",
    "                             n_jobs = -1)\n",
    "\n",
    "model_lr_esp3.fit(X_train_os, y_train_os)\n"
   ]
  },
  {
   "cell_type": "code",
   "execution_count": 31,
   "id": "9f8bda5b",
   "metadata": {},
   "outputs": [
    {
     "data": {
      "text/plain": [
       "{'C': 0.06345660156125431,\n",
       " 'fit_intercept': True,\n",
       " 'max_iter': 100,\n",
       " 'penalty': 'l1',\n",
       " 'solver': 'saga'}"
      ]
     },
     "execution_count": 31,
     "metadata": {},
     "output_type": "execute_result"
    }
   ],
   "source": [
    "# Veamos los hiperparametros del modelo logistico, optimos segun especificacion 3\n",
    "\n",
    "lr_esp3_params = model_lr_esp3.best_params_\n",
    "lr_esp3_params\n"
   ]
  },
  {
   "cell_type": "code",
   "execution_count": 32,
   "id": "50b530e1",
   "metadata": {},
   "outputs": [
    {
     "data": {
      "text/plain": [
       "0.79"
      ]
     },
     "execution_count": 32,
     "metadata": {},
     "output_type": "execute_result"
    }
   ],
   "source": [
    "# Vemos la f1 del mejor modelo\n",
    "\n",
    "model_lr_esp3.best_score_.round(2)\n"
   ]
  },
  {
   "cell_type": "code",
   "execution_count": 33,
   "id": "7fd15397",
   "metadata": {},
   "outputs": [],
   "source": [
    "# Prediccion de la target usando el modelo logistico con hiperparametros optimos, especificacion 3\n",
    "\n",
    "y_pred_lr_esp3 = model_lr_esp3.predict(X_test)\n",
    "\n",
    "y_pred_proba_lr_esp3 = model_lr_esp3.predict_proba(X_test)\n"
   ]
  },
  {
   "cell_type": "code",
   "execution_count": 34,
   "id": "0c48bf1c",
   "metadata": {},
   "outputs": [
    {
     "name": "stdout",
     "output_type": "stream",
     "text": [
      "La matriz de confusión del modelo logístico especifciacion 3 es: \n",
      "[[6563 2049]\n",
      " [ 112  384]]\n",
      "\n",
      "El accuracy score del modelo logístico especifciacion 3 es: 0.763\n",
      "\n",
      "El error de clasificación del modelo logístico especifciacion 3 es: 0.24\n",
      "\n",
      "El recall score del modelo logístico especifciacion 3 es: 0.774\n",
      "\n",
      "La especificidad del modelo logístico especifciacion 3 es: 0.762\n",
      "\n",
      "El false positive rate del modelo logístico especifciacion 3 es: 0.24\n",
      "\n",
      "La precisión del modelo logístico especifciacion 3 es: 0.158\n",
      "\n",
      "El f1 score del modelo logístico especifciacion 3 es: 0.262\n"
     ]
    }
   ],
   "source": [
    "# Evaluacion del modelo logistico con hiperparametros defaults, especificacion 3\n",
    "\n",
    "scores_esp3 = evaluacion(y_test, y_pred_lr_esp3)\n",
    "\n",
    "# Mostramos el conjunto de medidas de evaluacion\n",
    "\n",
    "reporte('especifciacion 3', scores_esp3)"
   ]
  },
  {
   "cell_type": "markdown",
   "id": "861a7736",
   "metadata": {},
   "source": [
    "#### Especificación 4: Conjunto 2 de hiperparámetros y Score Recall"
   ]
  },
  {
   "cell_type": "code",
   "execution_count": 35,
   "id": "7f78f864",
   "metadata": {},
   "outputs": [
    {
     "data": {
      "text/plain": [
       "GridSearchCV(cv=StratifiedKFold(n_splits=5, random_state=42, shuffle=True),\n",
       "             estimator=LogisticRegression(), n_jobs=-1,\n",
       "             param_grid={'C': array([5.28193889e-03, 1.10751800e-03, 3.01544795e-03, 1.14232660e-01,\n",
       "       1.12039524e-02, 2.41687959e-05, 9.95080177e+01, 3.62014798e+00,\n",
       "       4.92220570e-01, 5.62140220e-01]),\n",
       "                         'fit_intercept': [False, True],\n",
       "                         'max_iter': [100, 150, 200], 'penalty': ['none', 'l2'],\n",
       "                         'solver': ['newton-cg', 'lbfgs', 'sag', 'saga']},\n",
       "             scoring='recall')"
      ]
     },
     "execution_count": 35,
     "metadata": {},
     "output_type": "execute_result"
    }
   ],
   "source": [
    "# Entrenamiento del modelo logistico: hiperparametros optimos, especificacion 4\n",
    "\n",
    "model_lr_esp4 = GridSearchCV(LogisticRegression(),\n",
    "                             lr_opt_params_2,\n",
    "                             cv = folds,\n",
    "                             scoring = 'recall',\n",
    "                             n_jobs = -1)\n",
    "\n",
    "model_lr_esp4.fit(X_train_os, y_train_os)"
   ]
  },
  {
   "cell_type": "code",
   "execution_count": 36,
   "id": "be735bc3",
   "metadata": {},
   "outputs": [
    {
     "data": {
      "text/plain": [
       "{'C': 0.005281938893431817,\n",
       " 'fit_intercept': True,\n",
       " 'max_iter': 100,\n",
       " 'penalty': 'none',\n",
       " 'solver': 'newton-cg'}"
      ]
     },
     "execution_count": 36,
     "metadata": {},
     "output_type": "execute_result"
    }
   ],
   "source": [
    "# Veamos los hiperparametros del modelo logistico, optimos segun especificacion 4\n",
    "\n",
    "lr_esp4_params = model_lr_esp4.best_params_\n",
    "lr_esp4_params"
   ]
  },
  {
   "cell_type": "code",
   "execution_count": 37,
   "id": "894034f6",
   "metadata": {},
   "outputs": [
    {
     "data": {
      "text/plain": [
       "0.8"
      ]
     },
     "execution_count": 37,
     "metadata": {},
     "output_type": "execute_result"
    }
   ],
   "source": [
    "# Vemos la recall del mejor modelo\n",
    "\n",
    "model_lr_esp4.best_score_.round(2)"
   ]
  },
  {
   "cell_type": "code",
   "execution_count": 38,
   "id": "b172a5c7",
   "metadata": {},
   "outputs": [],
   "source": [
    "# Prediccion de la target usando el modelo logistico con hiperparametros optimos, especificacion 4\n",
    "\n",
    "y_pred_lr_esp4 = model_lr_esp4.predict(X_test)\n",
    "\n",
    "y_pred_proba_lr_esp4 = model_lr_esp4.predict_proba(X_test)"
   ]
  },
  {
   "cell_type": "code",
   "execution_count": 39,
   "id": "2d78dfe8",
   "metadata": {},
   "outputs": [
    {
     "name": "stdout",
     "output_type": "stream",
     "text": [
      "La matriz de confusión del modelo logístico especificacion 4 es: \n",
      "[[6552 2060]\n",
      " [ 110  386]]\n",
      "\n",
      "El accuracy score del modelo logístico especificacion 4 es: 0.762\n",
      "\n",
      "El error de clasificación del modelo logístico especificacion 4 es: 0.24\n",
      "\n",
      "El recall score del modelo logístico especificacion 4 es: 0.778\n",
      "\n",
      "La especificidad del modelo logístico especificacion 4 es: 0.761\n",
      "\n",
      "El false positive rate del modelo logístico especificacion 4 es: 0.24\n",
      "\n",
      "La precisión del modelo logístico especificacion 4 es: 0.158\n",
      "\n",
      "El f1 score del modelo logístico especificacion 4 es: 0.262\n"
     ]
    }
   ],
   "source": [
    "# Evaluacion del modelo logistico con hiperparametros defaults, especificacion 4\n",
    "\n",
    "scores_esp4 = evaluacion(y_test, y_pred_lr_esp4)\n",
    "\n",
    "# Mostramos el conjunto de medidas de evaluacion\n",
    "\n",
    "reporte('especificacion 4', scores_esp4)"
   ]
  },
  {
   "cell_type": "markdown",
   "id": "594830c3",
   "metadata": {},
   "source": [
    "#### Especificación 5: Conjunto 2 de hiperparámetros y Score Precision"
   ]
  },
  {
   "cell_type": "code",
   "execution_count": 40,
   "id": "90d80c54",
   "metadata": {},
   "outputs": [
    {
     "data": {
      "text/plain": [
       "GridSearchCV(cv=StratifiedKFold(n_splits=5, random_state=42, shuffle=True),\n",
       "             estimator=LogisticRegression(), n_jobs=-1,\n",
       "             param_grid={'C': array([5.28193889e-03, 1.10751800e-03, 3.01544795e-03, 1.14232660e-01,\n",
       "       1.12039524e-02, 2.41687959e-05, 9.95080177e+01, 3.62014798e+00,\n",
       "       4.92220570e-01, 5.62140220e-01]),\n",
       "                         'fit_intercept': [False, True],\n",
       "                         'max_iter': [100, 150, 200], 'penalty': ['none', 'l2'],\n",
       "                         'solver': ['newton-cg', 'lbfgs', 'sag', 'saga']},\n",
       "             scoring='precision')"
      ]
     },
     "execution_count": 40,
     "metadata": {},
     "output_type": "execute_result"
    }
   ],
   "source": [
    "# Entrenamiento del modelo logistico: hiperparametros optimos, especificacion 5\n",
    "\n",
    "model_lr_esp5 = GridSearchCV(LogisticRegression(),\n",
    "                             lr_opt_params_2,\n",
    "                             cv = folds,\n",
    "                             scoring = 'precision',\n",
    "                             n_jobs = -1)\n",
    "\n",
    "model_lr_esp5.fit(X_train_os, y_train_os)"
   ]
  },
  {
   "cell_type": "code",
   "execution_count": 41,
   "id": "42359f95",
   "metadata": {},
   "outputs": [
    {
     "data": {
      "text/plain": [
       "{'C': 2.4168795893042863e-05,\n",
       " 'fit_intercept': True,\n",
       " 'max_iter': 100,\n",
       " 'penalty': 'l2',\n",
       " 'solver': 'newton-cg'}"
      ]
     },
     "execution_count": 41,
     "metadata": {},
     "output_type": "execute_result"
    }
   ],
   "source": [
    "# Veamos los hiperparametros del modelo logistico, optimos segun especificacion 5\n",
    "\n",
    "lr_esp5_params = model_lr_esp5.best_params_\n",
    "lr_esp5_params"
   ]
  },
  {
   "cell_type": "code",
   "execution_count": 42,
   "id": "5145ea54",
   "metadata": {},
   "outputs": [
    {
     "data": {
      "text/plain": [
       "0.79"
      ]
     },
     "execution_count": 42,
     "metadata": {},
     "output_type": "execute_result"
    }
   ],
   "source": [
    "# Vemos la precision del mejor modelo\n",
    "\n",
    "model_lr_esp5.best_score_.round(2)"
   ]
  },
  {
   "cell_type": "code",
   "execution_count": 43,
   "id": "ff889bc1",
   "metadata": {},
   "outputs": [],
   "source": [
    "# Prediccion de la target usando el modelo logistico con hiperparametros optimos, especificacion 5\n",
    "\n",
    "y_pred_lr_esp5 = model_lr_esp5.predict(X_test)\n",
    "\n",
    "y_pred_proba_lr_esp5 = model_lr_esp5.predict_proba(X_test)"
   ]
  },
  {
   "cell_type": "code",
   "execution_count": 44,
   "id": "91460b57",
   "metadata": {},
   "outputs": [
    {
     "name": "stdout",
     "output_type": "stream",
     "text": [
      "La matriz de confusión del modelo logístico especificacion 5 es: \n",
      "[[6727 1885]\n",
      " [ 133  363]]\n",
      "\n",
      "El accuracy score del modelo logístico especificacion 5 es: 0.778\n",
      "\n",
      "El error de clasificación del modelo logístico especificacion 5 es: 0.22\n",
      "\n",
      "El recall score del modelo logístico especificacion 5 es: 0.732\n",
      "\n",
      "La especificidad del modelo logístico especificacion 5 es: 0.781\n",
      "\n",
      "El false positive rate del modelo logístico especificacion 5 es: 0.22\n",
      "\n",
      "La precisión del modelo logístico especificacion 5 es: 0.161\n",
      "\n",
      "El f1 score del modelo logístico especificacion 5 es: 0.265\n"
     ]
    }
   ],
   "source": [
    "# Evaluacion del modelo logistico con hiperparametros defaults, especificacion 5\n",
    "\n",
    "scores_esp5 = evaluacion(y_test, y_pred_lr_esp5)\n",
    "\n",
    "# Mostramos el conjunto de medidas de evaluacion\n",
    "\n",
    "reporte('especificacion 5', scores_esp5)"
   ]
  },
  {
   "cell_type": "markdown",
   "id": "ab733b22",
   "metadata": {},
   "source": [
    "#### Especificación 6: Conjunto 2 de hiperparámetros y Score F1"
   ]
  },
  {
   "cell_type": "code",
   "execution_count": 45,
   "id": "325e4638",
   "metadata": {},
   "outputs": [
    {
     "data": {
      "text/plain": [
       "GridSearchCV(cv=StratifiedKFold(n_splits=5, random_state=42, shuffle=True),\n",
       "             estimator=LogisticRegression(), n_jobs=-1,\n",
       "             param_grid={'C': array([5.28193889e-03, 1.10751800e-03, 3.01544795e-03, 1.14232660e-01,\n",
       "       1.12039524e-02, 2.41687959e-05, 9.95080177e+01, 3.62014798e+00,\n",
       "       4.92220570e-01, 5.62140220e-01]),\n",
       "                         'fit_intercept': [False, True],\n",
       "                         'max_iter': [100, 150, 200], 'penalty': ['none', 'l2'],\n",
       "                         'solver': ['newton-cg', 'lbfgs', 'sag', 'saga']},\n",
       "             scoring='f1')"
      ]
     },
     "execution_count": 45,
     "metadata": {},
     "output_type": "execute_result"
    }
   ],
   "source": [
    "# Entrenamiento del modelo logistico: hiperparametros optimos, especificacion 6\n",
    "\n",
    "model_lr_esp6 = GridSearchCV(LogisticRegression(),\n",
    "                             lr_opt_params_2,\n",
    "                             cv = folds,\n",
    "                             scoring = 'f1',\n",
    "                             n_jobs = -1)\n",
    "\n",
    "model_lr_esp6.fit(X_train_os, y_train_os)\n"
   ]
  },
  {
   "cell_type": "code",
   "execution_count": 46,
   "id": "0bd85bc6",
   "metadata": {},
   "outputs": [
    {
     "data": {
      "text/plain": [
       "{'C': 0.49222056994761143,\n",
       " 'fit_intercept': True,\n",
       " 'max_iter': 100,\n",
       " 'penalty': 'l2',\n",
       " 'solver': 'lbfgs'}"
      ]
     },
     "execution_count": 46,
     "metadata": {},
     "output_type": "execute_result"
    }
   ],
   "source": [
    "# Veamos los hiperparametros del modelo logistico, optimos segun especificacion 6\n",
    "\n",
    "lr_esp6_params = model_lr_esp6.best_params_\n",
    "lr_esp6_params\n"
   ]
  },
  {
   "cell_type": "code",
   "execution_count": 47,
   "id": "d6be6311",
   "metadata": {},
   "outputs": [
    {
     "data": {
      "text/plain": [
       "0.79"
      ]
     },
     "execution_count": 47,
     "metadata": {},
     "output_type": "execute_result"
    }
   ],
   "source": [
    "# Vemos la f1 del mejor modelo\n",
    "\n",
    "model_lr_esp6.best_score_.round(2)\n"
   ]
  },
  {
   "cell_type": "code",
   "execution_count": 48,
   "id": "a77f7787",
   "metadata": {},
   "outputs": [],
   "source": [
    "# Prediccion de la target usando el modelo logistico con hiperparametros optimos, especificacion 6\n",
    "\n",
    "y_pred_lr_esp6 = model_lr_esp6.predict(X_test)\n",
    "\n",
    "y_pred_proba_lr_esp6 = model_lr_esp6.predict_proba(X_test)\n"
   ]
  },
  {
   "cell_type": "code",
   "execution_count": 49,
   "id": "8c261a71",
   "metadata": {},
   "outputs": [
    {
     "name": "stdout",
     "output_type": "stream",
     "text": [
      "La matriz de confusión del modelo logístico especificacion 6 es: \n",
      "[[6551 2061]\n",
      " [ 110  386]]\n",
      "\n",
      "El accuracy score del modelo logístico especificacion 6 es: 0.762\n",
      "\n",
      "El error de clasificación del modelo logístico especificacion 6 es: 0.24\n",
      "\n",
      "El recall score del modelo logístico especificacion 6 es: 0.778\n",
      "\n",
      "La especificidad del modelo logístico especificacion 6 es: 0.761\n",
      "\n",
      "El false positive rate del modelo logístico especificacion 6 es: 0.24\n",
      "\n",
      "La precisión del modelo logístico especificacion 6 es: 0.158\n",
      "\n",
      "El f1 score del modelo logístico especificacion 6 es: 0.262\n"
     ]
    }
   ],
   "source": [
    "# Evaluacion del modelo logistico con hiperparametros defaults, especificacion 6\n",
    "\n",
    "scores_esp6 = evaluacion(y_test, y_pred_lr_esp6)\n",
    "\n",
    "# Mostramos el conjunto de medidas de evaluacion\n",
    "\n",
    "reporte('especificacion 6', scores_esp6)"
   ]
  },
  {
   "cell_type": "markdown",
   "id": "c719875c",
   "metadata": {},
   "source": [
    "#### Especificación 7: Conjunto 3 de hiperparámetros y Score Recall"
   ]
  },
  {
   "cell_type": "code",
   "execution_count": 50,
   "id": "e40f4e6b",
   "metadata": {},
   "outputs": [
    {
     "data": {
      "text/plain": [
       "GridSearchCV(cv=StratifiedKFold(n_splits=5, random_state=42, shuffle=True),\n",
       "             estimator=LogisticRegression(), n_jobs=-1,\n",
       "             param_grid={'C': array([5.59683314e+01, 6.26316506e-05, 4.53103325e-01, 3.87222374e-01,\n",
       "       1.71172636e-01, 2.43631201e-04, 5.07975237e-04, 6.99416704e-01,\n",
       "       6.35898305e-03, 1.03444880e+01]),\n",
       "                         'fit_intercept': [False, True],\n",
       "                         'max_iter': [100, 150, 200], 'penalty': ['l1', 'l2'],\n",
       "                         'solver': ['liblinear']},\n",
       "             scoring='recall')"
      ]
     },
     "execution_count": 50,
     "metadata": {},
     "output_type": "execute_result"
    }
   ],
   "source": [
    "# Entrenamiento del modelo logistico: hiperparametros optimos, especificacion 7\n",
    "\n",
    "model_lr_esp7 = GridSearchCV(LogisticRegression(),\n",
    "                             lr_opt_params_3,\n",
    "                             cv = folds,\n",
    "                             scoring = 'recall',\n",
    "                             n_jobs = -1)\n",
    "\n",
    "model_lr_esp7.fit(X_train_os, y_train_os)"
   ]
  },
  {
   "cell_type": "code",
   "execution_count": 51,
   "id": "f15f63e2",
   "metadata": {},
   "outputs": [
    {
     "data": {
      "text/plain": [
       "{'C': 0.00024363120120656547,\n",
       " 'fit_intercept': False,\n",
       " 'max_iter': 100,\n",
       " 'penalty': 'l1',\n",
       " 'solver': 'liblinear'}"
      ]
     },
     "execution_count": 51,
     "metadata": {},
     "output_type": "execute_result"
    }
   ],
   "source": [
    "# Veamos los hiperparametros del modelo logistico, optimos segun especificacion 7\n",
    "\n",
    "lr_esp7_params = model_lr_esp7.best_params_\n",
    "lr_esp7_params"
   ]
  },
  {
   "cell_type": "code",
   "execution_count": 52,
   "id": "d409e6cb",
   "metadata": {},
   "outputs": [
    {
     "data": {
      "text/plain": [
       "0.82"
      ]
     },
     "execution_count": 52,
     "metadata": {},
     "output_type": "execute_result"
    }
   ],
   "source": [
    "# Vemos la recall del mejor modelo\n",
    "\n",
    "model_lr_esp7.best_score_.round(2)"
   ]
  },
  {
   "cell_type": "code",
   "execution_count": 53,
   "id": "a73c9411",
   "metadata": {},
   "outputs": [],
   "source": [
    "# Prediccion de la target usando el modelo logistico con hiperparametros optimos, especificacion 7\n",
    "\n",
    "y_pred_lr_esp7 = model_lr_esp7.predict(X_test)\n",
    "\n",
    "y_pred_proba_lr_esp7 = model_lr_esp7.predict_proba(X_test)"
   ]
  },
  {
   "cell_type": "code",
   "execution_count": 54,
   "id": "f018eb35",
   "metadata": {},
   "outputs": [
    {
     "name": "stdout",
     "output_type": "stream",
     "text": [
      "La matriz de confusión del modelo logístico especificacion 7 es: \n",
      "[[5977 2635]\n",
      " [  91  405]]\n",
      "\n",
      "El accuracy score del modelo logístico especificacion 7 es: 0.701\n",
      "\n",
      "El error de clasificación del modelo logístico especificacion 7 es: 0.3\n",
      "\n",
      "El recall score del modelo logístico especificacion 7 es: 0.817\n",
      "\n",
      "La especificidad del modelo logístico especificacion 7 es: 0.694\n",
      "\n",
      "El false positive rate del modelo logístico especificacion 7 es: 0.31\n",
      "\n",
      "La precisión del modelo logístico especificacion 7 es: 0.133\n",
      "\n",
      "El f1 score del modelo logístico especificacion 7 es: 0.229\n"
     ]
    }
   ],
   "source": [
    "# Evaluacion del modelo logistico con hiperparametros defaults, especificacion 7\n",
    "\n",
    "scores_esp7 = evaluacion(y_test, y_pred_lr_esp7)\n",
    "\n",
    "# Mostramos el conjunto de medidas de evaluacion\n",
    "\n",
    "reporte('especificacion 7', scores_esp7)"
   ]
  },
  {
   "cell_type": "markdown",
   "id": "8602bfdc",
   "metadata": {},
   "source": [
    "#### Especificación 8: Conjunto 3 de hiperparámetros y Score Precision"
   ]
  },
  {
   "cell_type": "code",
   "execution_count": 55,
   "id": "357cb238",
   "metadata": {},
   "outputs": [
    {
     "data": {
      "text/plain": [
       "GridSearchCV(cv=StratifiedKFold(n_splits=5, random_state=42, shuffle=True),\n",
       "             estimator=LogisticRegression(), n_jobs=-1,\n",
       "             param_grid={'C': array([5.59683314e+01, 6.26316506e-05, 4.53103325e-01, 3.87222374e-01,\n",
       "       1.71172636e-01, 2.43631201e-04, 5.07975237e-04, 6.99416704e-01,\n",
       "       6.35898305e-03, 1.03444880e+01]),\n",
       "                         'fit_intercept': [False, True],\n",
       "                         'max_iter': [100, 150, 200], 'penalty': ['l1', 'l2'],\n",
       "                         'solver': ['liblinear']},\n",
       "             scoring='precision')"
      ]
     },
     "execution_count": 55,
     "metadata": {},
     "output_type": "execute_result"
    }
   ],
   "source": [
    "# Entrenamiento del modelo logistico: hiperparametros optimos, especificacion 8\n",
    "\n",
    "model_lr_esp8 = GridSearchCV(LogisticRegression(),\n",
    "                             lr_opt_params_3,\n",
    "                             cv = folds,\n",
    "                             scoring = 'precision',\n",
    "                             n_jobs = -1)\n",
    "\n",
    "model_lr_esp8.fit(X_train_os, y_train_os)"
   ]
  },
  {
   "cell_type": "code",
   "execution_count": 56,
   "id": "200f2945",
   "metadata": {},
   "outputs": [
    {
     "data": {
      "text/plain": [
       "{'C': 0.00024363120120656547,\n",
       " 'fit_intercept': True,\n",
       " 'max_iter': 100,\n",
       " 'penalty': 'l2',\n",
       " 'solver': 'liblinear'}"
      ]
     },
     "execution_count": 56,
     "metadata": {},
     "output_type": "execute_result"
    }
   ],
   "source": [
    "# Veamos los hiperparametros del modelo logistico, optimos segun especificacion 8\n",
    "\n",
    "lr_esp8_params = model_lr_esp8.best_params_\n",
    "lr_esp8_params"
   ]
  },
  {
   "cell_type": "code",
   "execution_count": 57,
   "id": "a6a04cc8",
   "metadata": {},
   "outputs": [
    {
     "data": {
      "text/plain": [
       "0.79"
      ]
     },
     "execution_count": 57,
     "metadata": {},
     "output_type": "execute_result"
    }
   ],
   "source": [
    "# Vemos la precision del mejor modelo\n",
    "\n",
    "model_lr_esp8.best_score_.round(2)"
   ]
  },
  {
   "cell_type": "code",
   "execution_count": 58,
   "id": "03a722a8",
   "metadata": {},
   "outputs": [],
   "source": [
    "# Prediccion de la target usando el modelo logistico con hiperparametros optimos, especificacion 8\n",
    "\n",
    "y_pred_lr_esp8 = model_lr_esp8.predict(X_test)\n",
    "\n",
    "y_pred_proba_lr_esp8 = model_lr_esp8.predict_proba(X_test)"
   ]
  },
  {
   "cell_type": "code",
   "execution_count": 59,
   "id": "42515b37",
   "metadata": {},
   "outputs": [
    {
     "name": "stdout",
     "output_type": "stream",
     "text": [
      "La matriz de confusión del modelo logístico especificacion 8 es: \n",
      "[[6726 1886]\n",
      " [ 133  363]]\n",
      "\n",
      "El accuracy score del modelo logístico especificacion 8 es: 0.778\n",
      "\n",
      "El error de clasificación del modelo logístico especificacion 8 es: 0.22\n",
      "\n",
      "El recall score del modelo logístico especificacion 8 es: 0.732\n",
      "\n",
      "La especificidad del modelo logístico especificacion 8 es: 0.781\n",
      "\n",
      "El false positive rate del modelo logístico especificacion 8 es: 0.22\n",
      "\n",
      "La precisión del modelo logístico especificacion 8 es: 0.161\n",
      "\n",
      "El f1 score del modelo logístico especificacion 8 es: 0.264\n"
     ]
    }
   ],
   "source": [
    "# Evaluacion del modelo logistico con hiperparametros defaults, especificacion 8\n",
    "\n",
    "scores_esp8 = evaluacion(y_test, y_pred_lr_esp8)\n",
    "\n",
    "# Mostramos el conjunto de medidas de evaluacion\n",
    "\n",
    "reporte('especificacion 8', scores_esp8)"
   ]
  },
  {
   "cell_type": "markdown",
   "id": "48f6267b",
   "metadata": {},
   "source": [
    "#### Especificación 9: Conjunto 3 de hiperparámetros y Score F1"
   ]
  },
  {
   "cell_type": "code",
   "execution_count": 60,
   "id": "afeea94e",
   "metadata": {},
   "outputs": [
    {
     "data": {
      "text/plain": [
       "GridSearchCV(cv=StratifiedKFold(n_splits=5, random_state=42, shuffle=True),\n",
       "             estimator=LogisticRegression(), n_jobs=-1,\n",
       "             param_grid={'C': array([5.59683314e+01, 6.26316506e-05, 4.53103325e-01, 3.87222374e-01,\n",
       "       1.71172636e-01, 2.43631201e-04, 5.07975237e-04, 6.99416704e-01,\n",
       "       6.35898305e-03, 1.03444880e+01]),\n",
       "                         'fit_intercept': [False, True],\n",
       "                         'max_iter': [100, 150, 200], 'penalty': ['l1', 'l2'],\n",
       "                         'solver': ['liblinear']},\n",
       "             scoring='f1')"
      ]
     },
     "execution_count": 60,
     "metadata": {},
     "output_type": "execute_result"
    }
   ],
   "source": [
    "# Entrenamiento del modelo logistico: hiperparametros optimos, especificacion 9\n",
    "\n",
    "model_lr_esp9 = GridSearchCV(LogisticRegression(),\n",
    "                             lr_opt_params_3,\n",
    "                             cv = folds,\n",
    "                             scoring = 'f1',\n",
    "                             n_jobs = -1)\n",
    "\n",
    "model_lr_esp9.fit(X_train_os, y_train_os)\n"
   ]
  },
  {
   "cell_type": "code",
   "execution_count": 61,
   "id": "fc8869ff",
   "metadata": {},
   "outputs": [
    {
     "data": {
      "text/plain": [
       "{'C': 0.17117263564107313,\n",
       " 'fit_intercept': True,\n",
       " 'max_iter': 200,\n",
       " 'penalty': 'l1',\n",
       " 'solver': 'liblinear'}"
      ]
     },
     "execution_count": 61,
     "metadata": {},
     "output_type": "execute_result"
    }
   ],
   "source": [
    "# Veamos los hiperparametros del modelo logistico, optimos segun especificacion 9\n",
    "\n",
    "lr_esp9_params = model_lr_esp9.best_params_\n",
    "lr_esp9_params\n"
   ]
  },
  {
   "cell_type": "code",
   "execution_count": 62,
   "id": "1b60aebc",
   "metadata": {},
   "outputs": [
    {
     "data": {
      "text/plain": [
       "0.79"
      ]
     },
     "execution_count": 62,
     "metadata": {},
     "output_type": "execute_result"
    }
   ],
   "source": [
    "# Vemos la f1 del mejor modelo\n",
    "\n",
    "model_lr_esp9.best_score_.round(2)\n"
   ]
  },
  {
   "cell_type": "code",
   "execution_count": 63,
   "id": "a9c98a4c",
   "metadata": {},
   "outputs": [],
   "source": [
    "# Prediccion de la target usando el modelo logistico con hiperparametros optimos, especificacion 9\n",
    "\n",
    "y_pred_lr_esp9 = model_lr_esp9.predict(X_test)\n",
    "\n",
    "y_pred_proba_lr_esp9 = model_lr_esp9.predict_proba(X_test)\n"
   ]
  },
  {
   "cell_type": "code",
   "execution_count": 64,
   "id": "07bcf483",
   "metadata": {},
   "outputs": [
    {
     "name": "stdout",
     "output_type": "stream",
     "text": [
      "La matriz de confusión del modelo logístico especificacion 9 es: \n",
      "[[6557 2055]\n",
      " [ 110  386]]\n",
      "\n",
      "El accuracy score del modelo logístico especificacion 9 es: 0.762\n",
      "\n",
      "El error de clasificación del modelo logístico especificacion 9 es: 0.24\n",
      "\n",
      "El recall score del modelo logístico especificacion 9 es: 0.778\n",
      "\n",
      "La especificidad del modelo logístico especificacion 9 es: 0.761\n",
      "\n",
      "El false positive rate del modelo logístico especificacion 9 es: 0.24\n",
      "\n",
      "La precisión del modelo logístico especificacion 9 es: 0.158\n",
      "\n",
      "El f1 score del modelo logístico especificacion 9 es: 0.263\n"
     ]
    }
   ],
   "source": [
    "# Evaluacion del modelo logistico con hiperparametros defaults, especificacion 9\n",
    "\n",
    "scores_esp9 = evaluacion(y_test, y_pred_lr_esp9)\n",
    "\n",
    "# Mostramos el conjunto de medidas de evaluacion\n",
    "\n",
    "reporte('especificacion 9', scores_esp9)"
   ]
  },
  {
   "cell_type": "markdown",
   "id": "8d68c9a1",
   "metadata": {},
   "source": [
    "## Comparación de performance de especificaciones"
   ]
  },
  {
   "cell_type": "markdown",
   "id": "ef526970",
   "metadata": {},
   "source": [
    "### Curva ROC"
   ]
  },
  {
   "cell_type": "code",
   "execution_count": 65,
   "id": "82e3c218",
   "metadata": {},
   "outputs": [
    {
     "data": {
      "image/png": "[encoded data removed]",
      "text/plain": [
       "<Figure size 432x288 with 1 Axes>"
      ]
     },
     "metadata": {
      "needs_background": "light"
     },
     "output_type": "display_data"
    }
   ],
   "source": [
    "# Construccion de Curva ROC para el conjunto de especificaciones\n",
    "\n",
    "# False Positive Rate, True Positive Rates y Thresholds\n",
    "\n",
    "fpr_lr_dft, tpr_lr_dft, thr_lr_dft = roc_curve(y_test, y_pred_proba_lr_dft[:,1])\n",
    "fpr_lr_esp1, tpr_lr_esp1, thr_lr_esp1 = roc_curve(y_test, y_pred_proba_lr_esp1[:,1])\n",
    "fpr_lr_esp2, tpr_lr_esp2, thr_lr_esp2 = roc_curve(y_test, y_pred_proba_lr_esp2[:,1])\n",
    "fpr_lr_esp3, tpr_lr_esp3, thr_lr_esp3 = roc_curve(y_test, y_pred_proba_lr_esp3[:,1])\n",
    "fpr_lr_esp4, tpr_lr_esp4, thr_lr_esp4 = roc_curve(y_test, y_pred_proba_lr_esp4[:,1])\n",
    "fpr_lr_esp5, tpr_lr_esp5, thr_lr_esp5 = roc_curve(y_test, y_pred_proba_lr_esp5[:,1])\n",
    "fpr_lr_esp6, tpr_lr_esp6, thr_lr_esp6 = roc_curve(y_test, y_pred_proba_lr_esp6[:,1])\n",
    "fpr_lr_esp7, tpr_lr_esp7, thr_lr_esp7 = roc_curve(y_test, y_pred_proba_lr_esp7[:,1])\n",
    "fpr_lr_esp8, tpr_lr_esp8, thr_lr_esp8 = roc_curve(y_test, y_pred_proba_lr_esp8[:,1])\n",
    "fpr_lr_esp9, tpr_lr_esp9, thr_lr_esp9 = roc_curve(y_test, y_pred_proba_lr_esp9[:,1])\n",
    "\n",
    "# Grafico\n",
    "\n",
    "plt.axis([0, 1.01, 0, 1.01])\n",
    "plt.xlabel('1 - Specificty')\n",
    "plt.ylabel('TPR / Sensitivity')\n",
    "plt.title('ROC Curve')\n",
    "plt.plot(fpr_lr_dft, tpr_lr_dft)\n",
    "plt.plot(fpr_lr_esp1, tpr_lr_esp1)\n",
    "plt.plot(fpr_lr_esp2, tpr_lr_esp2)\n",
    "plt.plot(fpr_lr_esp3, tpr_lr_esp3)\n",
    "plt.plot(fpr_lr_esp4, tpr_lr_esp4)\n",
    "plt.plot(fpr_lr_esp5, tpr_lr_esp5)\n",
    "plt.plot(fpr_lr_esp6, tpr_lr_esp6)\n",
    "plt.plot(fpr_lr_esp7, tpr_lr_esp7)\n",
    "plt.plot(fpr_lr_esp8, tpr_lr_esp8)\n",
    "plt.plot(fpr_lr_esp9, tpr_lr_esp9)\n",
    "plt.plot(np.arange(0,1, step =0.01), np.arange(0,1, step =0.01))\n",
    "plt.legend(['Default','Esp 1', 'Esp 2', 'Esp 3', 'Esp 4', 'Esp 5', 'Esp 6', 'Esp 7', 'Esp 8', 'Esp 9'])\n",
    "plt.show() "
   ]
  },
  {
   "cell_type": "markdown",
   "id": "d5f7fae2",
   "metadata": {},
   "source": [
    "### Área bajo la Curva ROC"
   ]
  },
  {
   "cell_type": "code",
   "execution_count": 66,
   "id": "6aac3093",
   "metadata": {},
   "outputs": [
    {
     "name": "stdout",
     "output_type": "stream",
     "text": [
      "El área bajo la curva ROC para la especificación default es: 0.82821\n",
      "\n",
      "El área bajo la curva ROC para la especificación 1 es: 0.80183\n",
      "\n",
      "El área bajo la curva ROC para la especificación 2 es: 0.82238\n",
      "\n",
      "El área bajo la curva ROC para la especificación 3 es: 0.82771\n",
      "\n",
      "El área bajo la curva ROC para la especificación 4 es: 0.82824\n",
      "\n",
      "El área bajo la curva ROC para la especificación 5 es: 0.79931\n",
      "\n",
      "El área bajo la curva ROC para la especificación 6 es: 0.82818\n",
      "\n",
      "El área bajo la curva ROC para la especificación 7 es: 0.7994\n",
      "\n",
      "El área bajo la curva ROC para la especificación 8 es: 0.80993\n",
      "\n",
      "El área bajo la curva ROC para la especificación 9 es: 0.82799\n"
     ]
    }
   ],
   "source": [
    "# Calculo de areas bajo la curva: AUC\n",
    "\n",
    "print(f'El área bajo la curva ROC para la especificación default es: {auc(fpr_lr_dft, tpr_lr_dft).round(5)}\\n')\n",
    "print(f'El área bajo la curva ROC para la especificación 1 es: {auc(fpr_lr_esp1, tpr_lr_esp1).round(5)}\\n')\n",
    "print(f'El área bajo la curva ROC para la especificación 2 es: {auc(fpr_lr_esp2, tpr_lr_esp2).round(5)}\\n')\n",
    "print(f'El área bajo la curva ROC para la especificación 3 es: {auc(fpr_lr_esp3, tpr_lr_esp3).round(5)}\\n')\n",
    "print(f'El área bajo la curva ROC para la especificación 4 es: {auc(fpr_lr_esp4, tpr_lr_esp4).round(5)}\\n')\n",
    "print(f'El área bajo la curva ROC para la especificación 5 es: {auc(fpr_lr_esp5, tpr_lr_esp5).round(5)}\\n')\n",
    "print(f'El área bajo la curva ROC para la especificación 6 es: {auc(fpr_lr_esp6, tpr_lr_esp6).round(5)}\\n')\n",
    "print(f'El área bajo la curva ROC para la especificación 7 es: {auc(fpr_lr_esp7, tpr_lr_esp7).round(5)}\\n')\n",
    "print(f'El área bajo la curva ROC para la especificación 8 es: {auc(fpr_lr_esp8, tpr_lr_esp8).round(5)}\\n')\n",
    "print(f'El área bajo la curva ROC para la especificación 9 es: {auc(fpr_lr_esp9, tpr_lr_esp9).round(5)}')"
   ]
  },
  {
   "cell_type": "markdown",
   "id": "87fb6e59",
   "metadata": {},
   "source": [
    "### Curva PR"
   ]
  },
  {
   "cell_type": "code",
   "execution_count": 67,
   "id": "92563b27",
   "metadata": {},
   "outputs": [
    {
     "data": {
      "image/png": "[encoded data removed]",
      "text/plain": [
       "<Figure size 432x288 with 1 Axes>"
      ]
     },
     "metadata": {
      "needs_background": "light"
     },
     "output_type": "display_data"
    }
   ],
   "source": [
    "# Construccion de Curva PR para el conjunto de especificaciones\n",
    "\n",
    "# Precision, Recall y Thresholds\n",
    "\n",
    "from sklearn.metrics import precision_recall_curve, average_precision_score\n",
    "\n",
    "precision_dft, recall_dft, thresholds_dft = precision_recall_curve(y_test, y_pred_proba_lr_dft[:,1])\n",
    "precision_esp1, recall_esp1, thresholds_esp1 = precision_recall_curve(y_test, y_pred_proba_lr_esp1[:,1])\n",
    "precision_esp2, recall_esp2, thresholds_esp2 = precision_recall_curve(y_test, y_pred_proba_lr_esp2[:,1])\n",
    "precision_esp3, recall_esp3, thresholds_esp3 = precision_recall_curve(y_test, y_pred_proba_lr_esp3[:,1])\n",
    "precision_esp4, recall_esp4, thresholds_esp4 = precision_recall_curve(y_test, y_pred_proba_lr_esp4[:,1])\n",
    "precision_esp5, recall_esp5, thresholds_esp5 = precision_recall_curve(y_test, y_pred_proba_lr_esp5[:,1])\n",
    "precision_esp6, recall_esp6, thresholds_esp6 = precision_recall_curve(y_test, y_pred_proba_lr_esp6[:,1])\n",
    "precision_esp7, recall_esp7, thresholds_esp7 = precision_recall_curve(y_test, y_pred_proba_lr_esp7[:,1])\n",
    "precision_esp8, recall_esp8, thresholds_esp8 = precision_recall_curve(y_test, y_pred_proba_lr_esp8[:,1])\n",
    "precision_esp9, recall_esp9, thresholds_esp9 = precision_recall_curve(y_test, y_pred_proba_lr_esp9[:,1])\n",
    "\n",
    "# Grafico\n",
    "\n",
    "plt.axis([0, 1.01, 0, 1.01])\n",
    "plt.xlabel('Recall')\n",
    "plt.ylabel('Precision')\n",
    "plt.title('PR Curve')\n",
    "plt.plot(recall_dft, precision_dft)\n",
    "plt.plot(recall_esp1, precision_esp1)\n",
    "plt.plot(recall_esp2, precision_esp2)\n",
    "plt.plot(recall_esp3, precision_esp3)\n",
    "plt.plot(recall_esp4, precision_esp4)\n",
    "plt.plot(recall_esp5, precision_esp5)\n",
    "plt.plot(recall_esp6, precision_esp6)\n",
    "plt.plot(recall_esp7, precision_esp7)\n",
    "plt.plot(recall_esp8, precision_esp8)\n",
    "plt.plot(recall_esp9, precision_esp9)\n",
    "plt.legend(['Default','Esp 1', 'Esp 2', 'Esp 3', 'Esp 4', 'Esp 5', 'Esp 6', 'Esp 7', 'Esp 8', 'Esp 9'])\n",
    "plt.show() "
   ]
  },
  {
   "cell_type": "markdown",
   "id": "69431136",
   "metadata": {},
   "source": [
    "### Precision Score Promedio"
   ]
  },
  {
   "cell_type": "code",
   "execution_count": 68,
   "id": "342ecd2a",
   "metadata": {},
   "outputs": [
    {
     "name": "stdout",
     "output_type": "stream",
     "text": [
      "La precisión promedio del modelo default es: 0.278\n",
      "\n",
      "La precisión promedio de la especificación 1 es: 0.243\n",
      "\n",
      "La precisión promedio de la especificación 2 es: 0.268\n",
      "\n",
      "La precisión promedio de la especificación 3 es: 0.276\n",
      "\n",
      "La precisión promedio de la especificación 4 es: 0.278\n",
      "\n",
      "La precisión promedio de la especificación 5 es: 0.245\n",
      "\n",
      "La precisión promedio de la especificación 6 es: 0.278\n",
      "\n",
      "La precisión promedio de la especificación 7 es: 0.229\n",
      "\n",
      "La precisión promedio de la especificación 8 es: 0.257\n",
      "\n",
      "La precisión promedio de la especificación 9 es: 0.277\n",
      "\n"
     ]
    }
   ],
   "source": [
    "print(f'La precisión promedio del modelo default es: {average_precision_score(y_test, y_pred_proba_lr_dft[:,1]).round(3)}\\n')\n",
    "print(f'La precisión promedio de la especificación 1 es: {average_precision_score(y_test, y_pred_proba_lr_esp1[:,1]).round(3)}\\n')\n",
    "print(f'La precisión promedio de la especificación 2 es: {average_precision_score(y_test, y_pred_proba_lr_esp2[:,1]).round(3)}\\n')\n",
    "print(f'La precisión promedio de la especificación 3 es: {average_precision_score(y_test, y_pred_proba_lr_esp3[:,1]).round(3)}\\n')\n",
    "print(f'La precisión promedio de la especificación 4 es: {average_precision_score(y_test, y_pred_proba_lr_esp4[:,1]).round(3)}\\n')\n",
    "print(f'La precisión promedio de la especificación 5 es: {average_precision_score(y_test, y_pred_proba_lr_esp5[:,1]).round(3)}\\n')\n",
    "print(f'La precisión promedio de la especificación 6 es: {average_precision_score(y_test, y_pred_proba_lr_esp6[:,1]).round(3)}\\n')\n",
    "print(f'La precisión promedio de la especificación 7 es: {average_precision_score(y_test, y_pred_proba_lr_esp7[:,1]).round(3)}\\n')\n",
    "print(f'La precisión promedio de la especificación 8 es: {average_precision_score(y_test, y_pred_proba_lr_esp8[:,1]).round(3)}\\n')\n",
    "print(f'La precisión promedio de la especificación 9 es: {average_precision_score(y_test, y_pred_proba_lr_esp9[:,1]).round(3)}\\n')"
   ]
  },
  {
   "cell_type": "markdown",
   "id": "ecb46d22",
   "metadata": {},
   "source": [
    "## Conclusiones"
   ]
  },
  {
   "cell_type": "markdown",
   "id": "f0383d13",
   "metadata": {},
   "source": [
    "- El objetivo de la notebook es construir modelos capaces de predecir la institución de un plazo fijo por parte de los clientes de un banco comercial que son contactados en el contexto de una campaña de marketing, a partir de características del cliente, de la campaña de marketing y del contexto macroeconómico en el que se da el contacto.\n",
    "- El modelo que presenta esta notebook es el Logístico.\n",
    "- Como las clases de la variable target están desbalanceadas, balanceamos el dataset. Además, como el desbalanceo implica que la target original toma el valor 1 apenas en el 5% de las observaciones, nuestro análisis considera a *recall*, *precision* y *f1 score* como las medidas de evaluación más adecuadas para el contexto.\n",
    "- A la vez, consideramos 4 conjuntos de hiperparámetros distintos: el conjunto default y 3 más construidos a partir de la información dada por la documentación del algoritmo. Así, la notebook presenta resultados para 10 especificaciones distintas de Logistic Regression.\n",
    "- En general, las distintas especificaciones muestran valores similares de cada uno de los scores de evaluación. Si bien obtenemos valores altos para *recall* (aprox.75%), no es tal el caso de *precision* (aprox.16%), lo cual implica también valores bajos para el *f1 score* (aprox.26%).\n",
    "- Esto se puede leer como que el algoritmo, al mismo tiempo que logra captar relativamente bien al cliente que potencialmente va a tomar el plazo fijo (*recall*), sobreestima el tamaño de la población potencial de dichos clientes (*precision*). Si el banco toma este algoritmo, va a captar a muchos clientes correctamente, pero a un costo alto de campaña de marketing.\n"
   ]
  },
  {
   "cell_type": "markdown",
   "id": "7968547a",
   "metadata": {},
   "source": [
    "## Guardamos en pickle"
   ]
  },
  {
   "cell_type": "markdown",
   "id": "a9ccac2f",
   "metadata": {},
   "source": [
    "Guardamos en pickle la instancia del mejor modelo entrenado. Consideraremos al como mejor modelo a aquel en el que se maximizo el *f1 score*.\n"
   ]
  },
  {
   "cell_type": "code",
   "execution_count": 69,
   "id": "36708737",
   "metadata": {},
   "outputs": [
    {
     "data": {
      "text/plain": [
       "(array([2, 5], dtype=int64),)"
      ]
     },
     "execution_count": 69,
     "metadata": {},
     "output_type": "execute_result"
    }
   ],
   "source": [
    "# Vemos cual es el modelo que tuvo el mejor f1 score\n",
    "\n",
    "f1_scores = np.array([scores_dft[7], scores_esp1[7], scores_esp2[7], scores_esp3[7], scores_esp4[7], scores_esp5[7], \n",
    "             scores_esp6[7], scores_esp7[7], scores_esp8[7], scores_esp9[7]])\n",
    "\n",
    "f1_scores_max = np.max(f1_scores)\n",
    "\n",
    "np.where(f1_scores == f1_scores_max)"
   ]
  },
  {
   "cell_type": "markdown",
   "id": "94bf9076",
   "metadata": {},
   "source": [
    "Vemos que las especificaciones 2 y 5 tuvieron el mismo f1 score. Tomamos la 5 porque es la que surge de optimizar hiperparámetros con la mayor cantidad de solvers a disposición."
   ]
  },
  {
   "cell_type": "code",
   "execution_count": 70,
   "id": "f11a25d1",
   "metadata": {},
   "outputs": [],
   "source": [
    "import pickle\n",
    "\n",
    "lr_best = open(\"lr_best\", 'wb')\n",
    "pickle.dump(model_lr_esp5, lr_best) # Guardar el modelo\n"
   ]
  }
 ],
 "metadata": {
  "kernelspec": {
   "display_name": "Python 3",
   "language": "python",
   "name": "python3"
  },
  "language_info": {
   "codemirror_mode": {
    "name": "ipython",
    "version": 3
   },
   "file_extension": ".py",
   "mimetype": "text/x-python",
   "name": "python",
   "nbconvert_exporter": "python",
   "pygments_lexer": "ipython3",
   "version": "3.8.8"
  }
 },
 "nbformat": 4,
 "nbformat_minor": 5
}
